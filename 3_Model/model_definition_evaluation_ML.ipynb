{
  "cells": [
    {
      "cell_type": "markdown",
      "metadata": {
        "id": "AT7FUIMp6OyP"
      },
      "source": [
        "# Model Definition and Evaluation\n",
        "## Table of Contents\n",
        "1. [Model Selection](#model-selection)\n",
        "2. [Feature Engineering](#feature-engineering)\n",
        "3. [Hyperparameter Tuning](#hyperparameter-tuning)\n",
        "4. [Implementation](#implementation)\n",
        "5. [Evaluation Metrics](#evaluation-metrics)\n",
        "6. [Comparative Analysis](#comparative-analysis)\n"
      ]
    },
    {
      "cell_type": "code",
      "source": [
        "!pip install openpyxl"
      ],
      "metadata": {
        "id": "zUApz9fFmWSh",
        "outputId": "5af181cc-be6f-49d5-eaee-99927fe7eb15",
        "colab": {
          "base_uri": "https://localhost:8080/"
        }
      },
      "execution_count": 1,
      "outputs": [
        {
          "output_type": "stream",
          "name": "stdout",
          "text": [
            "Collecting openpyxl\n",
            "  Downloading openpyxl-3.1.5-py2.py3-none-any.whl.metadata (2.5 kB)\n",
            "Collecting et-xmlfile (from openpyxl)\n",
            "  Downloading et_xmlfile-2.0.0-py3-none-any.whl.metadata (2.7 kB)\n",
            "Downloading openpyxl-3.1.5-py2.py3-none-any.whl (250 kB)\n",
            "\u001b[2K   \u001b[90m━━━━━━━━━━━━━━━━━━━━━━━━━━━━━━━━━━━━━━━━\u001b[0m \u001b[32m250.9/250.9 kB\u001b[0m \u001b[31m3.4 MB/s\u001b[0m eta \u001b[36m0:00:00\u001b[0m\n",
            "\u001b[?25hDownloading et_xmlfile-2.0.0-py3-none-any.whl (18 kB)\n",
            "Installing collected packages: et-xmlfile, openpyxl\n",
            "Successfully installed et-xmlfile-2.0.0 openpyxl-3.1.5\n"
          ]
        }
      ]
    },
    {
      "cell_type": "code",
      "execution_count": 2,
      "metadata": {
        "id": "Hf64Ejtw6OyQ"
      },
      "outputs": [],
      "source": [
        "# Import necessary libraries\n",
        "import pandas as pd\n",
        "import numpy as np\n",
        "from sklearn.model_selection import train_test_split, GridSearchCV\n",
        "from sklearn.metrics import accuracy_score, mean_squared_error, classification_report\n",
        "# Import models you're considering\n"
      ]
    },
    {
      "cell_type": "markdown",
      "metadata": {
        "id": "PWq1qtLQ6OyR"
      },
      "source": [
        "## Model Selection\n",
        "\n",
        "ANN was selected as the most suitable model for the following task.\n"
      ]
    },
    {
      "cell_type": "markdown",
      "metadata": {
        "id": "vAjcUwdb6OyS"
      },
      "source": [
        "## Feature Engineering\n",
        "\n",
        "Load a preprocessed data and select features."
      ]
    },
    {
      "cell_type": "code",
      "source": [
        "from google.colab import drive\n",
        "drive.mount('/content/drive')"
      ],
      "metadata": {
        "id": "PAUqsOUCMo6w",
        "outputId": "ef41fd7b-3c4c-4eba-f8e6-07c9c4a61aaa",
        "colab": {
          "base_uri": "https://localhost:8080/"
        }
      },
      "execution_count": 3,
      "outputs": [
        {
          "output_type": "stream",
          "name": "stdout",
          "text": [
            "Mounted at /content/drive\n"
          ]
        }
      ]
    },
    {
      "cell_type": "code",
      "execution_count": 4,
      "metadata": {
        "id": "7xO-oSj56OyT"
      },
      "outputs": [],
      "source": [
        "# Load the dataset\n",
        "# Replace 'your_dataset.csv' with the path to your actual dataset\n",
        "df = pd.read_csv('/content/drive/MyDrive/opencampus_all_files/combined_data_r1.csv')\n",
        "\n",
        "# Feature and target variable selection\n",
        "Time_real = df['Time']\n",
        "X = df[['Elevation', 'Slope_prev', 'Slope_next',  'Angle', 'Distance', 'Cumulative_Slope']] # Cumulative slope\n",
        "y = df['Speed']\n",
        "\n",
        "# Split the dataset\n",
        "X_train, X_test, y_train, y_test = train_test_split(X, y, test_size=0.2, random_state=42)\n"
      ]
    },
    {
      "cell_type": "markdown",
      "metadata": {
        "id": "cG36ZeBF6OyT"
      },
      "source": [
        "## Hyperparameter Tuning\n",
        "\n",
        "[Discuss any hyperparameter tuning methods you've applied, such as Grid Search or Random Search, and the rationale behind them.]\n"
      ]
    },
    {
      "cell_type": "code",
      "source": [
        "from tensorflow.keras.models import Sequential\n",
        "from tensorflow.keras.layers import Dense, Dropout, BatchNormalization\n",
        "from tensorflow.keras.optimizers import Adam\n",
        "\n",
        "# Initialize the model\n",
        "model = Sequential()\n",
        "\n",
        "# Input Layer (6 features)\n",
        "model.add(Dense(128, input_dim=X_train.shape[1], activation='relu'))\n",
        "\n",
        "# Hidden Layers\n",
        "model.add(Dense(256, activation='relu'))  # Large hidden layer to capture more complex patterns\n",
        "model.add(Dropout(0.2))  # Dropout to prevent overfitting\n",
        "model.add(BatchNormalization())  # Normalize activations for better performance\n",
        "model.add(Dense(128, activation='relu'))\n",
        "model.add(Dropout(0.2))  # Dropout again after each hidden layer\n",
        "model.add(BatchNormalization())\n",
        "\n",
        "# Output Layer (1 output for regression)\n",
        "model.add(Dense(1, activation='linear'))  # For regression, use linear activation function\n",
        "\n",
        "# Compile the model\n",
        "model.compile(optimizer=Adam(), loss='mean_squared_error', metrics=['mae'])\n",
        "\n",
        "# Summarize the model architecture\n",
        "model.summary()\n"
      ],
      "metadata": {
        "id": "wrErJtwiNYV4",
        "outputId": "89e178f6-a51a-4b1e-997d-81e988f78f9c",
        "colab": {
          "base_uri": "https://localhost:8080/"
        }
      },
      "execution_count": null,
      "outputs": [
        {
          "output_type": "stream",
          "name": "stdout",
          "text": [
            "Model: \"sequential\"\n",
            "_________________________________________________________________\n",
            " Layer (type)                Output Shape              Param #   \n",
            "=================================================================\n",
            " dense (Dense)               (None, 128)               896       \n",
            "                                                                 \n",
            " dense_1 (Dense)             (None, 256)               33024     \n",
            "                                                                 \n",
            " dropout (Dropout)           (None, 256)               0         \n",
            "                                                                 \n",
            " batch_normalization (Batch  (None, 256)               1024      \n",
            " Normalization)                                                  \n",
            "                                                                 \n",
            " dense_2 (Dense)             (None, 128)               32896     \n",
            "                                                                 \n",
            " dropout_1 (Dropout)         (None, 128)               0         \n",
            "                                                                 \n",
            " batch_normalization_1 (Bat  (None, 128)               512       \n",
            " chNormalization)                                                \n",
            "                                                                 \n",
            " dense_3 (Dense)             (None, 1)                 129       \n",
            "                                                                 \n",
            "=================================================================\n",
            "Total params: 68481 (267.50 KB)\n",
            "Trainable params: 67713 (264.50 KB)\n",
            "Non-trainable params: 768 (3.00 KB)\n",
            "_________________________________________________________________\n"
          ]
        }
      ]
    },
    {
      "cell_type": "markdown",
      "metadata": {
        "id": "z65lDS_96OyV"
      },
      "source": [
        "## Implementation\n",
        "\n",
        "[Implement the final model(s) you've selected based on the above steps.]\n"
      ]
    },
    {
      "cell_type": "code",
      "source": [
        "import tensorflow as tf\n",
        "from tensorflow.keras.models import Sequential\n",
        "from tensorflow.keras.layers import Dense\n",
        "from tensorflow.keras.optimizers import Adam\n",
        "from tensorflow.keras.callbacks import EarlyStopping, ModelCheckpoint, ReduceLROnPlateau\n",
        "from sklearn.preprocessing import StandardScaler\n",
        "from sklearn.model_selection import train_test_split\n",
        "import pandas as pd\n",
        "\n",
        "# Normalize the features using StandardScaler\n",
        "scaler = StandardScaler()\n",
        "X_train_scaled = scaler.fit_transform(X_train)\n",
        "X_test_scaled = scaler.transform(X_test)"
      ],
      "metadata": {
        "id": "b-AU9b6Icvvy"
      },
      "execution_count": 8,
      "outputs": []
    },
    {
      "cell_type": "code",
      "execution_count": null,
      "metadata": {
        "id": "ydwm-YUa6OyV",
        "outputId": "e5f7e2a9-78aa-41dd-f8de-83bb696dedbb",
        "colab": {
          "base_uri": "https://localhost:8080/",
          "height": 1000
        }
      },
      "outputs": [
        {
          "output_type": "stream",
          "name": "stdout",
          "text": [
            "Epoch 1/50\n",
            "108486/108499 [============================>.] - ETA: 0s - loss: 6.3472 - mae: 1.8170\n",
            "Epoch 1: val_loss improved from inf to 6.00192, saving model to best_model.h5\n",
            "108499/108499 [==============================] - 313s 3ms/step - loss: 6.3472 - mae: 1.8170 - val_loss: 6.0019 - val_mae: 1.6620 - lr: 0.0010\n",
            "Epoch 2/50\n",
            "    58/108499 [..............................] - ETA: 4:56 - loss: 6.1900 - mae: 1.8026"
          ]
        },
        {
          "output_type": "stream",
          "name": "stderr",
          "text": [
            "/usr/local/lib/python3.10/dist-packages/keras/src/engine/training.py:3103: UserWarning: You are saving your model as an HDF5 file via `model.save()`. This file format is considered legacy. We recommend using instead the native Keras format, e.g. `model.save('my_model.keras')`.\n",
            "  saving_api.save_model(\n"
          ]
        },
        {
          "output_type": "stream",
          "name": "stdout",
          "text": [
            "108495/108499 [============================>.] - ETA: 0s - loss: 5.9210 - mae: 1.7403\n",
            "Epoch 2: val_loss improved from 6.00192 to 5.70335, saving model to best_model.h5\n",
            "108499/108499 [==============================] - 311s 3ms/step - loss: 5.9211 - mae: 1.7403 - val_loss: 5.7034 - val_mae: 1.6408 - lr: 0.0010\n",
            "Epoch 3/50\n",
            "108492/108499 [============================>.] - ETA: 0s - loss: 5.8023 - mae: 1.7174\n",
            "Epoch 3: val_loss improved from 5.70335 to 5.54575, saving model to best_model.h5\n",
            "108499/108499 [==============================] - 317s 3ms/step - loss: 5.8023 - mae: 1.7174 - val_loss: 5.5458 - val_mae: 1.6261 - lr: 0.0010\n",
            "Epoch 4/50\n",
            "108495/108499 [============================>.] - ETA: 0s - loss: 5.7391 - mae: 1.7054\n",
            "Epoch 4: val_loss improved from 5.54575 to 5.45923, saving model to best_model.h5\n",
            "108499/108499 [==============================] - 318s 3ms/step - loss: 5.7391 - mae: 1.7054 - val_loss: 5.4592 - val_mae: 1.6039 - lr: 0.0010\n",
            "Epoch 5/50\n",
            "108490/108499 [============================>.] - ETA: 0s - loss: 5.6869 - mae: 1.6957\n",
            "Epoch 5: val_loss improved from 5.45923 to 5.45493, saving model to best_model.h5\n",
            "108499/108499 [==============================] - 309s 3ms/step - loss: 5.6869 - mae: 1.6957 - val_loss: 5.4549 - val_mae: 1.5870 - lr: 0.0010\n",
            "Epoch 6/50\n",
            "108484/108499 [============================>.] - ETA: 0s - loss: 5.6420 - mae: 1.6879\n",
            "Epoch 6: val_loss improved from 5.45493 to 5.34721, saving model to best_model.h5\n",
            "108499/108499 [==============================] - 311s 3ms/step - loss: 5.6418 - mae: 1.6879 - val_loss: 5.3472 - val_mae: 1.5899 - lr: 0.0010\n",
            "Epoch 7/50\n",
            "108479/108499 [============================>.] - ETA: 0s - loss: 5.6145 - mae: 1.6823\n",
            "Epoch 7: val_loss did not improve from 5.34721\n",
            "108499/108499 [==============================] - 304s 3ms/step - loss: 5.6147 - mae: 1.6823 - val_loss: 5.3672 - val_mae: 1.5758 - lr: 0.0010\n",
            "Epoch 8/50\n",
            "108484/108499 [============================>.] - ETA: 0s - loss: 5.5822 - mae: 1.6768\n",
            "Epoch 8: val_loss did not improve from 5.34721\n",
            "108499/108499 [==============================] - 307s 3ms/step - loss: 5.5823 - mae: 1.6768 - val_loss: 5.6005 - val_mae: 1.5803 - lr: 0.0010\n",
            "Epoch 9/50\n",
            "108487/108499 [============================>.] - ETA: 0s - loss: 5.5592 - mae: 1.6726\n",
            "Epoch 9: val_loss improved from 5.34721 to 5.22566, saving model to best_model.h5\n",
            "108499/108499 [==============================] - 306s 3ms/step - loss: 5.5591 - mae: 1.6726 - val_loss: 5.2257 - val_mae: 1.5632 - lr: 0.0010\n",
            "Epoch 10/50\n",
            "108494/108499 [============================>.] - ETA: 0s - loss: 5.5416 - mae: 1.6691\n",
            "Epoch 10: val_loss did not improve from 5.22566\n",
            "108499/108499 [==============================] - 305s 3ms/step - loss: 5.5415 - mae: 1.6691 - val_loss: 5.4221 - val_mae: 1.5561 - lr: 0.0010\n",
            "Epoch 11/50\n",
            "108489/108499 [============================>.] - ETA: 0s - loss: 5.5229 - mae: 1.6655\n",
            "Epoch 11: val_loss did not improve from 5.22566\n",
            "108499/108499 [==============================] - 307s 3ms/step - loss: 5.5228 - mae: 1.6655 - val_loss: 5.2278 - val_mae: 1.5582 - lr: 0.0010\n",
            "Epoch 12/50\n",
            "108487/108499 [============================>.] - ETA: 0s - loss: 5.5077 - mae: 1.6631\n",
            "Epoch 12: val_loss did not improve from 5.22566\n",
            "\n",
            "Epoch 12: ReduceLROnPlateau reducing learning rate to 0.00010000000474974513.\n",
            "108499/108499 [==============================] - 303s 3ms/step - loss: 5.5078 - mae: 1.6632 - val_loss: 5.2964 - val_mae: 1.5438 - lr: 0.0010\n",
            "Epoch 13/50\n",
            "108483/108499 [============================>.] - ETA: 0s - loss: 5.3252 - mae: 1.6276\n",
            "Epoch 13: val_loss improved from 5.22566 to 5.04913, saving model to best_model.h5\n",
            "108499/108499 [==============================] - 313s 3ms/step - loss: 5.3252 - mae: 1.6276 - val_loss: 5.0491 - val_mae: 1.5186 - lr: 1.0000e-04\n",
            "Epoch 14/50\n",
            "108481/108499 [============================>.] - ETA: 0s - loss: 5.2801 - mae: 1.6198\n",
            "Epoch 14: val_loss did not improve from 5.04913\n",
            "108499/108499 [==============================] - 304s 3ms/step - loss: 5.2800 - mae: 1.6198 - val_loss: 5.1400 - val_mae: 1.5274 - lr: 1.0000e-04\n",
            "Epoch 15/50\n",
            "108482/108499 [============================>.] - ETA: 0s - loss: 5.2630 - mae: 1.6168\n",
            "Epoch 15: val_loss did not improve from 5.04913\n",
            "108499/108499 [==============================] - 309s 3ms/step - loss: 5.2630 - mae: 1.6168 - val_loss: 5.2772 - val_mae: 1.5213 - lr: 1.0000e-04\n",
            "Epoch 16/50\n",
            "108480/108499 [============================>.] - ETA: 0s - loss: 5.2509 - mae: 1.6141\n",
            "Epoch 16: val_loss did not improve from 5.04913\n",
            "\n",
            "Epoch 16: ReduceLROnPlateau reducing learning rate to 1.0000000474974514e-05.\n",
            "108499/108499 [==============================] - 308s 3ms/step - loss: 5.2508 - mae: 1.6141 - val_loss: 5.1244 - val_mae: 1.5145 - lr: 1.0000e-04\n",
            "Epoch 17/50\n",
            "108490/108499 [============================>.] - ETA: 0s - loss: 5.2323 - mae: 1.6115\n",
            "Epoch 17: val_loss did not improve from 5.04913\n",
            "108499/108499 [==============================] - 318s 3ms/step - loss: 5.2322 - mae: 1.6115 - val_loss: 5.4642 - val_mae: 1.5264 - lr: 1.0000e-05\n",
            "Epoch 18/50\n",
            "108485/108499 [============================>.] - ETA: 0s - loss: 5.2244 - mae: 1.6095\n",
            "Epoch 18: val_loss did not improve from 5.04913\n",
            "108499/108499 [==============================] - 314s 3ms/step - loss: 5.2243 - mae: 1.6095 - val_loss: 5.0550 - val_mae: 1.5245 - lr: 1.0000e-05\n",
            "27125/27125 [==============================] - 39s 1ms/step - loss: 5.0491 - mae: 1.5186\n",
            "Test Loss: 5.049128532409668, Test MAE: 1.518639087677002\n"
          ]
        },
        {
          "output_type": "display_data",
          "data": {
            "text/plain": [
              "<Figure size 640x480 with 1 Axes>"
            ],
            "image/png": "[encoded data removed]"
          },
          "metadata": {}
        }
      ],
      "source": [
        "# 1. Early Stopping: Stops training when validation loss doesn't improve.\n",
        "early_stopping = EarlyStopping(\n",
        "    monitor='val_loss',       # Metric to monitor\n",
        "    patience=5,               # Number of epochs to wait for improvement\n",
        "    restore_best_weights=True # Rollback to the best model weights\n",
        ")\n",
        "\n",
        "# 2. Model Checkpoint: Saves the best model during training.\n",
        "model_checkpoint = ModelCheckpoint(\n",
        "    'best_model.keras',           # Filepath to save the model\n",
        "    monitor='val_loss',        # Metric to monitor\n",
        "    save_best_only=True,       # Save only the best model\n",
        "    mode='min',                # Minimize validation loss\n",
        "    verbose=1                  # Show a message when saving the model\n",
        ")\n",
        "\n",
        "# 3. Learning Rate Scheduler: Reduce learning rate when validation loss plateaus.\n",
        "reduce_lr = ReduceLROnPlateau(\n",
        "    monitor='val_loss',        # Metric to monitor\n",
        "    factor=0.1,                # Factor by which to reduce the learning rate\n",
        "    patience=3,                # Number of epochs to wait before reducing\n",
        "    min_lr=1e-6,               # Lower bound for learning rate\n",
        "    verbose=1                  # Show a message when reducing the learning rate\n",
        ")\n",
        "\n",
        "# Combine callbacks into a list\n",
        "callbacks = [early_stopping, model_checkpoint, reduce_lr]\n",
        "\n",
        "# Train the model with callbacks\n",
        "history = model.fit(\n",
        "    X_train_scaled, y_train,\n",
        "    epochs=50,\n",
        "    batch_size=32,\n",
        "    validation_data=(X_test_scaled, y_test),\n",
        "    callbacks=callbacks       # Pass callbacks to the fit method\n",
        ")\n",
        "\n",
        "# Evaluate the model\n",
        "loss, mae = model.evaluate(X_test_scaled, y_test)\n",
        "print(f\"Test Loss: {loss}, Test MAE: {mae}\")\n",
        "\n",
        "# Optionally, plot the training history (e.g., loss or MAE over epochs)\n",
        "import matplotlib.pyplot as plt\n",
        "plt.plot(history.history['loss'], label='Training Loss')\n",
        "plt.plot(history.history['val_loss'], label='Validation Loss')\n",
        "plt.xlabel('Epochs')\n",
        "plt.ylabel('Loss')\n",
        "plt.legend()\n",
        "plt.show()\n",
        "\n"
      ]
    },
    {
      "cell_type": "markdown",
      "metadata": {
        "id": "brH6Z8VK6OyW"
      },
      "source": [
        "## Evaluation Metrics\n",
        "\n",
        "[Clearly specify which metrics you'll use to evaluate the model performance, and why you've chosen these metrics.]\n"
      ]
    },
    {
      "cell_type": "code",
      "source": [
        "#Load model\n",
        "from tensorflow.keras.models import load_model\n",
        "\n",
        "model = load_model('/content/drive/MyDrive/opencampus_all_files/models/best_model.h5')"
      ],
      "metadata": {
        "id": "fjXLw0wQaJo7"
      },
      "execution_count": 5,
      "outputs": []
    },
    {
      "cell_type": "code",
      "source": [
        "# unzip test fikes\n",
        "!unzip /content/drive/MyDrive/opencampus_all_files/Rider1_test_preprocessed.zip\n"
      ],
      "metadata": {
        "id": "nS0z0BynapFj",
        "outputId": "64c7d368-40a5-439d-a8fe-c1baefa7ac7c",
        "colab": {
          "base_uri": "https://localhost:8080/"
        }
      },
      "execution_count": 6,
      "outputs": [
        {
          "output_type": "stream",
          "name": "stdout",
          "text": [
            "Archive:  /content/drive/MyDrive/opencampus_all_files/Rider1_test_preprocessed.zip\n",
            "   creating: content/Rider1_test_preprocessed/\n",
            "  inflating: content/Rider1_test_preprocessed/r1_f746.csv  \n",
            "  inflating: content/Rider1_test_preprocessed/r1_f241.csv  \n",
            "  inflating: content/Rider1_test_preprocessed/r1_f234.csv  \n",
            "  inflating: content/Rider1_test_preprocessed/r1_f493.csv  \n",
            "  inflating: content/Rider1_test_preprocessed/r1_f479.csv  \n",
            "  inflating: content/Rider1_test_preprocessed/r1_f9.csv  \n",
            "  inflating: content/Rider1_test_preprocessed/r1_f349.csv  \n",
            "  inflating: content/Rider1_test_preprocessed/r1_f665.csv  \n",
            "  inflating: content/Rider1_test_preprocessed/r1_f42.csv  \n",
            "  inflating: content/Rider1_test_preprocessed/r1_f578.csv  \n"
          ]
        }
      ]
    },
    {
      "cell_type": "code",
      "source": [
        "# Read test file\n",
        "df = pd.read_csv('/content/content/Rider1_test_preprocessed/r1_f234.csv')"
      ],
      "metadata": {
        "id": "pCpdiISPak7z"
      },
      "execution_count": null,
      "outputs": []
    },
    {
      "cell_type": "code",
      "source": [
        "# Feature selection\n",
        "# Example: Selecting only two features for a simple baseline model\n",
        "real_time = df['Time']\n",
        "X = df[['Elevation', 'Slope_prev', 'Slope_next',  'Angle', 'Distance', 'Cumulative_Slope']] # Cumulative slope\n",
        "y = df['Speed']\n"
      ],
      "metadata": {
        "id": "yv5RFeV1mmEW"
      },
      "execution_count": null,
      "outputs": []
    },
    {
      "cell_type": "code",
      "source": [
        "# Normalize the new data using the same scaler fitted on the training data\n",
        "X_new_scaled = scaler.transform(X)\n",
        "\n",
        "# Make predictions on the new data\n",
        "y_pred = model.predict(X_new_scaled)\n",
        "\n",
        "# Add the predicted values as a new column 'Speed_pred' in the original DataFrame\n",
        "df['Speed_pred'] = y_pred\n",
        "\n",
        "# Optionally, check the first few rows to verify the new column is added correctly\n",
        "print(df.head())\n"
      ],
      "metadata": {
        "id": "zz1kqG9rmtlP",
        "outputId": "4dd081fc-dbb4-4e85-fc8d-e652fb6a9225",
        "colab": {
          "base_uri": "https://localhost:8080/"
        }
      },
      "execution_count": null,
      "outputs": [
        {
          "output_type": "stream",
          "name": "stdout",
          "text": [
            "196/196 [==============================] - 0s 2ms/step\n",
            "   Elevation  Slope_prev  Slope_next       Angle   Distance  Cumulative_Slope  \\\n",
            "0      468.4   -0.212480   -0.095519  178.010424   0.470633         -0.212480   \n",
            "1      468.3   -0.095519   -0.105583  162.415455   1.517546         -0.307999   \n",
            "2      468.2   -0.105583   -0.029522   27.899756   2.464669         -0.413582   \n",
            "3      468.1   -0.029522   -0.076752  159.951057   5.851968         -0.443104   \n",
            "4      467.7   -0.076752    0.111864  114.903001  11.063557         -0.519856   \n",
            "\n",
            "      Speed  Time  Speed_pred  \n",
            "0  0.758773     1    2.603833  \n",
            "1  0.664679     2    8.755311  \n",
            "2  0.722404     4    1.481009  \n",
            "3  1.228413     8    7.311934  \n",
            "4  1.762544    11    2.025287  \n"
          ]
        }
      ]
    },
    {
      "cell_type": "code",
      "source": [
        "# prompt: Calculate MAE between df['Speed_pred'] and df['Speed']\n",
        "import numpy as np\n",
        "from sklearn.metrics import mean_absolute_error\n",
        "\n",
        "mae = mean_absolute_error(df['Speed'], df['Speed_pred'])\n",
        "print(f\"Mean Absolute Error: {mae}\")\n"
      ],
      "metadata": {
        "id": "js6F1TvWmyCz",
        "outputId": "95aebe0a-fdca-4b61-af2a-a63a663c844f",
        "colab": {
          "base_uri": "https://localhost:8080/"
        }
      },
      "execution_count": null,
      "outputs": [
        {
          "output_type": "stream",
          "name": "stdout",
          "text": [
            "Mean Absolute Error: 2.558610318946796\n"
          ]
        }
      ]
    },
    {
      "cell_type": "code",
      "source": [
        "# Initialize Time column\n",
        "df['pred_time'] = 0.0\n",
        "\n",
        "# Compute predicted time\n",
        "for i in range(2, len(df)):\n",
        "  if pd.notna(df.loc[i, 'Speed_pred']):\n",
        "    if df.loc[i, 'Speed_pred'] != 0:\n",
        "      df.loc[i, 'pred_time'] = df.loc[i - 1, 'pred_time'] + (df.loc[i, 'Distance'] - df.loc[i - 1, 'Distance']) / df.loc[i, 'Speed_pred']\n",
        "    else:\n",
        "      df.loc[i, 'pred_time'] = df.loc[i - 1, 'pred_time']\n",
        "\n",
        "print(df)"
      ],
      "metadata": {
        "id": "CgcjchpYm4bT",
        "outputId": "e5654a66-defc-469e-9c79-3f0d5555bdbe",
        "colab": {
          "base_uri": "https://localhost:8080/"
        }
      },
      "execution_count": null,
      "outputs": [
        {
          "output_type": "stream",
          "name": "stdout",
          "text": [
            "      Elevation  Slope_prev  Slope_next       Angle      Distance  \\\n",
            "0         468.4   -0.212480   -0.095519  178.010424      0.470633   \n",
            "1         468.3   -0.095519   -0.105583  162.415455      1.517546   \n",
            "2         468.2   -0.105583   -0.029522   27.899756      2.464669   \n",
            "3         468.1   -0.029522   -0.076752  159.951057      5.851968   \n",
            "4         467.7   -0.076752    0.111864  114.903001     11.063557   \n",
            "...         ...         ...         ...         ...           ...   \n",
            "6255      476.7   -0.171718   -0.082984  179.143224  51250.040526   \n",
            "6256      475.2   -0.082984   -0.021847  179.209099  51268.116334   \n",
            "6257      474.8   -0.021847   -0.064105  178.353241  51286.425116   \n",
            "6258      473.6   -0.064105   -0.084127  178.576724  51305.144334   \n",
            "6259      472.0   -0.084127   -0.021320  179.481785  51324.163149   \n",
            "\n",
            "      Cumulative_Slope     Speed   Time  Speed_pred    pred_time  \n",
            "0            -0.212480  0.758773      1    2.603833     0.000000  \n",
            "1            -0.307999  0.664679      2    8.755311     0.000000  \n",
            "2            -0.413582  0.722404      4    1.481009     0.639513  \n",
            "3            -0.443104  1.228413      8    7.311934     1.102769  \n",
            "4            -0.519856  1.762544     11    2.025287     3.676028  \n",
            "...                ...       ...    ...         ...          ...  \n",
            "6255        143.390937  9.032163  19523   10.253121 -6381.419732  \n",
            "6256        143.307953  9.096147  19525   12.089524 -6379.924569  \n",
            "6257        143.286106  9.257000  19527   10.712694 -6378.215496  \n",
            "6258        143.222000  9.434508  19529   11.147212 -6376.536222  \n",
            "6259        143.137873  7.099924  19531   12.101744 -6374.964646  \n",
            "\n",
            "[6260 rows x 10 columns]\n"
          ]
        }
      ]
    },
    {
      "cell_type": "code",
      "source": [
        "df[['Speed', 'Speed_pred', 'Time', 'pred_time']]"
      ],
      "metadata": {
        "id": "fNiqaNaJm-2m",
        "outputId": "9f23d1ab-7b44-47e0-9aa6-31bee49f05f1",
        "colab": {
          "base_uri": "https://localhost:8080/",
          "height": 684
        }
      },
      "execution_count": null,
      "outputs": [
        {
          "output_type": "execute_result",
          "data": {
            "text/plain": [
              "         Speed  Speed_pred   Time    pred_time\n",
              "0     0.758773    2.603833      1     0.000000\n",
              "1     0.664679    8.755311      2     0.000000\n",
              "2     0.722404    1.481009      4     0.639513\n",
              "3     1.228413    7.311934      8     1.102769\n",
              "4     1.762544    2.025287     11     3.676028\n",
              "...        ...         ...    ...          ...\n",
              "6255  9.032163   10.253121  19523 -6381.419732\n",
              "6256  9.096147   12.089524  19525 -6379.924569\n",
              "6257  9.257000   10.712694  19527 -6378.215496\n",
              "6258  9.434508   11.147212  19529 -6376.536222\n",
              "6259  7.099924   12.101744  19531 -6374.964646\n",
              "\n",
              "[6260 rows x 4 columns]"
            ],
            "text/html": [
              "\n",
              "  <div id=\"df-e2a93836-efe7-414d-af3e-4926fa228904\" class=\"colab-df-container\">\n",
              "    <div>\n",
              "<style scoped>\n",
              "    .dataframe tbody tr th:only-of-type {\n",
              "        vertical-align: middle;\n",
              "    }\n",
              "\n",
              "    .dataframe tbody tr th {\n",
              "        vertical-align: top;\n",
              "    }\n",
              "\n",
              "    .dataframe thead th {\n",
              "        text-align: right;\n",
              "    }\n",
              "</style>\n",
              "<table border=\"1\" class=\"dataframe\">\n",
              "  <thead>\n",
              "    <tr style=\"text-align: right;\">\n",
              "      <th></th>\n",
              "      <th>Speed</th>\n",
              "      <th>Speed_pred</th>\n",
              "      <th>Time</th>\n",
              "      <th>pred_time</th>\n",
              "    </tr>\n",
              "  </thead>\n",
              "  <tbody>\n",
              "    <tr>\n",
              "      <th>0</th>\n",
              "      <td>0.758773</td>\n",
              "      <td>2.603833</td>\n",
              "      <td>1</td>\n",
              "      <td>0.000000</td>\n",
              "    </tr>\n",
              "    <tr>\n",
              "      <th>1</th>\n",
              "      <td>0.664679</td>\n",
              "      <td>8.755311</td>\n",
              "      <td>2</td>\n",
              "      <td>0.000000</td>\n",
              "    </tr>\n",
              "    <tr>\n",
              "      <th>2</th>\n",
              "      <td>0.722404</td>\n",
              "      <td>1.481009</td>\n",
              "      <td>4</td>\n",
              "      <td>0.639513</td>\n",
              "    </tr>\n",
              "    <tr>\n",
              "      <th>3</th>\n",
              "      <td>1.228413</td>\n",
              "      <td>7.311934</td>\n",
              "      <td>8</td>\n",
              "      <td>1.102769</td>\n",
              "    </tr>\n",
              "    <tr>\n",
              "      <th>4</th>\n",
              "      <td>1.762544</td>\n",
              "      <td>2.025287</td>\n",
              "      <td>11</td>\n",
              "      <td>3.676028</td>\n",
              "    </tr>\n",
              "    <tr>\n",
              "      <th>...</th>\n",
              "      <td>...</td>\n",
              "      <td>...</td>\n",
              "      <td>...</td>\n",
              "      <td>...</td>\n",
              "    </tr>\n",
              "    <tr>\n",
              "      <th>6255</th>\n",
              "      <td>9.032163</td>\n",
              "      <td>10.253121</td>\n",
              "      <td>19523</td>\n",
              "      <td>-6381.419732</td>\n",
              "    </tr>\n",
              "    <tr>\n",
              "      <th>6256</th>\n",
              "      <td>9.096147</td>\n",
              "      <td>12.089524</td>\n",
              "      <td>19525</td>\n",
              "      <td>-6379.924569</td>\n",
              "    </tr>\n",
              "    <tr>\n",
              "      <th>6257</th>\n",
              "      <td>9.257000</td>\n",
              "      <td>10.712694</td>\n",
              "      <td>19527</td>\n",
              "      <td>-6378.215496</td>\n",
              "    </tr>\n",
              "    <tr>\n",
              "      <th>6258</th>\n",
              "      <td>9.434508</td>\n",
              "      <td>11.147212</td>\n",
              "      <td>19529</td>\n",
              "      <td>-6376.536222</td>\n",
              "    </tr>\n",
              "    <tr>\n",
              "      <th>6259</th>\n",
              "      <td>7.099924</td>\n",
              "      <td>12.101744</td>\n",
              "      <td>19531</td>\n",
              "      <td>-6374.964646</td>\n",
              "    </tr>\n",
              "  </tbody>\n",
              "</table>\n",
              "<p>6260 rows × 4 columns</p>\n",
              "</div>\n",
              "    <div class=\"colab-df-buttons\">\n",
              "\n",
              "  <div class=\"colab-df-container\">\n",
              "    <button class=\"colab-df-convert\" onclick=\"convertToInteractive('df-e2a93836-efe7-414d-af3e-4926fa228904')\"\n",
              "            title=\"Convert this dataframe to an interactive table.\"\n",
              "            style=\"display:none;\">\n",
              "\n",
              "  <svg xmlns=\"http://www.w3.org/2000/svg\" height=\"24px\" viewBox=\"0 -960 960 960\">\n",
              "    <path d=\"M120-120v-720h720v720H120Zm60-500h600v-160H180v160Zm220 220h160v-160H400v160Zm0 220h160v-160H400v160ZM180-400h160v-160H180v160Zm440 0h160v-160H620v160ZM180-180h160v-160H180v160Zm440 0h160v-160H620v160Z\"/>\n",
              "  </svg>\n",
              "    </button>\n",
              "\n",
              "  <style>\n",
              "    .colab-df-container {\n",
              "      display:flex;\n",
              "      gap: 12px;\n",
              "    }\n",
              "\n",
              "    .colab-df-convert {\n",
              "      background-color: #E8F0FE;\n",
              "      border: none;\n",
              "      border-radius: 50%;\n",
              "      cursor: pointer;\n",
              "      display: none;\n",
              "      fill: #1967D2;\n",
              "      height: 32px;\n",
              "      padding: 0 0 0 0;\n",
              "      width: 32px;\n",
              "    }\n",
              "\n",
              "    .colab-df-convert:hover {\n",
              "      background-color: #E2EBFA;\n",
              "      box-shadow: 0px 1px 2px rgba(60, 64, 67, 0.3), 0px 1px 3px 1px rgba(60, 64, 67, 0.15);\n",
              "      fill: #174EA6;\n",
              "    }\n",
              "\n",
              "    .colab-df-buttons div {\n",
              "      margin-bottom: 4px;\n",
              "    }\n",
              "\n",
              "    [theme=dark] .colab-df-convert {\n",
              "      background-color: #3B4455;\n",
              "      fill: #D2E3FC;\n",
              "    }\n",
              "\n",
              "    [theme=dark] .colab-df-convert:hover {\n",
              "      background-color: #434B5C;\n",
              "      box-shadow: 0px 1px 3px 1px rgba(0, 0, 0, 0.15);\n",
              "      filter: drop-shadow(0px 1px 2px rgba(0, 0, 0, 0.3));\n",
              "      fill: #FFFFFF;\n",
              "    }\n",
              "  </style>\n",
              "\n",
              "    <script>\n",
              "      const buttonEl =\n",
              "        document.querySelector('#df-e2a93836-efe7-414d-af3e-4926fa228904 button.colab-df-convert');\n",
              "      buttonEl.style.display =\n",
              "        google.colab.kernel.accessAllowed ? 'block' : 'none';\n",
              "\n",
              "      async function convertToInteractive(key) {\n",
              "        const element = document.querySelector('#df-e2a93836-efe7-414d-af3e-4926fa228904');\n",
              "        const dataTable =\n",
              "          await google.colab.kernel.invokeFunction('convertToInteractive',\n",
              "                                                    [key], {});\n",
              "        if (!dataTable) return;\n",
              "\n",
              "        const docLinkHtml = 'Like what you see? Visit the ' +\n",
              "          '<a target=\"_blank\" href=https://colab.research.google.com/notebooks/data_table.ipynb>data table notebook</a>'\n",
              "          + ' to learn more about interactive tables.';\n",
              "        element.innerHTML = '';\n",
              "        dataTable['output_type'] = 'display_data';\n",
              "        await google.colab.output.renderOutput(dataTable, element);\n",
              "        const docLink = document.createElement('div');\n",
              "        docLink.innerHTML = docLinkHtml;\n",
              "        element.appendChild(docLink);\n",
              "      }\n",
              "    </script>\n",
              "  </div>\n",
              "\n",
              "\n",
              "<div id=\"df-37c5c881-89ef-4d11-b17e-7e8f8c75209d\">\n",
              "  <button class=\"colab-df-quickchart\" onclick=\"quickchart('df-37c5c881-89ef-4d11-b17e-7e8f8c75209d')\"\n",
              "            title=\"Suggest charts\"\n",
              "            style=\"display:none;\">\n",
              "\n",
              "<svg xmlns=\"http://www.w3.org/2000/svg\" height=\"24px\"viewBox=\"0 0 24 24\"\n",
              "     width=\"24px\">\n",
              "    <g>\n",
              "        <path d=\"M19 3H5c-1.1 0-2 .9-2 2v14c0 1.1.9 2 2 2h14c1.1 0 2-.9 2-2V5c0-1.1-.9-2-2-2zM9 17H7v-7h2v7zm4 0h-2V7h2v10zm4 0h-2v-4h2v4z\"/>\n",
              "    </g>\n",
              "</svg>\n",
              "  </button>\n",
              "\n",
              "<style>\n",
              "  .colab-df-quickchart {\n",
              "      --bg-color: #E8F0FE;\n",
              "      --fill-color: #1967D2;\n",
              "      --hover-bg-color: #E2EBFA;\n",
              "      --hover-fill-color: #174EA6;\n",
              "      --disabled-fill-color: #AAA;\n",
              "      --disabled-bg-color: #DDD;\n",
              "  }\n",
              "\n",
              "  [theme=dark] .colab-df-quickchart {\n",
              "      --bg-color: #3B4455;\n",
              "      --fill-color: #D2E3FC;\n",
              "      --hover-bg-color: #434B5C;\n",
              "      --hover-fill-color: #FFFFFF;\n",
              "      --disabled-bg-color: #3B4455;\n",
              "      --disabled-fill-color: #666;\n",
              "  }\n",
              "\n",
              "  .colab-df-quickchart {\n",
              "    background-color: var(--bg-color);\n",
              "    border: none;\n",
              "    border-radius: 50%;\n",
              "    cursor: pointer;\n",
              "    display: none;\n",
              "    fill: var(--fill-color);\n",
              "    height: 32px;\n",
              "    padding: 0;\n",
              "    width: 32px;\n",
              "  }\n",
              "\n",
              "  .colab-df-quickchart:hover {\n",
              "    background-color: var(--hover-bg-color);\n",
              "    box-shadow: 0 1px 2px rgba(60, 64, 67, 0.3), 0 1px 3px 1px rgba(60, 64, 67, 0.15);\n",
              "    fill: var(--button-hover-fill-color);\n",
              "  }\n",
              "\n",
              "  .colab-df-quickchart-complete:disabled,\n",
              "  .colab-df-quickchart-complete:disabled:hover {\n",
              "    background-color: var(--disabled-bg-color);\n",
              "    fill: var(--disabled-fill-color);\n",
              "    box-shadow: none;\n",
              "  }\n",
              "\n",
              "  .colab-df-spinner {\n",
              "    border: 2px solid var(--fill-color);\n",
              "    border-color: transparent;\n",
              "    border-bottom-color: var(--fill-color);\n",
              "    animation:\n",
              "      spin 1s steps(1) infinite;\n",
              "  }\n",
              "\n",
              "  @keyframes spin {\n",
              "    0% {\n",
              "      border-color: transparent;\n",
              "      border-bottom-color: var(--fill-color);\n",
              "      border-left-color: var(--fill-color);\n",
              "    }\n",
              "    20% {\n",
              "      border-color: transparent;\n",
              "      border-left-color: var(--fill-color);\n",
              "      border-top-color: var(--fill-color);\n",
              "    }\n",
              "    30% {\n",
              "      border-color: transparent;\n",
              "      border-left-color: var(--fill-color);\n",
              "      border-top-color: var(--fill-color);\n",
              "      border-right-color: var(--fill-color);\n",
              "    }\n",
              "    40% {\n",
              "      border-color: transparent;\n",
              "      border-right-color: var(--fill-color);\n",
              "      border-top-color: var(--fill-color);\n",
              "    }\n",
              "    60% {\n",
              "      border-color: transparent;\n",
              "      border-right-color: var(--fill-color);\n",
              "    }\n",
              "    80% {\n",
              "      border-color: transparent;\n",
              "      border-right-color: var(--fill-color);\n",
              "      border-bottom-color: var(--fill-color);\n",
              "    }\n",
              "    90% {\n",
              "      border-color: transparent;\n",
              "      border-bottom-color: var(--fill-color);\n",
              "    }\n",
              "  }\n",
              "</style>\n",
              "\n",
              "  <script>\n",
              "    async function quickchart(key) {\n",
              "      const quickchartButtonEl =\n",
              "        document.querySelector('#' + key + ' button');\n",
              "      quickchartButtonEl.disabled = true;  // To prevent multiple clicks.\n",
              "      quickchartButtonEl.classList.add('colab-df-spinner');\n",
              "      try {\n",
              "        const charts = await google.colab.kernel.invokeFunction(\n",
              "            'suggestCharts', [key], {});\n",
              "      } catch (error) {\n",
              "        console.error('Error during call to suggestCharts:', error);\n",
              "      }\n",
              "      quickchartButtonEl.classList.remove('colab-df-spinner');\n",
              "      quickchartButtonEl.classList.add('colab-df-quickchart-complete');\n",
              "    }\n",
              "    (() => {\n",
              "      let quickchartButtonEl =\n",
              "        document.querySelector('#df-37c5c881-89ef-4d11-b17e-7e8f8c75209d button');\n",
              "      quickchartButtonEl.style.display =\n",
              "        google.colab.kernel.accessAllowed ? 'block' : 'none';\n",
              "    })();\n",
              "  </script>\n",
              "</div>\n",
              "\n",
              "    </div>\n",
              "  </div>\n"
            ],
            "application/vnd.google.colaboratory.intrinsic+json": {
              "type": "dataframe",
              "summary": "{\n  \"name\": \"df[['Speed', 'Speed_pred', 'Time', 'pred_time']]\",\n  \"rows\": 6260,\n  \"fields\": [\n    {\n      \"column\": \"Speed\",\n      \"properties\": {\n        \"dtype\": \"number\",\n        \"std\": 2.8959130075765946,\n        \"min\": 0.011032399761400427,\n        \"max\": 16.79075169447363,\n        \"num_unique_values\": 6260,\n        \"samples\": [\n          1.4995330148697879,\n          2.3537433620216084,\n          1.8539595026874547\n        ],\n        \"semantic_type\": \"\",\n        \"description\": \"\"\n      }\n    },\n    {\n      \"column\": \"Speed_pred\",\n      \"properties\": {\n        \"dtype\": \"float32\",\n        \"num_unique_values\": 6257,\n        \"samples\": [\n          6.4997358322143555,\n          5.126825332641602,\n          2.2381060123443604\n        ],\n        \"semantic_type\": \"\",\n        \"description\": \"\"\n      }\n    },\n    {\n      \"column\": \"Time\",\n      \"properties\": {\n        \"dtype\": \"number\",\n        \"std\": 5994,\n        \"min\": 1,\n        \"max\": 19531,\n        \"num_unique_values\": 6260,\n        \"samples\": [\n          6423,\n          10497,\n          18720\n        ],\n        \"semantic_type\": \"\",\n        \"description\": \"\"\n      }\n    },\n    {\n      \"column\": \"pred_time\",\n      \"properties\": {\n        \"dtype\": \"number\",\n        \"std\": 5791.229541215383,\n        \"min\": -13836.657709098938,\n        \"max\": 2989.224215521477,\n        \"num_unique_values\": 6259,\n        \"samples\": [\n          -13259.02853198154,\n          -11309.945948109504,\n          -7226.314590521237\n        ],\n        \"semantic_type\": \"\",\n        \"description\": \"\"\n      }\n    }\n  ]\n}"
            }
          },
          "metadata": {},
          "execution_count": 25
        }
      ]
    },
    {
      "cell_type": "code",
      "source": [
        "import os\n",
        "import pandas as pd\n",
        "import numpy as np\n",
        "from sklearn.metrics import mean_absolute_error\n",
        "\n",
        "# Define the folder containing the files\n",
        "input_folder_path = '/content/content/Rider1_test_preprocessed/'\n",
        "output_folder_path = '/content/content/Rider1_test_NN/'\n",
        "\n",
        "!mkdir -p /content/content/Rider1_test_NN\n",
        "\n",
        "# List all CSV files in the folder\n",
        "csv_files = [f for f in os.listdir(input_folder_path) if f.endswith('.csv')]\n",
        "\n",
        "# Iterate through each file in the folder\n",
        "for file in csv_files:\n",
        "    file_path = os.path.join(input_folder_path, file)\n",
        "\n",
        "    # Read test file\n",
        "    df = pd.read_csv(file_path)\n",
        "\n",
        "    # Check if 'Time' column exists before accessing it\n",
        "    if 'Time' in df.columns:\n",
        "        real_time = df['Time']\n",
        "    else:\n",
        "        # Handle the case where 'Time' column is missing\n",
        "        # For example, you can assign a default value or skip the file\n",
        "        print(f\"File {file} is missing 'Time' column. Skipping...\")\n",
        "        continue  # Skip to the next file\n",
        "\n",
        "    # Feature selection\n",
        "    real_time = df['Time']\n",
        "    X = df[['Elevation', 'Slope_prev', 'Slope_next', 'Angle', 'Distance', 'Cumulative_Slope']]\n",
        "    y = df['Speed']\n",
        "\n",
        "    # Normalize the new data using the same scaler fitted on the training data\n",
        "    X_new_scaled = scaler.transform(X)\n",
        "\n",
        "    # Make predictions on the new data\n",
        "    y_pred = model.predict(X_new_scaled)\n",
        "\n",
        "    # Add the predicted values as a new column 'Speed_pred' in the original DataFrame\n",
        "    df['Speed_pred'] = y_pred\n",
        "\n",
        "    # Calculate MAE between df['Speed_pred'] and df['Speed']\n",
        "    mae = mean_absolute_error(df['Speed'], df['Speed_pred'])\n",
        "    print(f\"File: {file} | Mean Absolute Error: {mae}\")\n",
        "\n",
        "    # Initialize Time column\n",
        "    df['Time_pred'] = float(df['Time'].iloc[0])\n",
        "\n",
        "    # Compute predicted time\n",
        "    for i in range(2, len(df)):\n",
        "        if df.loc[i, 'Speed_pred'] < 0:\n",
        "            df.loc[i, 'Speed_pred'] = 0\n",
        "        if pd.notna(df.loc[i, 'Speed_pred']):\n",
        "            if df.loc[i, 'Speed_pred'] != 0:\n",
        "                df.loc[i, 'Time_pred'] = (\n",
        "                    df.loc[i - 1, 'Time_pred'] +\n",
        "                    (df.loc[i, 'Distance'] - df.loc[i - 1, 'Distance']) / df.loc[i, 'Speed_pred']\n",
        "                )\n",
        "            else:\n",
        "                df.loc[i, 'Time_pred'] = df.loc[i - 1, 'Time_pred']\n",
        "\n",
        "    # Save the processed DataFrame to a new file (optional)\n",
        "    output_file_path = os.path.join(output_folder_path, f\"processed_{file}\")\n",
        "    df.to_csv(output_file_path, index=False)\n",
        "\n",
        "    # Optionally, print the first few rows of the updated DataFrame\n",
        "    print(f\"Processed file: {file}\")\n",
        "    print(df.head())\n"
      ],
      "metadata": {
        "id": "oJOwI5albhmP",
        "outputId": "fa9afe65-3ba0-4aa2-f00f-b114bff13edc",
        "colab": {
          "base_uri": "https://localhost:8080/"
        }
      },
      "execution_count": 39,
      "outputs": [
        {
          "output_type": "stream",
          "name": "stdout",
          "text": [
            "395/395 [==============================] - 0s 1ms/step\n",
            "File: r1_f746.csv | Mean Absolute Error: 1.3030323780062314\n",
            "Processed file: r1_f746.csv\n",
            "   Elevation  Slope_prev  Slope_next       Angle   Distance  Cumulative_Slope  \\\n",
            "0      258.8         0.0         0.0  178.182668   3.824572               0.0   \n",
            "1      258.8         0.0         0.0  177.009219   8.419597               0.0   \n",
            "2      258.8         0.0         0.0  177.707558  13.784474               0.0   \n",
            "3      258.8         0.0         0.0  177.833176  19.459475               0.0   \n",
            "4      258.8         0.0         0.0  173.758391  25.294951               0.0   \n",
            "\n",
            "      Speed  Time  Speed_pred  Time_pred  \n",
            "0  4.209799     1    5.676500   1.000000  \n",
            "1  4.979951     2    5.794631   1.000000  \n",
            "2  5.519939     3    5.750638   1.932919  \n",
            "3  5.755239     4    5.774496   2.915689  \n",
            "4  5.959725     5    5.480112   3.980535  \n",
            "12/12 [==============================] - 0s 1ms/step\n",
            "File: r1_f241.csv | Mean Absolute Error: 1.4637179816093215\n",
            "Processed file: r1_f241.csv\n",
            "   Elevation  Slope_prev  Slope_next       Angle    Distance  \\\n",
            "0      266.4    0.000000    0.000000  173.259057   28.856441   \n",
            "1      266.4    0.000000    0.000000  170.792964   76.805578   \n",
            "2      266.4    0.000000    0.000000  171.731079   86.224097   \n",
            "3      266.4    0.000000   -0.059677  175.019234  116.015547   \n",
            "4      265.8   -0.059677    0.000000  172.805881  126.069719   \n",
            "\n",
            "   Cumulative_Slope      Speed  Time  Speed_pred  Time_pred  \n",
            "0          0.000000   9.600697     3    5.750623   3.000000  \n",
            "1          0.000000   9.561276     8    5.547142   3.000000  \n",
            "2          0.000000   9.802492     9    5.751441   4.637593  \n",
            "3          0.000000   9.961406    12    5.675965   9.886295  \n",
            "4         -0.059677  10.181705    13    4.665738  12.041190  \n",
            "196/196 [==============================] - 0s 1ms/step\n",
            "File: r1_f234.csv | Mean Absolute Error: 2.558610318946796\n",
            "Processed file: r1_f234.csv\n",
            "   Elevation  Slope_prev  Slope_next       Angle   Distance  Cumulative_Slope  \\\n",
            "0      468.4   -0.212480   -0.095519  178.010424   0.470633         -0.212480   \n",
            "1      468.3   -0.095519   -0.105583  162.415455   1.517546         -0.307999   \n",
            "2      468.2   -0.105583   -0.029522   27.899756   2.464669         -0.413582   \n",
            "3      468.1   -0.029522   -0.076752  159.951057   5.851968         -0.443104   \n",
            "4      467.7   -0.076752    0.111864  114.903001  11.063557         -0.519856   \n",
            "\n",
            "      Speed  Time  Speed_pred  Time_pred  \n",
            "0  0.758773     1    2.603833   1.000000  \n",
            "1  0.664679     2    8.755311   1.000000  \n",
            "2  0.722404     4    1.481009   1.639513  \n",
            "3  1.228413     8    7.311934   2.102769  \n",
            "4  1.762544    11    2.025287   4.676028  \n",
            "143/143 [==============================] - 0s 1ms/step\n",
            "File: r1_f493.csv | Mean Absolute Error: 2.2001269014722116\n",
            "Processed file: r1_f493.csv\n",
            "   Elevation  Slope_prev  Slope_next       Angle   Distance  Cumulative_Slope  \\\n",
            "0       10.0         0.0         0.0  173.325900   2.445073               0.0   \n",
            "1       10.0         0.0         0.0  173.798238   7.145000               0.0   \n",
            "2       10.0         0.0         0.0  178.875597  12.048084               0.0   \n",
            "3       10.0         0.0         0.0  178.810910  18.178957               0.0   \n",
            "4       10.0         0.0         0.0  179.331041  24.451975               0.0   \n",
            "\n",
            "      Speed  Time  Speed_pred  Time_pred  \n",
            "0  3.572500     1    5.843413   1.000000  \n",
            "1  4.801505     2    5.915078   1.000000  \n",
            "2  5.516978     3    6.293339   1.779091  \n",
            "3  6.201946     4    6.293667   2.753225  \n",
            "4  6.453282     5    6.379065   3.736601  \n",
            "File summary_statistics.csv is missing 'Time' column. Skipping...\n",
            "84/84 [==============================] - 0s 1ms/step\n",
            "File: r1_f479.csv | Mean Absolute Error: 1.4538261542971027\n",
            "Processed file: r1_f479.csv\n",
            "   Elevation  Slope_prev  Slope_next       Angle   Distance  Cumulative_Slope  \\\n",
            "0      254.0    0.000000    0.000000  178.508604   5.600179          0.000000   \n",
            "1      254.0    0.000000    0.000000  176.278064  54.794590          0.000000   \n",
            "2      254.0    0.000000    0.000000  179.495847  67.707147          0.000000   \n",
            "3      254.0    0.000000   -0.132167  179.074368  74.199808          0.000000   \n",
            "4      253.2   -0.132167    0.000000  177.748644  80.252742         -0.132167   \n",
            "\n",
            "      Speed  Time  Speed_pred  Time_pred  \n",
            "0  6.088288     1    5.392046   1.000000  \n",
            "1  6.210697     9    5.927426   1.000000  \n",
            "2  6.468406    11    5.654080   3.283759  \n",
            "3  6.272797    12    3.826588   4.980482  \n",
            "4  6.528377    13    5.042415   6.180886  \n",
            "51/51 [==============================] - 0s 1ms/step\n",
            "File: r1_f9.csv | Mean Absolute Error: 1.2565764170389055\n",
            "Processed file: r1_f9.csv\n",
            "   Elevation  Slope_prev  Slope_next       Angle   Distance  Cumulative_Slope  \\\n",
            "0      247.0    0.000000    0.000000  172.042187   3.624037          0.000000   \n",
            "1      247.0    0.000000    0.000000  174.888462   7.192898          0.000000   \n",
            "2      247.0    0.000000   -0.013070  179.518522  10.875470          0.000000   \n",
            "3      246.8   -0.013070    0.032535  177.109121  26.177383         -0.013070   \n",
            "4      247.4    0.032535    0.071546  172.412323  44.619123          0.019465   \n",
            "\n",
            "      Speed  Time  Speed_pred  Time_pred  \n",
            "0  3.596449     1    5.083139   1.000000  \n",
            "1  3.625716     2    5.503552   1.000000  \n",
            "2  3.796897     3    8.510684   1.432700  \n",
            "3  3.749295     7    5.903273   4.024807  \n",
            "4  3.702924    12    4.767550   7.892987  \n",
            "95/95 [==============================] - 0s 1ms/step\n",
            "File: r1_f349.csv | Mean Absolute Error: 3.299903782807092\n",
            "Processed file: r1_f349.csv\n",
            "   Elevation  Slope_prev  Slope_next       Angle   Distance  Cumulative_Slope  \\\n",
            "0      494.8    0.000000    0.000000  161.826378   0.402993          0.000000   \n",
            "1      494.8    0.000000    0.000000  177.886289   3.426452          0.000000   \n",
            "2      494.8    0.000000   -0.014277  174.518794   6.525339          0.000000   \n",
            "3      494.6   -0.014277   -0.010197  179.935308  20.533976         -0.014277   \n",
            "4      494.4   -0.010197   -0.014883  174.059726  40.148203         -0.024474   \n",
            "\n",
            "       Speed  Time  Speed_pred  Time_pred  \n",
            "0   1.713226    16    5.004633  16.000000  \n",
            "1   3.061173    17    5.610981  16.000000  \n",
            "2   8.553762    18   10.234037  16.302802  \n",
            "3  16.811432    19   10.466102  17.641279  \n",
            "4  16.525977    20   10.743109  19.467029  \n",
            "65/65 [==============================] - 0s 1ms/step\n",
            "File: r1_f665.csv | Mean Absolute Error: 1.6505095334843405\n",
            "Processed file: r1_f665.csv\n",
            "   Elevation  Slope_prev  Slope_next       Angle   Distance  Cumulative_Slope  \\\n",
            "0      227.6    0.000000    0.000000  174.095507   3.091916          0.000000   \n",
            "1      227.6    0.000000    0.000000  177.071966  17.663976          0.000000   \n",
            "2      227.6    0.000000    0.000000  179.390719  21.154679          0.000000   \n",
            "3      227.6    0.000000    0.067987  176.946075  23.247803          0.000000   \n",
            "4      227.8    0.067987    0.066305  167.186352  26.189524          0.067987   \n",
            "\n",
            "      Speed  Time  Speed_pred  Time_pred  \n",
            "0  2.943996     1    6.056188   1.000000  \n",
            "1  3.010461     6    6.403197   1.000000  \n",
            "2  2.791914     7    6.150419   1.567555  \n",
            "3  2.517423     8    3.691935   2.134500  \n",
            "4  2.979046     9    4.276073   2.822450  \n",
            "49/49 [==============================] - 0s 1ms/step\n",
            "File: r1_f42.csv | Mean Absolute Error: 1.4866489888709051\n",
            "Processed file: r1_f42.csv\n",
            "   Elevation  Slope_prev  Slope_next       Angle   Distance  Cumulative_Slope  \\\n",
            "0      247.8         0.0         0.0  173.508517  42.176962               0.0   \n",
            "1      247.8         0.0         0.0  174.667145  50.056760               0.0   \n",
            "2      247.8         0.0         0.0  173.135308  79.986347               0.0   \n",
            "3      247.8         0.0         0.0  174.567053  87.485987               0.0   \n",
            "4      247.8         0.0         0.0  166.309773  95.821330               0.0   \n",
            "\n",
            "      Speed  Time  Speed_pred  Time_pred  \n",
            "0  8.342793     5    5.451384   5.000000  \n",
            "1  7.561877     6    5.683273   5.000000  \n",
            "2  7.485845    10    5.592032  10.352184  \n",
            "3  7.917491    11    5.866464  11.630576  \n",
            "4  9.429898    12    5.041287  13.283992  \n",
            "111/111 [==============================] - 0s 1ms/step\n",
            "File: r1_f578.csv | Mean Absolute Error: 1.469114813491414\n",
            "Processed file: r1_f578.csv\n",
            "   Elevation  Slope_prev  Slope_next       Angle    Distance  \\\n",
            "0      264.0    0.000000    0.000000  178.932488    7.192045   \n",
            "1      264.0    0.000000    0.000000  175.330947   14.813700   \n",
            "2      264.0    0.000000    0.000000  179.733786   54.034055   \n",
            "3      264.0    0.000000    0.006133  179.724026   70.427704   \n",
            "4      264.2    0.006133    0.000000  175.511137  103.040336   \n",
            "\n",
            "   Cumulative_Slope     Speed  Time  Speed_pred  Time_pred  \n",
            "0          0.000000  7.406850     1    5.920740   1.000000  \n",
            "1          0.000000  7.807002     2    5.989163   1.000000  \n",
            "2          0.000000  7.944858     7    6.096275   7.433495  \n",
            "3          0.000000  8.167714     9    7.245646   9.696047  \n",
            "4          0.006133  8.300082    13    7.606681  13.983414  \n"
          ]
        }
      ]
    },
    {
      "cell_type": "code",
      "source": [
        "# Summary statistics for processed files\n",
        "summary_nn = []\n",
        "processed_files = [f for f in os.listdir(output_folder_path) if f.startswith('processed') and f.endswith('.csv')]\n",
        "\n",
        "for file in processed_files:\n",
        "    file_path = os.path.join(output_folder_path, file)\n",
        "    df = pd.read_csv(file_path)\n",
        "\n",
        "    # Extract the last value of 'Time' and 'Time_pred'\n",
        "    last_time = df['Time'].iloc[-1]\n",
        "    last_time_pred = df['Time_pred'].iloc[-1]\n",
        "\n",
        "    # Calculate percentage difference\n",
        "    percentage_diff = ((last_time_pred - last_time) / last_time) * 100 if last_time != 0 else None\n",
        "\n",
        "    # Append to summary\n",
        "    summary_nn.append({\n",
        "        'file': file,\n",
        "        'last_time': last_time,\n",
        "        'last_time_pred': last_time_pred,\n",
        "        'percentage_diff': percentage_diff\n",
        "    })\n",
        "\n",
        "# Print summary\n",
        "summary_nn_df = pd.DataFrame(summary_nn)\n",
        "print(summary_nn_df)\n"
      ],
      "metadata": {
        "id": "Pwuzq9zNesK7",
        "outputId": "46dfec60-31c2-4d49-9634-a87b2f04905d",
        "colab": {
          "base_uri": "https://localhost:8080/"
        }
      },
      "execution_count": 40,
      "outputs": [
        {
          "output_type": "stream",
          "name": "stdout",
          "text": [
            "                    file  last_time  last_time_pred  percentage_diff\n",
            "0  processed_r1_f234.csv      19531    12860.061076       -34.155644\n",
            "1  processed_r1_f241.csv       1085     1180.568972         8.808200\n",
            "2  processed_r1_f493.csv       4569     5125.459563        12.179023\n",
            "3   processed_r1_f42.csv       3283     2502.142104       -23.784889\n",
            "4  processed_r1_f665.csv       2186     2106.633239        -3.630684\n",
            "5  processed_r1_f479.csv       5627    18773.380544       233.630363\n",
            "6  processed_r1_f578.csv       7444     8005.892714         7.548263\n",
            "7  processed_r1_f746.csv      13099    13319.743589         1.685194\n",
            "8  processed_r1_f349.csv       6557     2906.933543       -55.666714\n",
            "9    processed_r1_f9.csv       4364     3105.762807       -28.832200\n"
          ]
        }
      ]
    },
    {
      "cell_type": "markdown",
      "metadata": {
        "id": "dAqRWVKW6OyW"
      },
      "source": [
        "## Comparative Analysis\n",
        "\n",
        "[Compare the performance of your model(s) against the baseline model. Discuss any improvements or setbacks and the reasons behind them.]\n"
      ]
    },
    {
      "cell_type": "code",
      "source": [
        "import joblib\n",
        "\n",
        "# To load the model later:\n",
        "lr_model = joblib.load('/content/drive/MyDrive/opencampus_all_files/models/lr_model.joblib')"
      ],
      "metadata": {
        "id": "bL0JC1h9j8tR"
      },
      "execution_count": 41,
      "outputs": []
    },
    {
      "cell_type": "code",
      "source": [
        "import os\n",
        "import pandas as pd\n",
        "import numpy as np\n",
        "from sklearn.metrics import mean_absolute_error\n",
        "\n",
        "# Define the folder containing the files\n",
        "input_folder_path = '/content/content/Rider1_test_preprocessed/'\n",
        "output_folder_path = '/content/content/Rider1_test_LR/'\n",
        "\n",
        "!mkdir -p /content/content/Rider1_test_LR\n",
        "\n",
        "# List all CSV files in the folder\n",
        "csv_files = [f for f in os.listdir(input_folder_path) if f.endswith('.csv')]\n",
        "\n",
        "# Iterate through each file in the folder\n",
        "for file in csv_files:\n",
        "    file_path = os.path.join(input_folder_path, file)\n",
        "\n",
        "    # Read test file\n",
        "    df = pd.read_csv(file_path)\n",
        "\n",
        "    # Check if 'Time' column exists before accessing it\n",
        "    if 'Time' in df.columns:\n",
        "        real_time = df['Time']\n",
        "    else:\n",
        "        # Handle the case where 'Time' column is missing\n",
        "        # For example, you can assign a default value or skip the file\n",
        "        print(f\"File {file} is missing 'Time' column. Skipping...\")\n",
        "        continue  # Skip to the next file\n",
        "\n",
        "    # Feature selection\n",
        "    real_time = df['Time']\n",
        "    X = df[['Elevation', 'Slope_prev', 'Slope_next', 'Angle', 'Distance', 'Cumulative_Slope']]\n",
        "    y = df['Speed']\n",
        "\n",
        "    # Normalize the new data using the same scaler fitted on the training data\n",
        "    X_new_scaled = scaler.transform(X)\n",
        "\n",
        "    # Make predictions on the new data\n",
        "    y_pred = lr_model.predict(X_new_scaled)\n",
        "\n",
        "    # Add the predicted values as a new column 'Speed_pred' in the original DataFrame\n",
        "    df['Speed_pred'] = y_pred\n",
        "\n",
        "    # Calculate MAE between df['Speed_pred'] and df['Speed']\n",
        "    mae = mean_absolute_error(df['Speed'], df['Speed_pred'])\n",
        "    print(f\"File: {file} | Mean Absolute Error: {mae}\")\n",
        "\n",
        "    # Initialize Time column\n",
        "    df['Time_pred'] = float(df['Time'].iloc[0])\n",
        "\n",
        "    # Compute predicted time\n",
        "    for i in range(2, len(df)):\n",
        "        if df.loc[i, 'Speed_pred'] < 0:\n",
        "            df.loc[i, 'Speed_pred'] = 0\n",
        "        if pd.notna(df.loc[i, 'Speed_pred']):\n",
        "            if df.loc[i, 'Speed_pred'] != 0:\n",
        "                df.loc[i, 'Time_pred'] = (\n",
        "                    df.loc[i - 1, 'Time_pred'] +\n",
        "                    (df.loc[i, 'Distance'] - df.loc[i - 1, 'Distance']) / df.loc[i, 'Speed_pred']\n",
        "                )\n",
        "            else:\n",
        "                df.loc[i, 'Time_pred'] = df.loc[i - 1, 'Time_pred']\n",
        "\n",
        "    # Save the processed DataFrame to a new file (optional)\n",
        "    output_file_path = os.path.join(output_folder_path, f\"processed_{file}\")\n",
        "    df.to_csv(output_file_path, index=False)\n",
        "\n",
        "    # Optionally, print the first few rows of the updated DataFrame\n",
        "    print(f\"Processed file: {file}\")\n",
        "    print(df.head())\n"
      ],
      "metadata": {
        "id": "h1pOqNV2kLD8",
        "outputId": "8655e1d2-bbb5-4879-af76-59c1dfba2555",
        "colab": {
          "base_uri": "https://localhost:8080/"
        }
      },
      "execution_count": 42,
      "outputs": [
        {
          "output_type": "stream",
          "name": "stderr",
          "text": [
            "/usr/local/lib/python3.10/dist-packages/sklearn/base.py:493: UserWarning: X does not have valid feature names, but LinearRegression was fitted with feature names\n",
            "  warnings.warn(\n"
          ]
        },
        {
          "output_type": "stream",
          "name": "stdout",
          "text": [
            "File: r1_f746.csv | Mean Absolute Error: 10.651889601685786\n",
            "Processed file: r1_f746.csv\n",
            "   Elevation  Slope_prev  Slope_next       Angle   Distance  Cumulative_Slope  \\\n",
            "0      258.8         0.0         0.0  178.182668   3.824572               0.0   \n",
            "1      258.8         0.0         0.0  177.009219   8.419597               0.0   \n",
            "2      258.8         0.0         0.0  177.707558  13.784474               0.0   \n",
            "3      258.8         0.0         0.0  177.833176  19.459475               0.0   \n",
            "4      258.8         0.0         0.0  173.758391  25.294951               0.0   \n",
            "\n",
            "      Speed  Time  Speed_pred  Time_pred  \n",
            "0  4.209799     1   -0.928300        1.0  \n",
            "1  4.979951     2   -0.934075        1.0  \n",
            "2  5.519939     3    0.000000        1.0  \n",
            "3  5.755239     4    0.000000        1.0  \n",
            "4  5.959725     5    0.000000        1.0  \n",
            "File: r1_f241.csv | Mean Absolute Error: 10.435283046626644\n",
            "Processed file: r1_f241.csv\n",
            "   Elevation  Slope_prev  Slope_next       Angle    Distance  \\\n",
            "0      266.4    0.000000    0.000000  173.259057   28.856441   \n",
            "1      266.4    0.000000    0.000000  170.792964   76.805578   \n",
            "2      266.4    0.000000    0.000000  171.731079   86.224097   \n",
            "3      266.4    0.000000   -0.059677  175.019234  116.015547   \n",
            "4      265.8   -0.059677    0.000000  172.805881  126.069719   \n",
            "\n",
            "   Cumulative_Slope      Speed  Time  Speed_pred  Time_pred  \n",
            "0          0.000000   9.600697     3   -0.952555   3.000000  \n",
            "1          0.000000   9.561276     8   -0.964693   3.000000  \n",
            "2          0.000000   9.802492     9    0.000000   3.000000  \n",
            "3          0.000000   9.961406    12    1.633480  21.238029  \n",
            "4         -0.059677  10.181705    13    1.595534  27.539475  \n"
          ]
        },
        {
          "output_type": "stream",
          "name": "stderr",
          "text": [
            "/usr/local/lib/python3.10/dist-packages/sklearn/base.py:493: UserWarning: X does not have valid feature names, but LinearRegression was fitted with feature names\n",
            "  warnings.warn(\n",
            "/usr/local/lib/python3.10/dist-packages/sklearn/base.py:493: UserWarning: X does not have valid feature names, but LinearRegression was fitted with feature names\n",
            "  warnings.warn(\n"
          ]
        },
        {
          "output_type": "stream",
          "name": "stdout",
          "text": [
            "File: r1_f234.csv | Mean Absolute Error: 11.246181286414112\n",
            "Processed file: r1_f234.csv\n",
            "   Elevation  Slope_prev  Slope_next       Angle   Distance  Cumulative_Slope  \\\n",
            "0      468.4   -0.212480   -0.095519  178.010424   0.470633         -0.212480   \n",
            "1      468.3   -0.095519   -0.105583  162.415455   1.517546         -0.307999   \n",
            "2      468.2   -0.105583   -0.029522   27.899756   2.464669         -0.413582   \n",
            "3      468.1   -0.029522   -0.076752  159.951057   5.851968         -0.443104   \n",
            "4      467.7   -0.076752    0.111864  114.903001  11.063557         -0.519856   \n",
            "\n",
            "      Speed  Time  Speed_pred  Time_pred  \n",
            "0  0.758773     1   12.276047   1.000000  \n",
            "1  0.664679     2    7.635556   1.000000  \n",
            "2  0.722404     4    4.118599   1.229963  \n",
            "3  1.228413     8    3.557850   2.182026  \n",
            "4  1.762544    11    0.000000   2.182026  \n",
            "File: r1_f493.csv | Mean Absolute Error: 12.925075154083931\n"
          ]
        },
        {
          "output_type": "stream",
          "name": "stderr",
          "text": [
            "/usr/local/lib/python3.10/dist-packages/sklearn/base.py:493: UserWarning: X does not have valid feature names, but LinearRegression was fitted with feature names\n",
            "  warnings.warn(\n"
          ]
        },
        {
          "output_type": "stream",
          "name": "stdout",
          "text": [
            "Processed file: r1_f493.csv\n",
            "   Elevation  Slope_prev  Slope_next       Angle   Distance  Cumulative_Slope  \\\n",
            "0       10.0         0.0         0.0  173.325900   2.445073               0.0   \n",
            "1       10.0         0.0         0.0  173.798238   7.145000               0.0   \n",
            "2       10.0         0.0         0.0  178.875597  12.048084               0.0   \n",
            "3       10.0         0.0         0.0  178.810910  18.178957               0.0   \n",
            "4       10.0         0.0         0.0  179.331041  24.451975               0.0   \n",
            "\n",
            "      Speed  Time  Speed_pred  Time_pred  \n",
            "0  3.572500     1   -0.951482        1.0  \n",
            "1  4.801505     2   -0.949157        1.0  \n",
            "2  5.516978     3    0.000000        1.0  \n",
            "3  6.201946     4    0.000000        1.0  \n",
            "4  6.453282     5    0.000000        1.0  \n",
            "File summary_statistics.csv is missing 'Time' column. Skipping...\n",
            "File: r1_f479.csv | Mean Absolute Error: 10.17679818599307\n"
          ]
        },
        {
          "output_type": "stream",
          "name": "stderr",
          "text": [
            "/usr/local/lib/python3.10/dist-packages/sklearn/base.py:493: UserWarning: X does not have valid feature names, but LinearRegression was fitted with feature names\n",
            "  warnings.warn(\n"
          ]
        },
        {
          "output_type": "stream",
          "name": "stdout",
          "text": [
            "Processed file: r1_f479.csv\n",
            "   Elevation  Slope_prev  Slope_next       Angle   Distance  Cumulative_Slope  \\\n",
            "0      254.0    0.000000    0.000000  178.508604   5.600179          0.000000   \n",
            "1      254.0    0.000000    0.000000  176.278064  54.794590          0.000000   \n",
            "2      254.0    0.000000    0.000000  179.495847  67.707147          0.000000   \n",
            "3      254.0    0.000000   -0.132167  179.074368  74.199808          0.000000   \n",
            "4      253.2   -0.132167    0.000000  177.748644  80.252742         -0.132167   \n",
            "\n",
            "      Speed  Time  Speed_pred  Time_pred  \n",
            "0  6.088288     1   -0.926682   1.000000  \n",
            "1  6.210697     9   -0.937660   1.000000  \n",
            "2  6.468406    11    0.000000   1.000000  \n",
            "3  6.272797    12    4.784264   2.357087  \n",
            "4  6.528377    13    4.717825   3.640079  \n",
            "File: r1_f9.csv | Mean Absolute Error: 32.04153516192238\n"
          ]
        },
        {
          "output_type": "stream",
          "name": "stderr",
          "text": [
            "/usr/local/lib/python3.10/dist-packages/sklearn/base.py:493: UserWarning: X does not have valid feature names, but LinearRegression was fitted with feature names\n",
            "  warnings.warn(\n"
          ]
        },
        {
          "output_type": "stream",
          "name": "stdout",
          "text": [
            "Processed file: r1_f9.csv\n",
            "   Elevation  Slope_prev  Slope_next       Angle   Distance  Cumulative_Slope  \\\n",
            "0      247.0    0.000000    0.000000  172.042187   3.624037          0.000000   \n",
            "1      247.0    0.000000    0.000000  174.888462   7.192898          0.000000   \n",
            "2      247.0    0.000000   -0.013070  179.518522  10.875470          0.000000   \n",
            "3      246.8   -0.013070    0.032535  177.109121  26.177383         -0.013070   \n",
            "4      247.4    0.032535    0.071546  172.412323  44.619123          0.019465   \n",
            "\n",
            "      Speed  Time  Speed_pred  Time_pred  \n",
            "0  3.596449     1   -0.958488        1.0  \n",
            "1  3.625716     2   -0.944479        1.0  \n",
            "2  3.796897     3    0.000000        1.0  \n",
            "3  3.749295     7    0.000000        1.0  \n",
            "4  3.702924    12    0.000000        1.0  \n",
            "File: r1_f349.csv | Mean Absolute Error: 10.728371691505563\n"
          ]
        },
        {
          "output_type": "stream",
          "name": "stderr",
          "text": [
            "/usr/local/lib/python3.10/dist-packages/sklearn/base.py:493: UserWarning: X does not have valid feature names, but LinearRegression was fitted with feature names\n",
            "  warnings.warn(\n"
          ]
        },
        {
          "output_type": "stream",
          "name": "stdout",
          "text": [
            "Processed file: r1_f349.csv\n",
            "   Elevation  Slope_prev  Slope_next       Angle   Distance  Cumulative_Slope  \\\n",
            "0      494.8    0.000000    0.000000  161.826378   0.402993          0.000000   \n",
            "1      494.8    0.000000    0.000000  177.886289   3.426452          0.000000   \n",
            "2      494.8    0.000000   -0.014277  174.518794   6.525339          0.000000   \n",
            "3      494.6   -0.014277   -0.010197  179.935308  20.533976         -0.014277   \n",
            "4      494.4   -0.010197   -0.014883  174.059726  40.148203         -0.024474   \n",
            "\n",
            "       Speed  Time  Speed_pred   Time_pred  \n",
            "0   1.713226    16   -1.009488   16.000000  \n",
            "1   3.061173    17   -0.930444   16.000000  \n",
            "2   8.553762    18    0.000000   16.000000  \n",
            "3  16.811432    19    0.130157  123.629015  \n",
            "4  16.525977    20    0.129286  275.341445  \n",
            "File: r1_f665.csv | Mean Absolute Error: 8.488772823825192\n"
          ]
        },
        {
          "output_type": "stream",
          "name": "stderr",
          "text": [
            "/usr/local/lib/python3.10/dist-packages/sklearn/base.py:493: UserWarning: X does not have valid feature names, but LinearRegression was fitted with feature names\n",
            "  warnings.warn(\n"
          ]
        },
        {
          "output_type": "stream",
          "name": "stdout",
          "text": [
            "Processed file: r1_f665.csv\n",
            "   Elevation  Slope_prev  Slope_next       Angle   Distance  Cumulative_Slope  \\\n",
            "0      227.6    0.000000    0.000000  174.095507   3.091916          0.000000   \n",
            "1      227.6    0.000000    0.000000  177.071966  17.663976          0.000000   \n",
            "2      227.6    0.000000    0.000000  179.390719  21.154679          0.000000   \n",
            "3      227.6    0.000000    0.067987  176.946075  23.247803          0.000000   \n",
            "4      227.8    0.067987    0.066305  167.186352  26.189524          0.067987   \n",
            "\n",
            "      Speed  Time  Speed_pred  Time_pred  \n",
            "0  2.943996     1   -0.948326        1.0  \n",
            "1  3.010461     6   -0.933676        1.0  \n",
            "2  2.791914     7    0.000000        1.0  \n",
            "3  2.517423     8    0.000000        1.0  \n",
            "4  2.979046     9    0.000000        1.0  \n",
            "File: r1_f42.csv | Mean Absolute Error: 11.713776334864164\n"
          ]
        },
        {
          "output_type": "stream",
          "name": "stderr",
          "text": [
            "/usr/local/lib/python3.10/dist-packages/sklearn/base.py:493: UserWarning: X does not have valid feature names, but LinearRegression was fitted with feature names\n",
            "  warnings.warn(\n"
          ]
        },
        {
          "output_type": "stream",
          "name": "stdout",
          "text": [
            "Processed file: r1_f42.csv\n",
            "   Elevation  Slope_prev  Slope_next       Angle   Distance  Cumulative_Slope  \\\n",
            "0      247.8         0.0         0.0  173.508517  42.176962               0.0   \n",
            "1      247.8         0.0         0.0  174.667145  50.056760               0.0   \n",
            "2      247.8         0.0         0.0  173.135308  79.986347               0.0   \n",
            "3      247.8         0.0         0.0  174.567053  87.485987               0.0   \n",
            "4      247.8         0.0         0.0  166.309773  95.821330               0.0   \n",
            "\n",
            "      Speed  Time  Speed_pred  Time_pred  \n",
            "0  8.342793     5   -0.951273        5.0  \n",
            "1  7.561877     6   -0.945571        5.0  \n",
            "2  7.485845    10    0.000000        5.0  \n",
            "3  7.917491    11    0.000000        5.0  \n",
            "4  9.429898    12    0.000000        5.0  \n",
            "File: r1_f578.csv | Mean Absolute Error: 11.520779066242234\n"
          ]
        },
        {
          "output_type": "stream",
          "name": "stderr",
          "text": [
            "/usr/local/lib/python3.10/dist-packages/sklearn/base.py:493: UserWarning: X does not have valid feature names, but LinearRegression was fitted with feature names\n",
            "  warnings.warn(\n"
          ]
        },
        {
          "output_type": "stream",
          "name": "stdout",
          "text": [
            "Processed file: r1_f578.csv\n",
            "   Elevation  Slope_prev  Slope_next       Angle    Distance  \\\n",
            "0      264.0    0.000000    0.000000  178.932488    7.192045   \n",
            "1      264.0    0.000000    0.000000  175.330947   14.813700   \n",
            "2      264.0    0.000000    0.000000  179.733786   54.034055   \n",
            "3      264.0    0.000000    0.006133  179.724026   70.427704   \n",
            "4      264.2    0.006133    0.000000  175.511137  103.040336   \n",
            "\n",
            "   Cumulative_Slope     Speed  Time  Speed_pred  Time_pred  \n",
            "0          0.000000  7.406850     1   -0.924625        1.0  \n",
            "1          0.000000  7.807002     2   -0.942351        1.0  \n",
            "2          0.000000  7.944858     7    0.000000        1.0  \n",
            "3          0.000000  8.167714     9    0.000000        1.0  \n",
            "4          0.006133  8.300082    13    0.000000        1.0  \n"
          ]
        }
      ]
    },
    {
      "cell_type": "code",
      "source": [
        "# Summary statistics for processed files\n",
        "summary_lr = []\n",
        "processed_files = [f for f in os.listdir(output_folder_path) if f.startswith('processed') and f.endswith('.csv')]\n",
        "\n",
        "for file in processed_files:\n",
        "    file_path = os.path.join(output_folder_path, file)\n",
        "    df = pd.read_csv(file_path)\n",
        "\n",
        "    # Extract the last value of 'Time' and 'Time_pred'\n",
        "    last_time = df['Time'].iloc[-1]\n",
        "    last_time_pred = df['Time_pred'].iloc[-1]\n",
        "\n",
        "    # Calculate percentage difference\n",
        "    percentage_diff = ((last_time_pred - last_time) / last_time) * 100 if last_time != 0 else None\n",
        "\n",
        "    # Append to summary\n",
        "    summary_lr.append({\n",
        "        'file': file,\n",
        "        'last_time': last_time,\n",
        "        'last_time_pred': last_time_pred,\n",
        "        'percentage_diff': percentage_diff\n",
        "    })\n",
        "\n",
        "# Print summary\n",
        "summary_nn_df = pd.DataFrame(summary_nn)\n",
        "print(summary_nn_df)\n",
        "\n",
        "summary_lr_df = pd.DataFrame(summary_lr)\n",
        "print(summary_lr_df)\n",
        "\n",
        "print(summary_nn_df['percentage_diff'].mean())\n",
        "print(summary_lr_df['percentage_diff'].mean())"
      ],
      "metadata": {
        "id": "XfjCdb6Wk6ji",
        "outputId": "d49e20d8-b1be-4943-ff30-90a3908c2909",
        "colab": {
          "base_uri": "https://localhost:8080/"
        }
      },
      "execution_count": 45,
      "outputs": [
        {
          "output_type": "stream",
          "name": "stdout",
          "text": [
            "                    file  last_time  last_time_pred  percentage_diff\n",
            "0  processed_r1_f234.csv      19531    12860.061076       -34.155644\n",
            "1  processed_r1_f241.csv       1085     1180.568972         8.808200\n",
            "2  processed_r1_f493.csv       4569     5125.459563        12.179023\n",
            "3   processed_r1_f42.csv       3283     2502.142104       -23.784889\n",
            "4  processed_r1_f665.csv       2186     2106.633239        -3.630684\n",
            "5  processed_r1_f479.csv       5627    18773.380544       233.630363\n",
            "6  processed_r1_f578.csv       7444     8005.892714         7.548263\n",
            "7  processed_r1_f746.csv      13099    13319.743589         1.685194\n",
            "8  processed_r1_f349.csv       6557     2906.933543       -55.666714\n",
            "9    processed_r1_f9.csv       4364     3105.762807       -28.832200\n",
            "                    file  last_time  last_time_pred  percentage_diff\n",
            "0  processed_r1_f234.csv      19531    21505.349926        10.108801\n",
            "1  processed_r1_f241.csv       1085      492.334048       -54.623590\n",
            "2  processed_r1_f493.csv       4569     3450.993056       -24.469401\n",
            "3   processed_r1_f42.csv       3283     1539.842623       -53.096478\n",
            "4  processed_r1_f665.csv       2186     6918.202955       216.477720\n",
            "5  processed_r1_f479.csv       5627     7026.506784        24.871277\n",
            "6  processed_r1_f578.csv       7444    16410.450944       120.452055\n",
            "7  processed_r1_f746.csv      13099    15762.574013        20.334178\n",
            "8  processed_r1_f349.csv       6557     9180.272736        40.007210\n",
            "9    processed_r1_f9.csv       4364      282.781815       -93.520123\n",
            "11.778091245050204\n",
            "20.654164796831626\n"
          ]
        }
      ]
    }
  ],
  "metadata": {
    "language_info": {
      "name": "python"
    },
    "colab": {
      "provenance": [],
      "machine_shape": "hm",
      "gpuType": "V28"
    },
    "kernelspec": {
      "name": "python3",
      "display_name": "Python 3"
    },
    "accelerator": "TPU"
  },
  "nbformat": 4,
  "nbformat_minor": 0
}