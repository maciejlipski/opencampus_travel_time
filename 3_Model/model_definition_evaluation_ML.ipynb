{
  "cells": [
    {
      "cell_type": "markdown",
      "metadata": {
        "id": "AT7FUIMp6OyP"
      },
      "source": [
        "# Model Definition and Evaluation\n",
        "## Table of Contents\n",
        "1. [Libraries](#libraries)\n",
        "2. [Load dataset](#load-dataset)\n",
        "3. [Model configuration](#model-configuration)\n",
        "4. [Implementation](#implementation)\n",
        "5. [Evaluation](#evaluation)\n"
      ]
    },
    {
      "cell_type": "markdown",
      "source": [
        "## 1. Libraries"
      ],
      "metadata": {
        "id": "NK1Xp7vQn3GQ"
      }
    },
    {
      "cell_type": "code",
      "source": [
        "!pip install openpyxl"
      ],
      "metadata": {
        "id": "zUApz9fFmWSh",
        "outputId": "4a157b22-e5ba-437f-e9a1-464db757e1c5",
        "colab": {
          "base_uri": "https://localhost:8080/"
        }
      },
      "execution_count": 1,
      "outputs": [
        {
          "output_type": "stream",
          "name": "stdout",
          "text": [
            "Collecting openpyxl\n",
            "  Downloading openpyxl-3.1.5-py2.py3-none-any.whl.metadata (2.5 kB)\n",
            "Collecting et-xmlfile (from openpyxl)\n",
            "  Downloading et_xmlfile-2.0.0-py3-none-any.whl.metadata (2.7 kB)\n",
            "Downloading openpyxl-3.1.5-py2.py3-none-any.whl (250 kB)\n",
            "\u001b[?25l   \u001b[90m━━━━━━━━━━━━━━━━━━━━━━━━━━━━━━━━━━━━━━━━\u001b[0m \u001b[32m0.0/250.9 kB\u001b[0m \u001b[31m?\u001b[0m eta \u001b[36m-:--:--\u001b[0m\r\u001b[2K   \u001b[91m━━━━━━━━━━━━━━━━━━━━━━━━━━━━━━━━━━━━━━━\u001b[0m\u001b[90m╺\u001b[0m \u001b[32m245.8/250.9 kB\u001b[0m \u001b[31m9.1 MB/s\u001b[0m eta \u001b[36m0:00:01\u001b[0m\r\u001b[2K   \u001b[90m━━━━━━━━━━━━━━━━━━━━━━━━━━━━━━━━━━━━━━━━\u001b[0m \u001b[32m250.9/250.9 kB\u001b[0m \u001b[31m6.5 MB/s\u001b[0m eta \u001b[36m0:00:00\u001b[0m\n",
            "\u001b[?25hDownloading et_xmlfile-2.0.0-py3-none-any.whl (18 kB)\n",
            "Installing collected packages: et-xmlfile, openpyxl\n",
            "Successfully installed et-xmlfile-2.0.0 openpyxl-3.1.5\n"
          ]
        }
      ]
    },
    {
      "cell_type": "code",
      "execution_count": 17,
      "metadata": {
        "id": "Hf64Ejtw6OyQ"
      },
      "outputs": [],
      "source": [
        "# Import necessary libraries\n",
        "import os\n",
        "import pandas as pd\n",
        "import numpy as np\n",
        "import joblib\n",
        "from sklearn.model_selection import train_test_split, GridSearchCV\n",
        "from sklearn.metrics import accuracy_score, mean_squared_error, classification_report, mean_absolute_error\n",
        "from sklearn.preprocessing import StandardScaler\n",
        "import tensorflow as tf\n",
        "from tensorflow.keras.models import Sequential, load_model\n",
        "from tensorflow.keras.layers import Dense, Dropout, BatchNormalization\n",
        "from tensorflow.keras.optimizers import Adam\n",
        "from tensorflow.keras.callbacks import EarlyStopping, ModelCheckpoint, ReduceLROnPlateau"
      ]
    },
    {
      "cell_type": "markdown",
      "metadata": {
        "id": "vAjcUwdb6OyS"
      },
      "source": [
        "## 2. Load dataset\n",
        "\n",
        "Load a preprocessed data and select features."
      ]
    },
    {
      "cell_type": "code",
      "source": [
        "from google.colab import drive\n",
        "drive.mount('/content/drive')"
      ],
      "metadata": {
        "id": "PAUqsOUCMo6w",
        "outputId": "05fa8866-3ebf-498d-ff44-72fe8f978af4",
        "colab": {
          "base_uri": "https://localhost:8080/"
        }
      },
      "execution_count": 3,
      "outputs": [
        {
          "output_type": "stream",
          "name": "stdout",
          "text": [
            "Mounted at /content/drive\n"
          ]
        }
      ]
    },
    {
      "cell_type": "code",
      "execution_count": 4,
      "metadata": {
        "id": "7xO-oSj56OyT"
      },
      "outputs": [],
      "source": [
        "# Load the dataset\n",
        "# Replace 'your_dataset.csv' with the path to your actual dataset\n",
        "df = pd.read_csv('/content/drive/MyDrive/opencampus_all_files/combined_data_r1.csv')\n",
        "\n",
        "# Feature and target variable selection\n",
        "Time_real = df['Time']\n",
        "X = df[['Elevation', 'Slope_prev', 'Slope_next',  'Angle', 'Distance', 'Cumulative_Slope']] # Cumulative slope\n",
        "y = df['Speed']\n",
        "\n",
        "# Split the dataset\n",
        "X_train, X_test, y_train, y_test = train_test_split(X, y, test_size=0.1, random_state=42)\n"
      ]
    },
    {
      "cell_type": "markdown",
      "metadata": {
        "id": "cG36ZeBF6OyT"
      },
      "source": [
        "## 3. Model configuration\n"
      ]
    },
    {
      "cell_type": "code",
      "source": [
        "# Initialize the model\n",
        "model = Sequential()\n",
        "\n",
        "# Input Layer (6 features)\n",
        "model.add(Dense(128, input_dim=X_train.shape[1], activation='relu'))\n",
        "\n",
        "# Hidden Layers\n",
        "model.add(Dense(256, activation='relu'))  # Large hidden layer to capture more complex patterns\n",
        "model.add(Dropout(0.2))  # Dropout to prevent overfitting\n",
        "model.add(Dense(128, activation='relu'))\n",
        "model.add(Dropout(0.2))  # Dropout again after each hidden layer\n",
        "\n",
        "# Output Layer\n",
        "model.add(Dense(1))  # Regression output\n",
        "\n",
        "# Compile the model\n",
        "model.compile(optimizer=Adam(), loss='mean_squared_error', metrics=['mae'])\n",
        "\n",
        "# Summarize the model architecture\n",
        "model.summary()\n"
      ],
      "metadata": {
        "id": "wrErJtwiNYV4",
        "outputId": "3fd6023a-ad9b-4238-802f-49637c0c38ca",
        "colab": {
          "base_uri": "https://localhost:8080/"
        }
      },
      "execution_count": 6,
      "outputs": [
        {
          "output_type": "stream",
          "name": "stdout",
          "text": [
            "Model: \"sequential\"\n",
            "_________________________________________________________________\n",
            " Layer (type)                Output Shape              Param #   \n",
            "=================================================================\n",
            " dense (Dense)               (None, 128)               896       \n",
            "                                                                 \n",
            " dense_1 (Dense)             (None, 256)               33024     \n",
            "                                                                 \n",
            " dropout (Dropout)           (None, 256)               0         \n",
            "                                                                 \n",
            " dense_2 (Dense)             (None, 128)               32896     \n",
            "                                                                 \n",
            " dropout_1 (Dropout)         (None, 128)               0         \n",
            "                                                                 \n",
            " dense_3 (Dense)             (None, 1)                 129       \n",
            "                                                                 \n",
            "=================================================================\n",
            "Total params: 66945 (261.50 KB)\n",
            "Trainable params: 66945 (261.50 KB)\n",
            "Non-trainable params: 0 (0.00 Byte)\n",
            "_________________________________________________________________\n"
          ]
        }
      ]
    },
    {
      "cell_type": "code",
      "source": [
        "# 1. Early Stopping: Stops training when validation loss doesn't improve.\n",
        "early_stopping = EarlyStopping(\n",
        "    monitor='val_loss',       # Metric to monitor\n",
        "    patience=10,              # Number of epochs to wait for improvement\n",
        "    restore_best_weights=True # Rollback to the best model weights\n",
        ")\n",
        "\n",
        "# 2. Model Checkpoint: Saves the best model during training.\n",
        "model_checkpoint = ModelCheckpoint(\n",
        "    'nn_best_model.keras',     # Filepath to save the model\n",
        "    monitor='val_loss',        # Metric to monitor\n",
        "    save_best_only=True,       # Save only the best model\n",
        "    mode='min',                # Minimize validation loss\n",
        "    verbose=1                  # Show a message when saving the model\n",
        ")\n",
        "\n",
        "# 3. Learning Rate Scheduler: Reduce learning rate when validation loss plateaus.\n",
        "reduce_lr = ReduceLROnPlateau(\n",
        "    monitor='val_loss',        # Metric to monitor\n",
        "    factor=0.1,                # Factor by which to reduce the learning rate\n",
        "    patience=5,                # Number of epochs to wait before reducing\n",
        "    min_lr=1e-6,               # Lower bound for learning rate\n",
        "    verbose=1                  # Show a message when reducing the learning rate\n",
        ")\n",
        "\n",
        "# Combine callbacks into a list\n",
        "callbacks = [early_stopping, model_checkpoint, reduce_lr]"
      ],
      "metadata": {
        "id": "eTAodH5MBPAT"
      },
      "execution_count": 8,
      "outputs": []
    },
    {
      "cell_type": "markdown",
      "metadata": {
        "id": "z65lDS_96OyV"
      },
      "source": [
        "## 4. Implementation\n",
        "\n"
      ]
    },
    {
      "cell_type": "code",
      "source": [
        "# Normalize the features using StandardScaler\n",
        "scaler = StandardScaler()\n",
        "X_train_scaled = scaler.fit_transform(X_train)\n",
        "X_test_scaled = scaler.transform(X_test)"
      ],
      "metadata": {
        "id": "b-AU9b6Icvvy"
      },
      "execution_count": 11,
      "outputs": []
    },
    {
      "cell_type": "code",
      "execution_count": 12,
      "metadata": {
        "id": "ydwm-YUa6OyV",
        "outputId": "c78c50f3-cb4e-47ec-d886-bdaae3041845",
        "colab": {
          "base_uri": "https://localhost:8080/",
          "height": 1000
        }
      },
      "outputs": [
        {
          "output_type": "stream",
          "name": "stdout",
          "text": [
            "Epoch 1/100\n",
            "121966/121996 [============================>.] - ETA: 0s - loss: 5.9130 - mae: 1.7073\n",
            "Epoch 1: val_loss improved from inf to 5.41552, saving model to nn_best_model.keras\n",
            "121996/121996 [==============================] - 165s 1ms/step - loss: 5.9128 - mae: 1.7073 - val_loss: 5.4155 - val_mae: 1.6272 - lr: 0.0010\n",
            "Epoch 2/100\n",
            "121981/121996 [============================>.] - ETA: 0s - loss: 5.4845 - mae: 1.6294\n",
            "Epoch 2: val_loss improved from 5.41552 to 5.25887, saving model to nn_best_model.keras\n",
            "121996/121996 [==============================] - 164s 1ms/step - loss: 5.4845 - mae: 1.6294 - val_loss: 5.2589 - val_mae: 1.5903 - lr: 0.0010\n",
            "Epoch 3/100\n",
            "121981/121996 [============================>.] - ETA: 0s - loss: 5.3520 - mae: 1.6036\n",
            "Epoch 3: val_loss improved from 5.25887 to 5.12287, saving model to nn_best_model.keras\n",
            "121996/121996 [==============================] - 163s 1ms/step - loss: 5.3520 - mae: 1.6036 - val_loss: 5.1229 - val_mae: 1.5572 - lr: 0.0010\n",
            "Epoch 4/100\n",
            "121985/121996 [============================>.] - ETA: 0s - loss: 5.2739 - mae: 1.5886\n",
            "Epoch 4: val_loss improved from 5.12287 to 5.05135, saving model to nn_best_model.keras\n",
            "121996/121996 [==============================] - 162s 1ms/step - loss: 5.2739 - mae: 1.5886 - val_loss: 5.0513 - val_mae: 1.5446 - lr: 0.0010\n",
            "Epoch 5/100\n",
            "121995/121996 [============================>.] - ETA: 0s - loss: 5.2133 - mae: 1.5768\n",
            "Epoch 5: val_loss did not improve from 5.05135\n",
            "121996/121996 [==============================] - 161s 1ms/step - loss: 5.2133 - mae: 1.5768 - val_loss: 5.0823 - val_mae: 1.5704 - lr: 0.0010\n",
            "Epoch 6/100\n",
            "121988/121996 [============================>.] - ETA: 0s - loss: 5.1640 - mae: 1.5677\n",
            "Epoch 6: val_loss improved from 5.05135 to 4.93760, saving model to nn_best_model.keras\n",
            "121996/121996 [==============================] - 161s 1ms/step - loss: 5.1640 - mae: 1.5677 - val_loss: 4.9376 - val_mae: 1.5248 - lr: 0.0010\n",
            "Epoch 7/100\n",
            "121972/121996 [============================>.] - ETA: 0s - loss: 5.1255 - mae: 1.5605\n",
            "Epoch 7: val_loss did not improve from 4.93760\n",
            "121996/121996 [==============================] - 166s 1ms/step - loss: 5.1255 - mae: 1.5605 - val_loss: 4.9784 - val_mae: 1.5486 - lr: 0.0010\n",
            "Epoch 8/100\n",
            "121973/121996 [============================>.] - ETA: 0s - loss: 5.0921 - mae: 1.5544\n",
            "Epoch 8: val_loss improved from 4.93760 to 4.92749, saving model to nn_best_model.keras\n",
            "121996/121996 [==============================] - 164s 1ms/step - loss: 5.0921 - mae: 1.5544 - val_loss: 4.9275 - val_mae: 1.5255 - lr: 0.0010\n",
            "Epoch 9/100\n",
            "121973/121996 [============================>.] - ETA: 0s - loss: 5.0652 - mae: 1.5500\n",
            "Epoch 9: val_loss did not improve from 4.92749\n",
            "121996/121996 [==============================] - 165s 1ms/step - loss: 5.0652 - mae: 1.5500 - val_loss: 5.0228 - val_mae: 1.5910 - lr: 0.0010\n",
            "Epoch 10/100\n",
            "121983/121996 [============================>.] - ETA: 0s - loss: 5.0433 - mae: 1.5464\n",
            "Epoch 10: val_loss improved from 4.92749 to 4.81400, saving model to nn_best_model.keras\n",
            "121996/121996 [==============================] - 164s 1ms/step - loss: 5.0433 - mae: 1.5464 - val_loss: 4.8140 - val_mae: 1.4999 - lr: 0.0010\n",
            "Epoch 11/100\n",
            "121990/121996 [============================>.] - ETA: 0s - loss: 5.0215 - mae: 1.5422\n",
            "Epoch 11: val_loss improved from 4.81400 to 4.80157, saving model to nn_best_model.keras\n",
            "121996/121996 [==============================] - 165s 1ms/step - loss: 5.0215 - mae: 1.5422 - val_loss: 4.8016 - val_mae: 1.4966 - lr: 0.0010\n",
            "Epoch 12/100\n",
            "121969/121996 [============================>.] - ETA: 0s - loss: 5.0024 - mae: 1.5392\n",
            "Epoch 12: val_loss did not improve from 4.80157\n",
            "121996/121996 [==============================] - 164s 1ms/step - loss: 5.0025 - mae: 1.5392 - val_loss: 4.8114 - val_mae: 1.4968 - lr: 0.0010\n",
            "Epoch 13/100\n",
            "121993/121996 [============================>.] - ETA: 0s - loss: 4.9865 - mae: 1.5362\n",
            "Epoch 13: val_loss improved from 4.80157 to 4.74975, saving model to nn_best_model.keras\n",
            "121996/121996 [==============================] - 165s 1ms/step - loss: 4.9865 - mae: 1.5362 - val_loss: 4.7497 - val_mae: 1.4708 - lr: 0.0010\n",
            "Epoch 14/100\n",
            "121979/121996 [============================>.] - ETA: 0s - loss: 4.9743 - mae: 1.5341\n",
            "Epoch 14: val_loss did not improve from 4.74975\n",
            "121996/121996 [==============================] - 165s 1ms/step - loss: 4.9743 - mae: 1.5341 - val_loss: 4.7741 - val_mae: 1.5081 - lr: 0.0010\n",
            "Epoch 15/100\n",
            "121973/121996 [============================>.] - ETA: 0s - loss: 4.9606 - mae: 1.5316\n",
            "Epoch 15: val_loss improved from 4.74975 to 4.73930, saving model to nn_best_model.keras\n",
            "121996/121996 [==============================] - 166s 1ms/step - loss: 4.9606 - mae: 1.5316 - val_loss: 4.7393 - val_mae: 1.4964 - lr: 0.0010\n",
            "Epoch 16/100\n",
            "121992/121996 [============================>.] - ETA: 0s - loss: 4.9465 - mae: 1.5292\n",
            "Epoch 16: val_loss improved from 4.73930 to 4.73784, saving model to nn_best_model.keras\n",
            "121996/121996 [==============================] - 167s 1ms/step - loss: 4.9466 - mae: 1.5292 - val_loss: 4.7378 - val_mae: 1.4882 - lr: 0.0010\n",
            "Epoch 17/100\n",
            "121970/121996 [============================>.] - ETA: 0s - loss: 4.9377 - mae: 1.5282\n",
            "Epoch 17: val_loss improved from 4.73784 to 4.72056, saving model to nn_best_model.keras\n",
            "121996/121996 [==============================] - 166s 1ms/step - loss: 4.9376 - mae: 1.5282 - val_loss: 4.7206 - val_mae: 1.5013 - lr: 0.0010\n",
            "Epoch 18/100\n",
            "121985/121996 [============================>.] - ETA: 0s - loss: 4.9257 - mae: 1.5261\n",
            "Epoch 18: val_loss did not improve from 4.72056\n",
            "121996/121996 [==============================] - 165s 1ms/step - loss: 4.9256 - mae: 1.5261 - val_loss: 4.7325 - val_mae: 1.5085 - lr: 0.0010\n",
            "Epoch 19/100\n",
            "121982/121996 [============================>.] - ETA: 0s - loss: 4.9152 - mae: 1.5243\n",
            "Epoch 19: val_loss did not improve from 4.72056\n",
            "121996/121996 [==============================] - 165s 1ms/step - loss: 4.9152 - mae: 1.5243 - val_loss: 4.7615 - val_mae: 1.5238 - lr: 0.0010\n",
            "Epoch 20/100\n",
            "121970/121996 [============================>.] - ETA: 0s - loss: 4.9062 - mae: 1.5230\n",
            "Epoch 20: val_loss improved from 4.72056 to 4.69278, saving model to nn_best_model.keras\n",
            "121996/121996 [==============================] - 164s 1ms/step - loss: 4.9062 - mae: 1.5231 - val_loss: 4.6928 - val_mae: 1.4921 - lr: 0.0010\n",
            "Epoch 21/100\n",
            "121985/121996 [============================>.] - ETA: 0s - loss: 4.8987 - mae: 1.5214\n",
            "Epoch 21: val_loss did not improve from 4.69278\n",
            "121996/121996 [==============================] - 164s 1ms/step - loss: 4.8987 - mae: 1.5214 - val_loss: 4.8201 - val_mae: 1.5129 - lr: 0.0010\n",
            "Epoch 22/100\n",
            "121980/121996 [============================>.] - ETA: 0s - loss: 4.8924 - mae: 1.5202\n",
            "Epoch 22: val_loss improved from 4.69278 to 4.66425, saving model to nn_best_model.keras\n",
            "121996/121996 [==============================] - 163s 1ms/step - loss: 4.8923 - mae: 1.5202 - val_loss: 4.6642 - val_mae: 1.4829 - lr: 0.0010\n",
            "Epoch 23/100\n",
            "121996/121996 [==============================] - ETA: 0s - loss: 4.8845 - mae: 1.5186\n",
            "Epoch 23: val_loss did not improve from 4.66425\n",
            "121996/121996 [==============================] - 162s 1ms/step - loss: 4.8845 - mae: 1.5186 - val_loss: 4.7251 - val_mae: 1.5124 - lr: 0.0010\n",
            "Epoch 24/100\n",
            "121980/121996 [============================>.] - ETA: 0s - loss: 4.8785 - mae: 1.5178\n",
            "Epoch 24: val_loss did not improve from 4.66425\n",
            "121996/121996 [==============================] - 164s 1ms/step - loss: 4.8785 - mae: 1.5178 - val_loss: 4.7414 - val_mae: 1.5084 - lr: 0.0010\n",
            "Epoch 25/100\n",
            "121963/121996 [============================>.] - ETA: 0s - loss: 4.8723 - mae: 1.5167\n",
            "Epoch 25: val_loss did not improve from 4.66425\n",
            "121996/121996 [==============================] - 163s 1ms/step - loss: 4.8722 - mae: 1.5167 - val_loss: 4.7382 - val_mae: 1.5049 - lr: 0.0010\n",
            "Epoch 26/100\n",
            "121993/121996 [============================>.] - ETA: 0s - loss: 4.8635 - mae: 1.5151\n",
            "Epoch 26: val_loss did not improve from 4.66425\n",
            "121996/121996 [==============================] - 163s 1ms/step - loss: 4.8635 - mae: 1.5151 - val_loss: 4.6886 - val_mae: 1.4939 - lr: 0.0010\n",
            "Epoch 27/100\n",
            "121973/121996 [============================>.] - ETA: 0s - loss: 4.8562 - mae: 1.5135\n",
            "Epoch 27: val_loss did not improve from 4.66425\n",
            "\n",
            "Epoch 27: ReduceLROnPlateau reducing learning rate to 0.00010000000474974513.\n",
            "121996/121996 [==============================] - 165s 1ms/step - loss: 4.8573 - mae: 1.5135 - val_loss: 4.7234 - val_mae: 1.5013 - lr: 0.0010\n",
            "Epoch 28/100\n",
            "121977/121996 [============================>.] - ETA: 0s - loss: 4.6252 - mae: 1.4604\n",
            "Epoch 28: val_loss improved from 4.66425 to 4.46129, saving model to nn_best_model.keras\n",
            "121996/121996 [==============================] - 164s 1ms/step - loss: 4.6252 - mae: 1.4604 - val_loss: 4.4613 - val_mae: 1.4508 - lr: 1.0000e-04\n",
            "Epoch 29/100\n",
            "121971/121996 [============================>.] - ETA: 0s - loss: 4.5936 - mae: 1.4542\n",
            "Epoch 29: val_loss improved from 4.46129 to 4.41451, saving model to nn_best_model.keras\n",
            "121996/121996 [==============================] - 163s 1ms/step - loss: 4.5938 - mae: 1.4542 - val_loss: 4.4145 - val_mae: 1.4349 - lr: 1.0000e-04\n",
            "Epoch 30/100\n",
            "121982/121996 [============================>.] - ETA: 0s - loss: 4.5863 - mae: 1.4524\n",
            "Epoch 30: val_loss improved from 4.41451 to 4.41285, saving model to nn_best_model.keras\n",
            "121996/121996 [==============================] - 165s 1ms/step - loss: 4.5864 - mae: 1.4524 - val_loss: 4.4129 - val_mae: 1.4373 - lr: 1.0000e-04\n",
            "Epoch 31/100\n",
            "121962/121996 [============================>.] - ETA: 0s - loss: 4.5752 - mae: 1.4505\n",
            "Epoch 31: val_loss improved from 4.41285 to 4.40519, saving model to nn_best_model.keras\n",
            "121996/121996 [==============================] - 164s 1ms/step - loss: 4.5753 - mae: 1.4505 - val_loss: 4.4052 - val_mae: 1.4322 - lr: 1.0000e-04\n",
            "Epoch 32/100\n",
            "121996/121996 [==============================] - ETA: 0s - loss: 4.5685 - mae: 1.4490\n",
            "Epoch 32: val_loss did not improve from 4.40519\n",
            "121996/121996 [==============================] - 164s 1ms/step - loss: 4.5685 - mae: 1.4490 - val_loss: 4.4234 - val_mae: 1.4451 - lr: 1.0000e-04\n",
            "Epoch 33/100\n",
            "121985/121996 [============================>.] - ETA: 0s - loss: 4.5650 - mae: 1.4485\n",
            "Epoch 33: val_loss did not improve from 4.40519\n",
            "121996/121996 [==============================] - 166s 1ms/step - loss: 4.5650 - mae: 1.4485 - val_loss: 4.4154 - val_mae: 1.4371 - lr: 1.0000e-04\n",
            "Epoch 34/100\n",
            "121965/121996 [============================>.] - ETA: 0s - loss: 4.5605 - mae: 1.4473\n",
            "Epoch 34: val_loss did not improve from 4.40519\n",
            "121996/121996 [==============================] - 166s 1ms/step - loss: 4.5606 - mae: 1.4473 - val_loss: 4.4088 - val_mae: 1.4401 - lr: 1.0000e-04\n",
            "Epoch 35/100\n",
            "121989/121996 [============================>.] - ETA: 0s - loss: 4.5593 - mae: 1.4468\n",
            "Epoch 35: val_loss did not improve from 4.40519\n",
            "121996/121996 [==============================] - 165s 1ms/step - loss: 4.5592 - mae: 1.4468 - val_loss: 4.4153 - val_mae: 1.4421 - lr: 1.0000e-04\n",
            "Epoch 36/100\n",
            "121979/121996 [============================>.] - ETA: 0s - loss: 4.5559 - mae: 1.4459\n",
            "Epoch 36: val_loss improved from 4.40519 to 4.37860, saving model to nn_best_model.keras\n",
            "121996/121996 [==============================] - 165s 1ms/step - loss: 4.5558 - mae: 1.4460 - val_loss: 4.3786 - val_mae: 1.4266 - lr: 1.0000e-04\n",
            "Epoch 37/100\n",
            "121972/121996 [============================>.] - ETA: 0s - loss: 4.5515 - mae: 1.4457\n",
            "Epoch 37: val_loss improved from 4.37860 to 4.37401, saving model to nn_best_model.keras\n",
            "121996/121996 [==============================] - 165s 1ms/step - loss: 4.5516 - mae: 1.4457 - val_loss: 4.3740 - val_mae: 1.4244 - lr: 1.0000e-04\n",
            "Epoch 38/100\n",
            "121963/121996 [============================>.] - ETA: 0s - loss: 4.5488 - mae: 1.4449\n",
            "Epoch 38: val_loss did not improve from 4.37401\n",
            "121996/121996 [==============================] - 165s 1ms/step - loss: 4.5489 - mae: 1.4449 - val_loss: 4.3889 - val_mae: 1.4336 - lr: 1.0000e-04\n",
            "Epoch 39/100\n",
            "121987/121996 [============================>.] - ETA: 0s - loss: 4.5451 - mae: 1.4445\n",
            "Epoch 39: val_loss did not improve from 4.37401\n",
            "121996/121996 [==============================] - 166s 1ms/step - loss: 4.5450 - mae: 1.4444 - val_loss: 4.3846 - val_mae: 1.4268 - lr: 1.0000e-04\n",
            "Epoch 40/100\n",
            "121966/121996 [============================>.] - ETA: 0s - loss: 4.5404 - mae: 1.4438\n",
            "Epoch 40: val_loss did not improve from 4.37401\n",
            "121996/121996 [==============================] - 166s 1ms/step - loss: 4.5403 - mae: 1.4437 - val_loss: 4.4018 - val_mae: 1.4417 - lr: 1.0000e-04\n",
            "Epoch 41/100\n",
            "121959/121996 [============================>.] - ETA: 0s - loss: 4.5394 - mae: 1.4433\n",
            "Epoch 41: val_loss did not improve from 4.37401\n",
            "121996/121996 [==============================] - 165s 1ms/step - loss: 4.5395 - mae: 1.4433 - val_loss: 4.4379 - val_mae: 1.4626 - lr: 1.0000e-04\n",
            "Epoch 42/100\n",
            "121982/121996 [============================>.] - ETA: 0s - loss: 4.5356 - mae: 1.4426\n",
            "Epoch 42: val_loss did not improve from 4.37401\n",
            "\n",
            "Epoch 42: ReduceLROnPlateau reducing learning rate to 1.0000000474974514e-05.\n",
            "121996/121996 [==============================] - 164s 1ms/step - loss: 4.5356 - mae: 1.4426 - val_loss: 4.3811 - val_mae: 1.4333 - lr: 1.0000e-04\n",
            "Epoch 43/100\n",
            "121981/121996 [============================>.] - ETA: 0s - loss: 4.5150 - mae: 1.4376\n",
            "Epoch 43: val_loss improved from 4.37401 to 4.36142, saving model to nn_best_model.keras\n",
            "121996/121996 [==============================] - 166s 1ms/step - loss: 4.5154 - mae: 1.4376 - val_loss: 4.3614 - val_mae: 1.4271 - lr: 1.0000e-05\n",
            "Epoch 44/100\n",
            "121956/121996 [============================>.] - ETA: 0s - loss: 4.5081 - mae: 1.4365\n",
            "Epoch 44: val_loss improved from 4.36142 to 4.36061, saving model to nn_best_model.keras\n",
            "121996/121996 [==============================] - 166s 1ms/step - loss: 4.5084 - mae: 1.4365 - val_loss: 4.3606 - val_mae: 1.4267 - lr: 1.0000e-05\n",
            "Epoch 45/100\n",
            "121984/121996 [============================>.] - ETA: 0s - loss: 4.5090 - mae: 1.4367\n",
            "Epoch 45: val_loss improved from 4.36061 to 4.36002, saving model to nn_best_model.keras\n",
            "121996/121996 [==============================] - 166s 1ms/step - loss: 4.5089 - mae: 1.4367 - val_loss: 4.3600 - val_mae: 1.4262 - lr: 1.0000e-05\n",
            "Epoch 46/100\n",
            "121962/121996 [============================>.] - ETA: 0s - loss: 4.5066 - mae: 1.4360\n",
            "Epoch 46: val_loss improved from 4.36002 to 4.35663, saving model to nn_best_model.keras\n",
            "121996/121996 [==============================] - 166s 1ms/step - loss: 4.5066 - mae: 1.4360 - val_loss: 4.3566 - val_mae: 1.4255 - lr: 1.0000e-05\n",
            "Epoch 47/100\n",
            "121991/121996 [============================>.] - ETA: 0s - loss: 4.5101 - mae: 1.4368\n",
            "Epoch 47: val_loss improved from 4.35663 to 4.34975, saving model to nn_best_model.keras\n",
            "121996/121996 [==============================] - 165s 1ms/step - loss: 4.5101 - mae: 1.4368 - val_loss: 4.3498 - val_mae: 1.4223 - lr: 1.0000e-05\n",
            "Epoch 48/100\n",
            "121989/121996 [============================>.] - ETA: 0s - loss: 4.5063 - mae: 1.4359\n",
            "Epoch 48: val_loss improved from 4.34975 to 4.34899, saving model to nn_best_model.keras\n",
            "121996/121996 [==============================] - 165s 1ms/step - loss: 4.5063 - mae: 1.4359 - val_loss: 4.3490 - val_mae: 1.4228 - lr: 1.0000e-05\n",
            "Epoch 49/100\n",
            "121970/121996 [============================>.] - ETA: 0s - loss: 4.5049 - mae: 1.4361\n",
            "Epoch 49: val_loss did not improve from 4.34899\n",
            "121996/121996 [==============================] - 167s 1ms/step - loss: 4.5048 - mae: 1.4361 - val_loss: 4.3581 - val_mae: 1.4263 - lr: 1.0000e-05\n",
            "Epoch 50/100\n",
            "121995/121996 [============================>.] - ETA: 0s - loss: 4.5071 - mae: 1.4355\n",
            "Epoch 50: val_loss did not improve from 4.34899\n",
            "121996/121996 [==============================] - 166s 1ms/step - loss: 4.5071 - mae: 1.4355 - val_loss: 4.3536 - val_mae: 1.4251 - lr: 1.0000e-05\n",
            "Epoch 51/100\n",
            "121996/121996 [==============================] - ETA: 0s - loss: 4.5058 - mae: 1.4360\n",
            "Epoch 51: val_loss did not improve from 4.34899\n",
            "121996/121996 [==============================] - 165s 1ms/step - loss: 4.5058 - mae: 1.4360 - val_loss: 4.3618 - val_mae: 1.4309 - lr: 1.0000e-05\n",
            "Epoch 52/100\n",
            "121986/121996 [============================>.] - ETA: 0s - loss: 4.5017 - mae: 1.4350\n",
            "Epoch 52: val_loss did not improve from 4.34899\n",
            "121996/121996 [==============================] - 165s 1ms/step - loss: 4.5017 - mae: 1.4350 - val_loss: 4.3545 - val_mae: 1.4262 - lr: 1.0000e-05\n",
            "Epoch 53/100\n",
            "121988/121996 [============================>.] - ETA: 0s - loss: 4.5040 - mae: 1.4351\n",
            "Epoch 53: val_loss did not improve from 4.34899\n",
            "\n",
            "Epoch 53: ReduceLROnPlateau reducing learning rate to 1.0000000656873453e-06.\n",
            "121996/121996 [==============================] - 166s 1ms/step - loss: 4.5041 - mae: 1.4351 - val_loss: 4.3492 - val_mae: 1.4239 - lr: 1.0000e-05\n",
            "Epoch 54/100\n",
            "121960/121996 [============================>.] - ETA: 0s - loss: 4.5017 - mae: 1.4351\n",
            "Epoch 54: val_loss did not improve from 4.34899\n",
            "121996/121996 [==============================] - 168s 1ms/step - loss: 4.5019 - mae: 1.4351 - val_loss: 4.3496 - val_mae: 1.4241 - lr: 1.0000e-06\n",
            "Epoch 55/100\n",
            "121993/121996 [============================>.] - ETA: 0s - loss: 4.5011 - mae: 1.4348\n",
            "Epoch 55: val_loss did not improve from 4.34899\n",
            "121996/121996 [==============================] - 166s 1ms/step - loss: 4.5011 - mae: 1.4348 - val_loss: 4.3513 - val_mae: 1.4249 - lr: 1.0000e-06\n",
            "Epoch 56/100\n",
            "121988/121996 [============================>.] - ETA: 0s - loss: 4.5010 - mae: 1.4349\n",
            "Epoch 56: val_loss did not improve from 4.34899\n",
            "121996/121996 [==============================] - 166s 1ms/step - loss: 4.5010 - mae: 1.4349 - val_loss: 4.3497 - val_mae: 1.4233 - lr: 1.0000e-06\n",
            "Epoch 57/100\n",
            "121980/121996 [============================>.] - ETA: 0s - loss: 4.4976 - mae: 1.4342\n",
            "Epoch 57: val_loss improved from 4.34899 to 4.34855, saving model to nn_best_model.keras\n",
            "121996/121996 [==============================] - 166s 1ms/step - loss: 4.4976 - mae: 1.4342 - val_loss: 4.3486 - val_mae: 1.4236 - lr: 1.0000e-06\n",
            "Epoch 58/100\n",
            "121987/121996 [============================>.] - ETA: 0s - loss: 4.4995 - mae: 1.4349\n",
            "Epoch 58: val_loss did not improve from 4.34855\n",
            "121996/121996 [==============================] - 166s 1ms/step - loss: 4.4994 - mae: 1.4349 - val_loss: 4.3492 - val_mae: 1.4238 - lr: 1.0000e-06\n",
            "Epoch 59/100\n",
            "121966/121996 [============================>.] - ETA: 0s - loss: 4.5034 - mae: 1.4352\n",
            "Epoch 59: val_loss improved from 4.34855 to 4.34658, saving model to nn_best_model.keras\n",
            "121996/121996 [==============================] - 167s 1ms/step - loss: 4.5034 - mae: 1.4352 - val_loss: 4.3466 - val_mae: 1.4221 - lr: 1.0000e-06\n",
            "Epoch 60/100\n",
            "121957/121996 [============================>.] - ETA: 0s - loss: 4.4979 - mae: 1.4345\n",
            "Epoch 60: val_loss did not improve from 4.34658\n",
            "121996/121996 [==============================] - 165s 1ms/step - loss: 4.4979 - mae: 1.4345 - val_loss: 4.3518 - val_mae: 1.4252 - lr: 1.0000e-06\n",
            "Epoch 61/100\n",
            "121988/121996 [============================>.] - ETA: 0s - loss: 4.4993 - mae: 1.4348\n",
            "Epoch 61: val_loss did not improve from 4.34658\n",
            "121996/121996 [==============================] - 165s 1ms/step - loss: 4.4993 - mae: 1.4348 - val_loss: 4.3474 - val_mae: 1.4227 - lr: 1.0000e-06\n",
            "Epoch 62/100\n",
            "121974/121996 [============================>.] - ETA: 0s - loss: 4.5004 - mae: 1.4349\n",
            "Epoch 62: val_loss did not improve from 4.34658\n",
            "121996/121996 [==============================] - 166s 1ms/step - loss: 4.5003 - mae: 1.4349 - val_loss: 4.3505 - val_mae: 1.4247 - lr: 1.0000e-06\n",
            "Epoch 63/100\n",
            "121987/121996 [============================>.] - ETA: 0s - loss: 4.5005 - mae: 1.4348\n",
            "Epoch 63: val_loss did not improve from 4.34658\n",
            "121996/121996 [==============================] - 167s 1ms/step - loss: 4.5005 - mae: 1.4348 - val_loss: 4.3490 - val_mae: 1.4239 - lr: 1.0000e-06\n",
            "Epoch 64/100\n",
            "121971/121996 [============================>.] - ETA: 0s - loss: 4.5012 - mae: 1.4349\n",
            "Epoch 64: val_loss did not improve from 4.34658\n",
            "\n",
            "Epoch 64: ReduceLROnPlateau reducing learning rate to 1e-06.\n",
            "121996/121996 [==============================] - 168s 1ms/step - loss: 4.5011 - mae: 1.4349 - val_loss: 4.3542 - val_mae: 1.4268 - lr: 1.0000e-06\n",
            "Epoch 65/100\n",
            "121962/121996 [============================>.] - ETA: 0s - loss: 4.4983 - mae: 1.4344\n",
            "Epoch 65: val_loss did not improve from 4.34658\n",
            "121996/121996 [==============================] - 167s 1ms/step - loss: 4.4984 - mae: 1.4344 - val_loss: 4.3491 - val_mae: 1.4240 - lr: 1.0000e-06\n",
            "Epoch 66/100\n",
            "121962/121996 [============================>.] - ETA: 0s - loss: 4.5016 - mae: 1.4350\n",
            "Epoch 66: val_loss did not improve from 4.34658\n",
            "121996/121996 [==============================] - 165s 1ms/step - loss: 4.5014 - mae: 1.4350 - val_loss: 4.3511 - val_mae: 1.4251 - lr: 1.0000e-06\n",
            "Epoch 67/100\n",
            "121964/121996 [============================>.] - ETA: 0s - loss: 4.5009 - mae: 1.4349\n",
            "Epoch 67: val_loss did not improve from 4.34658\n",
            "121996/121996 [==============================] - 166s 1ms/step - loss: 4.5009 - mae: 1.4349 - val_loss: 4.3492 - val_mae: 1.4236 - lr: 1.0000e-06\n",
            "Epoch 68/100\n",
            "121988/121996 [============================>.] - ETA: 0s - loss: 4.5006 - mae: 1.4348\n",
            "Epoch 68: val_loss did not improve from 4.34658\n",
            "121996/121996 [==============================] - 166s 1ms/step - loss: 4.5006 - mae: 1.4348 - val_loss: 4.3490 - val_mae: 1.4241 - lr: 1.0000e-06\n",
            "Epoch 69/100\n",
            "121974/121996 [============================>.] - ETA: 0s - loss: 4.4999 - mae: 1.4349\n",
            "Epoch 69: val_loss did not improve from 4.34658\n",
            "121996/121996 [==============================] - 166s 1ms/step - loss: 4.4999 - mae: 1.4349 - val_loss: 4.3493 - val_mae: 1.4242 - lr: 1.0000e-06\n",
            "13556/13556 [==============================] - 11s 777us/step - loss: 4.3466 - mae: 1.4221\n",
            "Test Loss: 4.34657621383667, Test MAE: 1.4221044778823853\n"
          ]
        },
        {
          "output_type": "display_data",
          "data": {
            "text/plain": [
              "<Figure size 640x480 with 1 Axes>"
            ],
            "image/png": "[encoded data removed]"
          },
          "metadata": {}
        }
      ],
      "source": [
        "# Train the model with callbacks\n",
        "history = model.fit(\n",
        "    X_train_scaled, y_train,\n",
        "    epochs=100,\n",
        "    batch_size=32,\n",
        "    validation_data=(X_test_scaled, y_test),\n",
        "    callbacks=callbacks       # Pass callbacks to the fit method\n",
        ")\n",
        "\n",
        "# Evaluate the model\n",
        "loss, mae = model.evaluate(X_test_scaled, y_test)\n",
        "print(f\"Test Loss: {loss}, Test MAE: {mae}\")\n",
        "\n",
        "# Optionally, plot the training history (e.g., loss or MAE over epochs)\n",
        "import matplotlib.pyplot as plt\n",
        "plt.plot(history.history['loss'], label='Training Loss')\n",
        "plt.plot(history.history['val_loss'], label='Validation Loss')\n",
        "plt.xlabel('Epochs')\n",
        "plt.ylabel('Loss')\n",
        "plt.legend()\n",
        "plt.show()\n",
        "\n"
      ]
    },
    {
      "cell_type": "markdown",
      "metadata": {
        "id": "brH6Z8VK6OyW"
      },
      "source": [
        "## 5. Evaluation\n",
        "\n",
        "Comparison between linear and neural network model.\n"
      ]
    },
    {
      "cell_type": "markdown",
      "source": [
        "#### Load test files"
      ],
      "metadata": {
        "id": "j53HtqoPiaGy"
      }
    },
    {
      "cell_type": "code",
      "source": [
        "# unzip test files\n",
        "!unzip /content/drive/MyDrive/opencampus_all_files/Rider1_test.zip -d /content"
      ],
      "metadata": {
        "id": "0PnKeCvNyUwr",
        "outputId": "3e1ac856-5fcb-4727-86a5-1f47a2eaeb8a",
        "colab": {
          "base_uri": "https://localhost:8080/"
        }
      },
      "execution_count": 14,
      "outputs": [
        {
          "output_type": "stream",
          "name": "stdout",
          "text": [
            "Archive:  /content/drive/MyDrive/opencampus_all_files/Rider1_test.zip\n",
            "   creating: /content/content/Rider1_test/\n",
            "  inflating: /content/content/Rider1_test/f729.csv  \n",
            "  inflating: /content/content/Rider1_test/f573.csv  \n",
            "  inflating: /content/content/Rider1_test/f274.csv  \n",
            "  inflating: /content/content/Rider1_test/f15.csv  \n",
            "  inflating: /content/content/Rider1_test/f70.csv  \n",
            "  inflating: /content/content/Rider1_test/f358.csv  \n",
            "  inflating: /content/content/Rider1_test/f196.csv  \n",
            "  inflating: /content/content/Rider1_test/f737.csv  \n",
            "  inflating: /content/content/Rider1_test/f540.csv  \n",
            "  inflating: /content/content/Rider1_test/f434.csv  \n"
          ]
        }
      ]
    },
    {
      "cell_type": "markdown",
      "source": [
        "#### Evaluation 1 - Linear Regression"
      ],
      "metadata": {
        "id": "F79HFxv1c7HE"
      }
    },
    {
      "cell_type": "code",
      "source": [
        "# Load linear model\n",
        "lr_model = joblib.load('/content/drive/MyDrive/opencampus_all_files/models/r1_init_lr_model.joblib')"
      ],
      "metadata": {
        "id": "A8LXO0L1zxI5"
      },
      "execution_count": 15,
      "outputs": []
    },
    {
      "cell_type": "code",
      "source": [
        "# Define the folder containing the files\n",
        "input_folder_path = '/content/content/Rider1_test/'\n",
        "output_folder_path = '/content/content/Rider1_test_LR/'\n",
        "\n",
        "# Create output_folder_path\n",
        "if not os.path.exists(output_folder_path):\n",
        "    os.makedirs(output_folder_path)\n",
        "\n",
        "# List all CSV files in the folder\n",
        "csv_files = [f for f in os.listdir(input_folder_path) if f.endswith('.csv')]\n",
        "\n",
        "# Iterate through each file in the folder\n",
        "for file in csv_files:\n",
        "    file_path = os.path.join(input_folder_path, file)\n",
        "\n",
        "    # Read test file\n",
        "    df = pd.read_csv(file_path)\n",
        "\n",
        "    # Feature selection\n",
        "    real_time = df['Time']\n",
        "    X = df[['Elevation', 'Slope_prev', 'Slope_next', 'Angle', 'Distance', 'Cumulative_Slope']]\n",
        "    y = df['Speed']\n",
        "\n",
        "    # Make predictions on the new data\n",
        "    y_pred = lr_model.predict(X)\n",
        "\n",
        "    # Add the predicted values as a new column 'Speed_pred' in the original DataFrame\n",
        "    df['Speed_pred'] = y_pred\n",
        "\n",
        "    # Calculate MAE between df['Speed_pred'] and df['Speed']\n",
        "    mae = mean_absolute_error(df['Speed'], df['Speed_pred'])\n",
        "    print(f\"File: {file} | Mean Absolute Error: {mae}\")\n",
        "\n",
        "    # Initialize Time column\n",
        "    df['Time_pred'] = float(df['Time'].iloc[0])\n",
        "\n",
        "    # Compute predicted time\n",
        "    for i in range(2, len(df)):\n",
        "        if df.loc[i, 'Speed_pred'] < 0:\n",
        "            df.loc[i, 'Speed_pred'] = 0\n",
        "        if pd.notna(df.loc[i, 'Speed_pred']):\n",
        "            if df.loc[i, 'Speed_pred'] != 0:\n",
        "                df.loc[i, 'Time_pred'] = (\n",
        "                    df.loc[i - 1, 'Time_pred'] +\n",
        "                    (df.loc[i, 'Distance'] - df.loc[i - 1, 'Distance']) / df.loc[i, 'Speed_pred']\n",
        "                )\n",
        "            else:\n",
        "                df.loc[i, 'Time_pred'] = df.loc[i - 1, 'Time_pred']\n",
        "\n",
        "    # Save the processed DataFrame to a new file (optional)\n",
        "    output_file_path = os.path.join(output_folder_path, f\"lr_{file}\")\n",
        "    df.to_csv(output_file_path, index=False)\n"
      ],
      "metadata": {
        "id": "eGnbQDG2WO-_",
        "outputId": "fd2eafc3-3230-4345-97ea-35b1ed93b676",
        "colab": {
          "base_uri": "https://localhost:8080/"
        }
      },
      "execution_count": 18,
      "outputs": [
        {
          "output_type": "stream",
          "name": "stdout",
          "text": [
            "File: f729.csv | Mean Absolute Error: 3.7590308974823663\n",
            "File: f573.csv | Mean Absolute Error: 3.023838732251371\n",
            "File: f274.csv | Mean Absolute Error: 2.990506993991007\n",
            "File: f15.csv | Mean Absolute Error: 4.369134090674801\n",
            "File: f70.csv | Mean Absolute Error: 4.585313688421683\n",
            "File: f358.csv | Mean Absolute Error: 2.2341906067906083\n",
            "File: f196.csv | Mean Absolute Error: 2.018804913641264\n",
            "File: f737.csv | Mean Absolute Error: 1.9240215480755247\n",
            "File: f540.csv | Mean Absolute Error: 3.665805771576365\n",
            "File: f434.csv | Mean Absolute Error: 2.437380576433266\n"
          ]
        }
      ]
    },
    {
      "cell_type": "markdown",
      "source": [
        "#### Evaluation 2 - Neural Network"
      ],
      "metadata": {
        "id": "EvfWLhhPdC6a"
      }
    },
    {
      "cell_type": "code",
      "source": [
        "# Load linear model\n",
        "nn_model = tf.keras.models.load_model('/content/drive/MyDrive/opencampus_all_files/models/r1_best_nn_model.keras')"
      ],
      "metadata": {
        "id": "Z-1-feh5c-Vb"
      },
      "execution_count": 19,
      "outputs": []
    },
    {
      "cell_type": "code",
      "source": [
        "# Define the folder containing the files\n",
        "input_folder_path = '/content/content/Rider1_test/'\n",
        "output_folder_path = '/content/content/Rider1_test_NN/'\n",
        "\n",
        "# Create output_folder_path\n",
        "if not os.path.exists(output_folder_path):\n",
        "    os.makedirs(output_folder_path)\n",
        "\n",
        "# List all CSV files in the folder\n",
        "csv_files = [f for f in os.listdir(input_folder_path) if f.endswith('.csv')]\n",
        "\n",
        "# Iterate through each file in the folder\n",
        "for file in csv_files:\n",
        "    file_path = os.path.join(input_folder_path, file)\n",
        "\n",
        "    # Read test file\n",
        "    df = pd.read_csv(file_path)\n",
        "\n",
        "    # Feature selection\n",
        "    real_time = df['Time']\n",
        "    X = df[['Elevation', 'Slope_prev', 'Slope_next', 'Angle', 'Distance', 'Cumulative_Slope']]\n",
        "    y = df['Speed']\n",
        "\n",
        "    # Make predictions on the new data\n",
        "    X_new_scaled = scaler.transform(X)\n",
        "    y_pred = nn_model.predict(X_new_scaled)\n",
        "\n",
        "    # Add the predicted values as a new column 'Speed_pred' in the original DataFrame\n",
        "    df['Speed_pred'] = y_pred\n",
        "\n",
        "    # Calculate MAE between df['Speed_pred'] and df['Speed']\n",
        "    mae = mean_absolute_error(df['Speed'], df['Speed_pred'])\n",
        "    print(f\"File: {file} | Mean Absolute Error: {mae}\")\n",
        "\n",
        "    # Initialize Time column\n",
        "    df['Time_pred'] = float(df['Time'].iloc[0])\n",
        "\n",
        "    # Compute predicted time\n",
        "    for i in range(2, len(df)):\n",
        "        if df.loc[i, 'Speed_pred'] < 0:\n",
        "            df.loc[i, 'Speed_pred'] = 0\n",
        "        if pd.notna(df.loc[i, 'Speed_pred']):\n",
        "            if df.loc[i, 'Speed_pred'] != 0:\n",
        "                df.loc[i, 'Time_pred'] = (\n",
        "                    df.loc[i - 1, 'Time_pred'] +\n",
        "                    (df.loc[i, 'Distance'] - df.loc[i - 1, 'Distance']) / df.loc[i, 'Speed_pred']\n",
        "                )\n",
        "            else:\n",
        "                df.loc[i, 'Time_pred'] = df.loc[i - 1, 'Time_pred']\n",
        "\n",
        "    # Save the processed DataFrame to a new file (optional)\n",
        "    output_file_path = os.path.join(output_folder_path, f\"nn_{file}\")\n",
        "    df.to_csv(output_file_path, index=False)\n"
      ],
      "metadata": {
        "id": "BO8T_aTjXKlK",
        "outputId": "ab710ea1-9336-4192-b8f0-39d35a284f57",
        "colab": {
          "base_uri": "https://localhost:8080/"
        }
      },
      "execution_count": 20,
      "outputs": [
        {
          "output_type": "stream",
          "name": "stdout",
          "text": [
            "113/113 [==============================] - 0s 733us/step\n",
            "File: f729.csv | Mean Absolute Error: 1.9640048754557657\n",
            "27/27 [==============================] - 0s 748us/step\n",
            "File: f573.csv | Mean Absolute Error: 2.33422941750691\n",
            "137/137 [==============================] - 0s 743us/step\n",
            "File: f274.csv | Mean Absolute Error: 2.231364139427358\n",
            "45/45 [==============================] - 0s 712us/step\n",
            "File: f15.csv | Mean Absolute Error: 2.9045932467843705\n",
            "59/59 [==============================] - 0s 717us/step\n",
            "File: f70.csv | Mean Absolute Error: 2.2105558923946944\n",
            "239/239 [==============================] - 0s 715us/step\n",
            "File: f358.csv | Mean Absolute Error: 1.2407014579102085\n",
            "72/72 [==============================] - 0s 767us/step\n",
            "File: f196.csv | Mean Absolute Error: 1.6722027774969703\n",
            "61/61 [==============================] - 0s 794us/step\n",
            "File: f737.csv | Mean Absolute Error: 1.86628655022557\n",
            "86/86 [==============================] - 0s 798us/step\n",
            "File: f540.csv | Mean Absolute Error: 1.4723059086137145\n",
            "428/428 [==============================] - 0s 691us/step\n",
            "File: f434.csv | Mean Absolute Error: 2.0102556045539592\n"
          ]
        }
      ]
    },
    {
      "cell_type": "markdown",
      "source": [
        "### Evaluation summary"
      ],
      "metadata": {
        "id": "_MtweafKlcKP"
      }
    },
    {
      "cell_type": "code",
      "source": [
        "# Summary statistics for processed files\n",
        "output_folder_path = '/content/content/Rider1_test_LR/'\n",
        "summary_lr = []\n",
        "processed_files = [f for f in os.listdir(output_folder_path) if f.endswith('.csv')]\n",
        "\n",
        "for file in processed_files:\n",
        "    file_path = os.path.join(output_folder_path, file)\n",
        "    df = pd.read_csv(file_path)\n",
        "\n",
        "    # Extract the last value of 'Time' and 'Time_pred'\n",
        "    last_time = df['Time'].iloc[-1]\n",
        "    last_time_pred = df['Time_pred'].iloc[-1]\n",
        "\n",
        "    # Calculate percentage difference\n",
        "    percentage_diff = ((last_time_pred - last_time) / last_time) * 100 if last_time != 0 else None\n",
        "\n",
        "    # Append to summary\n",
        "    summary_lr.append({\n",
        "        'file': file,\n",
        "        'last_time': last_time,\n",
        "        'last_time_pred': last_time_pred,\n",
        "        'percentage_diff': percentage_diff\n",
        "    })"
      ],
      "metadata": {
        "id": "RtCMC4XYi6QO"
      },
      "execution_count": 21,
      "outputs": []
    },
    {
      "cell_type": "code",
      "source": [
        "# Summary statistics for processed files\n",
        "output_folder_path = '/content/content/Rider1_test_NN/'\n",
        "summary_nn = []\n",
        "processed_files = [f for f in os.listdir(output_folder_path) if f.endswith('.csv')]\n",
        "\n",
        "for file in processed_files:\n",
        "    file_path = os.path.join(output_folder_path, file)\n",
        "    df = pd.read_csv(file_path)\n",
        "\n",
        "    # Extract the last value of 'Time' and 'Time_pred'\n",
        "    last_time = df['Time'].iloc[-1]\n",
        "    last_time_pred = df['Time_pred'].iloc[-1]\n",
        "\n",
        "    # Calculate percentage difference\n",
        "    percentage_diff = ((last_time_pred - last_time) / last_time) * 100 if last_time != 0 else None\n",
        "\n",
        "    # Append to summary\n",
        "    summary_nn.append({\n",
        "        'file': file,\n",
        "        'last_time': last_time,\n",
        "        'last_time_pred': last_time_pred,\n",
        "        'percentage_diff': percentage_diff\n",
        "    })"
      ],
      "metadata": {
        "id": "L_Q6xesa8UbX"
      },
      "execution_count": 22,
      "outputs": []
    },
    {
      "cell_type": "code",
      "source": [
        "# Print summary\n",
        "summary_lr_df = pd.DataFrame(summary_lr).sort_values(by=['file'])\n",
        "print(summary_lr_df)\n",
        "print(f\"Absolute percentage difference in LR model: {summary_lr_df['percentage_diff'].abs().mean()}\\n\")\n",
        "\n",
        "summary_nn_df = pd.DataFrame(summary_nn).sort_values(by=['file'])\n",
        "print(summary_nn_df)\n",
        "print(f\"Absolute percentage difference in NN model: {summary_nn_df['percentage_diff'].abs().mean()}\")"
      ],
      "metadata": {
        "id": "WU5ltW-L8RfJ",
        "outputId": "85f80eb6-3e81-41a2-a3b6-a730072d9d26",
        "colab": {
          "base_uri": "https://localhost:8080/"
        }
      },
      "execution_count": 25,
      "outputs": [
        {
          "output_type": "stream",
          "name": "stdout",
          "text": [
            "          file  last_time  last_time_pred  percentage_diff\n",
            "2   lr_f15.csv       3468     4891.403847        41.043940\n",
            "4  lr_f196.csv       6416     6652.877966         3.691988\n",
            "5  lr_f274.csv       4918     5689.160556        15.680369\n",
            "9  lr_f358.csv      13207    13835.069860         4.755583\n",
            "1  lr_f434.csv      18232    15334.294793       -15.893513\n",
            "3  lr_f540.csv       5786     4061.035690       -29.812726\n",
            "0  lr_f573.csv       1322     1214.018365        -8.168051\n",
            "6   lr_f70.csv       4001     1309.591636       -67.268392\n",
            "8  lr_f729.csv       3734     1937.769505       -48.104727\n",
            "7  lr_f737.csv       1979     2126.388820         7.447641\n",
            "Absolute percentage difference in LR model: 24.186693000542977\n",
            "\n",
            "          file  last_time  last_time_pred  percentage_diff\n",
            "1   nn_f15.csv       3468     4036.899984        16.404267\n",
            "0  nn_f196.csv       6416     6497.516846         1.270524\n",
            "7  nn_f274.csv       4918     5065.703712         3.003329\n",
            "5  nn_f358.csv      13207    13440.777126         1.770100\n",
            "2  nn_f434.csv      18232    14662.411623       -19.578699\n",
            "3  nn_f540.csv       5786     4420.920939       -23.592794\n",
            "4  nn_f573.csv       1322     1653.663119        25.087982\n",
            "6   nn_f70.csv       4001     2035.312305       -49.129910\n",
            "8  nn_f729.csv       3734     2784.268013       -25.434708\n",
            "9  nn_f737.csv       1979     1814.050083        -8.335013\n",
            "Absolute percentage difference in NN model: 17.36073262240657\n"
          ]
        }
      ]
    }
  ],
  "metadata": {
    "language_info": {
      "name": "python"
    },
    "colab": {
      "provenance": [],
      "machine_shape": "hm",
      "gpuType": "V5E1"
    },
    "kernelspec": {
      "name": "python3",
      "display_name": "Python 3"
    },
    "accelerator": "TPU"
  },
  "nbformat": 4,
  "nbformat_minor": 0
}