{
  "cells": [
    {
      "cell_type": "markdown",
      "metadata": {
        "id": "AT7FUIMp6OyP"
      },
      "source": [
        "# Model Definition and Evaluation\n",
        "## Table of Contents\n",
        "1. [Libraries](#libraries)\n",
        "2. [Load dataset](#load-dataset)\n",
        "3. [Model configuration](#model-configuration)\n",
        "4. [Implementation](#implementation)\n",
        "5. [Evaluation](#evaluation)\n"
      ]
    },
    {
      "cell_type": "markdown",
      "source": [
        "## 1. Libraries"
      ],
      "metadata": {
        "id": "NK1Xp7vQn3GQ"
      }
    },
    {
      "cell_type": "code",
      "source": [
        "!pip install openpyxl"
      ],
      "metadata": {
        "id": "zUApz9fFmWSh",
        "outputId": "21647b8c-8f0b-456f-ebb6-5303a4f3241d",
        "colab": {
          "base_uri": "https://localhost:8080/"
        }
      },
      "execution_count": 1,
      "outputs": [
        {
          "output_type": "stream",
          "name": "stdout",
          "text": [
            "Collecting openpyxl\n",
            "  Downloading openpyxl-3.1.5-py2.py3-none-any.whl.metadata (2.5 kB)\n",
            "Collecting et-xmlfile (from openpyxl)\n",
            "  Downloading et_xmlfile-2.0.0-py3-none-any.whl.metadata (2.7 kB)\n",
            "Downloading openpyxl-3.1.5-py2.py3-none-any.whl (250 kB)\n",
            "\u001b[?25l   \u001b[90m━━━━━━━━━━━━━━━━━━━━━━━━━━━━━━━━━━━━━━━━\u001b[0m \u001b[32m0.0/250.9 kB\u001b[0m \u001b[31m?\u001b[0m eta \u001b[36m-:--:--\u001b[0m\r\u001b[2K   \u001b[91m━━━━━━━━━━━━━━━━━━━━━━━━\u001b[0m\u001b[90m╺\u001b[0m\u001b[90m━━━━━━━━━━━━━━━\u001b[0m \u001b[32m153.6/250.9 kB\u001b[0m \u001b[31m4.4 MB/s\u001b[0m eta \u001b[36m0:00:01\u001b[0m\r\u001b[2K   \u001b[90m━━━━━━━━━━━━━━━━━━━━━━━━━━━━━━━━━━━━━━━━\u001b[0m \u001b[32m250.9/250.9 kB\u001b[0m \u001b[31m5.0 MB/s\u001b[0m eta \u001b[36m0:00:00\u001b[0m\n",
            "\u001b[?25hDownloading et_xmlfile-2.0.0-py3-none-any.whl (18 kB)\n",
            "Installing collected packages: et-xmlfile, openpyxl\n",
            "Successfully installed et-xmlfile-2.0.0 openpyxl-3.1.5\n"
          ]
        }
      ]
    },
    {
      "cell_type": "code",
      "execution_count": 2,
      "metadata": {
        "id": "Hf64Ejtw6OyQ"
      },
      "outputs": [],
      "source": [
        "# Import necessary libraries\n",
        "import os\n",
        "import pandas as pd\n",
        "import numpy as np\n",
        "import joblib\n",
        "from sklearn.model_selection import train_test_split, GridSearchCV\n",
        "from sklearn.metrics import accuracy_score, mean_squared_error, classification_report, mean_absolute_error\n",
        "from sklearn.preprocessing import StandardScaler\n",
        "import tensorflow as tf\n",
        "from tensorflow.keras.models import Sequential, load_model\n",
        "from tensorflow.keras.layers import Dense, Dropout, BatchNormalization\n",
        "from tensorflow.keras.optimizers import Adam\n",
        "from tensorflow.keras.callbacks import EarlyStopping, ModelCheckpoint, ReduceLROnPlateau"
      ]
    },
    {
      "cell_type": "markdown",
      "metadata": {
        "id": "vAjcUwdb6OyS"
      },
      "source": [
        "## 2. Load dataset\n",
        "\n",
        "Load a preprocessed data and select features."
      ]
    },
    {
      "cell_type": "code",
      "source": [
        "from google.colab import drive\n",
        "drive.mount('/content/drive')"
      ],
      "metadata": {
        "id": "PAUqsOUCMo6w",
        "outputId": "d4521a8a-b1b3-4baa-cde3-de1aef66c731",
        "colab": {
          "base_uri": "https://localhost:8080/"
        }
      },
      "execution_count": 3,
      "outputs": [
        {
          "output_type": "stream",
          "name": "stdout",
          "text": [
            "Mounted at /content/drive\n"
          ]
        }
      ]
    },
    {
      "cell_type": "code",
      "execution_count": 4,
      "metadata": {
        "id": "7xO-oSj56OyT"
      },
      "outputs": [],
      "source": [
        "# Load the dataset\n",
        "# Replace 'your_dataset.csv' with the path to your actual dataset\n",
        "df = pd.read_csv('/content/drive/MyDrive/opencampus_all_files/combined_data_r1.csv')\n",
        "\n",
        "# Feature and target variable selection\n",
        "Time_real = df['Time']\n",
        "X = df[['Elevation', 'Slope_prev', 'Slope_next',  'Angle', 'Distance', 'Cumulative_Slope']] # Cumulative slope\n",
        "y = df['Speed']\n",
        "\n",
        "# Split the dataset\n",
        "X_train, X_test, y_train, y_test = train_test_split(X, y, test_size=0.1, random_state=42)\n"
      ]
    },
    {
      "cell_type": "markdown",
      "metadata": {
        "id": "cG36ZeBF6OyT"
      },
      "source": [
        "## 3. Model configuration\n"
      ]
    },
    {
      "cell_type": "code",
      "source": [
        "# Initialize the model\n",
        "model = Sequential()\n",
        "\n",
        "# Input Layer (6 features)\n",
        "model.add(Dense(128, input_dim=X_train.shape[1], activation='relu'))\n",
        "\n",
        "# Hidden Layers\n",
        "model.add(Dense(256, activation='relu'))  # Large hidden layer to capture more complex patterns\n",
        "model.add(Dropout(0.2))  # Dropout to prevent overfitting\n",
        "model.add(Dense(128, activation='relu'))\n",
        "model.add(Dropout(0.2))  # Dropout again after each hidden layer\n",
        "\n",
        "# Output Layer\n",
        "model.add(Dense(1))  # Regression output\n",
        "\n",
        "# Compile the model\n",
        "model.compile(optimizer=Adam(), loss='mean_squared_error', metrics=['mae'])\n",
        "\n",
        "# Summarize the model architecture\n",
        "model.summary()\n"
      ],
      "metadata": {
        "id": "wrErJtwiNYV4",
        "outputId": "866fc038-a980-46df-cf5f-ab4c0ad941b3",
        "colab": {
          "base_uri": "https://localhost:8080/"
        }
      },
      "execution_count": 9,
      "outputs": [
        {
          "output_type": "stream",
          "name": "stdout",
          "text": [
            "Model: \"sequential_1\"\n",
            "_________________________________________________________________\n",
            " Layer (type)                Output Shape              Param #   \n",
            "=================================================================\n",
            " dense_4 (Dense)             (None, 128)               896       \n",
            "                                                                 \n",
            " dense_5 (Dense)             (None, 256)               33024     \n",
            "                                                                 \n",
            " dropout_2 (Dropout)         (None, 256)               0         \n",
            "                                                                 \n",
            " dense_6 (Dense)             (None, 128)               32896     \n",
            "                                                                 \n",
            " dropout_3 (Dropout)         (None, 128)               0         \n",
            "                                                                 \n",
            " dense_7 (Dense)             (None, 1)                 129       \n",
            "                                                                 \n",
            "=================================================================\n",
            "Total params: 66945 (261.50 KB)\n",
            "Trainable params: 66945 (261.50 KB)\n",
            "Non-trainable params: 0 (0.00 Byte)\n",
            "_________________________________________________________________\n"
          ]
        }
      ]
    },
    {
      "cell_type": "code",
      "source": [
        "# 1. Early Stopping: Stops training when validation loss doesn't improve.\n",
        "early_stopping = EarlyStopping(\n",
        "    monitor='val_loss',       # Metric to monitor\n",
        "    patience=10,              # Number of epochs to wait for improvement\n",
        "    restore_best_weights=True # Rollback to the best model weights\n",
        ")\n",
        "\n",
        "# 2. Model Checkpoint: Saves the best model during training.\n",
        "model_checkpoint = ModelCheckpoint(\n",
        "    'nn_best_model.keras',     # Filepath to save the model\n",
        "    monitor='val_loss',        # Metric to monitor\n",
        "    save_best_only=True,       # Save only the best model\n",
        "    mode='min',                # Minimize validation loss\n",
        "    verbose=1                  # Show a message when saving the model\n",
        ")\n",
        "\n",
        "# 3. Learning Rate Scheduler: Reduce learning rate when validation loss plateaus.\n",
        "reduce_lr = ReduceLROnPlateau(\n",
        "    monitor='val_loss',        # Metric to monitor\n",
        "    factor=0.1,                # Factor by which to reduce the learning rate\n",
        "    patience=5,                # Number of epochs to wait before reducing\n",
        "    min_lr=1e-6,               # Lower bound for learning rate\n",
        "    verbose=1                  # Show a message when reducing the learning rate\n",
        ")\n",
        "\n",
        "# Combine callbacks into a list\n",
        "callbacks = [early_stopping, model_checkpoint, reduce_lr]"
      ],
      "metadata": {
        "id": "eTAodH5MBPAT"
      },
      "execution_count": 10,
      "outputs": []
    },
    {
      "cell_type": "markdown",
      "metadata": {
        "id": "z65lDS_96OyV"
      },
      "source": [
        "## 4. Implementation\n",
        "\n"
      ]
    },
    {
      "cell_type": "code",
      "source": [
        "# Normalize the features using StandardScaler\n",
        "scaler = StandardScaler()\n",
        "X_train_scaled = scaler.fit_transform(X_train)\n",
        "X_test_scaled = scaler.transform(X_test)"
      ],
      "metadata": {
        "id": "b-AU9b6Icvvy"
      },
      "execution_count": 11,
      "outputs": []
    },
    {
      "cell_type": "code",
      "execution_count": 12,
      "metadata": {
        "id": "ydwm-YUa6OyV",
        "outputId": "65bb960b-a9cf-407f-e174-27e3727c7828",
        "colab": {
          "base_uri": "https://localhost:8080/",
          "height": 1000
        }
      },
      "outputs": [
        {
          "output_type": "stream",
          "name": "stdout",
          "text": [
            "Epoch 1/100\n",
            "122050/122083 [============================>.] - ETA: 0s - loss: 5.6689 - mae: 1.7005\n",
            "Epoch 1: val_loss improved from inf to 5.19802, saving model to nn_best_model.keras\n",
            "122083/122083 [==============================] - 179s 1ms/step - loss: 5.6689 - mae: 1.7005 - val_loss: 5.1980 - val_mae: 1.6102 - lr: 0.0010\n",
            "Epoch 2/100\n",
            "122074/122083 [============================>.] - ETA: 0s - loss: 5.2295 - mae: 1.6187\n",
            "Epoch 2: val_loss improved from 5.19802 to 4.99002, saving model to nn_best_model.keras\n",
            "122083/122083 [==============================] - 180s 1ms/step - loss: 5.2295 - mae: 1.6187 - val_loss: 4.9900 - val_mae: 1.5765 - lr: 0.0010\n",
            "Epoch 3/100\n",
            "122051/122083 [============================>.] - ETA: 0s - loss: 5.0956 - mae: 1.5928\n",
            "Epoch 3: val_loss improved from 4.99002 to 4.83945, saving model to nn_best_model.keras\n",
            "122083/122083 [==============================] - 175s 1ms/step - loss: 5.0955 - mae: 1.5928 - val_loss: 4.8395 - val_mae: 1.5368 - lr: 0.0010\n",
            "Epoch 4/100\n",
            "122083/122083 [==============================] - ETA: 0s - loss: 5.0135 - mae: 1.5762\n",
            "Epoch 4: val_loss improved from 4.83945 to 4.80912, saving model to nn_best_model.keras\n",
            "122083/122083 [==============================] - 175s 1ms/step - loss: 5.0135 - mae: 1.5762 - val_loss: 4.8091 - val_mae: 1.5403 - lr: 0.0010\n",
            "Epoch 5/100\n",
            "122072/122083 [============================>.] - ETA: 0s - loss: 4.9554 - mae: 1.5649\n",
            "Epoch 5: val_loss improved from 4.80912 to 4.73796, saving model to nn_best_model.keras\n",
            "122083/122083 [==============================] - 174s 1ms/step - loss: 4.9554 - mae: 1.5649 - val_loss: 4.7380 - val_mae: 1.5130 - lr: 0.0010\n",
            "Epoch 6/100\n",
            "122082/122083 [============================>.] - ETA: 0s - loss: 4.9102 - mae: 1.5561\n",
            "Epoch 6: val_loss improved from 4.73796 to 4.73776, saving model to nn_best_model.keras\n",
            "122083/122083 [==============================] - 175s 1ms/step - loss: 4.9102 - mae: 1.5561 - val_loss: 4.7378 - val_mae: 1.5459 - lr: 0.0010\n",
            "Epoch 7/100\n",
            "122049/122083 [============================>.] - ETA: 0s - loss: 4.8738 - mae: 1.5491\n",
            "Epoch 7: val_loss improved from 4.73776 to 4.67993, saving model to nn_best_model.keras\n",
            "122083/122083 [==============================] - 175s 1ms/step - loss: 4.8737 - mae: 1.5491 - val_loss: 4.6799 - val_mae: 1.5239 - lr: 0.0010\n",
            "Epoch 8/100\n",
            "122065/122083 [============================>.] - ETA: 0s - loss: 4.8442 - mae: 1.5439\n",
            "Epoch 8: val_loss did not improve from 4.67993\n",
            "122083/122083 [==============================] - 176s 1ms/step - loss: 4.8442 - mae: 1.5439 - val_loss: 4.7190 - val_mae: 1.5350 - lr: 0.0010\n",
            "Epoch 9/100\n",
            "122060/122083 [============================>.] - ETA: 0s - loss: 4.8175 - mae: 1.5395\n",
            "Epoch 9: val_loss improved from 4.67993 to 4.65029, saving model to nn_best_model.keras\n",
            "122083/122083 [==============================] - 173s 1ms/step - loss: 4.8176 - mae: 1.5395 - val_loss: 4.6503 - val_mae: 1.5169 - lr: 0.0010\n",
            "Epoch 10/100\n",
            "122057/122083 [============================>.] - ETA: 0s - loss: 4.7974 - mae: 1.5359\n",
            "Epoch 10: val_loss improved from 4.65029 to 4.58489, saving model to nn_best_model.keras\n",
            "122083/122083 [==============================] - 175s 1ms/step - loss: 4.7974 - mae: 1.5359 - val_loss: 4.5849 - val_mae: 1.5019 - lr: 0.0010\n",
            "Epoch 11/100\n",
            "122055/122083 [============================>.] - ETA: 0s - loss: 4.7773 - mae: 1.5321\n",
            "Epoch 11: val_loss improved from 4.58489 to 4.55709, saving model to nn_best_model.keras\n",
            "122083/122083 [==============================] - 175s 1ms/step - loss: 4.7773 - mae: 1.5321 - val_loss: 4.5571 - val_mae: 1.4905 - lr: 0.0010\n",
            "Epoch 12/100\n",
            "122065/122083 [============================>.] - ETA: 0s - loss: 4.7603 - mae: 1.5287\n",
            "Epoch 12: val_loss did not improve from 4.55709\n",
            "122083/122083 [==============================] - 175s 1ms/step - loss: 4.7604 - mae: 1.5287 - val_loss: 4.6858 - val_mae: 1.5554 - lr: 0.0010\n",
            "Epoch 13/100\n",
            "122081/122083 [============================>.] - ETA: 0s - loss: 4.7452 - mae: 1.5262\n",
            "Epoch 13: val_loss did not improve from 4.55709\n",
            "122083/122083 [==============================] - 174s 1ms/step - loss: 4.7452 - mae: 1.5262 - val_loss: 4.7188 - val_mae: 1.5236 - lr: 0.0010\n",
            "Epoch 14/100\n",
            "122071/122083 [============================>.] - ETA: 0s - loss: 4.7321 - mae: 1.5240\n",
            "Epoch 14: val_loss improved from 4.55709 to 4.50192, saving model to nn_best_model.keras\n",
            "122083/122083 [==============================] - 175s 1ms/step - loss: 4.7322 - mae: 1.5240 - val_loss: 4.5019 - val_mae: 1.4679 - lr: 0.0010\n",
            "Epoch 15/100\n",
            "122067/122083 [============================>.] - ETA: 0s - loss: 4.7160 - mae: 1.5209\n",
            "Epoch 15: val_loss improved from 4.50192 to 4.48807, saving model to nn_best_model.keras\n",
            "122083/122083 [==============================] - 175s 1ms/step - loss: 4.7159 - mae: 1.5209 - val_loss: 4.4881 - val_mae: 1.4857 - lr: 0.0010\n",
            "Epoch 16/100\n",
            "122064/122083 [============================>.] - ETA: 0s - loss: 4.7029 - mae: 1.5182\n",
            "Epoch 16: val_loss did not improve from 4.48807\n",
            "122083/122083 [==============================] - 175s 1ms/step - loss: 4.7030 - mae: 1.5182 - val_loss: 4.5170 - val_mae: 1.4945 - lr: 0.0010\n",
            "Epoch 17/100\n",
            "122058/122083 [============================>.] - ETA: 0s - loss: 4.6916 - mae: 1.5161\n",
            "Epoch 17: val_loss did not improve from 4.48807\n",
            "122083/122083 [==============================] - 177s 1ms/step - loss: 4.6916 - mae: 1.5161 - val_loss: 4.5353 - val_mae: 1.5073 - lr: 0.0010\n",
            "Epoch 18/100\n",
            "122077/122083 [============================>.] - ETA: 0s - loss: 4.6829 - mae: 1.5150\n",
            "Epoch 18: val_loss improved from 4.48807 to 4.42068, saving model to nn_best_model.keras\n",
            "122083/122083 [==============================] - 175s 1ms/step - loss: 4.6829 - mae: 1.5150 - val_loss: 4.4207 - val_mae: 1.4476 - lr: 0.0010\n",
            "Epoch 19/100\n",
            "122079/122083 [============================>.] - ETA: 0s - loss: 4.6701 - mae: 1.5125\n",
            "Epoch 19: val_loss did not improve from 4.42068\n",
            "122083/122083 [==============================] - 174s 1ms/step - loss: 4.6701 - mae: 1.5125 - val_loss: 4.5229 - val_mae: 1.4939 - lr: 0.0010\n",
            "Epoch 20/100\n",
            "122074/122083 [============================>.] - ETA: 0s - loss: 4.6592 - mae: 1.5109\n",
            "Epoch 20: val_loss did not improve from 4.42068\n",
            "122083/122083 [==============================] - 175s 1ms/step - loss: 4.6592 - mae: 1.5109 - val_loss: 4.4787 - val_mae: 1.4879 - lr: 0.0010\n",
            "Epoch 21/100\n",
            "122073/122083 [============================>.] - ETA: 0s - loss: 4.6513 - mae: 1.5093\n",
            "Epoch 21: val_loss did not improve from 4.42068\n",
            "122083/122083 [==============================] - 173s 1ms/step - loss: 4.6513 - mae: 1.5093 - val_loss: 4.4501 - val_mae: 1.4835 - lr: 0.0010\n",
            "Epoch 22/100\n",
            "122077/122083 [============================>.] - ETA: 0s - loss: 4.6433 - mae: 1.5077\n",
            "Epoch 22: val_loss did not improve from 4.42068\n",
            "122083/122083 [==============================] - 173s 1ms/step - loss: 4.6433 - mae: 1.5077 - val_loss: 4.4780 - val_mae: 1.4937 - lr: 0.0010\n",
            "Epoch 23/100\n",
            "122050/122083 [============================>.] - ETA: 0s - loss: 4.6376 - mae: 1.5064\n",
            "Epoch 23: val_loss improved from 4.42068 to 4.40108, saving model to nn_best_model.keras\n",
            "122083/122083 [==============================] - 173s 1ms/step - loss: 4.6376 - mae: 1.5064 - val_loss: 4.4011 - val_mae: 1.4459 - lr: 0.0010\n",
            "Epoch 24/100\n",
            "122058/122083 [============================>.] - ETA: 0s - loss: 4.6292 - mae: 1.5051\n",
            "Epoch 24: val_loss did not improve from 4.40108\n",
            "122083/122083 [==============================] - 173s 1ms/step - loss: 4.6292 - mae: 1.5051 - val_loss: 4.4368 - val_mae: 1.4573 - lr: 0.0010\n",
            "Epoch 25/100\n",
            "122072/122083 [============================>.] - ETA: 0s - loss: 4.6222 - mae: 1.5038\n",
            "Epoch 25: val_loss did not improve from 4.40108\n",
            "122083/122083 [==============================] - 173s 1ms/step - loss: 4.6222 - mae: 1.5038 - val_loss: 4.4096 - val_mae: 1.4460 - lr: 0.0010\n",
            "Epoch 26/100\n",
            "122064/122083 [============================>.] - ETA: 0s - loss: 4.6206 - mae: 1.5037\n",
            "Epoch 26: val_loss did not improve from 4.40108\n",
            "122083/122083 [==============================] - 174s 1ms/step - loss: 4.6206 - mae: 1.5037 - val_loss: 4.4066 - val_mae: 1.4676 - lr: 0.0010\n",
            "Epoch 27/100\n",
            "122074/122083 [============================>.] - ETA: 0s - loss: 4.6137 - mae: 1.5026\n",
            "Epoch 27: val_loss did not improve from 4.40108\n",
            "122083/122083 [==============================] - 173s 1ms/step - loss: 4.6137 - mae: 1.5026 - val_loss: 4.4717 - val_mae: 1.4974 - lr: 0.0010\n",
            "Epoch 28/100\n",
            "122063/122083 [============================>.] - ETA: 0s - loss: 4.6067 - mae: 1.5014\n",
            "Epoch 28: val_loss improved from 4.40108 to 4.35367, saving model to nn_best_model.keras\n",
            "122083/122083 [==============================] - 173s 1ms/step - loss: 4.6067 - mae: 1.5014 - val_loss: 4.3537 - val_mae: 1.4396 - lr: 0.0010\n",
            "Epoch 29/100\n",
            "122068/122083 [============================>.] - ETA: 0s - loss: 4.6013 - mae: 1.5004\n",
            "Epoch 29: val_loss did not improve from 4.35367\n",
            "122083/122083 [==============================] - 169s 1ms/step - loss: 4.6012 - mae: 1.5004 - val_loss: 4.3664 - val_mae: 1.4442 - lr: 0.0010\n",
            "Epoch 30/100\n",
            "122082/122083 [============================>.] - ETA: 0s - loss: 4.5960 - mae: 1.4995\n",
            "Epoch 30: val_loss did not improve from 4.35367\n",
            "122083/122083 [==============================] - 170s 1ms/step - loss: 4.5960 - mae: 1.4995 - val_loss: 4.4925 - val_mae: 1.5101 - lr: 0.0010\n",
            "Epoch 31/100\n",
            "122057/122083 [============================>.] - ETA: 0s - loss: 4.5913 - mae: 1.4988\n",
            "Epoch 31: val_loss did not improve from 4.35367\n",
            "122083/122083 [==============================] - 169s 1ms/step - loss: 4.5914 - mae: 1.4988 - val_loss: 4.3796 - val_mae: 1.4511 - lr: 0.0010\n",
            "Epoch 32/100\n",
            "122068/122083 [============================>.] - ETA: 0s - loss: 4.5869 - mae: 1.4983\n",
            "Epoch 32: val_loss did not improve from 4.35367\n",
            "122083/122083 [==============================] - 171s 1ms/step - loss: 4.5869 - mae: 1.4983 - val_loss: 4.3690 - val_mae: 1.4411 - lr: 0.0010\n",
            "Epoch 33/100\n",
            "122074/122083 [============================>.] - ETA: 0s - loss: 4.5826 - mae: 1.4966\n",
            "Epoch 33: val_loss improved from 4.35367 to 4.35200, saving model to nn_best_model.keras\n",
            "122083/122083 [==============================] - 171s 1ms/step - loss: 4.5826 - mae: 1.4966 - val_loss: 4.3520 - val_mae: 1.4420 - lr: 0.0010\n",
            "Epoch 34/100\n",
            "122060/122083 [============================>.] - ETA: 0s - loss: 4.5775 - mae: 1.4962\n",
            "Epoch 34: val_loss did not improve from 4.35200\n",
            "122083/122083 [==============================] - 171s 1ms/step - loss: 4.5775 - mae: 1.4962 - val_loss: 4.4451 - val_mae: 1.4992 - lr: 0.0010\n",
            "Epoch 35/100\n",
            "122080/122083 [============================>.] - ETA: 0s - loss: 4.5727 - mae: 1.4955\n",
            "Epoch 35: val_loss did not improve from 4.35200\n",
            "122083/122083 [==============================] - 171s 1ms/step - loss: 4.5727 - mae: 1.4955 - val_loss: 4.3911 - val_mae: 1.4662 - lr: 0.0010\n",
            "Epoch 36/100\n",
            "122074/122083 [============================>.] - ETA: 0s - loss: 4.5687 - mae: 1.4955\n",
            "Epoch 36: val_loss did not improve from 4.35200\n",
            "122083/122083 [==============================] - 170s 1ms/step - loss: 4.5687 - mae: 1.4955 - val_loss: 4.4191 - val_mae: 1.4914 - lr: 0.0010\n",
            "Epoch 37/100\n",
            "122064/122083 [============================>.] - ETA: 0s - loss: 4.5642 - mae: 1.4943\n",
            "Epoch 37: val_loss did not improve from 4.35200\n",
            "122083/122083 [==============================] - 169s 1ms/step - loss: 4.5642 - mae: 1.4943 - val_loss: 4.3643 - val_mae: 1.4710 - lr: 0.0010\n",
            "Epoch 38/100\n",
            "122082/122083 [============================>.] - ETA: 0s - loss: 4.5611 - mae: 1.4937\n",
            "Epoch 38: val_loss did not improve from 4.35200\n",
            "\n",
            "Epoch 38: ReduceLROnPlateau reducing learning rate to 0.00010000000474974513.\n",
            "122083/122083 [==============================] - 171s 1ms/step - loss: 4.5611 - mae: 1.4937 - val_loss: 4.3808 - val_mae: 1.4737 - lr: 0.0010\n",
            "Epoch 39/100\n",
            "122064/122083 [============================>.] - ETA: 0s - loss: 4.3313 - mae: 1.4408\n",
            "Epoch 39: val_loss improved from 4.35200 to 4.12704, saving model to nn_best_model.keras\n",
            "122083/122083 [==============================] - 171s 1ms/step - loss: 4.3313 - mae: 1.4408 - val_loss: 4.1270 - val_mae: 1.4043 - lr: 1.0000e-04\n",
            "Epoch 40/100\n",
            "122055/122083 [============================>.] - ETA: 0s - loss: 4.2990 - mae: 1.4340\n",
            "Epoch 40: val_loss did not improve from 4.12704\n",
            "122083/122083 [==============================] - 167s 1ms/step - loss: 4.2990 - mae: 1.4340 - val_loss: 4.1406 - val_mae: 1.4154 - lr: 1.0000e-04\n",
            "Epoch 41/100\n",
            "122063/122083 [============================>.] - ETA: 0s - loss: 4.2889 - mae: 1.4317\n",
            "Epoch 41: val_loss improved from 4.12704 to 4.11110, saving model to nn_best_model.keras\n",
            "122083/122083 [==============================] - 166s 1ms/step - loss: 4.2889 - mae: 1.4317 - val_loss: 4.1111 - val_mae: 1.4001 - lr: 1.0000e-04\n",
            "Epoch 42/100\n",
            "122072/122083 [============================>.] - ETA: 0s - loss: 4.2801 - mae: 1.4300\n",
            "Epoch 42: val_loss did not improve from 4.11110\n",
            "122083/122083 [==============================] - 166s 1ms/step - loss: 4.2801 - mae: 1.4300 - val_loss: 4.1154 - val_mae: 1.4057 - lr: 1.0000e-04\n",
            "Epoch 43/100\n",
            "122055/122083 [============================>.] - ETA: 0s - loss: 4.2752 - mae: 1.4288\n",
            "Epoch 43: val_loss improved from 4.11110 to 4.09257, saving model to nn_best_model.keras\n",
            "122083/122083 [==============================] - 167s 1ms/step - loss: 4.2751 - mae: 1.4288 - val_loss: 4.0926 - val_mae: 1.3981 - lr: 1.0000e-04\n",
            "Epoch 44/100\n",
            "122067/122083 [============================>.] - ETA: 0s - loss: 4.2720 - mae: 1.4283\n",
            "Epoch 44: val_loss did not improve from 4.09257\n",
            "122083/122083 [==============================] - 167s 1ms/step - loss: 4.2719 - mae: 1.4283 - val_loss: 4.1068 - val_mae: 1.3956 - lr: 1.0000e-04\n",
            "Epoch 45/100\n",
            "122070/122083 [============================>.] - ETA: 0s - loss: 4.2670 - mae: 1.4273\n",
            "Epoch 45: val_loss improved from 4.09257 to 4.08686, saving model to nn_best_model.keras\n",
            "122083/122083 [==============================] - 166s 1ms/step - loss: 4.2670 - mae: 1.4273 - val_loss: 4.0869 - val_mae: 1.3948 - lr: 1.0000e-04\n",
            "Epoch 46/100\n",
            "122083/122083 [==============================] - ETA: 0s - loss: 4.2627 - mae: 1.4269\n",
            "Epoch 46: val_loss did not improve from 4.08686\n",
            "122083/122083 [==============================] - 164s 1ms/step - loss: 4.2627 - mae: 1.4269 - val_loss: 4.0952 - val_mae: 1.4024 - lr: 1.0000e-04\n",
            "Epoch 47/100\n",
            "122057/122083 [============================>.] - ETA: 0s - loss: 4.2621 - mae: 1.4262\n",
            "Epoch 47: val_loss improved from 4.08686 to 4.07667, saving model to nn_best_model.keras\n",
            "122083/122083 [==============================] - 161s 1ms/step - loss: 4.2622 - mae: 1.4262 - val_loss: 4.0767 - val_mae: 1.3923 - lr: 1.0000e-04\n",
            "Epoch 48/100\n",
            "122077/122083 [============================>.] - ETA: 0s - loss: 4.2578 - mae: 1.4255\n",
            "Epoch 48: val_loss did not improve from 4.07667\n",
            "122083/122083 [==============================] - 163s 1ms/step - loss: 4.2578 - mae: 1.4255 - val_loss: 4.0810 - val_mae: 1.3987 - lr: 1.0000e-04\n",
            "Epoch 49/100\n",
            "122069/122083 [============================>.] - ETA: 0s - loss: 4.2554 - mae: 1.4250\n",
            "Epoch 49: val_loss did not improve from 4.07667\n",
            "122083/122083 [==============================] - 162s 1ms/step - loss: 4.2554 - mae: 1.4250 - val_loss: 4.0917 - val_mae: 1.3917 - lr: 1.0000e-04\n",
            "Epoch 50/100\n",
            "122076/122083 [============================>.] - ETA: 0s - loss: 4.2520 - mae: 1.4242\n",
            "Epoch 50: val_loss did not improve from 4.07667\n",
            "122083/122083 [==============================] - 162s 1ms/step - loss: 4.2520 - mae: 1.4242 - val_loss: 4.0992 - val_mae: 1.4062 - lr: 1.0000e-04\n",
            "Epoch 51/100\n",
            "122050/122083 [============================>.] - ETA: 0s - loss: 4.2492 - mae: 1.4241\n",
            "Epoch 51: val_loss did not improve from 4.07667\n",
            "122083/122083 [==============================] - 164s 1ms/step - loss: 4.2493 - mae: 1.4241 - val_loss: 4.0798 - val_mae: 1.3999 - lr: 1.0000e-04\n",
            "Epoch 52/100\n",
            "122050/122083 [============================>.] - ETA: 0s - loss: 4.2499 - mae: 1.4238\n",
            "Epoch 52: val_loss did not improve from 4.07667\n",
            "\n",
            "Epoch 52: ReduceLROnPlateau reducing learning rate to 1.0000000474974514e-05.\n",
            "122083/122083 [==============================] - 163s 1ms/step - loss: 4.2500 - mae: 1.4238 - val_loss: 4.0899 - val_mae: 1.4047 - lr: 1.0000e-04\n",
            "Epoch 53/100\n",
            "122075/122083 [============================>.] - ETA: 0s - loss: 4.2246 - mae: 1.4188\n",
            "Epoch 53: val_loss improved from 4.07667 to 4.05738, saving model to nn_best_model.keras\n",
            "122083/122083 [==============================] - 164s 1ms/step - loss: 4.2246 - mae: 1.4188 - val_loss: 4.0574 - val_mae: 1.3926 - lr: 1.0000e-05\n",
            "Epoch 54/100\n",
            "122046/122083 [============================>.] - ETA: 0s - loss: 4.2193 - mae: 1.4174\n",
            "Epoch 54: val_loss did not improve from 4.05738\n",
            "122083/122083 [==============================] - 163s 1ms/step - loss: 4.2195 - mae: 1.4174 - val_loss: 4.0660 - val_mae: 1.3959 - lr: 1.0000e-05\n",
            "Epoch 55/100\n",
            "122048/122083 [============================>.] - ETA: 0s - loss: 4.2194 - mae: 1.4174\n",
            "Epoch 55: val_loss improved from 4.05738 to 4.05274, saving model to nn_best_model.keras\n",
            "122083/122083 [==============================] - 164s 1ms/step - loss: 4.2195 - mae: 1.4174 - val_loss: 4.0527 - val_mae: 1.3901 - lr: 1.0000e-05\n",
            "Epoch 56/100\n",
            "122047/122083 [============================>.] - ETA: 0s - loss: 4.2197 - mae: 1.4173\n",
            "Epoch 56: val_loss did not improve from 4.05274\n",
            "122083/122083 [==============================] - 163s 1ms/step - loss: 4.2196 - mae: 1.4173 - val_loss: 4.0576 - val_mae: 1.3929 - lr: 1.0000e-05\n",
            "Epoch 57/100\n",
            "122072/122083 [============================>.] - ETA: 0s - loss: 4.2187 - mae: 1.4168\n",
            "Epoch 57: val_loss did not improve from 4.05274\n",
            "122083/122083 [==============================] - 163s 1ms/step - loss: 4.2186 - mae: 1.4168 - val_loss: 4.0603 - val_mae: 1.3939 - lr: 1.0000e-05\n",
            "Epoch 58/100\n",
            "122058/122083 [============================>.] - ETA: 0s - loss: 4.2204 - mae: 1.4171\n",
            "Epoch 58: val_loss did not improve from 4.05274\n",
            "122083/122083 [==============================] - 163s 1ms/step - loss: 4.2204 - mae: 1.4171 - val_loss: 4.0558 - val_mae: 1.3920 - lr: 1.0000e-05\n",
            "Epoch 59/100\n",
            "122056/122083 [============================>.] - ETA: 0s - loss: 4.2184 - mae: 1.4168\n",
            "Epoch 59: val_loss did not improve from 4.05274\n",
            "122083/122083 [==============================] - 163s 1ms/step - loss: 4.2185 - mae: 1.4168 - val_loss: 4.0542 - val_mae: 1.3895 - lr: 1.0000e-05\n",
            "Epoch 60/100\n",
            "122076/122083 [============================>.] - ETA: 0s - loss: 4.2187 - mae: 1.4169\n",
            "Epoch 60: val_loss improved from 4.05274 to 4.05029, saving model to nn_best_model.keras\n",
            "122083/122083 [==============================] - 163s 1ms/step - loss: 4.2187 - mae: 1.4169 - val_loss: 4.0503 - val_mae: 1.3886 - lr: 1.0000e-05\n",
            "Epoch 61/100\n",
            "122077/122083 [============================>.] - ETA: 0s - loss: 4.2169 - mae: 1.4166\n",
            "Epoch 61: val_loss improved from 4.05029 to 4.05008, saving model to nn_best_model.keras\n",
            "122083/122083 [==============================] - 164s 1ms/step - loss: 4.2169 - mae: 1.4166 - val_loss: 4.0501 - val_mae: 1.3908 - lr: 1.0000e-05\n",
            "Epoch 62/100\n",
            "122072/122083 [============================>.] - ETA: 0s - loss: 4.2181 - mae: 1.4169\n",
            "Epoch 62: val_loss did not improve from 4.05008\n",
            "122083/122083 [==============================] - 163s 1ms/step - loss: 4.2180 - mae: 1.4169 - val_loss: 4.0580 - val_mae: 1.3929 - lr: 1.0000e-05\n",
            "Epoch 63/100\n",
            "122056/122083 [============================>.] - ETA: 0s - loss: 4.2180 - mae: 1.4166\n",
            "Epoch 63: val_loss did not improve from 4.05008\n",
            "122083/122083 [==============================] - 163s 1ms/step - loss: 4.2181 - mae: 1.4166 - val_loss: 4.0564 - val_mae: 1.3923 - lr: 1.0000e-05\n",
            "Epoch 64/100\n",
            "122058/122083 [============================>.] - ETA: 0s - loss: 4.2142 - mae: 1.4162\n",
            "Epoch 64: val_loss did not improve from 4.05008\n",
            "122083/122083 [==============================] - 163s 1ms/step - loss: 4.2143 - mae: 1.4162 - val_loss: 4.0536 - val_mae: 1.3920 - lr: 1.0000e-05\n",
            "Epoch 65/100\n",
            "122076/122083 [============================>.] - ETA: 0s - loss: 4.2135 - mae: 1.4161\n",
            "Epoch 65: val_loss did not improve from 4.05008\n",
            "122083/122083 [==============================] - 162s 1ms/step - loss: 4.2135 - mae: 1.4161 - val_loss: 4.0561 - val_mae: 1.3924 - lr: 1.0000e-05\n",
            "Epoch 66/100\n",
            "122056/122083 [============================>.] - ETA: 0s - loss: 4.2159 - mae: 1.4160\n",
            "Epoch 66: val_loss did not improve from 4.05008\n",
            "\n",
            "Epoch 66: ReduceLROnPlateau reducing learning rate to 1.0000000656873453e-06.\n",
            "122083/122083 [==============================] - 164s 1ms/step - loss: 4.2159 - mae: 1.4160 - val_loss: 4.0516 - val_mae: 1.3895 - lr: 1.0000e-05\n",
            "Epoch 67/100\n",
            "122080/122083 [============================>.] - ETA: 0s - loss: 4.2134 - mae: 1.4158\n",
            "Epoch 67: val_loss did not improve from 4.05008\n",
            "122083/122083 [==============================] - 164s 1ms/step - loss: 4.2134 - mae: 1.4158 - val_loss: 4.0508 - val_mae: 1.3906 - lr: 1.0000e-06\n",
            "Epoch 68/100\n",
            "122060/122083 [============================>.] - ETA: 0s - loss: 4.2140 - mae: 1.4160\n",
            "Epoch 68: val_loss did not improve from 4.05008\n",
            "122083/122083 [==============================] - 164s 1ms/step - loss: 4.2141 - mae: 1.4160 - val_loss: 4.0533 - val_mae: 1.3916 - lr: 1.0000e-06\n",
            "Epoch 69/100\n",
            "122078/122083 [============================>.] - ETA: 0s - loss: 4.2122 - mae: 1.4156\n",
            "Epoch 69: val_loss did not improve from 4.05008\n",
            "122083/122083 [==============================] - 168s 1ms/step - loss: 4.2122 - mae: 1.4156 - val_loss: 4.0515 - val_mae: 1.3906 - lr: 1.0000e-06\n",
            "Epoch 70/100\n",
            "122056/122083 [============================>.] - ETA: 0s - loss: 4.2117 - mae: 1.4157\n",
            "Epoch 70: val_loss did not improve from 4.05008\n",
            "122083/122083 [==============================] - 166s 1ms/step - loss: 4.2118 - mae: 1.4157 - val_loss: 4.0509 - val_mae: 1.3907 - lr: 1.0000e-06\n",
            "Epoch 71/100\n",
            "122050/122083 [============================>.] - ETA: 0s - loss: 4.2115 - mae: 1.4156\n",
            "Epoch 71: val_loss did not improve from 4.05008\n",
            "\n",
            "Epoch 71: ReduceLROnPlateau reducing learning rate to 1e-06.\n",
            "122083/122083 [==============================] - 167s 1ms/step - loss: 4.2115 - mae: 1.4156 - val_loss: 4.0524 - val_mae: 1.3914 - lr: 1.0000e-06\n",
            "13565/13565 [==============================] - 10s 765us/step - loss: 4.0501 - mae: 1.3908\n",
            "Test Loss: 4.050083637237549, Test MAE: 1.390834093093872\n"
          ]
        },
        {
          "output_type": "display_data",
          "data": {
            "text/plain": [
              "<Figure size 640x480 with 1 Axes>"
            ],
            "image/png": "[encoded data removed]"
          },
          "metadata": {}
        },
        {
          "output_type": "display_data",
          "data": {
            "text/plain": [
              "<IPython.core.display.Javascript object>"
            ],
            "application/javascript": [
              "\n",
              "    async function download(id, filename, size) {\n",
              "      if (!google.colab.kernel.accessAllowed) {\n",
              "        return;\n",
              "      }\n",
              "      const div = document.createElement('div');\n",
              "      const label = document.createElement('label');\n",
              "      label.textContent = `Downloading \"${filename}\": `;\n",
              "      div.appendChild(label);\n",
              "      const progress = document.createElement('progress');\n",
              "      progress.max = size;\n",
              "      div.appendChild(progress);\n",
              "      document.body.appendChild(div);\n",
              "\n",
              "      const buffers = [];\n",
              "      let downloaded = 0;\n",
              "\n",
              "      const channel = await google.colab.kernel.comms.open(id);\n",
              "      // Send a message to notify the kernel that we're ready.\n",
              "      channel.send({})\n",
              "\n",
              "      for await (const message of channel.messages) {\n",
              "        // Send a message to notify the kernel that we're ready.\n",
              "        channel.send({})\n",
              "        if (message.buffers) {\n",
              "          for (const buffer of message.buffers) {\n",
              "            buffers.push(buffer);\n",
              "            downloaded += buffer.byteLength;\n",
              "            progress.value = downloaded;\n",
              "          }\n",
              "        }\n",
              "      }\n",
              "      const blob = new Blob(buffers, {type: 'application/binary'});\n",
              "      const a = document.createElement('a');\n",
              "      a.href = window.URL.createObjectURL(blob);\n",
              "      a.download = filename;\n",
              "      div.appendChild(a);\n",
              "      a.click();\n",
              "      div.remove();\n",
              "    }\n",
              "  "
            ]
          },
          "metadata": {}
        },
        {
          "output_type": "display_data",
          "data": {
            "text/plain": [
              "<IPython.core.display.Javascript object>"
            ],
            "application/javascript": [
              "download(\"download_c6706e7c-dfbd-49fd-9450-890bc4bae1c9\", \"nn_best_model.keras\", 838271)"
            ]
          },
          "metadata": {}
        }
      ],
      "source": [
        "# Train the model with callbacks\n",
        "history = model.fit(\n",
        "    X_train_scaled, y_train,\n",
        "    epochs=100,\n",
        "    batch_size=32,\n",
        "    validation_data=(X_test_scaled, y_test),\n",
        "    callbacks=callbacks       # Pass callbacks to the fit method\n",
        ")\n",
        "\n",
        "# Evaluate the model\n",
        "loss, mae = model.evaluate(X_test_scaled, y_test)\n",
        "print(f\"Test Loss: {loss}, Test MAE: {mae}\")\n",
        "\n",
        "# Optionally, plot the training history (e.g., loss or MAE over epochs)\n",
        "import matplotlib.pyplot as plt\n",
        "plt.plot(history.history['loss'], label='Training Loss')\n",
        "plt.plot(history.history['val_loss'], label='Validation Loss')\n",
        "plt.xlabel('Epochs')\n",
        "plt.ylabel('Loss')\n",
        "plt.legend()\n",
        "plt.show()\n",
        "\n",
        "# Download calculated model on local drive\n",
        "from google.colab import files\n",
        "file_path = '/content/nn_best_model.keras'  # Full path to the file\n",
        "files.download(file_path)\n"
      ]
    },
    {
      "cell_type": "markdown",
      "metadata": {
        "id": "brH6Z8VK6OyW"
      },
      "source": [
        "## 5. Evaluation\n",
        "\n",
        "Comparison between linear and neural network model.\n"
      ]
    },
    {
      "cell_type": "markdown",
      "source": [
        "#### Load test files"
      ],
      "metadata": {
        "id": "j53HtqoPiaGy"
      }
    },
    {
      "cell_type": "code",
      "source": [
        "# unzip test files\n",
        "!unzip /content/drive/MyDrive/opencampus_all_files/Rider1_test.zip -d /content"
      ],
      "metadata": {
        "id": "0PnKeCvNyUwr",
        "outputId": "8fb2d126-55da-4bfc-f119-de04810bdd01",
        "colab": {
          "base_uri": "https://localhost:8080/"
        }
      },
      "execution_count": 14,
      "outputs": [
        {
          "output_type": "stream",
          "name": "stdout",
          "text": [
            "Archive:  /content/drive/MyDrive/opencampus_all_files/Rider1_test.zip\n",
            "   creating: /content/content/Rider1_test/\n",
            "  inflating: /content/content/Rider1_test/f234.csv  \n",
            "  inflating: /content/content/Rider1_test/f114.csv  \n",
            "  inflating: /content/content/Rider1_test/f123.csv  \n",
            "  inflating: /content/content/Rider1_test/f673.csv  \n",
            "  inflating: /content/content/Rider1_test/f80.csv  \n",
            "  inflating: /content/content/Rider1_test/f660.csv  \n",
            "  inflating: /content/content/Rider1_test/f562.csv  \n",
            "  inflating: /content/content/Rider1_test/f593.csv  \n",
            "  inflating: /content/content/Rider1_test/f196.csv  \n",
            "  inflating: /content/content/Rider1_test/f139.csv  \n"
          ]
        }
      ]
    },
    {
      "cell_type": "markdown",
      "source": [
        "#### Evaluation 1 - Linear Regression"
      ],
      "metadata": {
        "id": "F79HFxv1c7HE"
      }
    },
    {
      "cell_type": "code",
      "source": [
        "# Load linear model\n",
        "lr_model = joblib.load('/content/drive/MyDrive/opencampus_all_files/models/r1_init_lr_model.joblib')"
      ],
      "metadata": {
        "id": "A8LXO0L1zxI5"
      },
      "execution_count": 27,
      "outputs": []
    },
    {
      "cell_type": "code",
      "source": [
        "# Define the folder containing the files\n",
        "input_folder_path = '/content/content/Rider1_test/'\n",
        "output_folder_path = '/content/content/Rider1_test_LR/'\n",
        "\n",
        "# Create output_folder_path\n",
        "if not os.path.exists(output_folder_path):\n",
        "    os.makedirs(output_folder_path)\n",
        "\n",
        "# List all CSV files in the folder\n",
        "csv_files = [f for f in os.listdir(input_folder_path) if f.endswith('.csv')]\n",
        "\n",
        "# Iterate through each file in the folder\n",
        "for file in csv_files:\n",
        "    file_path = os.path.join(input_folder_path, file)\n",
        "\n",
        "    # Read test file\n",
        "    df = pd.read_csv(file_path)\n",
        "\n",
        "    # Feature selection\n",
        "    real_time = df['Time']\n",
        "    X = df[['Elevation', 'Slope_prev', 'Slope_next', 'Angle', 'Distance', 'Cumulative_Slope']]\n",
        "    y = df['Speed']\n",
        "\n",
        "    # Make predictions on the new data\n",
        "    y_pred = lr_model.predict(X)\n",
        "\n",
        "    # Add the predicted values as a new column 'Speed_pred' in the original DataFrame\n",
        "    df['Speed_pred'] = y_pred\n",
        "\n",
        "    # Calculate MAE between df['Speed_pred'] and df['Speed']\n",
        "    mae = mean_absolute_error(df['Speed'], df['Speed_pred'])\n",
        "    print(f\"File: {file} | Mean Absolute Error: {mae}\")\n",
        "\n",
        "    # Initialize Time column\n",
        "    df['Time_pred'] = float(df['Time'].iloc[0])\n",
        "\n",
        "    # Compute predicted time\n",
        "    for i in range(2, len(df)):\n",
        "        if df.loc[i, 'Speed_pred'] < 0:\n",
        "            df.loc[i, 'Speed_pred'] = 0\n",
        "        if pd.notna(df.loc[i, 'Speed_pred']):\n",
        "            if df.loc[i, 'Speed_pred'] != 0:\n",
        "                df.loc[i, 'Time_pred'] = (\n",
        "                    df.loc[i - 1, 'Time_pred'] +\n",
        "                    (df.loc[i, 'Distance'] - df.loc[i - 1, 'Distance']) / df.loc[i, 'Speed_pred']\n",
        "                )\n",
        "            else:\n",
        "                df.loc[i, 'Time_pred'] = df.loc[i - 1, 'Time_pred']\n",
        "\n",
        "    # Save the processed DataFrame to a new file (optional)\n",
        "    output_file_path = os.path.join(output_folder_path, f\"lr_{file}\")\n",
        "    df.to_csv(output_file_path, index=False)\n"
      ],
      "metadata": {
        "id": "eGnbQDG2WO-_",
        "outputId": "8e6cfc3e-546e-49f9-f776-05b0e562cd3d",
        "colab": {
          "base_uri": "https://localhost:8080/"
        }
      },
      "execution_count": 28,
      "outputs": [
        {
          "output_type": "stream",
          "name": "stdout",
          "text": [
            "File: f234.csv | Mean Absolute Error: 2.980792894230048\n",
            "File: f114.csv | Mean Absolute Error: 2.1758634010648676\n",
            "File: f123.csv | Mean Absolute Error: 2.1395880332919908\n",
            "File: f673.csv | Mean Absolute Error: 2.7583182845739076\n",
            "File: f80.csv | Mean Absolute Error: 3.1165551353569567\n",
            "File: f660.csv | Mean Absolute Error: 2.3357295365921154\n",
            "File: f562.csv | Mean Absolute Error: 1.1986977908986125\n",
            "File: f593.csv | Mean Absolute Error: 2.0479725876983568\n",
            "File: f196.csv | Mean Absolute Error: 2.018120244616942\n",
            "File: f139.csv | Mean Absolute Error: 2.5149619944373445\n"
          ]
        }
      ]
    },
    {
      "cell_type": "markdown",
      "source": [
        "#### Evaluation 2 - Neural Network"
      ],
      "metadata": {
        "id": "EvfWLhhPdC6a"
      }
    },
    {
      "cell_type": "code",
      "source": [
        "# Load neural network model\n",
        "nn_model = tf.keras.models.load_model(\"/content/drive/MyDrive/opencampus_all_files/models/r1_mse_nn_model.keras\")"
      ],
      "metadata": {
        "id": "Z-1-feh5c-Vb"
      },
      "execution_count": 22,
      "outputs": []
    },
    {
      "cell_type": "code",
      "source": [
        "# Define the folder containing the files\n",
        "input_folder_path = '/content/content/Rider1_test/'\n",
        "output_folder_path = '/content/content/Rider1_test_NN/'\n",
        "\n",
        "# Create output_folder_path\n",
        "if not os.path.exists(output_folder_path):\n",
        "    os.makedirs(output_folder_path)\n",
        "\n",
        "# List all CSV files in the folder\n",
        "csv_files = [f for f in os.listdir(input_folder_path) if f.endswith('.csv')]\n",
        "\n",
        "# Iterate through each file in the folder\n",
        "for file in csv_files:\n",
        "    file_path = os.path.join(input_folder_path, file)\n",
        "\n",
        "    # Read test file\n",
        "    df = pd.read_csv(file_path)\n",
        "\n",
        "    # Feature selection\n",
        "    real_time = df['Time']\n",
        "    X = df[['Elevation', 'Slope_prev', 'Slope_next', 'Angle', 'Distance', 'Cumulative_Slope']]\n",
        "    y = df['Speed']\n",
        "\n",
        "    # Make predictions on the new data\n",
        "    X_new_scaled = scaler.transform(X)\n",
        "    y_pred = nn_model.predict(X_new_scaled)\n",
        "\n",
        "    # Add the predicted values as a new column 'Speed_pred' in the original DataFrame\n",
        "    df['Speed_pred'] = y_pred\n",
        "\n",
        "    # Calculate MAE between df['Speed_pred'] and df['Speed']\n",
        "    mae = mean_absolute_error(df['Speed'], df['Speed_pred'])\n",
        "    print(f\"File: {file} | Mean Absolute Error: {mae}\")\n",
        "\n",
        "    # Initialize Time column\n",
        "    df['Time_pred'] = float(df['Time'].iloc[0])\n",
        "\n",
        "    # Compute predicted time\n",
        "    for i in range(2, len(df)):\n",
        "        if df.loc[i, 'Speed_pred'] < 0:\n",
        "            df.loc[i, 'Speed_pred'] = 0\n",
        "        if pd.notna(df.loc[i, 'Speed_pred']):\n",
        "            if df.loc[i, 'Speed_pred'] != 0:\n",
        "                df.loc[i, 'Time_pred'] = (\n",
        "                    df.loc[i - 1, 'Time_pred'] +\n",
        "                    (df.loc[i, 'Distance'] - df.loc[i - 1, 'Distance']) / df.loc[i, 'Speed_pred']\n",
        "                )\n",
        "            else:\n",
        "                df.loc[i, 'Time_pred'] = df.loc[i - 1, 'Time_pred']\n",
        "\n",
        "    # Save the processed DataFrame to a new file (optional)\n",
        "    output_file_path = os.path.join(output_folder_path, f\"nn_{file}\")\n",
        "    df.to_csv(output_file_path, index=False)\n"
      ],
      "metadata": {
        "id": "BO8T_aTjXKlK",
        "outputId": "7bb1b01a-ec2a-4021-be23-97039b167f11",
        "colab": {
          "base_uri": "https://localhost:8080/"
        }
      },
      "execution_count": 23,
      "outputs": [
        {
          "output_type": "stream",
          "name": "stdout",
          "text": [
            "196/196 [==============================] - 0s 706us/step\n",
            "File: f234.csv | Mean Absolute Error: 2.2359945545324096\n",
            "126/126 [==============================] - 0s 681us/step\n",
            "File: f114.csv | Mean Absolute Error: 1.2125920878913399\n",
            "45/45 [==============================] - 0s 728us/step\n",
            "File: f123.csv | Mean Absolute Error: 1.721405879037368\n",
            "1/1 [==============================] - 0s 13ms/step\n",
            "File: f673.csv | Mean Absolute Error: 0.9237244192731451\n",
            "150/150 [==============================] - 0s 666us/step\n",
            "File: f80.csv | Mean Absolute Error: 2.0681988571727468\n",
            "183/183 [==============================] - 0s 672us/step\n",
            "File: f660.csv | Mean Absolute Error: 2.282606358061368\n",
            "19/19 [==============================] - 0s 721us/step\n",
            "File: f562.csv | Mean Absolute Error: 2.2316132898434957\n",
            "101/101 [==============================] - 0s 657us/step\n",
            "File: f593.csv | Mean Absolute Error: 0.9770658289576473\n",
            "72/72 [==============================] - 0s 634us/step\n",
            "File: f196.csv | Mean Absolute Error: 1.650549752535734\n",
            "242/242 [==============================] - 0s 777us/step\n",
            "File: f139.csv | Mean Absolute Error: 0.9931574232339063\n"
          ]
        }
      ]
    },
    {
      "cell_type": "markdown",
      "source": [
        "### Evaluation summary"
      ],
      "metadata": {
        "id": "_MtweafKlcKP"
      }
    },
    {
      "cell_type": "code",
      "source": [
        "# Summary statistics for processed files\n",
        "output_folder_path = '/content/content/Rider1_test_LR/'\n",
        "summary_lr = []\n",
        "processed_files = [f for f in os.listdir(output_folder_path) if f.endswith('.csv')]\n",
        "\n",
        "for file in processed_files:\n",
        "    file_path = os.path.join(output_folder_path, file)\n",
        "    df = pd.read_csv(file_path)\n",
        "\n",
        "    # Extract the last value of 'Time' and 'Time_pred'\n",
        "    last_time = df['Time'].iloc[-1]\n",
        "    last_time_pred = df['Time_pred'].iloc[-1]\n",
        "\n",
        "    # Calculate percentage difference\n",
        "    percentage_diff = ((last_time_pred - last_time) / last_time) * 100 if last_time != 0 else None\n",
        "\n",
        "    # Append to summary\n",
        "    summary_lr.append({\n",
        "        'file': file,\n",
        "        'last_time': last_time,\n",
        "        'last_time_pred': last_time_pred,\n",
        "        'percentage_diff': percentage_diff\n",
        "    })"
      ],
      "metadata": {
        "id": "RtCMC4XYi6QO"
      },
      "execution_count": 30,
      "outputs": []
    },
    {
      "cell_type": "code",
      "source": [
        "# Summary statistics for processed files\n",
        "output_folder_path = '/content/content/Rider1_test_NN/'\n",
        "summary_nn = []\n",
        "processed_files = [f for f in os.listdir(output_folder_path) if f.endswith('.csv')]\n",
        "\n",
        "for file in processed_files:\n",
        "    file_path = os.path.join(output_folder_path, file)\n",
        "    df = pd.read_csv(file_path)\n",
        "\n",
        "    # Extract the last value of 'Time' and 'Time_pred'\n",
        "    last_time = df['Time'].iloc[-1]\n",
        "    last_time_pred = df['Time_pred'].iloc[-1]\n",
        "\n",
        "    # Calculate percentage difference\n",
        "    percentage_diff = ((last_time_pred - last_time) / last_time) * 100 if last_time != 0 else None\n",
        "\n",
        "    # Append to summary\n",
        "    summary_nn.append({\n",
        "        'file': file,\n",
        "        'last_time': last_time,\n",
        "        'last_time_pred': last_time_pred,\n",
        "        'percentage_diff': percentage_diff\n",
        "    })"
      ],
      "metadata": {
        "id": "L_Q6xesa8UbX"
      },
      "execution_count": 31,
      "outputs": []
    },
    {
      "cell_type": "code",
      "source": [
        "# Print summary\n",
        "summary_lr_df = pd.DataFrame(summary_lr).sort_values(by=['file'])\n",
        "print(summary_lr_df)\n",
        "print(f\"Absolute percentage difference in LR model: {summary_lr_df['percentage_diff'].abs().mean()}\\n\")\n",
        "\n",
        "summary_nn_df = pd.DataFrame(summary_nn).sort_values(by=['file'])\n",
        "print(summary_nn_df)\n",
        "print(f\"Absolute percentage difference in NN model: {summary_nn_df['percentage_diff'].abs().mean()}\")"
      ],
      "metadata": {
        "id": "WU5ltW-L8RfJ",
        "outputId": "e46e1e47-1058-49e1-85ee-8e321caf2fff",
        "colab": {
          "base_uri": "https://localhost:8080/"
        }
      },
      "execution_count": 32,
      "outputs": [
        {
          "output_type": "stream",
          "name": "stdout",
          "text": [
            "          file  last_time  last_time_pred  percentage_diff\n",
            "0  lr_f114.csv       9630     7157.584003       -25.674102\n",
            "6  lr_f123.csv       3791     3709.756866        -2.143053\n",
            "5  lr_f139.csv      11311    11480.384531         1.497520\n",
            "8  lr_f196.csv       6416     6655.971591         3.740206\n",
            "7  lr_f234.csv      19531     9217.082911       -52.807931\n",
            "4  lr_f562.csv       1283      593.353649       -53.752638\n",
            "9  lr_f593.csv      11581     4104.998230       -64.554026\n",
            "1  lr_f660.csv       5839     6407.278490         9.732463\n",
            "3  lr_f673.csv        126       94.968318       -24.628319\n",
            "2   lr_f80.csv       9183     3911.889730       -57.400743\n",
            "Absolute percentage difference in LR model: 29.593100147271805\n",
            "\n",
            "          file  last_time  last_time_pred  percentage_diff\n",
            "0  nn_f114.csv       9630     6426.064130       -33.270362\n",
            "7  nn_f123.csv       3791     3399.608560       -10.324227\n",
            "6  nn_f139.csv      11311    10891.722521        -3.706812\n",
            "5  nn_f196.csv       6416     6453.075144         0.577854\n",
            "4  nn_f234.csv      19531    10382.738269       -46.839700\n",
            "3  nn_f562.csv       1283      488.235368       -61.945801\n",
            "2  nn_f593.csv      11581     3580.466863       -69.083267\n",
            "1  nn_f660.csv       5839     7346.398601        25.816040\n",
            "8  nn_f673.csv        126      117.585498        -6.678176\n",
            "9   nn_f80.csv       9183     5313.767928       -42.134728\n",
            "Absolute percentage difference in NN model: 30.03769678032386\n"
          ]
        }
      ]
    }
  ],
  "metadata": {
    "language_info": {
      "name": "python"
    },
    "colab": {
      "provenance": [],
      "machine_shape": "hm",
      "gpuType": "V5E1"
    },
    "kernelspec": {
      "name": "python3",
      "display_name": "Python 3"
    },
    "accelerator": "TPU"
  },
  "nbformat": 4,
  "nbformat_minor": 0
}