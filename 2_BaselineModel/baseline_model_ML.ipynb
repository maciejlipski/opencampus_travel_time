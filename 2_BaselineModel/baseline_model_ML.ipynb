{
  "cells": [
    {
      "cell_type": "markdown",
      "metadata": {
        "id": "sc-lKxYs0pfx"
      },
      "source": [
        "# Baseline Model\n",
        "\n",
        "## Table of Contents\n",
        "1. [Model Choice](#model-choice)\n",
        "2. [Feature Selection](#feature-selection)\n",
        "3. [Implementation](#implementation)\n",
        "4. [Evaluation](#evaluation)\n"
      ]
    },
    {
      "cell_type": "code",
      "source": [
        "!pip install openpyxl"
      ],
      "metadata": {
        "id": "ibI_fHbUQjF_"
      },
      "execution_count": null,
      "outputs": []
    },
    {
      "cell_type": "code",
      "execution_count": 1,
      "metadata": {
        "id": "oto5BB4t0pf2"
      },
      "outputs": [],
      "source": [
        "# Import necessary libraries\n",
        "import pandas as pd\n",
        "import numpy as np\n",
        "import shutil\n",
        "import random\n",
        "import os\n",
        "from sklearn.model_selection import train_test_split\n",
        "from sklearn.metrics import accuracy_score, mean_squared_error\n",
        "# Import your chosen baseline model\n",
        "# Example: from sklearn.linear_model import LogisticRegression\n"
      ]
    },
    {
      "cell_type": "markdown",
      "source": [
        "## Load dataset\n",
        "Load preprocessed dataset and print basic details."
      ],
      "metadata": {
        "id": "c8G5_jmE0tPX"
      }
    },
    {
      "cell_type": "markdown",
      "source": [
        "### Directory preparation"
      ],
      "metadata": {
        "id": "HtNm_r8A3Btz"
      }
    },
    {
      "cell_type": "code",
      "source": [
        "from google.colab import drive\n",
        "drive.mount('/content/drive')"
      ],
      "metadata": {
        "id": "3MWauQ3N06KT",
        "outputId": "f23b7af9-6dbf-4a5e-9d30-833ed09fe923",
        "colab": {
          "base_uri": "https://localhost:8080/"
        }
      },
      "execution_count": 2,
      "outputs": [
        {
          "output_type": "stream",
          "name": "stdout",
          "text": [
            "Mounted at /content/drive\n"
          ]
        }
      ]
    },
    {
      "cell_type": "code",
      "source": [
        "import zipfile\n",
        "\n",
        "# Replace 'path/to/your/zipped_folder.zip' with the actual path to your zipped folder in Google Drive.\n",
        "zip_path = '/content/drive/MyDrive/opencampus_all_files/Rider1_preprocessed.zip'\n",
        "\n",
        "# Extract the contents of the zip file to a specified directory.\n",
        "with zipfile.ZipFile(zip_path, 'r') as zip_ref:\n",
        "    zip_ref.extractall('/content/Rider1_preprocessed')\n",
        "print(f\"Successfully unzipped {zip_path} to /content/unzipped_folder\")\n"
      ],
      "metadata": {
        "id": "2QrIoYu01hR2",
        "outputId": "c5dceca4-acb3-4581-b479-f1094cc87f03",
        "colab": {
          "base_uri": "https://localhost:8080/"
        }
      },
      "execution_count": 3,
      "outputs": [
        {
          "output_type": "stream",
          "name": "stdout",
          "text": [
            "Successfully unzipped /content/drive/MyDrive/opencampus_all_files/Rider1_preprocessed.zip to /content/unzipped_folder\n"
          ]
        }
      ]
    },
    {
      "cell_type": "code",
      "source": [
        "source_dir = '/content/Rider1_preprocessed/content/content/Sport_xlsx/Rider1_preprocessed'\n",
        "destination_dir = '/content/Rider1_preprocessed'\n",
        "\n",
        "# Iterate through all files in the source directory\n",
        "for filename in os.listdir(source_dir):\n",
        "    source_path = os.path.join(source_dir, filename)\n",
        "    destination_path = os.path.join(destination_dir, filename)\n",
        "\n",
        "    # Check if it's a file (not a subdirectory)\n",
        "    if os.path.isfile(source_path):\n",
        "        # Move the file\n",
        "        shutil.move(source_path, destination_path)"
      ],
      "metadata": {
        "id": "P-k6juQO13gC"
      },
      "execution_count": 4,
      "outputs": []
    },
    {
      "cell_type": "code",
      "source": [
        "# Define the directory to clean\n",
        "directory_to_clean = '/content/Rider1_preprocessed'\n",
        "\n",
        "# Check if the directory exists\n",
        "if os.path.exists(directory_to_clean):\n",
        "    for filename in os.listdir(directory_to_clean):\n",
        "        filepath = os.path.join(directory_to_clean, filename)\n",
        "        try:\n",
        "            if os.path.isdir(filepath):\n",
        "                shutil.rmtree(filepath)  # Remove folders recursively\n",
        "                print(f\"Removed directory: {filepath}\")\n",
        "        except OSError as e:\n",
        "            print(f\"Error removing {filepath}: {e}\")\n",
        "else:\n",
        "    print(f\"Directory '{directory_to_clean}' not found.\")"
      ],
      "metadata": {
        "id": "5wEFkk-121KE",
        "outputId": "55389b38-1043-475b-a04f-b55088f97aad",
        "colab": {
          "base_uri": "https://localhost:8080/"
        }
      },
      "execution_count": 5,
      "outputs": [
        {
          "output_type": "stream",
          "name": "stdout",
          "text": [
            "Removed directory: /content/Rider1_preprocessed/content\n"
          ]
        }
      ]
    },
    {
      "cell_type": "markdown",
      "source": [
        "### Explore dataset"
      ],
      "metadata": {
        "id": "VoGFv7p03exP"
      }
    },
    {
      "cell_type": "code",
      "source": [
        "# Load example file\n",
        "df = pd.read_excel('/content/Rider1_preprocessed/f1.xlsx')\n",
        "\n",
        "# Show features\n",
        "df.head()"
      ],
      "metadata": {
        "id": "IdsQcEvP3l7n",
        "outputId": "655496dc-ef9b-4fe5-db3c-8e25547863b4",
        "colab": {
          "base_uri": "https://localhost:8080/",
          "height": 206
        }
      },
      "execution_count": 6,
      "outputs": [
        {
          "output_type": "execute_result",
          "data": {
            "text/plain": [
              "    Latitude  Longitude  Elevation  Time   Distance\n",
              "0  46.363649  14.112036      511.5     0   0.000000\n",
              "1  46.363691  14.112026      511.0     1   4.731651\n",
              "2  46.363778  14.112031      510.1     3  14.410085\n",
              "3  46.363835  14.112023      509.7     5  20.775954\n",
              "4  46.363888  14.112007      509.4     7  26.794638"
            ],
            "text/html": [
              "\n",
              "  <div id=\"df-f061c107-4bff-4edf-82c9-162e734a309e\" class=\"colab-df-container\">\n",
              "    <div>\n",
              "<style scoped>\n",
              "    .dataframe tbody tr th:only-of-type {\n",
              "        vertical-align: middle;\n",
              "    }\n",
              "\n",
              "    .dataframe tbody tr th {\n",
              "        vertical-align: top;\n",
              "    }\n",
              "\n",
              "    .dataframe thead th {\n",
              "        text-align: right;\n",
              "    }\n",
              "</style>\n",
              "<table border=\"1\" class=\"dataframe\">\n",
              "  <thead>\n",
              "    <tr style=\"text-align: right;\">\n",
              "      <th></th>\n",
              "      <th>Latitude</th>\n",
              "      <th>Longitude</th>\n",
              "      <th>Elevation</th>\n",
              "      <th>Time</th>\n",
              "      <th>Distance</th>\n",
              "    </tr>\n",
              "  </thead>\n",
              "  <tbody>\n",
              "    <tr>\n",
              "      <th>0</th>\n",
              "      <td>46.363649</td>\n",
              "      <td>14.112036</td>\n",
              "      <td>511.5</td>\n",
              "      <td>0</td>\n",
              "      <td>0.000000</td>\n",
              "    </tr>\n",
              "    <tr>\n",
              "      <th>1</th>\n",
              "      <td>46.363691</td>\n",
              "      <td>14.112026</td>\n",
              "      <td>511.0</td>\n",
              "      <td>1</td>\n",
              "      <td>4.731651</td>\n",
              "    </tr>\n",
              "    <tr>\n",
              "      <th>2</th>\n",
              "      <td>46.363778</td>\n",
              "      <td>14.112031</td>\n",
              "      <td>510.1</td>\n",
              "      <td>3</td>\n",
              "      <td>14.410085</td>\n",
              "    </tr>\n",
              "    <tr>\n",
              "      <th>3</th>\n",
              "      <td>46.363835</td>\n",
              "      <td>14.112023</td>\n",
              "      <td>509.7</td>\n",
              "      <td>5</td>\n",
              "      <td>20.775954</td>\n",
              "    </tr>\n",
              "    <tr>\n",
              "      <th>4</th>\n",
              "      <td>46.363888</td>\n",
              "      <td>14.112007</td>\n",
              "      <td>509.4</td>\n",
              "      <td>7</td>\n",
              "      <td>26.794638</td>\n",
              "    </tr>\n",
              "  </tbody>\n",
              "</table>\n",
              "</div>\n",
              "    <div class=\"colab-df-buttons\">\n",
              "\n",
              "  <div class=\"colab-df-container\">\n",
              "    <button class=\"colab-df-convert\" onclick=\"convertToInteractive('df-f061c107-4bff-4edf-82c9-162e734a309e')\"\n",
              "            title=\"Convert this dataframe to an interactive table.\"\n",
              "            style=\"display:none;\">\n",
              "\n",
              "  <svg xmlns=\"http://www.w3.org/2000/svg\" height=\"24px\" viewBox=\"0 -960 960 960\">\n",
              "    <path d=\"M120-120v-720h720v720H120Zm60-500h600v-160H180v160Zm220 220h160v-160H400v160Zm0 220h160v-160H400v160ZM180-400h160v-160H180v160Zm440 0h160v-160H620v160ZM180-180h160v-160H180v160Zm440 0h160v-160H620v160Z\"/>\n",
              "  </svg>\n",
              "    </button>\n",
              "\n",
              "  <style>\n",
              "    .colab-df-container {\n",
              "      display:flex;\n",
              "      gap: 12px;\n",
              "    }\n",
              "\n",
              "    .colab-df-convert {\n",
              "      background-color: #E8F0FE;\n",
              "      border: none;\n",
              "      border-radius: 50%;\n",
              "      cursor: pointer;\n",
              "      display: none;\n",
              "      fill: #1967D2;\n",
              "      height: 32px;\n",
              "      padding: 0 0 0 0;\n",
              "      width: 32px;\n",
              "    }\n",
              "\n",
              "    .colab-df-convert:hover {\n",
              "      background-color: #E2EBFA;\n",
              "      box-shadow: 0px 1px 2px rgba(60, 64, 67, 0.3), 0px 1px 3px 1px rgba(60, 64, 67, 0.15);\n",
              "      fill: #174EA6;\n",
              "    }\n",
              "\n",
              "    .colab-df-buttons div {\n",
              "      margin-bottom: 4px;\n",
              "    }\n",
              "\n",
              "    [theme=dark] .colab-df-convert {\n",
              "      background-color: #3B4455;\n",
              "      fill: #D2E3FC;\n",
              "    }\n",
              "\n",
              "    [theme=dark] .colab-df-convert:hover {\n",
              "      background-color: #434B5C;\n",
              "      box-shadow: 0px 1px 3px 1px rgba(0, 0, 0, 0.15);\n",
              "      filter: drop-shadow(0px 1px 2px rgba(0, 0, 0, 0.3));\n",
              "      fill: #FFFFFF;\n",
              "    }\n",
              "  </style>\n",
              "\n",
              "    <script>\n",
              "      const buttonEl =\n",
              "        document.querySelector('#df-f061c107-4bff-4edf-82c9-162e734a309e button.colab-df-convert');\n",
              "      buttonEl.style.display =\n",
              "        google.colab.kernel.accessAllowed ? 'block' : 'none';\n",
              "\n",
              "      async function convertToInteractive(key) {\n",
              "        const element = document.querySelector('#df-f061c107-4bff-4edf-82c9-162e734a309e');\n",
              "        const dataTable =\n",
              "          await google.colab.kernel.invokeFunction('convertToInteractive',\n",
              "                                                    [key], {});\n",
              "        if (!dataTable) return;\n",
              "\n",
              "        const docLinkHtml = 'Like what you see? Visit the ' +\n",
              "          '<a target=\"_blank\" href=https://colab.research.google.com/notebooks/data_table.ipynb>data table notebook</a>'\n",
              "          + ' to learn more about interactive tables.';\n",
              "        element.innerHTML = '';\n",
              "        dataTable['output_type'] = 'display_data';\n",
              "        await google.colab.output.renderOutput(dataTable, element);\n",
              "        const docLink = document.createElement('div');\n",
              "        docLink.innerHTML = docLinkHtml;\n",
              "        element.appendChild(docLink);\n",
              "      }\n",
              "    </script>\n",
              "  </div>\n",
              "\n",
              "\n",
              "<div id=\"df-6788d241-2aea-4da9-8b58-5a77894499be\">\n",
              "  <button class=\"colab-df-quickchart\" onclick=\"quickchart('df-6788d241-2aea-4da9-8b58-5a77894499be')\"\n",
              "            title=\"Suggest charts\"\n",
              "            style=\"display:none;\">\n",
              "\n",
              "<svg xmlns=\"http://www.w3.org/2000/svg\" height=\"24px\"viewBox=\"0 0 24 24\"\n",
              "     width=\"24px\">\n",
              "    <g>\n",
              "        <path d=\"M19 3H5c-1.1 0-2 .9-2 2v14c0 1.1.9 2 2 2h14c1.1 0 2-.9 2-2V5c0-1.1-.9-2-2-2zM9 17H7v-7h2v7zm4 0h-2V7h2v10zm4 0h-2v-4h2v4z\"/>\n",
              "    </g>\n",
              "</svg>\n",
              "  </button>\n",
              "\n",
              "<style>\n",
              "  .colab-df-quickchart {\n",
              "      --bg-color: #E8F0FE;\n",
              "      --fill-color: #1967D2;\n",
              "      --hover-bg-color: #E2EBFA;\n",
              "      --hover-fill-color: #174EA6;\n",
              "      --disabled-fill-color: #AAA;\n",
              "      --disabled-bg-color: #DDD;\n",
              "  }\n",
              "\n",
              "  [theme=dark] .colab-df-quickchart {\n",
              "      --bg-color: #3B4455;\n",
              "      --fill-color: #D2E3FC;\n",
              "      --hover-bg-color: #434B5C;\n",
              "      --hover-fill-color: #FFFFFF;\n",
              "      --disabled-bg-color: #3B4455;\n",
              "      --disabled-fill-color: #666;\n",
              "  }\n",
              "\n",
              "  .colab-df-quickchart {\n",
              "    background-color: var(--bg-color);\n",
              "    border: none;\n",
              "    border-radius: 50%;\n",
              "    cursor: pointer;\n",
              "    display: none;\n",
              "    fill: var(--fill-color);\n",
              "    height: 32px;\n",
              "    padding: 0;\n",
              "    width: 32px;\n",
              "  }\n",
              "\n",
              "  .colab-df-quickchart:hover {\n",
              "    background-color: var(--hover-bg-color);\n",
              "    box-shadow: 0 1px 2px rgba(60, 64, 67, 0.3), 0 1px 3px 1px rgba(60, 64, 67, 0.15);\n",
              "    fill: var(--button-hover-fill-color);\n",
              "  }\n",
              "\n",
              "  .colab-df-quickchart-complete:disabled,\n",
              "  .colab-df-quickchart-complete:disabled:hover {\n",
              "    background-color: var(--disabled-bg-color);\n",
              "    fill: var(--disabled-fill-color);\n",
              "    box-shadow: none;\n",
              "  }\n",
              "\n",
              "  .colab-df-spinner {\n",
              "    border: 2px solid var(--fill-color);\n",
              "    border-color: transparent;\n",
              "    border-bottom-color: var(--fill-color);\n",
              "    animation:\n",
              "      spin 1s steps(1) infinite;\n",
              "  }\n",
              "\n",
              "  @keyframes spin {\n",
              "    0% {\n",
              "      border-color: transparent;\n",
              "      border-bottom-color: var(--fill-color);\n",
              "      border-left-color: var(--fill-color);\n",
              "    }\n",
              "    20% {\n",
              "      border-color: transparent;\n",
              "      border-left-color: var(--fill-color);\n",
              "      border-top-color: var(--fill-color);\n",
              "    }\n",
              "    30% {\n",
              "      border-color: transparent;\n",
              "      border-left-color: var(--fill-color);\n",
              "      border-top-color: var(--fill-color);\n",
              "      border-right-color: var(--fill-color);\n",
              "    }\n",
              "    40% {\n",
              "      border-color: transparent;\n",
              "      border-right-color: var(--fill-color);\n",
              "      border-top-color: var(--fill-color);\n",
              "    }\n",
              "    60% {\n",
              "      border-color: transparent;\n",
              "      border-right-color: var(--fill-color);\n",
              "    }\n",
              "    80% {\n",
              "      border-color: transparent;\n",
              "      border-right-color: var(--fill-color);\n",
              "      border-bottom-color: var(--fill-color);\n",
              "    }\n",
              "    90% {\n",
              "      border-color: transparent;\n",
              "      border-bottom-color: var(--fill-color);\n",
              "    }\n",
              "  }\n",
              "</style>\n",
              "\n",
              "  <script>\n",
              "    async function quickchart(key) {\n",
              "      const quickchartButtonEl =\n",
              "        document.querySelector('#' + key + ' button');\n",
              "      quickchartButtonEl.disabled = true;  // To prevent multiple clicks.\n",
              "      quickchartButtonEl.classList.add('colab-df-spinner');\n",
              "      try {\n",
              "        const charts = await google.colab.kernel.invokeFunction(\n",
              "            'suggestCharts', [key], {});\n",
              "      } catch (error) {\n",
              "        console.error('Error during call to suggestCharts:', error);\n",
              "      }\n",
              "      quickchartButtonEl.classList.remove('colab-df-spinner');\n",
              "      quickchartButtonEl.classList.add('colab-df-quickchart-complete');\n",
              "    }\n",
              "    (() => {\n",
              "      let quickchartButtonEl =\n",
              "        document.querySelector('#df-6788d241-2aea-4da9-8b58-5a77894499be button');\n",
              "      quickchartButtonEl.style.display =\n",
              "        google.colab.kernel.accessAllowed ? 'block' : 'none';\n",
              "    })();\n",
              "  </script>\n",
              "</div>\n",
              "\n",
              "    </div>\n",
              "  </div>\n"
            ],
            "application/vnd.google.colaboratory.intrinsic+json": {
              "type": "dataframe",
              "variable_name": "df",
              "summary": "{\n  \"name\": \"df\",\n  \"rows\": 5994,\n  \"fields\": [\n    {\n      \"column\": \"Latitude\",\n      \"properties\": {\n        \"dtype\": \"number\",\n        \"std\": 0.023265692807514456,\n        \"min\": 46.338096,\n        \"max\": 46.422636,\n        \"num_unique_values\": 5567,\n        \"samples\": [\n          46.42116,\n          46.389449,\n          46.380202\n        ],\n        \"semantic_type\": \"\",\n        \"description\": \"\"\n      }\n    },\n    {\n      \"column\": \"Longitude\",\n      \"properties\": {\n        \"dtype\": \"number\",\n        \"std\": 0.04733494896036877,\n        \"min\": 13.919303,\n        \"max\": 14.112036,\n        \"num_unique_values\": 5772,\n        \"samples\": [\n          14.072998,\n          13.953307,\n          13.927254\n        ],\n        \"semantic_type\": \"\",\n        \"description\": \"\"\n      }\n    },\n    {\n      \"column\": \"Elevation\",\n      \"properties\": {\n        \"dtype\": \"number\",\n        \"std\": 341.7977959646478,\n        \"min\": 480.8,\n        \"max\": 1659.9,\n        \"num_unique_values\": 4042,\n        \"samples\": [\n          1067.5,\n          528.7,\n          1549.3\n        ],\n        \"semantic_type\": \"\",\n        \"description\": \"\"\n      }\n    },\n    {\n      \"column\": \"Time\",\n      \"properties\": {\n        \"dtype\": \"number\",\n        \"std\": 6088,\n        \"min\": 0,\n        \"max\": 20896,\n        \"num_unique_values\": 5993,\n        \"samples\": [\n          6144,\n          4792,\n          6439\n        ],\n        \"semantic_type\": \"\",\n        \"description\": \"\"\n      }\n    },\n    {\n      \"column\": \"Distance\",\n      \"properties\": {\n        \"dtype\": \"number\",\n        \"std\": 16529.01757905707,\n        \"min\": 0.0,\n        \"max\": 61367.54987900978,\n        \"num_unique_values\": 5992,\n        \"samples\": [\n          22222.47972365531,\n          18987.2861456905,\n          22699.90666299664\n        ],\n        \"semantic_type\": \"\",\n        \"description\": \"\"\n      }\n    }\n  ]\n}"
            }
          },
          "metadata": {},
          "execution_count": 6
        }
      ]
    },
    {
      "cell_type": "code",
      "source": [
        "# Print the range of all columns in the DataFrame\n",
        "for col in df.columns:\n",
        "    print(f\"Column '{col}': Min = {df[col].min()}, Max = {df[col].max()}\")"
      ],
      "metadata": {
        "id": "CvGhQlRu399s",
        "outputId": "1d01a934-3e1d-4332-e2a1-7306fc1cad34",
        "colab": {
          "base_uri": "https://localhost:8080/"
        }
      },
      "execution_count": 7,
      "outputs": [
        {
          "output_type": "stream",
          "name": "stdout",
          "text": [
            "Column 'Latitude': Min = 46.338096, Max = 46.422636\n",
            "Column 'Longitude': Min = 13.919303, Max = 14.112036\n",
            "Column 'Elevation': Min = 480.8, Max = 1659.9\n",
            "Column 'Time': Min = 0, Max = 20896\n",
            "Column 'Distance': Min = 0.0, Max = 61367.54987900978\n"
          ]
        }
      ]
    },
    {
      "cell_type": "markdown",
      "metadata": {
        "id": "QScGxf8-0pf4"
      },
      "source": [
        "## Model Choice\n",
        "\n",
        "In following notebook two models were implemented:\n",
        "- Linear Regression\n",
        "- Neural Network\n"
      ]
    },
    {
      "cell_type": "markdown",
      "source": [
        "## Feature engineering"
      ],
      "metadata": {
        "id": "PERUb1na5Azr"
      }
    },
    {
      "cell_type": "markdown",
      "source": [
        "#### Prepare pipeline"
      ],
      "metadata": {
        "id": "Dw3RFpOgVUaT"
      }
    },
    {
      "cell_type": "code",
      "source": [
        "# Assuming 'df' is your DataFrame as defined in the previous code.\n",
        "df['Latitude_prev'] = df['Latitude'].shift(1)\n",
        "df['Longitude_prev'] = df['Longitude'].shift(1)\n",
        "df['Elevation_prev'] = df['Elevation'].shift(1)\n",
        "df['Latitude_next'] = df['Latitude'].shift(-1)\n",
        "df['Longitude_next'] = df['Longitude'].shift(-1)\n",
        "df['Elevation_next'] = df['Elevation'].shift(-1)\n",
        "\n",
        "# Calculate speed based on distance and time differences\n",
        "df['Time_prev'] = df['Time'].shift(1)\n",
        "df['Time_next'] = df['Time'].shift(-1)\n",
        "df['Distance_prev'] = df['Distance'].shift(1)\n",
        "df['Distance_next'] = df['Distance'].shift(-1)\n",
        "\n",
        "# Calculate time difference\n",
        "df['Time_diff_prev'] = df['Time'] - df['Time_prev']\n",
        "df['Time_diff_next'] = df['Time_next'] - df['Time']\n",
        "\n",
        "# Calculate distance difference\n",
        "df['Distance_diff_prev'] = df['Distance'] - df['Distance_prev']\n",
        "df['Distance_diff_next'] = df['Distance_next'] - df['Distance']\n",
        "\n",
        "# Calculate speed (m/s)\n",
        "df['Speed'] = (df['Distance_diff_next'] + df['Distance_diff_prev']) / (df['Time_diff_next'] + df['Time_diff_prev'])\n",
        "\n",
        "# Calculate the total elevation gain\n",
        "df['Elevation_diff'] = df['Elevation'] - df['Elevation_prev']\n",
        "df['total_elev_gain'] = df['Elevation_diff'].cumsum()\n",
        "\n",
        "# Replace negative elevation differences with 0\n",
        "df['total_elev_gain'] = df['total_elev_gain'].clip(lower=0)\n",
        "\n",
        "# Calculate slope\n",
        "df['Slope'] = (df['Elevation'] - df['Elevation_prev']) / (df['Distance'] - df['Distance_prev'])\n",
        "\n",
        "# Handle potential divisions by zero\n",
        "df['Slope'] = df['Slope'].fillna(0).replace([float('inf'), -float('inf')], 0)\n",
        "\n",
        "# Drop additional columns\n",
        "df = df.drop(['Latitude', 'Longitude', 'Time', 'Latitude_prev', 'Latitude_next', 'Longitude_prev', 'Longitude_next', 'Time_prev', 'Time_next', 'Distance_prev', 'Distance_next', 'Time_diff_prev', 'Time_diff_next', 'Distance_diff_prev', 'Distance_diff_next',\n",
        "              'Elevation_diff'], axis=1)\n",
        "\n",
        "print(df.head())"
      ],
      "metadata": {
        "id": "SC2706GM58Lv",
        "outputId": "14ae293d-2463-4959-9bd8-469b9f1826c1",
        "colab": {
          "base_uri": "https://localhost:8080/"
        }
      },
      "execution_count": 9,
      "outputs": [
        {
          "output_type": "stream",
          "name": "stdout",
          "text": [
            "   Elevation   Distance  Elevation_prev  Elevation_next     Speed  \\\n",
            "0      511.5   0.000000             NaN           511.0       NaN   \n",
            "1      511.0   4.731651           511.5           510.1  4.803362   \n",
            "2      510.1  14.410085           511.0           509.7  4.011076   \n",
            "3      509.7  20.775954           510.1           509.4  3.096138   \n",
            "4      509.4  26.794638           509.7           509.0  3.053427   \n",
            "\n",
            "   total_elev_gain     Slope  \n",
            "0              NaN  0.000000  \n",
            "1              0.0 -0.105671  \n",
            "2              0.0 -0.092990  \n",
            "3              0.0 -0.062835  \n",
            "4              0.0 -0.049845  \n"
          ]
        }
      ]
    },
    {
      "cell_type": "markdown",
      "source": [
        "#### Apply features"
      ],
      "metadata": {
        "id": "d08N9IlOWqRU"
      }
    },
    {
      "cell_type": "code",
      "source": [
        "def move_random_files(source_dir, destination_dir, num_files):\n",
        "    # Get a list of all files in the source directory\n",
        "    files = [f for f in os.listdir(source_dir) if os.path.isfile(os.path.join(source_dir, f))]\n",
        "\n",
        "    # Check if there are enough files to move\n",
        "    if len(files) < num_files:\n",
        "        print(f\"Not enough files in {source_dir}. Moving {len(files)} files.\")\n",
        "        num_files = len(files)\n",
        "\n",
        "    # Randomly select files\n",
        "    selected_files = random.sample(files, num_files)\n",
        "\n",
        "    # Move the selected files to the destination directory\n",
        "    for file in selected_files:\n",
        "        source_path = os.path.join(source_dir, file)\n",
        "        destination_path = os.path.join(destination_dir, file)\n",
        "        try:\n",
        "            shutil.move(source_path, destination_path)\n",
        "            print(f\"Moved {file} to {destination_dir}\")\n",
        "        except Exception as e:\n",
        "            print(f\"Error moving {file}: {e}\")\n",
        "\n",
        "# Example usage\n",
        "source_directory = '/content/Rider1_preprocessed'\n",
        "destination_directory = '/content/Rider1_test'\n",
        "number_of_files = 10\n",
        "\n",
        "# Create destination directory if it does not exist\n",
        "if not os.path.exists(destination_directory):\n",
        "    os.makedirs(destination_directory)\n",
        "\n",
        "move_random_files(source_directory, destination_directory, number_of_files)"
      ],
      "metadata": {
        "id": "jdMbUjrS-kd7",
        "outputId": "66bae16b-0600-487e-a377-d0b7af6a4519",
        "colab": {
          "base_uri": "https://localhost:8080/"
        }
      },
      "execution_count": 10,
      "outputs": [
        {
          "output_type": "stream",
          "name": "stdout",
          "text": [
            "Moved f670.xlsx to /content/Rider1_test\n",
            "Moved f409.xlsx to /content/Rider1_test\n",
            "Moved f641.xlsx to /content/Rider1_test\n",
            "Moved f624.xlsx to /content/Rider1_test\n",
            "Moved f272.xlsx to /content/Rider1_test\n",
            "Moved f441.xlsx to /content/Rider1_test\n",
            "Moved f527.xlsx to /content/Rider1_test\n",
            "Moved f46.xlsx to /content/Rider1_test\n",
            "Moved f102.xlsx to /content/Rider1_test\n",
            "Moved f435.xlsx to /content/Rider1_test\n"
          ]
        }
      ]
    },
    {
      "cell_type": "code",
      "source": [
        "# Directory containing the Excel files\n",
        "directory = '/content/Rider1_preprocessed'\n",
        "\n",
        "# Initialize an empty list to store DataFrames\n",
        "dataframes = []\n",
        "\n",
        "# Iterate over all files in the directory\n",
        "for filename in os.listdir(directory):\n",
        "    if filename.endswith('.xlsx'):  # Process only .xlsx files\n",
        "        filepath = os.path.join(directory, filename)\n",
        "\n",
        "        # Read the Excel file into a DataFrame\n",
        "        df = pd.read_excel(filepath)\n",
        "\n",
        "        # Apply preprocessing\n",
        "        df['Latitude_prev'] = df['Latitude'].shift(1)\n",
        "        df['Longitude_prev'] = df['Longitude'].shift(1)\n",
        "        df['Elevation_prev'] = df['Elevation'].shift(1)\n",
        "        df['Latitude_next'] = df['Latitude'].shift(-1)\n",
        "        df['Longitude_next'] = df['Longitude'].shift(-1)\n",
        "        df['Elevation_next'] = df['Elevation'].shift(-1)\n",
        "\n",
        "        df['Time_prev'] = df['Time'].shift(1)\n",
        "        df['Time_next'] = df['Time'].shift(-1)\n",
        "        df['Distance_prev'] = df['Distance'].shift(1)\n",
        "        df['Distance_next'] = df['Distance'].shift(-1)\n",
        "\n",
        "        df['Time_diff_prev'] = df['Time'] - df['Time_prev']\n",
        "        df['Time_diff_next'] = df['Time_next'] - df['Time']\n",
        "\n",
        "        df['Distance_diff_prev'] = df['Distance'] - df['Distance_prev']\n",
        "        df['Distance_diff_next'] = df['Distance_next'] - df['Distance']\n",
        "\n",
        "        df['Speed'] = (df['Distance_diff_next'] + df['Distance_diff_prev']) / (df['Time_diff_next'] + df['Time_diff_prev'])\n",
        "\n",
        "        df['Elevation_diff'] = df['Elevation'] - df['Elevation_prev']\n",
        "        df['total_elev_gain'] = df['Elevation_diff'].cumsum()\n",
        "        df['total_elev_gain'] = df['total_elev_gain'].clip(lower=0)\n",
        "\n",
        "        # Calculate slope\n",
        "        df['Slope'] = (df['Elevation'] - df['Elevation_prev']) / (df['Distance'] - df['Distance_prev'])\n",
        "\n",
        "        # Handle potential divisions by zero\n",
        "        df['Slope'] = df['Slope'].fillna(0).replace([float('inf'), -float('inf')], 0)\n",
        "\n",
        "        # Drop additional columns\n",
        "        df = df.drop(['Latitude', 'Longitude', 'Time', 'Latitude_prev', 'Latitude_next', 'Longitude_prev', 'Longitude_next',\n",
        "                      'Time_prev', 'Time_next', 'Distance_prev', 'Distance_next', 'Time_diff_prev', 'Time_diff_next',\n",
        "                      'Distance_diff_prev', 'Distance_diff_next', 'Elevation_diff'], axis=1)\n",
        "\n",
        "        # Drop NaN values\n",
        "        df.dropna(inplace=True)\n",
        "\n",
        "        # Append the processed DataFrame to the list\n",
        "        dataframes.append(df)\n",
        "\n",
        "# Combine all DataFrames into a single DataFrame\n",
        "combined_df = pd.concat(dataframes, ignore_index=True)\n",
        "\n",
        "# Display the first few rows of the combined DataFrame\n",
        "print(combined_df.head())\n",
        "\n",
        "# Save the combined DataFrame to a file (optional)\n",
        "combined_df.to_csv('/content/combined_data.csv', index=False)\n"
      ],
      "metadata": {
        "id": "DB24bJOb7Xju",
        "outputId": "d2c9e099-c8e3-499e-8aac-f7cf066bc142",
        "colab": {
          "base_uri": "https://localhost:8080/"
        }
      },
      "execution_count": 11,
      "outputs": [
        {
          "output_type": "stream",
          "name": "stdout",
          "text": [
            "   Elevation   Distance  Elevation_prev  Elevation_next     Speed  \\\n",
            "0      244.0  23.318461           244.0           244.0  7.940400   \n",
            "1      244.0  47.642403           244.0           244.0  7.918255   \n",
            "2      244.0  54.991482           244.0           244.0  7.861233   \n",
            "3      244.0  63.364869           244.0           244.0  7.969182   \n",
            "4      244.0  70.929847           244.0           244.0  7.969184   \n",
            "\n",
            "   total_elev_gain  Slope  \n",
            "0              0.0    0.0  \n",
            "1              0.0    0.0  \n",
            "2              0.0    0.0  \n",
            "3              0.0    0.0  \n",
            "4              0.0    0.0  \n"
          ]
        }
      ]
    },
    {
      "cell_type": "markdown",
      "metadata": {
        "id": "bfZQKrVg0pf5"
      },
      "source": [
        "## Feature Selection\n",
        "\n",
        "Selected features describes terrain characteristics and cumulative statistics of current track."
      ]
    },
    {
      "cell_type": "code",
      "execution_count": 20,
      "metadata": {
        "id": "xOIJ9xv80pf6"
      },
      "outputs": [],
      "source": [
        "# Load the dataset\n",
        "# Replace 'your_dataset.csv' with the path to your actual dataset\n",
        "df = pd.read_csv('/content/combined_data.csv')\n",
        "\n",
        "# Feature selection\n",
        "# Example: Selecting only two features for a simple baseline model\n",
        "X = df[['Elevation', 'Elevation_prev', 'Elevation_next', 'Slope', 'Distance', 'total_elev_gain']] # Add elevation_prev and elevation_next\n",
        "y = df['Speed']\n",
        "\n",
        "# Splitting the dataset\n",
        "X_train, X_test, y_train, y_test = train_test_split(X, y, test_size=0.2, random_state=42)\n"
      ]
    },
    {
      "cell_type": "code",
      "source": [
        "# Size of datasets\n",
        "print(\"X_train shape:\", X_train.shape)\n",
        "print(\"X_test shape:\", X_test.shape)\n",
        "print(\"y_train shape:\", y_train.shape)\n",
        "print(\"y_test shape:\", y_test.shape)\n"
      ],
      "metadata": {
        "id": "6PrRXSWADx06",
        "outputId": "06c5048b-7247-4492-a321-672e5b5fe665",
        "colab": {
          "base_uri": "https://localhost:8080/"
        }
      },
      "execution_count": 21,
      "outputs": [
        {
          "output_type": "stream",
          "name": "stdout",
          "text": [
            "X_train shape: (3644802, 6)\n",
            "X_test shape: (911201, 6)\n",
            "y_train shape: (3644802,)\n",
            "y_test shape: (911201,)\n"
          ]
        }
      ]
    },
    {
      "cell_type": "markdown",
      "metadata": {
        "id": "PjECCs2Y0pf7"
      },
      "source": [
        "## Implementation\n",
        "\n",
        "[Implement your baseline model here.]\n",
        "\n"
      ]
    },
    {
      "cell_type": "markdown",
      "source": [
        "#### Baseline model 1 - Linear Regression"
      ],
      "metadata": {
        "id": "7UMUl9g2mGQt"
      }
    },
    {
      "cell_type": "code",
      "execution_count": 14,
      "metadata": {
        "id": "Yn9eWOn10pf8",
        "outputId": "ef811795-70e3-4eec-9805-d379e0fd4a8e",
        "colab": {
          "base_uri": "https://localhost:8080/"
        }
      },
      "outputs": [
        {
          "output_type": "stream",
          "name": "stdout",
          "text": [
            "Mean Squared Error: 15.616364704993739\n"
          ]
        }
      ],
      "source": [
        "import numpy as np\n",
        "from sklearn.linear_model import LinearRegression\n",
        "\n",
        "# Initialize and train the model\n",
        "lr_model = LinearRegression()\n",
        "lr_model.fit(X_train, y_train)\n",
        "\n",
        "# Make predictions\n",
        "y_pred = lr_model.predict(X_test)\n",
        "\n",
        "# Evaluate the model\n",
        "mse = mean_squared_error(y_test, y_pred)\n",
        "print(f\"Mean Squared Error: {mse}\")"
      ]
    },
    {
      "cell_type": "markdown",
      "source": [
        "#### Baseline model 2 - Simple Neural Network"
      ],
      "metadata": {
        "id": "-1N6WpAUmJdS"
      }
    },
    {
      "cell_type": "code",
      "source": [
        "import tensorflow as tf\n",
        "from tensorflow.keras.models import Sequential\n",
        "from tensorflow.keras.layers import Dense\n",
        "from tensorflow.keras.optimizers import Adam\n",
        "from sklearn.preprocessing import StandardScaler\n",
        "from sklearn.model_selection import train_test_split\n",
        "import pandas as pd\n",
        "\n",
        "# Normalize the features using StandardScaler\n",
        "scaler = StandardScaler()\n",
        "X_train_scaled = scaler.fit_transform(X_train)\n",
        "X_test_scaled = scaler.transform(X_test)\n",
        "\n",
        "# Build the neural network model\n",
        "model = Sequential([\n",
        "    Dense(64, input_dim=X_train.shape[1], activation='relu'),  # First hidden layer\n",
        "    Dense(32, activation='relu'),  # Second hidden layer\n",
        "    Dense(1, activation='relu')  # Output layer (no activation since we're doing regression)\n",
        "])\n",
        "\n",
        "# Compile the model\n",
        "model.compile(optimizer=Adam(), loss='mean_squared_error', metrics=['mae'])\n",
        "\n",
        "# Train the model\n",
        "history = model.fit(X_train_scaled, y_train, epochs=10, batch_size=32, validation_data=(X_test_scaled, y_test))\n",
        "\n",
        "# Evaluate the model\n",
        "loss, mae = model.evaluate(X_test_scaled, y_test)\n",
        "print(f\"Test Loss: {loss}, Test MAE: {mae}\")\n",
        "\n",
        "# Optionally, plot the training history (e.g., loss or MAE over epochs)\n",
        "import matplotlib.pyplot as plt\n",
        "plt.plot(history.history['loss'], label='Training Loss')\n",
        "plt.plot(history.history['val_loss'], label='Validation Loss')\n",
        "plt.xlabel('Epochs')\n",
        "plt.ylabel('Loss')\n",
        "plt.legend()\n",
        "plt.show()"
      ],
      "metadata": {
        "id": "Sl_RvnG1mMs3",
        "outputId": "eb47a2a6-df48-4e1c-c12d-961598e68789",
        "colab": {
          "base_uri": "https://localhost:8080/",
          "height": 907
        }
      },
      "execution_count": 24,
      "outputs": [
        {
          "output_type": "stream",
          "name": "stderr",
          "text": [
            "/usr/local/lib/python3.10/dist-packages/keras/src/layers/core/dense.py:87: UserWarning: Do not pass an `input_shape`/`input_dim` argument to a layer. When using Sequential models, prefer using an `Input(shape)` object as the first layer in the model instead.\n",
            "  super().__init__(activity_regularizer=activity_regularizer, **kwargs)\n"
          ]
        },
        {
          "output_type": "stream",
          "name": "stdout",
          "text": [
            "Epoch 1/10\n",
            "\u001b[1m113901/113901\u001b[0m \u001b[32m━━━━━━━━━━━━━━━━━━━━\u001b[0m\u001b[37m\u001b[0m \u001b[1m241s\u001b[0m 2ms/step - loss: 10.9252 - mae: 2.2305 - val_loss: 9.9114 - val_mae: 2.0601\n",
            "Epoch 2/10\n",
            "\u001b[1m113901/113901\u001b[0m \u001b[32m━━━━━━━━━━━━━━━━━━━━\u001b[0m\u001b[37m\u001b[0m \u001b[1m265s\u001b[0m 2ms/step - loss: 9.8142 - mae: 2.0647 - val_loss: 9.5146 - val_mae: 2.0162\n",
            "Epoch 3/10\n",
            "\u001b[1m113901/113901\u001b[0m \u001b[32m━━━━━━━━━━━━━━━━━━━━\u001b[0m\u001b[37m\u001b[0m \u001b[1m234s\u001b[0m 2ms/step - loss: 9.6358 - mae: 2.0206 - val_loss: 8.8023 - val_mae: 1.9243\n",
            "Epoch 4/10\n",
            "\u001b[1m113901/113901\u001b[0m \u001b[32m━━━━━━━━━━━━━━━━━━━━\u001b[0m\u001b[37m\u001b[0m \u001b[1m243s\u001b[0m 2ms/step - loss: 8.5007 - mae: 1.9448 - val_loss: 8.6575 - val_mae: 1.9146\n",
            "Epoch 5/10\n",
            "\u001b[1m113901/113901\u001b[0m \u001b[32m━━━━━━━━━━━━━━━━━━━━\u001b[0m\u001b[37m\u001b[0m \u001b[1m372s\u001b[0m 3ms/step - loss: 8.4892 - mae: 1.8893 - val_loss: 8.1510 - val_mae: 1.8518\n",
            "Epoch 6/10\n",
            "\u001b[1m113901/113901\u001b[0m \u001b[32m━━━━━━━━━━━━━━━━━━━━\u001b[0m\u001b[37m\u001b[0m \u001b[1m287s\u001b[0m 2ms/step - loss: 7.9915 - mae: 1.8253 - val_loss: 7.8203 - val_mae: 1.7707\n",
            "Epoch 7/10\n",
            "\u001b[1m113901/113901\u001b[0m \u001b[32m━━━━━━━━━━━━━━━━━━━━\u001b[0m\u001b[37m\u001b[0m \u001b[1m266s\u001b[0m 2ms/step - loss: 7.5143 - mae: 1.7859 - val_loss: 7.5047 - val_mae: 1.7373\n",
            "Epoch 8/10\n",
            "\u001b[1m113901/113901\u001b[0m \u001b[32m━━━━━━━━━━━━━━━━━━━━\u001b[0m\u001b[37m\u001b[0m \u001b[1m306s\u001b[0m 2ms/step - loss: 7.5526 - mae: 1.7670 - val_loss: 7.4127 - val_mae: 1.7276\n",
            "Epoch 9/10\n",
            "\u001b[1m113901/113901\u001b[0m \u001b[32m━━━━━━━━━━━━━━━━━━━━\u001b[0m\u001b[37m\u001b[0m \u001b[1m259s\u001b[0m 2ms/step - loss: 7.5815 - mae: 1.7564 - val_loss: 7.3136 - val_mae: 1.7096\n",
            "Epoch 10/10\n",
            "\u001b[1m113901/113901\u001b[0m \u001b[32m━━━━━━━━━━━━━━━━━━━━\u001b[0m\u001b[37m\u001b[0m \u001b[1m252s\u001b[0m 2ms/step - loss: 7.0631 - mae: 1.7387 - val_loss: 8.6930 - val_mae: 1.9656\n",
            "\u001b[1m28476/28476\u001b[0m \u001b[32m━━━━━━━━━━━━━━━━━━━━\u001b[0m\u001b[37m\u001b[0m \u001b[1m47s\u001b[0m 2ms/step - loss: 8.7158 - mae: 1.9670\n",
            "Test Loss: 8.693036079406738, Test MAE: 1.96559476852417\n"
          ]
        },
        {
          "output_type": "display_data",
          "data": {
            "text/plain": [
              "<Figure size 640x480 with 1 Axes>"
            ],
            "image/png": "[encoded data removed]"
          },
          "metadata": {}
        }
      ]
    },
    {
      "cell_type": "markdown",
      "metadata": {
        "id": "tbKtVyLp0pf9"
      },
      "source": [
        "## Evaluation\n",
        "\n",
        "Evaluation based on loss and MAE.\n"
      ]
    },
    {
      "cell_type": "markdown",
      "source": [
        "#### Preprocess test file"
      ],
      "metadata": {
        "id": "j53HtqoPiaGy"
      }
    },
    {
      "cell_type": "code",
      "execution_count": 31,
      "metadata": {
        "id": "TPKEFrht0pf-",
        "outputId": "d76c3e80-c734-40e7-9a6e-78d343c01120",
        "colab": {
          "base_uri": "https://localhost:8080/"
        }
      },
      "outputs": [
        {
          "output_type": "stream",
          "name": "stdout",
          "text": [
            "   Elevation  Time   Distance  Elevation_prev  Elevation_next     Speed  \\\n",
            "1      245.0     3  12.239734           245.0           245.0  4.364024   \n",
            "2      245.0     6  26.184141           245.0           245.0  4.872850   \n",
            "3      245.0     7  31.731136           245.0           245.0  5.498843   \n",
            "4      245.0     8  37.181827           245.0           245.0  7.029610   \n",
            "5      245.0     9  45.790356           245.0           245.0  8.138246   \n",
            "\n",
            "   total_elev_gain  Slope  \n",
            "1              0.0    0.0  \n",
            "2              0.0    0.0  \n",
            "3              0.0    0.0  \n",
            "4              0.0    0.0  \n",
            "5              0.0    0.0  \n"
          ]
        }
      ],
      "source": [
        "# Prepare test file\n",
        "df = pd.read_excel('/content/Rider1_test/f102.xlsx')\n",
        "\n",
        "# Assuming 'df' is your DataFrame as defined in the previous code.\n",
        "df['Latitude_prev'] = df['Latitude'].shift(1)\n",
        "df['Longitude_prev'] = df['Longitude'].shift(1)\n",
        "df['Elevation_prev'] = df['Elevation'].shift(1)\n",
        "df['Latitude_next'] = df['Latitude'].shift(-1)\n",
        "df['Longitude_next'] = df['Longitude'].shift(-1)\n",
        "df['Elevation_next'] = df['Elevation'].shift(-1)\n",
        "\n",
        "# Calculate speed based on distance and time differences\n",
        "df['Time_prev'] = df['Time'].shift(1)\n",
        "df['Time_next'] = df['Time'].shift(-1)\n",
        "df['Distance_prev'] = df['Distance'].shift(1)\n",
        "df['Distance_next'] = df['Distance'].shift(-1)\n",
        "\n",
        "# Calculate time difference\n",
        "df['Time_diff_prev'] = df['Time'] - df['Time_prev']\n",
        "df['Time_diff_next'] = df['Time_next'] - df['Time']\n",
        "\n",
        "# Calculate distance difference\n",
        "df['Distance_diff_prev'] = df['Distance'] - df['Distance_prev']\n",
        "df['Distance_diff_next'] = df['Distance_next'] - df['Distance']\n",
        "\n",
        "# Calculate speed (m/s)\n",
        "df['Speed'] = (df['Distance_diff_next'] + df['Distance_diff_prev']) / (df['Time_diff_next'] + df['Time_diff_prev'])\n",
        "\n",
        "# Calculate the total elevation gain\n",
        "df['Elevation_diff'] = df['Elevation'] - df['Elevation_prev']\n",
        "df['total_elev_gain'] = df['Elevation_diff'].cumsum()\n",
        "\n",
        "# Replace negative elevation differences with 0\n",
        "df['total_elev_gain'] = df['total_elev_gain'].clip(lower=0)\n",
        "\n",
        "# Calculate slope\n",
        "df['Slope'] = (df['Elevation'] - df['Elevation_prev']) / (df['Distance'] - df['Distance_prev'])\n",
        "\n",
        "# Handle potential divisions by zero\n",
        "df['Slope'] = df['Slope'].fillna(0).replace([float('inf'), -float('inf')], 0)\n",
        "\n",
        "# Drop additional columns\n",
        "df = df.drop(['Latitude', 'Longitude', 'Latitude_prev', 'Latitude_next', 'Longitude_prev', 'Longitude_next', 'Time_prev', 'Time_next', 'Distance_prev', 'Distance_next', 'Time_diff_prev', 'Time_diff_next', 'Distance_diff_prev', 'Distance_diff_next',\n",
        "              'Elevation_diff'], axis=1)\n",
        "\n",
        "df.dropna(inplace=True)\n",
        "\n",
        "print(df.head())"
      ]
    },
    {
      "cell_type": "code",
      "source": [
        "# Feature selection\n",
        "# Example: Selecting only two features for a simple baseline model\n",
        "real_time = df['Time']\n",
        "X = df[['Elevation', 'Elevation_prev', 'Elevation_next', 'Slope', 'Distance', 'total_elev_gain']]\n",
        "y = df['Speed']\n"
      ],
      "metadata": {
        "id": "MclLZ8I6j9RK"
      },
      "execution_count": 32,
      "outputs": []
    },
    {
      "cell_type": "markdown",
      "source": [
        "#### Evaluation 1 - Linear Regression"
      ],
      "metadata": {
        "id": "F79HFxv1c7HE"
      }
    },
    {
      "cell_type": "code",
      "source": [
        "# Make predictions on the new data\n",
        "y_pred = lr_model.predict(X)\n",
        "\n",
        "# Add the predicted values as a new column 'Speed_pred' in the original DataFrame\n",
        "df['Speed_pred'] = y_pred\n",
        "\n",
        "# Optionally, check the first few rows to verify the new column is added correctly\n",
        "print(df.head())\n"
      ],
      "metadata": {
        "id": "-g1OnD9wkXP7",
        "outputId": "4b51d6d8-f1d5-4761-c759-a03e51efea49",
        "colab": {
          "base_uri": "https://localhost:8080/"
        }
      },
      "execution_count": 19,
      "outputs": [
        {
          "output_type": "stream",
          "name": "stdout",
          "text": [
            "   Elevation   Distance  Elevation_prev  Elevation_next     Speed  \\\n",
            "1      245.0  12.239734           245.0           245.0  4.364024   \n",
            "2      245.0  26.184141           245.0           245.0  4.872850   \n",
            "3      245.0  31.731136           245.0           245.0  5.498843   \n",
            "4      245.0  37.181827           245.0           245.0  7.029610   \n",
            "5      245.0  45.790356           245.0           245.0  8.138246   \n",
            "\n",
            "   total_elev_gain  Slope  Speed_pred  \n",
            "1              0.0    0.0    6.374397  \n",
            "2              0.0    0.0    6.374873  \n",
            "3              0.0    0.0    6.375063  \n",
            "4              0.0    0.0    6.375249  \n",
            "5              0.0    0.0    6.375544  \n"
          ]
        }
      ]
    },
    {
      "cell_type": "markdown",
      "source": [
        "#### Evaluation 2 - Neural Network"
      ],
      "metadata": {
        "id": "EvfWLhhPdC6a"
      }
    },
    {
      "cell_type": "code",
      "source": [
        "# Normalize the new data using the same scaler fitted on the training data\n",
        "X_new_scaled = scaler.transform(X)\n",
        "\n",
        "# Make predictions on the new data\n",
        "y_pred = model.predict(X_new_scaled)\n",
        "\n",
        "# Add the predicted values as a new column 'Speed_pred' in the original DataFrame\n",
        "df['Speed_pred'] = y_pred\n",
        "df['real_time'] = real_time\n",
        "\n",
        "# Optionally, check the first few rows to verify the new column is added correctly\n",
        "print(df.head())\n"
      ],
      "metadata": {
        "id": "Z-1-feh5c-Vb",
        "outputId": "86b2a348-a97d-4c76-ab38-2c1ed0c929f0",
        "colab": {
          "base_uri": "https://localhost:8080/"
        }
      },
      "execution_count": 34,
      "outputs": [
        {
          "output_type": "stream",
          "name": "stdout",
          "text": [
            "\u001b[1m114/114\u001b[0m \u001b[32m━━━━━━━━━━━━━━━━━━━━\u001b[0m\u001b[37m\u001b[0m \u001b[1m1s\u001b[0m 5ms/step\n",
            "   Elevation  Time   Distance  Elevation_prev  Elevation_next     Speed  \\\n",
            "1      245.0     3  12.239734           245.0           245.0  4.364024   \n",
            "2      245.0     6  26.184141           245.0           245.0  4.872850   \n",
            "3      245.0     7  31.731136           245.0           245.0  5.498843   \n",
            "4      245.0     8  37.181827           245.0           245.0  7.029610   \n",
            "5      245.0     9  45.790356           245.0           245.0  8.138246   \n",
            "\n",
            "   total_elev_gain  Slope  Speed_pred  real_time  \n",
            "1              0.0    0.0    0.811109          3  \n",
            "2              0.0    0.0    0.906949          6  \n",
            "3              0.0    0.0    0.945063          7  \n",
            "4              0.0    0.0    0.982526          8  \n",
            "5              0.0    0.0    1.041658          9  \n"
          ]
        }
      ]
    },
    {
      "cell_type": "code",
      "source": [
        "df.head()"
      ],
      "metadata": {
        "id": "SJKt_lDbk62_",
        "outputId": "d2475da1-e004-4435-c846-d628e15a3604",
        "colab": {
          "base_uri": "https://localhost:8080/",
          "height": 206
        }
      },
      "execution_count": 35,
      "outputs": [
        {
          "output_type": "execute_result",
          "data": {
            "text/plain": [
              "   Elevation  Time   Distance  Elevation_prev  Elevation_next     Speed  \\\n",
              "1      245.0     3  12.239734           245.0           245.0  4.364024   \n",
              "2      245.0     6  26.184141           245.0           245.0  4.872850   \n",
              "3      245.0     7  31.731136           245.0           245.0  5.498843   \n",
              "4      245.0     8  37.181827           245.0           245.0  7.029610   \n",
              "5      245.0     9  45.790356           245.0           245.0  8.138246   \n",
              "\n",
              "   total_elev_gain  Slope  Speed_pred  real_time  \n",
              "1              0.0    0.0    0.811109          3  \n",
              "2              0.0    0.0    0.906949          6  \n",
              "3              0.0    0.0    0.945063          7  \n",
              "4              0.0    0.0    0.982526          8  \n",
              "5              0.0    0.0    1.041658          9  "
            ],
            "text/html": [
              "\n",
              "  <div id=\"df-01a8a2bd-44ec-406f-b46b-58ca24675664\" class=\"colab-df-container\">\n",
              "    <div>\n",
              "<style scoped>\n",
              "    .dataframe tbody tr th:only-of-type {\n",
              "        vertical-align: middle;\n",
              "    }\n",
              "\n",
              "    .dataframe tbody tr th {\n",
              "        vertical-align: top;\n",
              "    }\n",
              "\n",
              "    .dataframe thead th {\n",
              "        text-align: right;\n",
              "    }\n",
              "</style>\n",
              "<table border=\"1\" class=\"dataframe\">\n",
              "  <thead>\n",
              "    <tr style=\"text-align: right;\">\n",
              "      <th></th>\n",
              "      <th>Elevation</th>\n",
              "      <th>Time</th>\n",
              "      <th>Distance</th>\n",
              "      <th>Elevation_prev</th>\n",
              "      <th>Elevation_next</th>\n",
              "      <th>Speed</th>\n",
              "      <th>total_elev_gain</th>\n",
              "      <th>Slope</th>\n",
              "      <th>Speed_pred</th>\n",
              "      <th>real_time</th>\n",
              "    </tr>\n",
              "  </thead>\n",
              "  <tbody>\n",
              "    <tr>\n",
              "      <th>1</th>\n",
              "      <td>245.0</td>\n",
              "      <td>3</td>\n",
              "      <td>12.239734</td>\n",
              "      <td>245.0</td>\n",
              "      <td>245.0</td>\n",
              "      <td>4.364024</td>\n",
              "      <td>0.0</td>\n",
              "      <td>0.0</td>\n",
              "      <td>0.811109</td>\n",
              "      <td>3</td>\n",
              "    </tr>\n",
              "    <tr>\n",
              "      <th>2</th>\n",
              "      <td>245.0</td>\n",
              "      <td>6</td>\n",
              "      <td>26.184141</td>\n",
              "      <td>245.0</td>\n",
              "      <td>245.0</td>\n",
              "      <td>4.872850</td>\n",
              "      <td>0.0</td>\n",
              "      <td>0.0</td>\n",
              "      <td>0.906949</td>\n",
              "      <td>6</td>\n",
              "    </tr>\n",
              "    <tr>\n",
              "      <th>3</th>\n",
              "      <td>245.0</td>\n",
              "      <td>7</td>\n",
              "      <td>31.731136</td>\n",
              "      <td>245.0</td>\n",
              "      <td>245.0</td>\n",
              "      <td>5.498843</td>\n",
              "      <td>0.0</td>\n",
              "      <td>0.0</td>\n",
              "      <td>0.945063</td>\n",
              "      <td>7</td>\n",
              "    </tr>\n",
              "    <tr>\n",
              "      <th>4</th>\n",
              "      <td>245.0</td>\n",
              "      <td>8</td>\n",
              "      <td>37.181827</td>\n",
              "      <td>245.0</td>\n",
              "      <td>245.0</td>\n",
              "      <td>7.029610</td>\n",
              "      <td>0.0</td>\n",
              "      <td>0.0</td>\n",
              "      <td>0.982526</td>\n",
              "      <td>8</td>\n",
              "    </tr>\n",
              "    <tr>\n",
              "      <th>5</th>\n",
              "      <td>245.0</td>\n",
              "      <td>9</td>\n",
              "      <td>45.790356</td>\n",
              "      <td>245.0</td>\n",
              "      <td>245.0</td>\n",
              "      <td>8.138246</td>\n",
              "      <td>0.0</td>\n",
              "      <td>0.0</td>\n",
              "      <td>1.041658</td>\n",
              "      <td>9</td>\n",
              "    </tr>\n",
              "  </tbody>\n",
              "</table>\n",
              "</div>\n",
              "    <div class=\"colab-df-buttons\">\n",
              "\n",
              "  <div class=\"colab-df-container\">\n",
              "    <button class=\"colab-df-convert\" onclick=\"convertToInteractive('df-01a8a2bd-44ec-406f-b46b-58ca24675664')\"\n",
              "            title=\"Convert this dataframe to an interactive table.\"\n",
              "            style=\"display:none;\">\n",
              "\n",
              "  <svg xmlns=\"http://www.w3.org/2000/svg\" height=\"24px\" viewBox=\"0 -960 960 960\">\n",
              "    <path d=\"M120-120v-720h720v720H120Zm60-500h600v-160H180v160Zm220 220h160v-160H400v160Zm0 220h160v-160H400v160ZM180-400h160v-160H180v160Zm440 0h160v-160H620v160ZM180-180h160v-160H180v160Zm440 0h160v-160H620v160Z\"/>\n",
              "  </svg>\n",
              "    </button>\n",
              "\n",
              "  <style>\n",
              "    .colab-df-container {\n",
              "      display:flex;\n",
              "      gap: 12px;\n",
              "    }\n",
              "\n",
              "    .colab-df-convert {\n",
              "      background-color: #E8F0FE;\n",
              "      border: none;\n",
              "      border-radius: 50%;\n",
              "      cursor: pointer;\n",
              "      display: none;\n",
              "      fill: #1967D2;\n",
              "      height: 32px;\n",
              "      padding: 0 0 0 0;\n",
              "      width: 32px;\n",
              "    }\n",
              "\n",
              "    .colab-df-convert:hover {\n",
              "      background-color: #E2EBFA;\n",
              "      box-shadow: 0px 1px 2px rgba(60, 64, 67, 0.3), 0px 1px 3px 1px rgba(60, 64, 67, 0.15);\n",
              "      fill: #174EA6;\n",
              "    }\n",
              "\n",
              "    .colab-df-buttons div {\n",
              "      margin-bottom: 4px;\n",
              "    }\n",
              "\n",
              "    [theme=dark] .colab-df-convert {\n",
              "      background-color: #3B4455;\n",
              "      fill: #D2E3FC;\n",
              "    }\n",
              "\n",
              "    [theme=dark] .colab-df-convert:hover {\n",
              "      background-color: #434B5C;\n",
              "      box-shadow: 0px 1px 3px 1px rgba(0, 0, 0, 0.15);\n",
              "      filter: drop-shadow(0px 1px 2px rgba(0, 0, 0, 0.3));\n",
              "      fill: #FFFFFF;\n",
              "    }\n",
              "  </style>\n",
              "\n",
              "    <script>\n",
              "      const buttonEl =\n",
              "        document.querySelector('#df-01a8a2bd-44ec-406f-b46b-58ca24675664 button.colab-df-convert');\n",
              "      buttonEl.style.display =\n",
              "        google.colab.kernel.accessAllowed ? 'block' : 'none';\n",
              "\n",
              "      async function convertToInteractive(key) {\n",
              "        const element = document.querySelector('#df-01a8a2bd-44ec-406f-b46b-58ca24675664');\n",
              "        const dataTable =\n",
              "          await google.colab.kernel.invokeFunction('convertToInteractive',\n",
              "                                                    [key], {});\n",
              "        if (!dataTable) return;\n",
              "\n",
              "        const docLinkHtml = 'Like what you see? Visit the ' +\n",
              "          '<a target=\"_blank\" href=https://colab.research.google.com/notebooks/data_table.ipynb>data table notebook</a>'\n",
              "          + ' to learn more about interactive tables.';\n",
              "        element.innerHTML = '';\n",
              "        dataTable['output_type'] = 'display_data';\n",
              "        await google.colab.output.renderOutput(dataTable, element);\n",
              "        const docLink = document.createElement('div');\n",
              "        docLink.innerHTML = docLinkHtml;\n",
              "        element.appendChild(docLink);\n",
              "      }\n",
              "    </script>\n",
              "  </div>\n",
              "\n",
              "\n",
              "<div id=\"df-29f8c1bc-e888-4864-9190-ac72a096d3e6\">\n",
              "  <button class=\"colab-df-quickchart\" onclick=\"quickchart('df-29f8c1bc-e888-4864-9190-ac72a096d3e6')\"\n",
              "            title=\"Suggest charts\"\n",
              "            style=\"display:none;\">\n",
              "\n",
              "<svg xmlns=\"http://www.w3.org/2000/svg\" height=\"24px\"viewBox=\"0 0 24 24\"\n",
              "     width=\"24px\">\n",
              "    <g>\n",
              "        <path d=\"M19 3H5c-1.1 0-2 .9-2 2v14c0 1.1.9 2 2 2h14c1.1 0 2-.9 2-2V5c0-1.1-.9-2-2-2zM9 17H7v-7h2v7zm4 0h-2V7h2v10zm4 0h-2v-4h2v4z\"/>\n",
              "    </g>\n",
              "</svg>\n",
              "  </button>\n",
              "\n",
              "<style>\n",
              "  .colab-df-quickchart {\n",
              "      --bg-color: #E8F0FE;\n",
              "      --fill-color: #1967D2;\n",
              "      --hover-bg-color: #E2EBFA;\n",
              "      --hover-fill-color: #174EA6;\n",
              "      --disabled-fill-color: #AAA;\n",
              "      --disabled-bg-color: #DDD;\n",
              "  }\n",
              "\n",
              "  [theme=dark] .colab-df-quickchart {\n",
              "      --bg-color: #3B4455;\n",
              "      --fill-color: #D2E3FC;\n",
              "      --hover-bg-color: #434B5C;\n",
              "      --hover-fill-color: #FFFFFF;\n",
              "      --disabled-bg-color: #3B4455;\n",
              "      --disabled-fill-color: #666;\n",
              "  }\n",
              "\n",
              "  .colab-df-quickchart {\n",
              "    background-color: var(--bg-color);\n",
              "    border: none;\n",
              "    border-radius: 50%;\n",
              "    cursor: pointer;\n",
              "    display: none;\n",
              "    fill: var(--fill-color);\n",
              "    height: 32px;\n",
              "    padding: 0;\n",
              "    width: 32px;\n",
              "  }\n",
              "\n",
              "  .colab-df-quickchart:hover {\n",
              "    background-color: var(--hover-bg-color);\n",
              "    box-shadow: 0 1px 2px rgba(60, 64, 67, 0.3), 0 1px 3px 1px rgba(60, 64, 67, 0.15);\n",
              "    fill: var(--button-hover-fill-color);\n",
              "  }\n",
              "\n",
              "  .colab-df-quickchart-complete:disabled,\n",
              "  .colab-df-quickchart-complete:disabled:hover {\n",
              "    background-color: var(--disabled-bg-color);\n",
              "    fill: var(--disabled-fill-color);\n",
              "    box-shadow: none;\n",
              "  }\n",
              "\n",
              "  .colab-df-spinner {\n",
              "    border: 2px solid var(--fill-color);\n",
              "    border-color: transparent;\n",
              "    border-bottom-color: var(--fill-color);\n",
              "    animation:\n",
              "      spin 1s steps(1) infinite;\n",
              "  }\n",
              "\n",
              "  @keyframes spin {\n",
              "    0% {\n",
              "      border-color: transparent;\n",
              "      border-bottom-color: var(--fill-color);\n",
              "      border-left-color: var(--fill-color);\n",
              "    }\n",
              "    20% {\n",
              "      border-color: transparent;\n",
              "      border-left-color: var(--fill-color);\n",
              "      border-top-color: var(--fill-color);\n",
              "    }\n",
              "    30% {\n",
              "      border-color: transparent;\n",
              "      border-left-color: var(--fill-color);\n",
              "      border-top-color: var(--fill-color);\n",
              "      border-right-color: var(--fill-color);\n",
              "    }\n",
              "    40% {\n",
              "      border-color: transparent;\n",
              "      border-right-color: var(--fill-color);\n",
              "      border-top-color: var(--fill-color);\n",
              "    }\n",
              "    60% {\n",
              "      border-color: transparent;\n",
              "      border-right-color: var(--fill-color);\n",
              "    }\n",
              "    80% {\n",
              "      border-color: transparent;\n",
              "      border-right-color: var(--fill-color);\n",
              "      border-bottom-color: var(--fill-color);\n",
              "    }\n",
              "    90% {\n",
              "      border-color: transparent;\n",
              "      border-bottom-color: var(--fill-color);\n",
              "    }\n",
              "  }\n",
              "</style>\n",
              "\n",
              "  <script>\n",
              "    async function quickchart(key) {\n",
              "      const quickchartButtonEl =\n",
              "        document.querySelector('#' + key + ' button');\n",
              "      quickchartButtonEl.disabled = true;  // To prevent multiple clicks.\n",
              "      quickchartButtonEl.classList.add('colab-df-spinner');\n",
              "      try {\n",
              "        const charts = await google.colab.kernel.invokeFunction(\n",
              "            'suggestCharts', [key], {});\n",
              "      } catch (error) {\n",
              "        console.error('Error during call to suggestCharts:', error);\n",
              "      }\n",
              "      quickchartButtonEl.classList.remove('colab-df-spinner');\n",
              "      quickchartButtonEl.classList.add('colab-df-quickchart-complete');\n",
              "    }\n",
              "    (() => {\n",
              "      let quickchartButtonEl =\n",
              "        document.querySelector('#df-29f8c1bc-e888-4864-9190-ac72a096d3e6 button');\n",
              "      quickchartButtonEl.style.display =\n",
              "        google.colab.kernel.accessAllowed ? 'block' : 'none';\n",
              "    })();\n",
              "  </script>\n",
              "</div>\n",
              "\n",
              "    </div>\n",
              "  </div>\n"
            ],
            "application/vnd.google.colaboratory.intrinsic+json": {
              "type": "dataframe",
              "variable_name": "df",
              "summary": "{\n  \"name\": \"df\",\n  \"rows\": 3636,\n  \"fields\": [\n    {\n      \"column\": \"Elevation\",\n      \"properties\": {\n        \"dtype\": \"number\",\n        \"std\": 48.986636281153444,\n        \"min\": 240.4,\n        \"max\": 431.0,\n        \"num_unique_values\": 839,\n        \"samples\": [\n          286.2,\n          353.0,\n          266.0\n        ],\n        \"semantic_type\": \"\",\n        \"description\": \"\"\n      }\n    },\n    {\n      \"column\": \"Time\",\n      \"properties\": {\n        \"dtype\": \"number\",\n        \"std\": 1068,\n        \"min\": 3,\n        \"max\": 3692,\n        \"num_unique_values\": 3636,\n        \"samples\": [\n          1300,\n          125,\n          850\n        ],\n        \"semantic_type\": \"\",\n        \"description\": \"\"\n      }\n    },\n    {\n      \"column\": \"Distance\",\n      \"properties\": {\n        \"dtype\": \"number\",\n        \"std\": 4104.219914198952,\n        \"min\": 12.23973418810515,\n        \"max\": 15829.75852808823,\n        \"num_unique_values\": 3635,\n        \"samples\": [\n          5401.314390763251,\n          593.0068183248515,\n          3620.893031021792\n        ],\n        \"semantic_type\": \"\",\n        \"description\": \"\"\n      }\n    },\n    {\n      \"column\": \"Elevation_prev\",\n      \"properties\": {\n        \"dtype\": \"number\",\n        \"std\": 48.98528293355597,\n        \"min\": 240.4,\n        \"max\": 431.0,\n        \"num_unique_values\": 839,\n        \"samples\": [\n          286.2,\n          353.0,\n          266.0\n        ],\n        \"semantic_type\": \"\",\n        \"description\": \"\"\n      }\n    },\n    {\n      \"column\": \"Elevation_next\",\n      \"properties\": {\n        \"dtype\": \"number\",\n        \"std\": 48.987989558681704,\n        \"min\": 240.4,\n        \"max\": 431.0,\n        \"num_unique_values\": 839,\n        \"samples\": [\n          286.2,\n          353.0,\n          266.0\n        ],\n        \"semantic_type\": \"\",\n        \"description\": \"\"\n      }\n    },\n    {\n      \"column\": \"Speed\",\n      \"properties\": {\n        \"dtype\": \"number\",\n        \"std\": 2.416621431402176,\n        \"min\": 0.05557632188902062,\n        \"max\": 16.096911911355164,\n        \"num_unique_values\": 3636,\n        \"samples\": [\n          7.868975789536307,\n          4.586032646751903,\n          1.7445249163465633\n        ],\n        \"semantic_type\": \"\",\n        \"description\": \"\"\n      }\n    },\n    {\n      \"column\": \"total_elev_gain\",\n      \"properties\": {\n        \"dtype\": \"number\",\n        \"std\": 48.809360827630215,\n        \"min\": 0.0,\n        \"max\": 186.0,\n        \"num_unique_values\": 816,\n        \"samples\": [\n          40.19999999999999,\n          66.60000000000002,\n          174.8\n        ],\n        \"semantic_type\": \"\",\n        \"description\": \"\"\n      }\n    },\n    {\n      \"column\": \"Slope\",\n      \"properties\": {\n        \"dtype\": \"number\",\n        \"std\": 0.18589979090249062,\n        \"min\": -7.197318795225046,\n        \"max\": 1.7993274222016884,\n        \"num_unique_values\": 2761,\n        \"samples\": [\n          0.05972094111277204,\n          -0.027558155159629345,\n          -0.22394358012174767\n        ],\n        \"semantic_type\": \"\",\n        \"description\": \"\"\n      }\n    },\n    {\n      \"column\": \"Speed_pred\",\n      \"properties\": {\n        \"dtype\": \"float32\",\n        \"num_unique_values\": 3602,\n        \"samples\": [\n          2.7262940406799316,\n          0.5586667060852051,\n          7.126957416534424\n        ],\n        \"semantic_type\": \"\",\n        \"description\": \"\"\n      }\n    },\n    {\n      \"column\": \"real_time\",\n      \"properties\": {\n        \"dtype\": \"number\",\n        \"std\": 1068,\n        \"min\": 3,\n        \"max\": 3692,\n        \"num_unique_values\": 3636,\n        \"samples\": [\n          1300,\n          125,\n          850\n        ],\n        \"semantic_type\": \"\",\n        \"description\": \"\"\n      }\n    }\n  ]\n}"
            }
          },
          "metadata": {},
          "execution_count": 35
        }
      ]
    },
    {
      "cell_type": "markdown",
      "source": [
        "## Evaluate track length in seconds"
      ],
      "metadata": {
        "id": "_MtweafKlcKP"
      }
    },
    {
      "cell_type": "markdown",
      "source": [
        "### Example code"
      ],
      "metadata": {
        "id": "y0Z1XK4Yiyjf"
      }
    },
    {
      "cell_type": "code",
      "source": [
        "import pandas as pd\n",
        "import numpy as np\n",
        "\n",
        "# Data\n",
        "data = {\n",
        "    'Speed': [np.nan, 4.606892, 5.372097, 6.147122, 6.584172],\n",
        "    'Distance': [0.0, 4.111612, 9.213784, 14.855806, 21.508028]\n",
        "}\n",
        "df = pd.DataFrame(data)\n",
        "\n",
        "# Initialize Time column\n",
        "df['Time'] = 0.0\n",
        "\n",
        "# Compute Time intelligently\n",
        "for i in range(1, len(df)):\n",
        "    if pd.notna(df.loc[i, 'Speed']):\n",
        "        df.loc[i, 'Time'] = df.loc[i - 1, 'Time'] + (df.loc[i, 'Distance'] - df.loc[i - 1, 'Distance']) / df.loc[i, 'Speed']\n",
        "\n",
        "print(df)"
      ],
      "metadata": {
        "id": "sIIZ08DBhzh_",
        "outputId": "fc3d1239-e74b-4f40-e61f-e2fa72dd1f55",
        "colab": {
          "base_uri": "https://localhost:8080/"
        }
      },
      "execution_count": null,
      "outputs": [
        {
          "output_type": "stream",
          "name": "stdout",
          "text": [
            "      Speed   Distance      Time\n",
            "0       NaN   0.000000  0.000000\n",
            "1  4.606892   4.111612  0.892492\n",
            "2  5.372097   9.213784  1.842246\n",
            "3  6.147122  14.855806  2.760077\n",
            "4  6.584172  21.508028  3.770413\n"
          ]
        }
      ]
    },
    {
      "cell_type": "markdown",
      "source": [
        "### Implementation on test route"
      ],
      "metadata": {
        "id": "El0QlK4Miswb"
      }
    },
    {
      "cell_type": "code",
      "source": [
        "# Initialize Time column\n",
        "df['pred_time'] = 0.0\n",
        "\n",
        "# Compute predicted time\n",
        "for i in range(2, len(df)):\n",
        "    if pd.notna(df.loc[i, 'Speed_pred']):\n",
        "      if df.loc[i, 'Speed_pred'] != 0:\n",
        "        df.loc[i, 'pred_time'] = df.loc[i - 1, 'pred_time'] + (df.loc[i, 'Distance'] - df.loc[i - 1, 'Distance']) / df.loc[i, 'Speed_pred']\n",
        "      else:\n",
        "        df.loc[i, 'pred_time'] = df.loc[i - 1, 'pred_time']\n",
        "\n",
        "print(df)"
      ],
      "metadata": {
        "id": "RtCMC4XYi6QO",
        "outputId": "d95b532f-b140-4044-9019-288a1688a79c",
        "colab": {
          "base_uri": "https://localhost:8080/"
        }
      },
      "execution_count": 43,
      "outputs": [
        {
          "output_type": "stream",
          "name": "stdout",
          "text": [
            "      Elevation  Time      Distance  Elevation_prev  Elevation_next     Speed  \\\n",
            "1         245.0     3     12.239734           245.0           245.0  4.364024   \n",
            "2         245.0     6     26.184141           245.0           245.0  4.872850   \n",
            "3         245.0     7     31.731136           245.0           245.0  5.498843   \n",
            "4         245.0     8     37.181827           245.0           245.0  7.029610   \n",
            "5         245.0     9     45.790356           245.0           245.0  8.138246   \n",
            "...         ...   ...           ...             ...             ...       ...   \n",
            "3632      240.4  3688  15807.894595           240.4           240.4  5.602182   \n",
            "3633      240.4  3689  15813.411331           240.4           240.4  5.476310   \n",
            "3634      240.4  3690  15818.847215           240.4           240.4  5.397081   \n",
            "3635      240.4  3691  15824.205493           240.4           240.4  5.455657   \n",
            "3636      240.4  3692  15829.758528           240.4           240.4  5.553036   \n",
            "\n",
            "      total_elev_gain  Slope  Speed_pred  real_time    pred_time  \n",
            "1                 0.0    0.0    0.811109          3     0.000000  \n",
            "2                 0.0    0.0    0.906949          6    15.375080  \n",
            "3                 0.0    0.0    0.945063          7    21.244524  \n",
            "4                 0.0    0.0    0.982526          8    26.792157  \n",
            "5                 0.0    0.0    1.041658          9    35.056416  \n",
            "...               ...    ...         ...        ...          ...  \n",
            "3632              0.0    0.0    7.938785       3688  4942.611077  \n",
            "3633              0.0    0.0    7.938778       3689  4943.305987  \n",
            "3634              0.0    0.0    7.938772       3690  4943.990713  \n",
            "3635              0.0    0.0    7.938766       3691  4944.665664  \n",
            "3636              0.0    0.0    7.938759       3692     0.000000  \n",
            "\n",
            "[3636 rows x 11 columns]\n"
          ]
        }
      ]
    },
    {
      "cell_type": "code",
      "source": [
        "df[['Speed', 'Speed_pred', 'real_time', 'pred_time']].head()"
      ],
      "metadata": {
        "id": "hb-101z9p6EV",
        "outputId": "d09d6faa-ca9f-4662-e6b3-2ae8730182af",
        "colab": {
          "base_uri": "https://localhost:8080/",
          "height": 206
        }
      },
      "execution_count": 45,
      "outputs": [
        {
          "output_type": "execute_result",
          "data": {
            "text/plain": [
              "      Speed  Speed_pred  real_time  pred_time\n",
              "1  4.364024    0.811109          3   0.000000\n",
              "2  4.872850    0.906949          6  15.375080\n",
              "3  5.498843    0.945063          7  21.244524\n",
              "4  7.029610    0.982526          8  26.792157\n",
              "5  8.138246    1.041658          9  35.056416"
            ],
            "text/html": [
              "\n",
              "  <div id=\"df-f5bb6807-fde1-4be8-b4e0-4647869dd38e\" class=\"colab-df-container\">\n",
              "    <div>\n",
              "<style scoped>\n",
              "    .dataframe tbody tr th:only-of-type {\n",
              "        vertical-align: middle;\n",
              "    }\n",
              "\n",
              "    .dataframe tbody tr th {\n",
              "        vertical-align: top;\n",
              "    }\n",
              "\n",
              "    .dataframe thead th {\n",
              "        text-align: right;\n",
              "    }\n",
              "</style>\n",
              "<table border=\"1\" class=\"dataframe\">\n",
              "  <thead>\n",
              "    <tr style=\"text-align: right;\">\n",
              "      <th></th>\n",
              "      <th>Speed</th>\n",
              "      <th>Speed_pred</th>\n",
              "      <th>real_time</th>\n",
              "      <th>pred_time</th>\n",
              "    </tr>\n",
              "  </thead>\n",
              "  <tbody>\n",
              "    <tr>\n",
              "      <th>1</th>\n",
              "      <td>4.364024</td>\n",
              "      <td>0.811109</td>\n",
              "      <td>3</td>\n",
              "      <td>0.000000</td>\n",
              "    </tr>\n",
              "    <tr>\n",
              "      <th>2</th>\n",
              "      <td>4.872850</td>\n",
              "      <td>0.906949</td>\n",
              "      <td>6</td>\n",
              "      <td>15.375080</td>\n",
              "    </tr>\n",
              "    <tr>\n",
              "      <th>3</th>\n",
              "      <td>5.498843</td>\n",
              "      <td>0.945063</td>\n",
              "      <td>7</td>\n",
              "      <td>21.244524</td>\n",
              "    </tr>\n",
              "    <tr>\n",
              "      <th>4</th>\n",
              "      <td>7.029610</td>\n",
              "      <td>0.982526</td>\n",
              "      <td>8</td>\n",
              "      <td>26.792157</td>\n",
              "    </tr>\n",
              "    <tr>\n",
              "      <th>5</th>\n",
              "      <td>8.138246</td>\n",
              "      <td>1.041658</td>\n",
              "      <td>9</td>\n",
              "      <td>35.056416</td>\n",
              "    </tr>\n",
              "  </tbody>\n",
              "</table>\n",
              "</div>\n",
              "    <div class=\"colab-df-buttons\">\n",
              "\n",
              "  <div class=\"colab-df-container\">\n",
              "    <button class=\"colab-df-convert\" onclick=\"convertToInteractive('df-f5bb6807-fde1-4be8-b4e0-4647869dd38e')\"\n",
              "            title=\"Convert this dataframe to an interactive table.\"\n",
              "            style=\"display:none;\">\n",
              "\n",
              "  <svg xmlns=\"http://www.w3.org/2000/svg\" height=\"24px\" viewBox=\"0 -960 960 960\">\n",
              "    <path d=\"M120-120v-720h720v720H120Zm60-500h600v-160H180v160Zm220 220h160v-160H400v160Zm0 220h160v-160H400v160ZM180-400h160v-160H180v160Zm440 0h160v-160H620v160ZM180-180h160v-160H180v160Zm440 0h160v-160H620v160Z\"/>\n",
              "  </svg>\n",
              "    </button>\n",
              "\n",
              "  <style>\n",
              "    .colab-df-container {\n",
              "      display:flex;\n",
              "      gap: 12px;\n",
              "    }\n",
              "\n",
              "    .colab-df-convert {\n",
              "      background-color: #E8F0FE;\n",
              "      border: none;\n",
              "      border-radius: 50%;\n",
              "      cursor: pointer;\n",
              "      display: none;\n",
              "      fill: #1967D2;\n",
              "      height: 32px;\n",
              "      padding: 0 0 0 0;\n",
              "      width: 32px;\n",
              "    }\n",
              "\n",
              "    .colab-df-convert:hover {\n",
              "      background-color: #E2EBFA;\n",
              "      box-shadow: 0px 1px 2px rgba(60, 64, 67, 0.3), 0px 1px 3px 1px rgba(60, 64, 67, 0.15);\n",
              "      fill: #174EA6;\n",
              "    }\n",
              "\n",
              "    .colab-df-buttons div {\n",
              "      margin-bottom: 4px;\n",
              "    }\n",
              "\n",
              "    [theme=dark] .colab-df-convert {\n",
              "      background-color: #3B4455;\n",
              "      fill: #D2E3FC;\n",
              "    }\n",
              "\n",
              "    [theme=dark] .colab-df-convert:hover {\n",
              "      background-color: #434B5C;\n",
              "      box-shadow: 0px 1px 3px 1px rgba(0, 0, 0, 0.15);\n",
              "      filter: drop-shadow(0px 1px 2px rgba(0, 0, 0, 0.3));\n",
              "      fill: #FFFFFF;\n",
              "    }\n",
              "  </style>\n",
              "\n",
              "    <script>\n",
              "      const buttonEl =\n",
              "        document.querySelector('#df-f5bb6807-fde1-4be8-b4e0-4647869dd38e button.colab-df-convert');\n",
              "      buttonEl.style.display =\n",
              "        google.colab.kernel.accessAllowed ? 'block' : 'none';\n",
              "\n",
              "      async function convertToInteractive(key) {\n",
              "        const element = document.querySelector('#df-f5bb6807-fde1-4be8-b4e0-4647869dd38e');\n",
              "        const dataTable =\n",
              "          await google.colab.kernel.invokeFunction('convertToInteractive',\n",
              "                                                    [key], {});\n",
              "        if (!dataTable) return;\n",
              "\n",
              "        const docLinkHtml = 'Like what you see? Visit the ' +\n",
              "          '<a target=\"_blank\" href=https://colab.research.google.com/notebooks/data_table.ipynb>data table notebook</a>'\n",
              "          + ' to learn more about interactive tables.';\n",
              "        element.innerHTML = '';\n",
              "        dataTable['output_type'] = 'display_data';\n",
              "        await google.colab.output.renderOutput(dataTable, element);\n",
              "        const docLink = document.createElement('div');\n",
              "        docLink.innerHTML = docLinkHtml;\n",
              "        element.appendChild(docLink);\n",
              "      }\n",
              "    </script>\n",
              "  </div>\n",
              "\n",
              "\n",
              "<div id=\"df-05accd2f-0cd1-4e83-89e9-4dfddd0f83c8\">\n",
              "  <button class=\"colab-df-quickchart\" onclick=\"quickchart('df-05accd2f-0cd1-4e83-89e9-4dfddd0f83c8')\"\n",
              "            title=\"Suggest charts\"\n",
              "            style=\"display:none;\">\n",
              "\n",
              "<svg xmlns=\"http://www.w3.org/2000/svg\" height=\"24px\"viewBox=\"0 0 24 24\"\n",
              "     width=\"24px\">\n",
              "    <g>\n",
              "        <path d=\"M19 3H5c-1.1 0-2 .9-2 2v14c0 1.1.9 2 2 2h14c1.1 0 2-.9 2-2V5c0-1.1-.9-2-2-2zM9 17H7v-7h2v7zm4 0h-2V7h2v10zm4 0h-2v-4h2v4z\"/>\n",
              "    </g>\n",
              "</svg>\n",
              "  </button>\n",
              "\n",
              "<style>\n",
              "  .colab-df-quickchart {\n",
              "      --bg-color: #E8F0FE;\n",
              "      --fill-color: #1967D2;\n",
              "      --hover-bg-color: #E2EBFA;\n",
              "      --hover-fill-color: #174EA6;\n",
              "      --disabled-fill-color: #AAA;\n",
              "      --disabled-bg-color: #DDD;\n",
              "  }\n",
              "\n",
              "  [theme=dark] .colab-df-quickchart {\n",
              "      --bg-color: #3B4455;\n",
              "      --fill-color: #D2E3FC;\n",
              "      --hover-bg-color: #434B5C;\n",
              "      --hover-fill-color: #FFFFFF;\n",
              "      --disabled-bg-color: #3B4455;\n",
              "      --disabled-fill-color: #666;\n",
              "  }\n",
              "\n",
              "  .colab-df-quickchart {\n",
              "    background-color: var(--bg-color);\n",
              "    border: none;\n",
              "    border-radius: 50%;\n",
              "    cursor: pointer;\n",
              "    display: none;\n",
              "    fill: var(--fill-color);\n",
              "    height: 32px;\n",
              "    padding: 0;\n",
              "    width: 32px;\n",
              "  }\n",
              "\n",
              "  .colab-df-quickchart:hover {\n",
              "    background-color: var(--hover-bg-color);\n",
              "    box-shadow: 0 1px 2px rgba(60, 64, 67, 0.3), 0 1px 3px 1px rgba(60, 64, 67, 0.15);\n",
              "    fill: var(--button-hover-fill-color);\n",
              "  }\n",
              "\n",
              "  .colab-df-quickchart-complete:disabled,\n",
              "  .colab-df-quickchart-complete:disabled:hover {\n",
              "    background-color: var(--disabled-bg-color);\n",
              "    fill: var(--disabled-fill-color);\n",
              "    box-shadow: none;\n",
              "  }\n",
              "\n",
              "  .colab-df-spinner {\n",
              "    border: 2px solid var(--fill-color);\n",
              "    border-color: transparent;\n",
              "    border-bottom-color: var(--fill-color);\n",
              "    animation:\n",
              "      spin 1s steps(1) infinite;\n",
              "  }\n",
              "\n",
              "  @keyframes spin {\n",
              "    0% {\n",
              "      border-color: transparent;\n",
              "      border-bottom-color: var(--fill-color);\n",
              "      border-left-color: var(--fill-color);\n",
              "    }\n",
              "    20% {\n",
              "      border-color: transparent;\n",
              "      border-left-color: var(--fill-color);\n",
              "      border-top-color: var(--fill-color);\n",
              "    }\n",
              "    30% {\n",
              "      border-color: transparent;\n",
              "      border-left-color: var(--fill-color);\n",
              "      border-top-color: var(--fill-color);\n",
              "      border-right-color: var(--fill-color);\n",
              "    }\n",
              "    40% {\n",
              "      border-color: transparent;\n",
              "      border-right-color: var(--fill-color);\n",
              "      border-top-color: var(--fill-color);\n",
              "    }\n",
              "    60% {\n",
              "      border-color: transparent;\n",
              "      border-right-color: var(--fill-color);\n",
              "    }\n",
              "    80% {\n",
              "      border-color: transparent;\n",
              "      border-right-color: var(--fill-color);\n",
              "      border-bottom-color: var(--fill-color);\n",
              "    }\n",
              "    90% {\n",
              "      border-color: transparent;\n",
              "      border-bottom-color: var(--fill-color);\n",
              "    }\n",
              "  }\n",
              "</style>\n",
              "\n",
              "  <script>\n",
              "    async function quickchart(key) {\n",
              "      const quickchartButtonEl =\n",
              "        document.querySelector('#' + key + ' button');\n",
              "      quickchartButtonEl.disabled = true;  // To prevent multiple clicks.\n",
              "      quickchartButtonEl.classList.add('colab-df-spinner');\n",
              "      try {\n",
              "        const charts = await google.colab.kernel.invokeFunction(\n",
              "            'suggestCharts', [key], {});\n",
              "      } catch (error) {\n",
              "        console.error('Error during call to suggestCharts:', error);\n",
              "      }\n",
              "      quickchartButtonEl.classList.remove('colab-df-spinner');\n",
              "      quickchartButtonEl.classList.add('colab-df-quickchart-complete');\n",
              "    }\n",
              "    (() => {\n",
              "      let quickchartButtonEl =\n",
              "        document.querySelector('#df-05accd2f-0cd1-4e83-89e9-4dfddd0f83c8 button');\n",
              "      quickchartButtonEl.style.display =\n",
              "        google.colab.kernel.accessAllowed ? 'block' : 'none';\n",
              "    })();\n",
              "  </script>\n",
              "</div>\n",
              "\n",
              "    </div>\n",
              "  </div>\n"
            ],
            "application/vnd.google.colaboratory.intrinsic+json": {
              "type": "dataframe",
              "summary": "{\n  \"name\": \"df[['Speed', 'Speed_pred', 'real_time', 'pred_time']]\",\n  \"rows\": 5,\n  \"fields\": [\n    {\n      \"column\": \"Speed\",\n      \"properties\": {\n        \"dtype\": \"number\",\n        \"std\": 1.5675122269321902,\n        \"min\": 4.3640235441673,\n        \"max\": 8.13824634138534,\n        \"num_unique_values\": 5,\n        \"samples\": [\n          4.872850405916875,\n          8.13824634138534,\n          5.498842894240182\n        ],\n        \"semantic_type\": \"\",\n        \"description\": \"\"\n      }\n    },\n    {\n      \"column\": \"Speed_pred\",\n      \"properties\": {\n        \"dtype\": \"float32\",\n        \"num_unique_values\": 5,\n        \"samples\": [\n          0.9069485664367676,\n          1.0416576862335205,\n          0.9450631141662598\n        ],\n        \"semantic_type\": \"\",\n        \"description\": \"\"\n      }\n    },\n    {\n      \"column\": \"real_time\",\n      \"properties\": {\n        \"dtype\": \"number\",\n        \"std\": 2,\n        \"min\": 3,\n        \"max\": 9,\n        \"num_unique_values\": 5,\n        \"samples\": [\n          6,\n          9,\n          7\n        ],\n        \"semantic_type\": \"\",\n        \"description\": \"\"\n      }\n    },\n    {\n      \"column\": \"pred_time\",\n      \"properties\": {\n        \"dtype\": \"number\",\n        \"std\": 13.184256442727914,\n        \"min\": 0.0,\n        \"max\": 35.05641571659916,\n        \"num_unique_values\": 5,\n        \"samples\": [\n          15.37508034406365,\n          35.05641571659916,\n          21.244523837964522\n        ],\n        \"semantic_type\": \"\",\n        \"description\": \"\"\n      }\n    }\n  ]\n}"
            }
          },
          "metadata": {},
          "execution_count": 45
        }
      ]
    }
  ],
  "metadata": {
    "language_info": {
      "name": "python"
    },
    "colab": {
      "provenance": [],
      "gpuType": "T4",
      "toc_visible": true
    },
    "kernelspec": {
      "name": "python3",
      "display_name": "Python 3"
    },
    "accelerator": "GPU"
  },
  "nbformat": 4,
  "nbformat_minor": 0
}