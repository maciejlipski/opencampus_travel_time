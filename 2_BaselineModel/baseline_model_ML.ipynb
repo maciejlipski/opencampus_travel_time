{
  "cells": [
    {
      "cell_type": "markdown",
      "metadata": {
        "id": "sc-lKxYs0pfx"
      },
      "source": [
        "# Baseline Model\n",
        "\n",
        "## Table of Contents\n",
        "1. [Model Choice](#model-choice)\n",
        "2. [Feature Selection](#feature-selection)\n",
        "3. [Implementation](#implementation)\n",
        "4. [Evaluation](#evaluation)\n"
      ]
    },
    {
      "cell_type": "code",
      "source": [
        "!pip install openpyxl"
      ],
      "metadata": {
        "id": "ibI_fHbUQjF_"
      },
      "execution_count": null,
      "outputs": []
    },
    {
      "cell_type": "code",
      "execution_count": 11,
      "metadata": {
        "id": "oto5BB4t0pf2"
      },
      "outputs": [],
      "source": [
        "# Import necessary libraries\n",
        "import pandas as pd\n",
        "import numpy as np\n",
        "import shutil\n",
        "import random\n",
        "import os\n",
        "from sklearn.model_selection import train_test_split\n",
        "from sklearn.metrics import accuracy_score, mean_squared_error\n",
        "# Import your chosen baseline model\n",
        "# Example: from sklearn.linear_model import LogisticRegression\n"
      ]
    },
    {
      "cell_type": "markdown",
      "source": [
        "## Load dataset\n",
        "Load preprocessed dataset and print basic details."
      ],
      "metadata": {
        "id": "c8G5_jmE0tPX"
      }
    },
    {
      "cell_type": "markdown",
      "source": [
        "### Directory preparation"
      ],
      "metadata": {
        "id": "HtNm_r8A3Btz"
      }
    },
    {
      "cell_type": "code",
      "source": [
        "from google.colab import drive\n",
        "drive.mount('/content/drive')"
      ],
      "metadata": {
        "id": "3MWauQ3N06KT",
        "outputId": "80e996ca-af66-4bfd-930d-08cb1e8117c9",
        "colab": {
          "base_uri": "https://localhost:8080/"
        }
      },
      "execution_count": 2,
      "outputs": [
        {
          "output_type": "stream",
          "name": "stdout",
          "text": [
            "Mounted at /content/drive\n"
          ]
        }
      ]
    },
    {
      "cell_type": "code",
      "source": [
        "import zipfile\n",
        "\n",
        "# Replace 'path/to/your/zipped_folder.zip' with the actual path to your zipped folder in Google Drive.\n",
        "zip_path = '/content/drive/MyDrive/opencampus_all_files/Rider1_preprocessed.zip'\n",
        "\n",
        "# Extract the contents of the zip file to a specified directory.\n",
        "with zipfile.ZipFile(zip_path, 'r') as zip_ref:\n",
        "    zip_ref.extractall('/content/Rider1_preprocessed')\n",
        "print(f\"Successfully unzipped {zip_path} to /content/unzipped_folder\")\n"
      ],
      "metadata": {
        "id": "2QrIoYu01hR2",
        "outputId": "a271c0f1-9357-42fc-93af-48148b8d839e",
        "colab": {
          "base_uri": "https://localhost:8080/"
        }
      },
      "execution_count": 3,
      "outputs": [
        {
          "output_type": "stream",
          "name": "stdout",
          "text": [
            "Successfully unzipped /content/drive/MyDrive/opencampus_all_files/Rider1_preprocessed.zip to /content/unzipped_folder\n"
          ]
        }
      ]
    },
    {
      "cell_type": "code",
      "source": [
        "source_dir = '/content/Rider1_preprocessed/content/content/Sport_xlsx/Rider1_preprocessed'\n",
        "destination_dir = '/content/Rider1_preprocessed'\n",
        "\n",
        "# Iterate through all files in the source directory\n",
        "for filename in os.listdir(source_dir):\n",
        "    source_path = os.path.join(source_dir, filename)\n",
        "    destination_path = os.path.join(destination_dir, filename)\n",
        "\n",
        "    # Check if it's a file (not a subdirectory)\n",
        "    if os.path.isfile(source_path):\n",
        "        # Move the file\n",
        "        shutil.move(source_path, destination_path)"
      ],
      "metadata": {
        "id": "P-k6juQO13gC"
      },
      "execution_count": 4,
      "outputs": []
    },
    {
      "cell_type": "code",
      "source": [
        "# Define the directory to clean\n",
        "directory_to_clean = '/content/Rider1_preprocessed'\n",
        "\n",
        "# Check if the directory exists\n",
        "if os.path.exists(directory_to_clean):\n",
        "    for filename in os.listdir(directory_to_clean):\n",
        "        filepath = os.path.join(directory_to_clean, filename)\n",
        "        try:\n",
        "            if os.path.isdir(filepath):\n",
        "                shutil.rmtree(filepath)  # Remove folders recursively\n",
        "                print(f\"Removed directory: {filepath}\")\n",
        "        except OSError as e:\n",
        "            print(f\"Error removing {filepath}: {e}\")\n",
        "else:\n",
        "    print(f\"Directory '{directory_to_clean}' not found.\")"
      ],
      "metadata": {
        "id": "5wEFkk-121KE",
        "outputId": "bf04aea2-fb2c-496c-8ca5-787b90eb0091",
        "colab": {
          "base_uri": "https://localhost:8080/"
        }
      },
      "execution_count": 5,
      "outputs": [
        {
          "output_type": "stream",
          "name": "stdout",
          "text": [
            "Removed directory: /content/Rider1_preprocessed/content\n"
          ]
        }
      ]
    },
    {
      "cell_type": "markdown",
      "source": [
        "### Explore dataset"
      ],
      "metadata": {
        "id": "VoGFv7p03exP"
      }
    },
    {
      "cell_type": "code",
      "source": [
        "# Load example file\n",
        "df = pd.read_excel('/content/Rider1_preprocessed/f1.xlsx')\n",
        "\n",
        "# Show features\n",
        "df.head()"
      ],
      "metadata": {
        "id": "IdsQcEvP3l7n",
        "outputId": "82834a4b-88ee-47c1-bed1-1f0471e245b0",
        "colab": {
          "base_uri": "https://localhost:8080/",
          "height": 206
        }
      },
      "execution_count": 12,
      "outputs": [
        {
          "output_type": "execute_result",
          "data": {
            "text/plain": [
              "    Latitude  Longitude  Elevation  Time   Distance\n",
              "0  46.363649  14.112036      511.5     0   0.000000\n",
              "1  46.363691  14.112026      511.0     1   4.731651\n",
              "2  46.363778  14.112031      510.1     3  14.410085\n",
              "3  46.363835  14.112023      509.7     5  20.775954\n",
              "4  46.363888  14.112007      509.4     7  26.794638"
            ],
            "text/html": [
              "\n",
              "  <div id=\"df-b4741d17-66f5-4f31-a477-dd77d7114b3a\" class=\"colab-df-container\">\n",
              "    <div>\n",
              "<style scoped>\n",
              "    .dataframe tbody tr th:only-of-type {\n",
              "        vertical-align: middle;\n",
              "    }\n",
              "\n",
              "    .dataframe tbody tr th {\n",
              "        vertical-align: top;\n",
              "    }\n",
              "\n",
              "    .dataframe thead th {\n",
              "        text-align: right;\n",
              "    }\n",
              "</style>\n",
              "<table border=\"1\" class=\"dataframe\">\n",
              "  <thead>\n",
              "    <tr style=\"text-align: right;\">\n",
              "      <th></th>\n",
              "      <th>Latitude</th>\n",
              "      <th>Longitude</th>\n",
              "      <th>Elevation</th>\n",
              "      <th>Time</th>\n",
              "      <th>Distance</th>\n",
              "    </tr>\n",
              "  </thead>\n",
              "  <tbody>\n",
              "    <tr>\n",
              "      <th>0</th>\n",
              "      <td>46.363649</td>\n",
              "      <td>14.112036</td>\n",
              "      <td>511.5</td>\n",
              "      <td>0</td>\n",
              "      <td>0.000000</td>\n",
              "    </tr>\n",
              "    <tr>\n",
              "      <th>1</th>\n",
              "      <td>46.363691</td>\n",
              "      <td>14.112026</td>\n",
              "      <td>511.0</td>\n",
              "      <td>1</td>\n",
              "      <td>4.731651</td>\n",
              "    </tr>\n",
              "    <tr>\n",
              "      <th>2</th>\n",
              "      <td>46.363778</td>\n",
              "      <td>14.112031</td>\n",
              "      <td>510.1</td>\n",
              "      <td>3</td>\n",
              "      <td>14.410085</td>\n",
              "    </tr>\n",
              "    <tr>\n",
              "      <th>3</th>\n",
              "      <td>46.363835</td>\n",
              "      <td>14.112023</td>\n",
              "      <td>509.7</td>\n",
              "      <td>5</td>\n",
              "      <td>20.775954</td>\n",
              "    </tr>\n",
              "    <tr>\n",
              "      <th>4</th>\n",
              "      <td>46.363888</td>\n",
              "      <td>14.112007</td>\n",
              "      <td>509.4</td>\n",
              "      <td>7</td>\n",
              "      <td>26.794638</td>\n",
              "    </tr>\n",
              "  </tbody>\n",
              "</table>\n",
              "</div>\n",
              "    <div class=\"colab-df-buttons\">\n",
              "\n",
              "  <div class=\"colab-df-container\">\n",
              "    <button class=\"colab-df-convert\" onclick=\"convertToInteractive('df-b4741d17-66f5-4f31-a477-dd77d7114b3a')\"\n",
              "            title=\"Convert this dataframe to an interactive table.\"\n",
              "            style=\"display:none;\">\n",
              "\n",
              "  <svg xmlns=\"http://www.w3.org/2000/svg\" height=\"24px\" viewBox=\"0 -960 960 960\">\n",
              "    <path d=\"M120-120v-720h720v720H120Zm60-500h600v-160H180v160Zm220 220h160v-160H400v160Zm0 220h160v-160H400v160ZM180-400h160v-160H180v160Zm440 0h160v-160H620v160ZM180-180h160v-160H180v160Zm440 0h160v-160H620v160Z\"/>\n",
              "  </svg>\n",
              "    </button>\n",
              "\n",
              "  <style>\n",
              "    .colab-df-container {\n",
              "      display:flex;\n",
              "      gap: 12px;\n",
              "    }\n",
              "\n",
              "    .colab-df-convert {\n",
              "      background-color: #E8F0FE;\n",
              "      border: none;\n",
              "      border-radius: 50%;\n",
              "      cursor: pointer;\n",
              "      display: none;\n",
              "      fill: #1967D2;\n",
              "      height: 32px;\n",
              "      padding: 0 0 0 0;\n",
              "      width: 32px;\n",
              "    }\n",
              "\n",
              "    .colab-df-convert:hover {\n",
              "      background-color: #E2EBFA;\n",
              "      box-shadow: 0px 1px 2px rgba(60, 64, 67, 0.3), 0px 1px 3px 1px rgba(60, 64, 67, 0.15);\n",
              "      fill: #174EA6;\n",
              "    }\n",
              "\n",
              "    .colab-df-buttons div {\n",
              "      margin-bottom: 4px;\n",
              "    }\n",
              "\n",
              "    [theme=dark] .colab-df-convert {\n",
              "      background-color: #3B4455;\n",
              "      fill: #D2E3FC;\n",
              "    }\n",
              "\n",
              "    [theme=dark] .colab-df-convert:hover {\n",
              "      background-color: #434B5C;\n",
              "      box-shadow: 0px 1px 3px 1px rgba(0, 0, 0, 0.15);\n",
              "      filter: drop-shadow(0px 1px 2px rgba(0, 0, 0, 0.3));\n",
              "      fill: #FFFFFF;\n",
              "    }\n",
              "  </style>\n",
              "\n",
              "    <script>\n",
              "      const buttonEl =\n",
              "        document.querySelector('#df-b4741d17-66f5-4f31-a477-dd77d7114b3a button.colab-df-convert');\n",
              "      buttonEl.style.display =\n",
              "        google.colab.kernel.accessAllowed ? 'block' : 'none';\n",
              "\n",
              "      async function convertToInteractive(key) {\n",
              "        const element = document.querySelector('#df-b4741d17-66f5-4f31-a477-dd77d7114b3a');\n",
              "        const dataTable =\n",
              "          await google.colab.kernel.invokeFunction('convertToInteractive',\n",
              "                                                    [key], {});\n",
              "        if (!dataTable) return;\n",
              "\n",
              "        const docLinkHtml = 'Like what you see? Visit the ' +\n",
              "          '<a target=\"_blank\" href=https://colab.research.google.com/notebooks/data_table.ipynb>data table notebook</a>'\n",
              "          + ' to learn more about interactive tables.';\n",
              "        element.innerHTML = '';\n",
              "        dataTable['output_type'] = 'display_data';\n",
              "        await google.colab.output.renderOutput(dataTable, element);\n",
              "        const docLink = document.createElement('div');\n",
              "        docLink.innerHTML = docLinkHtml;\n",
              "        element.appendChild(docLink);\n",
              "      }\n",
              "    </script>\n",
              "  </div>\n",
              "\n",
              "\n",
              "<div id=\"df-76a3a0aa-801d-4575-847b-e3d5658152ca\">\n",
              "  <button class=\"colab-df-quickchart\" onclick=\"quickchart('df-76a3a0aa-801d-4575-847b-e3d5658152ca')\"\n",
              "            title=\"Suggest charts\"\n",
              "            style=\"display:none;\">\n",
              "\n",
              "<svg xmlns=\"http://www.w3.org/2000/svg\" height=\"24px\"viewBox=\"0 0 24 24\"\n",
              "     width=\"24px\">\n",
              "    <g>\n",
              "        <path d=\"M19 3H5c-1.1 0-2 .9-2 2v14c0 1.1.9 2 2 2h14c1.1 0 2-.9 2-2V5c0-1.1-.9-2-2-2zM9 17H7v-7h2v7zm4 0h-2V7h2v10zm4 0h-2v-4h2v4z\"/>\n",
              "    </g>\n",
              "</svg>\n",
              "  </button>\n",
              "\n",
              "<style>\n",
              "  .colab-df-quickchart {\n",
              "      --bg-color: #E8F0FE;\n",
              "      --fill-color: #1967D2;\n",
              "      --hover-bg-color: #E2EBFA;\n",
              "      --hover-fill-color: #174EA6;\n",
              "      --disabled-fill-color: #AAA;\n",
              "      --disabled-bg-color: #DDD;\n",
              "  }\n",
              "\n",
              "  [theme=dark] .colab-df-quickchart {\n",
              "      --bg-color: #3B4455;\n",
              "      --fill-color: #D2E3FC;\n",
              "      --hover-bg-color: #434B5C;\n",
              "      --hover-fill-color: #FFFFFF;\n",
              "      --disabled-bg-color: #3B4455;\n",
              "      --disabled-fill-color: #666;\n",
              "  }\n",
              "\n",
              "  .colab-df-quickchart {\n",
              "    background-color: var(--bg-color);\n",
              "    border: none;\n",
              "    border-radius: 50%;\n",
              "    cursor: pointer;\n",
              "    display: none;\n",
              "    fill: var(--fill-color);\n",
              "    height: 32px;\n",
              "    padding: 0;\n",
              "    width: 32px;\n",
              "  }\n",
              "\n",
              "  .colab-df-quickchart:hover {\n",
              "    background-color: var(--hover-bg-color);\n",
              "    box-shadow: 0 1px 2px rgba(60, 64, 67, 0.3), 0 1px 3px 1px rgba(60, 64, 67, 0.15);\n",
              "    fill: var(--button-hover-fill-color);\n",
              "  }\n",
              "\n",
              "  .colab-df-quickchart-complete:disabled,\n",
              "  .colab-df-quickchart-complete:disabled:hover {\n",
              "    background-color: var(--disabled-bg-color);\n",
              "    fill: var(--disabled-fill-color);\n",
              "    box-shadow: none;\n",
              "  }\n",
              "\n",
              "  .colab-df-spinner {\n",
              "    border: 2px solid var(--fill-color);\n",
              "    border-color: transparent;\n",
              "    border-bottom-color: var(--fill-color);\n",
              "    animation:\n",
              "      spin 1s steps(1) infinite;\n",
              "  }\n",
              "\n",
              "  @keyframes spin {\n",
              "    0% {\n",
              "      border-color: transparent;\n",
              "      border-bottom-color: var(--fill-color);\n",
              "      border-left-color: var(--fill-color);\n",
              "    }\n",
              "    20% {\n",
              "      border-color: transparent;\n",
              "      border-left-color: var(--fill-color);\n",
              "      border-top-color: var(--fill-color);\n",
              "    }\n",
              "    30% {\n",
              "      border-color: transparent;\n",
              "      border-left-color: var(--fill-color);\n",
              "      border-top-color: var(--fill-color);\n",
              "      border-right-color: var(--fill-color);\n",
              "    }\n",
              "    40% {\n",
              "      border-color: transparent;\n",
              "      border-right-color: var(--fill-color);\n",
              "      border-top-color: var(--fill-color);\n",
              "    }\n",
              "    60% {\n",
              "      border-color: transparent;\n",
              "      border-right-color: var(--fill-color);\n",
              "    }\n",
              "    80% {\n",
              "      border-color: transparent;\n",
              "      border-right-color: var(--fill-color);\n",
              "      border-bottom-color: var(--fill-color);\n",
              "    }\n",
              "    90% {\n",
              "      border-color: transparent;\n",
              "      border-bottom-color: var(--fill-color);\n",
              "    }\n",
              "  }\n",
              "</style>\n",
              "\n",
              "  <script>\n",
              "    async function quickchart(key) {\n",
              "      const quickchartButtonEl =\n",
              "        document.querySelector('#' + key + ' button');\n",
              "      quickchartButtonEl.disabled = true;  // To prevent multiple clicks.\n",
              "      quickchartButtonEl.classList.add('colab-df-spinner');\n",
              "      try {\n",
              "        const charts = await google.colab.kernel.invokeFunction(\n",
              "            'suggestCharts', [key], {});\n",
              "      } catch (error) {\n",
              "        console.error('Error during call to suggestCharts:', error);\n",
              "      }\n",
              "      quickchartButtonEl.classList.remove('colab-df-spinner');\n",
              "      quickchartButtonEl.classList.add('colab-df-quickchart-complete');\n",
              "    }\n",
              "    (() => {\n",
              "      let quickchartButtonEl =\n",
              "        document.querySelector('#df-76a3a0aa-801d-4575-847b-e3d5658152ca button');\n",
              "      quickchartButtonEl.style.display =\n",
              "        google.colab.kernel.accessAllowed ? 'block' : 'none';\n",
              "    })();\n",
              "  </script>\n",
              "</div>\n",
              "\n",
              "    </div>\n",
              "  </div>\n"
            ],
            "application/vnd.google.colaboratory.intrinsic+json": {
              "type": "dataframe",
              "variable_name": "df",
              "summary": "{\n  \"name\": \"df\",\n  \"rows\": 5994,\n  \"fields\": [\n    {\n      \"column\": \"Latitude\",\n      \"properties\": {\n        \"dtype\": \"number\",\n        \"std\": 0.023265692807514442,\n        \"min\": 46.338096,\n        \"max\": 46.422636,\n        \"num_unique_values\": 5567,\n        \"samples\": [\n          46.42116,\n          46.389449,\n          46.380202\n        ],\n        \"semantic_type\": \"\",\n        \"description\": \"\"\n      }\n    },\n    {\n      \"column\": \"Longitude\",\n      \"properties\": {\n        \"dtype\": \"number\",\n        \"std\": 0.04733494896036873,\n        \"min\": 13.919303,\n        \"max\": 14.112036,\n        \"num_unique_values\": 5772,\n        \"samples\": [\n          14.072998,\n          13.953307,\n          13.927254\n        ],\n        \"semantic_type\": \"\",\n        \"description\": \"\"\n      }\n    },\n    {\n      \"column\": \"Elevation\",\n      \"properties\": {\n        \"dtype\": \"number\",\n        \"std\": 341.7977959646472,\n        \"min\": 480.8,\n        \"max\": 1659.9,\n        \"num_unique_values\": 4042,\n        \"samples\": [\n          1067.5,\n          528.7,\n          1549.3\n        ],\n        \"semantic_type\": \"\",\n        \"description\": \"\"\n      }\n    },\n    {\n      \"column\": \"Time\",\n      \"properties\": {\n        \"dtype\": \"number\",\n        \"std\": 6088,\n        \"min\": 0,\n        \"max\": 20896,\n        \"num_unique_values\": 5993,\n        \"samples\": [\n          6144,\n          4792,\n          6439\n        ],\n        \"semantic_type\": \"\",\n        \"description\": \"\"\n      }\n    },\n    {\n      \"column\": \"Distance\",\n      \"properties\": {\n        \"dtype\": \"number\",\n        \"std\": 16529.01757905709,\n        \"min\": 0.0,\n        \"max\": 61367.54987900978,\n        \"num_unique_values\": 5992,\n        \"samples\": [\n          22222.47972365531,\n          18987.2861456905,\n          22699.90666299664\n        ],\n        \"semantic_type\": \"\",\n        \"description\": \"\"\n      }\n    }\n  ]\n}"
            }
          },
          "metadata": {},
          "execution_count": 12
        }
      ]
    },
    {
      "cell_type": "code",
      "source": [
        "# Print the range of all columns in the DataFrame\n",
        "for col in df.columns:\n",
        "    print(f\"Column '{col}': Min = {df[col].min()}, Max = {df[col].max()}\")"
      ],
      "metadata": {
        "id": "CvGhQlRu399s",
        "outputId": "d62ec7da-afc6-449d-f80e-11ae7435dd5d",
        "colab": {
          "base_uri": "https://localhost:8080/"
        }
      },
      "execution_count": 13,
      "outputs": [
        {
          "output_type": "stream",
          "name": "stdout",
          "text": [
            "Column 'Latitude': Min = 46.338096, Max = 46.422636\n",
            "Column 'Longitude': Min = 13.919303, Max = 14.112036\n",
            "Column 'Elevation': Min = 480.8, Max = 1659.9\n",
            "Column 'Time': Min = 0, Max = 20896\n",
            "Column 'Distance': Min = 0.0, Max = 61367.54987900978\n"
          ]
        }
      ]
    },
    {
      "cell_type": "markdown",
      "metadata": {
        "id": "QScGxf8-0pf4"
      },
      "source": [
        "## Model Choice\n",
        "\n",
        "[Explain why you've chosen a particular model as the baseline. This could be a simple statistical model or a basic machine learning model. Justify your choice.]\n"
      ]
    },
    {
      "cell_type": "markdown",
      "source": [
        "## Feature engineering"
      ],
      "metadata": {
        "id": "PERUb1na5Azr"
      }
    },
    {
      "cell_type": "code",
      "source": [
        "# Assuming 'df' is your DataFrame as defined in the previous code.\n",
        "df['Latitude_prev'] = df['Latitude'].shift(1)\n",
        "df['Longitude_prev'] = df['Longitude'].shift(1)\n",
        "df['Elevation_prev'] = df['Elevation'].shift(1)\n",
        "df['Latitude_next'] = df['Latitude'].shift(-1)\n",
        "df['Longitude_next'] = df['Longitude'].shift(-1)\n",
        "df['Elevation_next'] = df['Elevation'].shift(-1)\n",
        "\n",
        "# Calculate speed based on distance and time differences\n",
        "df['Time_prev'] = df['Time'].shift(1)\n",
        "df['Time_next'] = df['Time'].shift(-1)\n",
        "df['Distance_prev'] = df['Distance'].shift(1)\n",
        "df['Distance_next'] = df['Distance'].shift(-1)\n",
        "\n",
        "# Calculate time difference\n",
        "df['Time_diff_prev'] = df['Time'] - df['Time_prev']\n",
        "df['Time_diff_next'] = df['Time_next'] - df['Time']\n",
        "\n",
        "# Calculate distance difference\n",
        "df['Distance_diff_prev'] = df['Distance'] - df['Distance_prev']\n",
        "df['Distance_diff_next'] = df['Distance_next'] - df['Distance']\n",
        "\n",
        "# Calculate speed (m/s)\n",
        "df['Speed'] = (df['Distance_diff_next'] + df['Distance_diff_prev']) / (df['Time_diff_next'] + df['Time_diff_prev'])\n",
        "\n",
        "# Calculate the total elevation gain\n",
        "df['Elevation_diff'] = df['Elevation'] - df['Elevation_prev']\n",
        "df['total_elev_gain'] = df['Elevation_diff'].cumsum()\n",
        "\n",
        "# Replace negative elevation differences with 0\n",
        "df['total_elev_gain'] = df['total_elev_gain'].clip(lower=0)\n",
        "\n",
        "# Drop additional columns\n",
        "df = df.drop(['Time_prev', 'Time_next', 'Distance_prev', 'Distance_next', 'Time_diff_prev', 'Time_diff_next', 'Distance_diff_prev', 'Distance_diff_next',\n",
        "              'Elevation_diff'], axis=1)\n",
        "\n",
        "print(df.head())"
      ],
      "metadata": {
        "id": "SC2706GM58Lv",
        "outputId": "b426ee35-2c3e-44c9-a724-7234a1355098",
        "colab": {
          "base_uri": "https://localhost:8080/"
        }
      },
      "execution_count": 14,
      "outputs": [
        {
          "output_type": "stream",
          "name": "stdout",
          "text": [
            "    Latitude  Longitude  Elevation  Time   Distance  Latitude_prev  \\\n",
            "0  46.363649  14.112036      511.5     0   0.000000            NaN   \n",
            "1  46.363691  14.112026      511.0     1   4.731651      46.363649   \n",
            "2  46.363778  14.112031      510.1     3  14.410085      46.363691   \n",
            "3  46.363835  14.112023      509.7     5  20.775954      46.363778   \n",
            "4  46.363888  14.112007      509.4     7  26.794638      46.363835   \n",
            "\n",
            "   Longitude_prev  Elevation_prev  Latitude_next  Longitude_next  \\\n",
            "0             NaN             NaN      46.363691       14.112026   \n",
            "1       14.112036           511.5      46.363778       14.112031   \n",
            "2       14.112026           511.0      46.363835       14.112023   \n",
            "3       14.112031           510.1      46.363888       14.112007   \n",
            "4       14.112023           509.7      46.363943       14.111994   \n",
            "\n",
            "   Elevation_next     Speed  total_elev_gain  \n",
            "0           511.0       NaN              NaN  \n",
            "1           510.1  4.803362              0.0  \n",
            "2           509.7  4.011076              0.0  \n",
            "3           509.4  3.096138              0.0  \n",
            "4           509.0  3.053427              0.0  \n"
          ]
        }
      ]
    },
    {
      "cell_type": "code",
      "source": [
        "def move_random_files(source_dir, destination_dir, num_files):\n",
        "    # Get a list of all files in the source directory\n",
        "    files = [f for f in os.listdir(source_dir) if os.path.isfile(os.path.join(source_dir, f))]\n",
        "\n",
        "    # Check if there are enough files to move\n",
        "    if len(files) < num_files:\n",
        "        print(f\"Not enough files in {source_dir}. Moving {len(files)} files.\")\n",
        "        num_files = len(files)\n",
        "\n",
        "    # Randomly select files\n",
        "    selected_files = random.sample(files, num_files)\n",
        "\n",
        "    # Move the selected files to the destination directory\n",
        "    for file in selected_files:\n",
        "        source_path = os.path.join(source_dir, file)\n",
        "        destination_path = os.path.join(destination_dir, file)\n",
        "        try:\n",
        "            shutil.move(source_path, destination_path)\n",
        "            print(f\"Moved {file} to {destination_dir}\")\n",
        "        except Exception as e:\n",
        "            print(f\"Error moving {file}: {e}\")\n",
        "\n",
        "# Example usage\n",
        "source_directory = '/content/Rider1_preprocessed'\n",
        "destination_directory = '/content/Rider1_test'\n",
        "number_of_files = 10\n",
        "\n",
        "# Create destination directory if it does not exist\n",
        "if not os.path.exists(destination_directory):\n",
        "    os.makedirs(destination_directory)\n",
        "\n",
        "move_random_files(source_directory, destination_directory, number_of_files)"
      ],
      "metadata": {
        "id": "jdMbUjrS-kd7",
        "outputId": "f531c1ab-a5aa-45a1-d93f-d9e0420a6d16",
        "colab": {
          "base_uri": "https://localhost:8080/"
        }
      },
      "execution_count": 15,
      "outputs": [
        {
          "output_type": "stream",
          "name": "stdout",
          "text": [
            "Moved f81.xlsx to /content/Rider1_test\n",
            "Moved f492.xlsx to /content/Rider1_test\n",
            "Moved f556.xlsx to /content/Rider1_test\n",
            "Moved f747.xlsx to /content/Rider1_test\n",
            "Moved f681.xlsx to /content/Rider1_test\n",
            "Moved f411.xlsx to /content/Rider1_test\n",
            "Moved f238.xlsx to /content/Rider1_test\n",
            "Moved f86.xlsx to /content/Rider1_test\n",
            "Moved f2.xlsx to /content/Rider1_test\n",
            "Moved f41.xlsx to /content/Rider1_test\n"
          ]
        }
      ]
    },
    {
      "cell_type": "code",
      "source": [
        "# Directory containing the Excel files\n",
        "directory = '/content/Rider1_preprocessed'\n",
        "\n",
        "# Initialize an empty list to store DataFrames\n",
        "dataframes = []\n",
        "\n",
        "# Iterate over all files in the directory\n",
        "for filename in os.listdir(directory):\n",
        "    if filename.endswith('.xlsx'):  # Process only .xlsx files\n",
        "        filepath = os.path.join(directory, filename)\n",
        "\n",
        "        # Read the Excel file into a DataFrame\n",
        "        df = pd.read_excel(filepath)\n",
        "\n",
        "        # Apply preprocessing\n",
        "        df['Latitude_prev'] = df['Latitude'].shift(1)\n",
        "        df['Longitude_prev'] = df['Longitude'].shift(1)\n",
        "        df['Elevation_prev'] = df['Elevation'].shift(1)\n",
        "        df['Latitude_next'] = df['Latitude'].shift(-1)\n",
        "        df['Longitude_next'] = df['Longitude'].shift(-1)\n",
        "        df['Elevation_next'] = df['Elevation'].shift(-1)\n",
        "\n",
        "        df['Time_prev'] = df['Time'].shift(1)\n",
        "        df['Time_next'] = df['Time'].shift(-1)\n",
        "        df['Distance_prev'] = df['Distance'].shift(1)\n",
        "        df['Distance_next'] = df['Distance'].shift(-1)\n",
        "\n",
        "        df['Time_diff_prev'] = df['Time'] - df['Time_prev']\n",
        "        df['Time_diff_next'] = df['Time_next'] - df['Time']\n",
        "\n",
        "        df['Distance_diff_prev'] = df['Distance'] - df['Distance_prev']\n",
        "        df['Distance_diff_next'] = df['Distance_next'] - df['Distance']\n",
        "\n",
        "        df['Speed'] = (df['Distance_diff_next'] + df['Distance_diff_prev']) / (df['Time_diff_next'] + df['Time_diff_prev'])\n",
        "\n",
        "        df['Elevation_diff'] = df['Elevation'] - df['Elevation_prev']\n",
        "        df['total_elev_gain'] = df['Elevation_diff'].cumsum()\n",
        "        df['total_elev_gain'] = df['total_elev_gain'].clip(lower=0)\n",
        "\n",
        "        df = df.drop(['Time_prev', 'Time_next', 'Distance_prev', 'Distance_next', 'Time_diff_prev', 'Time_diff_next',\n",
        "                      'Distance_diff_prev', 'Distance_diff_next', 'Elevation_diff'], axis=1)\n",
        "\n",
        "        # Drop NaN values\n",
        "        df.dropna(inplace=True)\n",
        "\n",
        "        # Append the processed DataFrame to the list\n",
        "        dataframes.append(df)\n",
        "\n",
        "# Combine all DataFrames into a single DataFrame\n",
        "combined_df = pd.concat(dataframes, ignore_index=True)\n",
        "\n",
        "# Display the first few rows of the combined DataFrame\n",
        "print(combined_df.head())\n",
        "\n",
        "# Save the combined DataFrame to a file (optional)\n",
        "combined_df.to_csv('/content/combined_data.csv', index=False)\n"
      ],
      "metadata": {
        "id": "DB24bJOb7Xju",
        "outputId": "94603492-4807-455f-a927-1248b02dbd7f",
        "colab": {
          "base_uri": "https://localhost:8080/"
        }
      },
      "execution_count": 16,
      "outputs": [
        {
          "output_type": "stream",
          "name": "stdout",
          "text": [
            "    Latitude  Longitude  Elevation  Time   Distance  Latitude_prev  \\\n",
            "0  46.142038  15.035406      217.0     4  25.130109      46.142250   \n",
            "1  46.141942  15.035371      217.0     5  36.138238      46.142038   \n",
            "2  46.141879  15.035354      217.0     6  43.263069      46.141942   \n",
            "3  46.141818  15.035340      217.0     7  50.129212      46.141879   \n",
            "4  46.141756  15.035328      217.0     8  57.082857      46.141818   \n",
            "\n",
            "   Longitude_prev  Elevation_prev  Latitude_next  Longitude_next  \\\n",
            "0       15.035519           217.0      46.141942       15.035371   \n",
            "1       15.035406           217.0      46.141879       15.035354   \n",
            "2       15.035371           217.0      46.141818       15.035340   \n",
            "3       15.035354           217.0      46.141756       15.035328   \n",
            "4       15.035340           217.0      46.141696       15.035317   \n",
            "\n",
            "   Elevation_next     Speed  total_elev_gain  \n",
            "0           217.0  7.227648              0.0  \n",
            "1           217.0  9.066480              0.0  \n",
            "2           217.0  6.995487              0.0  \n",
            "3           217.0  6.909894              0.0  \n",
            "4           217.0  6.838414              0.0  \n"
          ]
        }
      ]
    },
    {
      "cell_type": "markdown",
      "metadata": {
        "id": "bfZQKrVg0pf5"
      },
      "source": [
        "## Feature Selection\n",
        "\n",
        "[Indicate which features from the dataset you will be using for the baseline model, and justify your selection.]\n"
      ]
    },
    {
      "cell_type": "code",
      "execution_count": 17,
      "metadata": {
        "id": "xOIJ9xv80pf6"
      },
      "outputs": [],
      "source": [
        "# Load the dataset\n",
        "# Replace 'your_dataset.csv' with the path to your actual dataset\n",
        "df = pd.read_csv('/content/combined_data.csv')\n",
        "\n",
        "# Feature selection\n",
        "# Example: Selecting only two features for a simple baseline model\n",
        "X = df[['Latitude', 'Longitude', 'Elevation', 'Latitude_prev', 'Longitude_prev', 'Elevation_prev', 'Latitude_next', 'Longitude_next', 'Elevation_next', 'Distance', 'total_elev_gain']] # Add elevation_prev and elevation_next\n",
        "y = df['Speed']\n",
        "\n",
        "# Splitting the dataset\n",
        "X_train, X_test, y_train, y_test = train_test_split(X, y, test_size=0.2, random_state=42)\n"
      ]
    },
    {
      "cell_type": "code",
      "source": [
        "# Size of datasets\n",
        "print(\"X_train shape:\", X_train.shape)\n",
        "print(\"X_test shape:\", X_test.shape)\n",
        "print(\"y_train shape:\", y_train.shape)\n",
        "print(\"y_test shape:\", y_test.shape)\n"
      ],
      "metadata": {
        "id": "6PrRXSWADx06",
        "outputId": "fc70996c-ec66-43c0-d29b-dd646e8567dd",
        "colab": {
          "base_uri": "https://localhost:8080/"
        }
      },
      "execution_count": 18,
      "outputs": [
        {
          "output_type": "stream",
          "name": "stdout",
          "text": [
            "X_train shape: (3613878, 11)\n",
            "X_test shape: (903470, 11)\n",
            "y_train shape: (3613878,)\n",
            "y_test shape: (903470,)\n"
          ]
        }
      ]
    },
    {
      "cell_type": "markdown",
      "metadata": {
        "id": "PjECCs2Y0pf7"
      },
      "source": [
        "## Implementation\n",
        "\n",
        "[Implement your baseline model here.]\n",
        "\n"
      ]
    },
    {
      "cell_type": "markdown",
      "source": [
        "#### Baseline model 1 - Linear Regression"
      ],
      "metadata": {
        "id": "7UMUl9g2mGQt"
      }
    },
    {
      "cell_type": "code",
      "execution_count": 28,
      "metadata": {
        "id": "Yn9eWOn10pf8",
        "outputId": "5091b4db-1e26-4ed1-dab2-adea21f82838",
        "colab": {
          "base_uri": "https://localhost:8080/"
        }
      },
      "outputs": [
        {
          "output_type": "stream",
          "name": "stdout",
          "text": [
            "Mean Squared Error: 15.843865942382164\n"
          ]
        }
      ],
      "source": [
        "import numpy as np\n",
        "from sklearn.linear_model import LinearRegression\n",
        "\n",
        "# Initialize and train the model\n",
        "model = LinearRegression()\n",
        "model.fit(X_train, y_train)\n",
        "\n",
        "# Make predictions\n",
        "y_pred = model.predict(X_test)\n",
        "\n",
        "# Evaluate the model\n",
        "mse = mean_squared_error(y_test, y_pred)\n",
        "print(f\"Mean Squared Error: {mse}\")"
      ]
    },
    {
      "cell_type": "markdown",
      "source": [
        "#### Baseline model 2 - Simple Neural Network"
      ],
      "metadata": {
        "id": "-1N6WpAUmJdS"
      }
    },
    {
      "cell_type": "code",
      "source": [
        "import tensorflow as tf\n",
        "from tensorflow.keras.models import Sequential\n",
        "from tensorflow.keras.layers import Dense\n",
        "from tensorflow.keras.optimizers import Adam\n",
        "from sklearn.preprocessing import StandardScaler\n",
        "from sklearn.model_selection import train_test_split\n",
        "import pandas as pd\n",
        "\n",
        "# Normalize the features using StandardScaler\n",
        "scaler = StandardScaler()\n",
        "X_train_scaled = scaler.fit_transform(X_train)\n",
        "X_test_scaled = scaler.transform(X_test)\n",
        "\n",
        "# Build the neural network model\n",
        "model = Sequential([\n",
        "    Dense(64, input_dim=X_train.shape[1], activation='relu'),  # First hidden layer\n",
        "    Dense(32, activation='relu'),  # Second hidden layer\n",
        "    Dense(1)  # Output layer (no activation since we're doing regression)\n",
        "])\n",
        "\n",
        "# Compile the model\n",
        "model.compile(optimizer=Adam(), loss='mean_squared_error', metrics=['mae'])\n",
        "\n",
        "# Train the model\n",
        "history = model.fit(X_train_scaled, y_train, epochs=10, batch_size=32, validation_data=(X_test_scaled, y_test))\n",
        "\n",
        "# Evaluate the model\n",
        "loss, mae = model.evaluate(X_test_scaled, y_test)\n",
        "print(f\"Test Loss: {loss}, Test MAE: {mae}\")\n",
        "\n",
        "# Optionally, plot the training history (e.g., loss or MAE over epochs)\n",
        "import matplotlib.pyplot as plt\n",
        "plt.plot(history.history['loss'], label='Training Loss')\n",
        "plt.plot(history.history['val_loss'], label='Validation Loss')\n",
        "plt.xlabel('Epochs')\n",
        "plt.ylabel('Loss')\n",
        "plt.legend()\n",
        "plt.show()"
      ],
      "metadata": {
        "id": "Sl_RvnG1mMs3",
        "outputId": "2c615dd6-8258-4fe0-c5a8-e87b3c5238c1",
        "colab": {
          "base_uri": "https://localhost:8080/",
          "height": 850
        }
      },
      "execution_count": 45,
      "outputs": [
        {
          "output_type": "stream",
          "name": "stdout",
          "text": [
            "Epoch 1/10\n",
            "112934/112934 [==============================] - 205s 2ms/step - loss: 12.7232 - mae: 2.4976 - val_loss: 11.5415 - val_mae: 2.3831\n",
            "Epoch 2/10\n",
            "112934/112934 [==============================] - 203s 2ms/step - loss: 11.2358 - mae: 2.2980 - val_loss: 10.2172 - val_mae: 2.1564\n",
            "Epoch 3/10\n",
            "112934/112934 [==============================] - 204s 2ms/step - loss: 10.3560 - mae: 2.1570 - val_loss: 9.7764 - val_mae: 2.0944\n",
            "Epoch 4/10\n",
            "112934/112934 [==============================] - 197s 2ms/step - loss: 9.6820 - mae: 2.0742 - val_loss: 8.9182 - val_mae: 2.0069\n",
            "Epoch 5/10\n",
            "112934/112934 [==============================] - 202s 2ms/step - loss: 9.2629 - mae: 2.0201 - val_loss: 8.6057 - val_mae: 1.9431\n",
            "Epoch 6/10\n",
            "112934/112934 [==============================] - 201s 2ms/step - loss: 9.0418 - mae: 1.9884 - val_loss: 8.6456 - val_mae: 1.9577\n",
            "Epoch 7/10\n",
            "112934/112934 [==============================] - 201s 2ms/step - loss: 8.8892 - mae: 1.9690 - val_loss: 8.3290 - val_mae: 1.9088\n",
            "Epoch 8/10\n",
            "112934/112934 [==============================] - 202s 2ms/step - loss: 8.7199 - mae: 1.9463 - val_loss: 9.4259 - val_mae: 2.0880\n",
            "Epoch 9/10\n",
            "112934/112934 [==============================] - 203s 2ms/step - loss: 8.6111 - mae: 1.9308 - val_loss: 8.0165 - val_mae: 1.8654\n",
            "Epoch 10/10\n",
            "112934/112934 [==============================] - 204s 2ms/step - loss: 8.5155 - mae: 1.9194 - val_loss: 8.0229 - val_mae: 1.8808\n",
            "28234/28234 [==============================] - 34s 1ms/step - loss: 8.0229 - mae: 1.8808\n",
            "Test Loss: 8.022904396057129, Test MAE: 1.880849003791809\n"
          ]
        },
        {
          "output_type": "display_data",
          "data": {
            "text/plain": [
              "<Figure size 640x480 with 1 Axes>"
            ],
            "image/png": "[encoded data removed]"
          },
          "metadata": {}
        }
      ]
    },
    {
      "cell_type": "markdown",
      "metadata": {
        "id": "tbKtVyLp0pf9"
      },
      "source": [
        "## Evaluation\n",
        "\n",
        "[Clearly state what metrics you will use to evaluate the model's performance. These metrics will serve as a starting point for evaluating more complex models later on.]\n",
        "\n"
      ]
    },
    {
      "cell_type": "code",
      "execution_count": 71,
      "metadata": {
        "id": "TPKEFrht0pf-",
        "outputId": "5c40cbed-e992-4298-9581-820462b5f2e6",
        "colab": {
          "base_uri": "https://localhost:8080/"
        }
      },
      "outputs": [
        {
          "output_type": "stream",
          "name": "stdout",
          "text": [
            "     Latitude  Longitude  Elevation  Time   Distance  Latitude_prev  \\\n",
            "11  46.078104  14.825900      243.0     0   0.000000      46.078104   \n",
            "12  46.077981  14.825824      243.0     2  14.882201      46.078104   \n",
            "13  46.077912  14.825778      243.0     4  23.336991      46.077981   \n",
            "14  46.077752  14.825673      243.0     6  42.888397      46.077912   \n",
            "15  46.077685  14.825635      243.0     7  50.894766      46.077752   \n",
            "\n",
            "    Longitude_prev  Elevation_prev  Latitude_next  Longitude_next  \\\n",
            "11       14.825900           243.0      46.077981       14.825824   \n",
            "12       14.825900           243.0      46.077912       14.825778   \n",
            "13       14.825824           243.0      46.077752       14.825673   \n",
            "14       14.825778           243.0      46.077685       14.825635   \n",
            "15       14.825673           243.0      46.077649       14.825615   \n",
            "\n",
            "    Elevation_next     Speed  total_elev_gain  \n",
            "11           243.0  7.441100              0.0  \n",
            "12           243.0  5.834248              0.0  \n",
            "13           243.0  7.001549              0.0  \n",
            "14           243.0  9.185925              0.0  \n",
            "15           243.0  6.148267              0.0  \n"
          ]
        }
      ],
      "source": [
        "# Prepare test file\n",
        "df = pd.read_excel('/content/Rider1_test/f681.xlsx')\n",
        "\n",
        "# Assuming 'df' is your DataFrame as defined in the previous code.\n",
        "df['Latitude_prev'] = df['Latitude'].shift(1)\n",
        "df['Longitude_prev'] = df['Longitude'].shift(1)\n",
        "df['Elevation_prev'] = df['Elevation'].shift(1)\n",
        "df['Latitude_next'] = df['Latitude'].shift(-1)\n",
        "df['Longitude_next'] = df['Longitude'].shift(-1)\n",
        "df['Elevation_next'] = df['Elevation'].shift(-1)\n",
        "\n",
        "# Calculate speed based on distance and time differences\n",
        "df['Time_prev'] = df['Time'].shift(1)\n",
        "df['Time_next'] = df['Time'].shift(-1)\n",
        "df['Distance_prev'] = df['Distance'].shift(1)\n",
        "df['Distance_next'] = df['Distance'].shift(-1)\n",
        "\n",
        "# Calculate time difference\n",
        "df['Time_diff_prev'] = df['Time'] - df['Time_prev']\n",
        "df['Time_diff_next'] = df['Time_next'] - df['Time']\n",
        "\n",
        "# Calculate distance difference\n",
        "df['Distance_diff_prev'] = df['Distance'] - df['Distance_prev']\n",
        "df['Distance_diff_next'] = df['Distance_next'] - df['Distance']\n",
        "\n",
        "# Calculate speed (m/s)\n",
        "df['Speed'] = (df['Distance_diff_next'] + df['Distance_diff_prev']) / (df['Time_diff_next'] + df['Time_diff_prev'])\n",
        "\n",
        "# Calculate the total elevation gain\n",
        "df['Elevation_diff'] = df['Elevation'] - df['Elevation_prev']\n",
        "df['total_elev_gain'] = df['Elevation_diff'].cumsum()\n",
        "\n",
        "# Replace negative elevation differences with 0\n",
        "df['total_elev_gain'] = df['total_elev_gain'].clip(lower=0)\n",
        "\n",
        "# Drop additional columns\n",
        "df = df.drop(['Time_prev', 'Time_next', 'Distance_prev', 'Distance_next', 'Time_diff_prev', 'Time_diff_next', 'Distance_diff_prev', 'Distance_diff_next',\n",
        "              'Elevation_diff'], axis=1)\n",
        "\n",
        "df.dropna(inplace=True)\n",
        "\n",
        "print(df.head())"
      ]
    },
    {
      "cell_type": "code",
      "source": [
        "# Feature selection\n",
        "# Example: Selecting only two features for a simple baseline model\n",
        "X = df[['Latitude', 'Longitude', 'Elevation', 'Latitude_prev', 'Longitude_prev', 'Elevation_prev', 'Latitude_next', 'Longitude_next', 'Elevation_next', 'Distance', 'total_elev_gain']]\n",
        "y = df['Speed']\n"
      ],
      "metadata": {
        "id": "MclLZ8I6j9RK"
      },
      "execution_count": 72,
      "outputs": []
    },
    {
      "cell_type": "code",
      "source": [
        "# Normalize the new data using the same scaler fitted on the training data\n",
        "X_new_scaled = scaler.transform(X)\n",
        "\n",
        "# Make predictions on the new data\n",
        "y_pred = model.predict(X_new_scaled)\n",
        "\n",
        "# Add the predicted values as a new column 'Speed_pred' in the original DataFrame\n",
        "df['Speed_pred'] = y_pred\n",
        "\n",
        "# Optionally, check the first few rows to verify the new column is added correctly\n",
        "print(df.head())\n"
      ],
      "metadata": {
        "id": "-g1OnD9wkXP7",
        "outputId": "09ffd012-2ea9-4827-f82e-c11cae1b2b1a",
        "colab": {
          "base_uri": "https://localhost:8080/"
        }
      },
      "execution_count": 73,
      "outputs": [
        {
          "output_type": "stream",
          "name": "stdout",
          "text": [
            " 95/314 [========>.....................] - ETA: 0s"
          ]
        },
        {
          "output_type": "stream",
          "name": "stderr",
          "text": [
            "/usr/local/lib/python3.10/dist-packages/sklearn/base.py:486: UserWarning: X has feature names, but StandardScaler was fitted without feature names\n",
            "  warnings.warn(\n"
          ]
        },
        {
          "output_type": "stream",
          "name": "stdout",
          "text": [
            "314/314 [==============================] - 0s 1ms/step\n",
            "     Latitude  Longitude  Elevation  Time   Distance  Latitude_prev  \\\n",
            "11  46.078104  14.825900      243.0     0   0.000000      46.078104   \n",
            "12  46.077981  14.825824      243.0     2  14.882201      46.078104   \n",
            "13  46.077912  14.825778      243.0     4  23.336991      46.077981   \n",
            "14  46.077752  14.825673      243.0     6  42.888397      46.077912   \n",
            "15  46.077685  14.825635      243.0     7  50.894766      46.077752   \n",
            "\n",
            "    Longitude_prev  Elevation_prev  Latitude_next  Longitude_next  \\\n",
            "11       14.825900           243.0      46.077981       14.825824   \n",
            "12       14.825900           243.0      46.077912       14.825778   \n",
            "13       14.825824           243.0      46.077752       14.825673   \n",
            "14       14.825778           243.0      46.077685       14.825635   \n",
            "15       14.825673           243.0      46.077649       14.825615   \n",
            "\n",
            "    Elevation_next     Speed  total_elev_gain  Speed_pred  \n",
            "11           243.0  7.441100              0.0 -180.901154  \n",
            "12           243.0  5.834248              0.0 -438.684418  \n",
            "13           243.0  7.001549              0.0 -589.789307  \n",
            "14           243.0  9.185925              0.0 -802.376953  \n",
            "15           243.0  6.148267              0.0 -843.819092  \n"
          ]
        }
      ]
    },
    {
      "cell_type": "code",
      "source": [
        "df.head()"
      ],
      "metadata": {
        "id": "SJKt_lDbk62_",
        "outputId": "9d750b62-f055-428e-f2cb-500e40740ce6",
        "colab": {
          "base_uri": "https://localhost:8080/",
          "height": 226
        }
      },
      "execution_count": 74,
      "outputs": [
        {
          "output_type": "execute_result",
          "data": {
            "text/plain": [
              "     Latitude  Longitude  Elevation  Time   Distance  Latitude_prev  \\\n",
              "11  46.078104  14.825900      243.0     0   0.000000      46.078104   \n",
              "12  46.077981  14.825824      243.0     2  14.882201      46.078104   \n",
              "13  46.077912  14.825778      243.0     4  23.336991      46.077981   \n",
              "14  46.077752  14.825673      243.0     6  42.888397      46.077912   \n",
              "15  46.077685  14.825635      243.0     7  50.894766      46.077752   \n",
              "\n",
              "    Longitude_prev  Elevation_prev  Latitude_next  Longitude_next  \\\n",
              "11       14.825900           243.0      46.077981       14.825824   \n",
              "12       14.825900           243.0      46.077912       14.825778   \n",
              "13       14.825824           243.0      46.077752       14.825673   \n",
              "14       14.825778           243.0      46.077685       14.825635   \n",
              "15       14.825673           243.0      46.077649       14.825615   \n",
              "\n",
              "    Elevation_next     Speed  total_elev_gain  Speed_pred  \n",
              "11           243.0  7.441100              0.0 -180.901154  \n",
              "12           243.0  5.834248              0.0 -438.684418  \n",
              "13           243.0  7.001549              0.0 -589.789307  \n",
              "14           243.0  9.185925              0.0 -802.376953  \n",
              "15           243.0  6.148267              0.0 -843.819092  "
            ],
            "text/html": [
              "\n",
              "  <div id=\"df-7bde486a-791e-449f-8ec3-05c3f347bb31\" class=\"colab-df-container\">\n",
              "    <div>\n",
              "<style scoped>\n",
              "    .dataframe tbody tr th:only-of-type {\n",
              "        vertical-align: middle;\n",
              "    }\n",
              "\n",
              "    .dataframe tbody tr th {\n",
              "        vertical-align: top;\n",
              "    }\n",
              "\n",
              "    .dataframe thead th {\n",
              "        text-align: right;\n",
              "    }\n",
              "</style>\n",
              "<table border=\"1\" class=\"dataframe\">\n",
              "  <thead>\n",
              "    <tr style=\"text-align: right;\">\n",
              "      <th></th>\n",
              "      <th>Latitude</th>\n",
              "      <th>Longitude</th>\n",
              "      <th>Elevation</th>\n",
              "      <th>Time</th>\n",
              "      <th>Distance</th>\n",
              "      <th>Latitude_prev</th>\n",
              "      <th>Longitude_prev</th>\n",
              "      <th>Elevation_prev</th>\n",
              "      <th>Latitude_next</th>\n",
              "      <th>Longitude_next</th>\n",
              "      <th>Elevation_next</th>\n",
              "      <th>Speed</th>\n",
              "      <th>total_elev_gain</th>\n",
              "      <th>Speed_pred</th>\n",
              "    </tr>\n",
              "  </thead>\n",
              "  <tbody>\n",
              "    <tr>\n",
              "      <th>11</th>\n",
              "      <td>46.078104</td>\n",
              "      <td>14.825900</td>\n",
              "      <td>243.0</td>\n",
              "      <td>0</td>\n",
              "      <td>0.000000</td>\n",
              "      <td>46.078104</td>\n",
              "      <td>14.825900</td>\n",
              "      <td>243.0</td>\n",
              "      <td>46.077981</td>\n",
              "      <td>14.825824</td>\n",
              "      <td>243.0</td>\n",
              "      <td>7.441100</td>\n",
              "      <td>0.0</td>\n",
              "      <td>-180.901154</td>\n",
              "    </tr>\n",
              "    <tr>\n",
              "      <th>12</th>\n",
              "      <td>46.077981</td>\n",
              "      <td>14.825824</td>\n",
              "      <td>243.0</td>\n",
              "      <td>2</td>\n",
              "      <td>14.882201</td>\n",
              "      <td>46.078104</td>\n",
              "      <td>14.825900</td>\n",
              "      <td>243.0</td>\n",
              "      <td>46.077912</td>\n",
              "      <td>14.825778</td>\n",
              "      <td>243.0</td>\n",
              "      <td>5.834248</td>\n",
              "      <td>0.0</td>\n",
              "      <td>-438.684418</td>\n",
              "    </tr>\n",
              "    <tr>\n",
              "      <th>13</th>\n",
              "      <td>46.077912</td>\n",
              "      <td>14.825778</td>\n",
              "      <td>243.0</td>\n",
              "      <td>4</td>\n",
              "      <td>23.336991</td>\n",
              "      <td>46.077981</td>\n",
              "      <td>14.825824</td>\n",
              "      <td>243.0</td>\n",
              "      <td>46.077752</td>\n",
              "      <td>14.825673</td>\n",
              "      <td>243.0</td>\n",
              "      <td>7.001549</td>\n",
              "      <td>0.0</td>\n",
              "      <td>-589.789307</td>\n",
              "    </tr>\n",
              "    <tr>\n",
              "      <th>14</th>\n",
              "      <td>46.077752</td>\n",
              "      <td>14.825673</td>\n",
              "      <td>243.0</td>\n",
              "      <td>6</td>\n",
              "      <td>42.888397</td>\n",
              "      <td>46.077912</td>\n",
              "      <td>14.825778</td>\n",
              "      <td>243.0</td>\n",
              "      <td>46.077685</td>\n",
              "      <td>14.825635</td>\n",
              "      <td>243.0</td>\n",
              "      <td>9.185925</td>\n",
              "      <td>0.0</td>\n",
              "      <td>-802.376953</td>\n",
              "    </tr>\n",
              "    <tr>\n",
              "      <th>15</th>\n",
              "      <td>46.077685</td>\n",
              "      <td>14.825635</td>\n",
              "      <td>243.0</td>\n",
              "      <td>7</td>\n",
              "      <td>50.894766</td>\n",
              "      <td>46.077752</td>\n",
              "      <td>14.825673</td>\n",
              "      <td>243.0</td>\n",
              "      <td>46.077649</td>\n",
              "      <td>14.825615</td>\n",
              "      <td>243.0</td>\n",
              "      <td>6.148267</td>\n",
              "      <td>0.0</td>\n",
              "      <td>-843.819092</td>\n",
              "    </tr>\n",
              "  </tbody>\n",
              "</table>\n",
              "</div>\n",
              "    <div class=\"colab-df-buttons\">\n",
              "\n",
              "  <div class=\"colab-df-container\">\n",
              "    <button class=\"colab-df-convert\" onclick=\"convertToInteractive('df-7bde486a-791e-449f-8ec3-05c3f347bb31')\"\n",
              "            title=\"Convert this dataframe to an interactive table.\"\n",
              "            style=\"display:none;\">\n",
              "\n",
              "  <svg xmlns=\"http://www.w3.org/2000/svg\" height=\"24px\" viewBox=\"0 -960 960 960\">\n",
              "    <path d=\"M120-120v-720h720v720H120Zm60-500h600v-160H180v160Zm220 220h160v-160H400v160Zm0 220h160v-160H400v160ZM180-400h160v-160H180v160Zm440 0h160v-160H620v160ZM180-180h160v-160H180v160Zm440 0h160v-160H620v160Z\"/>\n",
              "  </svg>\n",
              "    </button>\n",
              "\n",
              "  <style>\n",
              "    .colab-df-container {\n",
              "      display:flex;\n",
              "      gap: 12px;\n",
              "    }\n",
              "\n",
              "    .colab-df-convert {\n",
              "      background-color: #E8F0FE;\n",
              "      border: none;\n",
              "      border-radius: 50%;\n",
              "      cursor: pointer;\n",
              "      display: none;\n",
              "      fill: #1967D2;\n",
              "      height: 32px;\n",
              "      padding: 0 0 0 0;\n",
              "      width: 32px;\n",
              "    }\n",
              "\n",
              "    .colab-df-convert:hover {\n",
              "      background-color: #E2EBFA;\n",
              "      box-shadow: 0px 1px 2px rgba(60, 64, 67, 0.3), 0px 1px 3px 1px rgba(60, 64, 67, 0.15);\n",
              "      fill: #174EA6;\n",
              "    }\n",
              "\n",
              "    .colab-df-buttons div {\n",
              "      margin-bottom: 4px;\n",
              "    }\n",
              "\n",
              "    [theme=dark] .colab-df-convert {\n",
              "      background-color: #3B4455;\n",
              "      fill: #D2E3FC;\n",
              "    }\n",
              "\n",
              "    [theme=dark] .colab-df-convert:hover {\n",
              "      background-color: #434B5C;\n",
              "      box-shadow: 0px 1px 3px 1px rgba(0, 0, 0, 0.15);\n",
              "      filter: drop-shadow(0px 1px 2px rgba(0, 0, 0, 0.3));\n",
              "      fill: #FFFFFF;\n",
              "    }\n",
              "  </style>\n",
              "\n",
              "    <script>\n",
              "      const buttonEl =\n",
              "        document.querySelector('#df-7bde486a-791e-449f-8ec3-05c3f347bb31 button.colab-df-convert');\n",
              "      buttonEl.style.display =\n",
              "        google.colab.kernel.accessAllowed ? 'block' : 'none';\n",
              "\n",
              "      async function convertToInteractive(key) {\n",
              "        const element = document.querySelector('#df-7bde486a-791e-449f-8ec3-05c3f347bb31');\n",
              "        const dataTable =\n",
              "          await google.colab.kernel.invokeFunction('convertToInteractive',\n",
              "                                                    [key], {});\n",
              "        if (!dataTable) return;\n",
              "\n",
              "        const docLinkHtml = 'Like what you see? Visit the ' +\n",
              "          '<a target=\"_blank\" href=https://colab.research.google.com/notebooks/data_table.ipynb>data table notebook</a>'\n",
              "          + ' to learn more about interactive tables.';\n",
              "        element.innerHTML = '';\n",
              "        dataTable['output_type'] = 'display_data';\n",
              "        await google.colab.output.renderOutput(dataTable, element);\n",
              "        const docLink = document.createElement('div');\n",
              "        docLink.innerHTML = docLinkHtml;\n",
              "        element.appendChild(docLink);\n",
              "      }\n",
              "    </script>\n",
              "  </div>\n",
              "\n",
              "\n",
              "<div id=\"df-3fb5904b-38cf-4d83-b9e1-95515382cf22\">\n",
              "  <button class=\"colab-df-quickchart\" onclick=\"quickchart('df-3fb5904b-38cf-4d83-b9e1-95515382cf22')\"\n",
              "            title=\"Suggest charts\"\n",
              "            style=\"display:none;\">\n",
              "\n",
              "<svg xmlns=\"http://www.w3.org/2000/svg\" height=\"24px\"viewBox=\"0 0 24 24\"\n",
              "     width=\"24px\">\n",
              "    <g>\n",
              "        <path d=\"M19 3H5c-1.1 0-2 .9-2 2v14c0 1.1.9 2 2 2h14c1.1 0 2-.9 2-2V5c0-1.1-.9-2-2-2zM9 17H7v-7h2v7zm4 0h-2V7h2v10zm4 0h-2v-4h2v4z\"/>\n",
              "    </g>\n",
              "</svg>\n",
              "  </button>\n",
              "\n",
              "<style>\n",
              "  .colab-df-quickchart {\n",
              "      --bg-color: #E8F0FE;\n",
              "      --fill-color: #1967D2;\n",
              "      --hover-bg-color: #E2EBFA;\n",
              "      --hover-fill-color: #174EA6;\n",
              "      --disabled-fill-color: #AAA;\n",
              "      --disabled-bg-color: #DDD;\n",
              "  }\n",
              "\n",
              "  [theme=dark] .colab-df-quickchart {\n",
              "      --bg-color: #3B4455;\n",
              "      --fill-color: #D2E3FC;\n",
              "      --hover-bg-color: #434B5C;\n",
              "      --hover-fill-color: #FFFFFF;\n",
              "      --disabled-bg-color: #3B4455;\n",
              "      --disabled-fill-color: #666;\n",
              "  }\n",
              "\n",
              "  .colab-df-quickchart {\n",
              "    background-color: var(--bg-color);\n",
              "    border: none;\n",
              "    border-radius: 50%;\n",
              "    cursor: pointer;\n",
              "    display: none;\n",
              "    fill: var(--fill-color);\n",
              "    height: 32px;\n",
              "    padding: 0;\n",
              "    width: 32px;\n",
              "  }\n",
              "\n",
              "  .colab-df-quickchart:hover {\n",
              "    background-color: var(--hover-bg-color);\n",
              "    box-shadow: 0 1px 2px rgba(60, 64, 67, 0.3), 0 1px 3px 1px rgba(60, 64, 67, 0.15);\n",
              "    fill: var(--button-hover-fill-color);\n",
              "  }\n",
              "\n",
              "  .colab-df-quickchart-complete:disabled,\n",
              "  .colab-df-quickchart-complete:disabled:hover {\n",
              "    background-color: var(--disabled-bg-color);\n",
              "    fill: var(--disabled-fill-color);\n",
              "    box-shadow: none;\n",
              "  }\n",
              "\n",
              "  .colab-df-spinner {\n",
              "    border: 2px solid var(--fill-color);\n",
              "    border-color: transparent;\n",
              "    border-bottom-color: var(--fill-color);\n",
              "    animation:\n",
              "      spin 1s steps(1) infinite;\n",
              "  }\n",
              "\n",
              "  @keyframes spin {\n",
              "    0% {\n",
              "      border-color: transparent;\n",
              "      border-bottom-color: var(--fill-color);\n",
              "      border-left-color: var(--fill-color);\n",
              "    }\n",
              "    20% {\n",
              "      border-color: transparent;\n",
              "      border-left-color: var(--fill-color);\n",
              "      border-top-color: var(--fill-color);\n",
              "    }\n",
              "    30% {\n",
              "      border-color: transparent;\n",
              "      border-left-color: var(--fill-color);\n",
              "      border-top-color: var(--fill-color);\n",
              "      border-right-color: var(--fill-color);\n",
              "    }\n",
              "    40% {\n",
              "      border-color: transparent;\n",
              "      border-right-color: var(--fill-color);\n",
              "      border-top-color: var(--fill-color);\n",
              "    }\n",
              "    60% {\n",
              "      border-color: transparent;\n",
              "      border-right-color: var(--fill-color);\n",
              "    }\n",
              "    80% {\n",
              "      border-color: transparent;\n",
              "      border-right-color: var(--fill-color);\n",
              "      border-bottom-color: var(--fill-color);\n",
              "    }\n",
              "    90% {\n",
              "      border-color: transparent;\n",
              "      border-bottom-color: var(--fill-color);\n",
              "    }\n",
              "  }\n",
              "</style>\n",
              "\n",
              "  <script>\n",
              "    async function quickchart(key) {\n",
              "      const quickchartButtonEl =\n",
              "        document.querySelector('#' + key + ' button');\n",
              "      quickchartButtonEl.disabled = true;  // To prevent multiple clicks.\n",
              "      quickchartButtonEl.classList.add('colab-df-spinner');\n",
              "      try {\n",
              "        const charts = await google.colab.kernel.invokeFunction(\n",
              "            'suggestCharts', [key], {});\n",
              "      } catch (error) {\n",
              "        console.error('Error during call to suggestCharts:', error);\n",
              "      }\n",
              "      quickchartButtonEl.classList.remove('colab-df-spinner');\n",
              "      quickchartButtonEl.classList.add('colab-df-quickchart-complete');\n",
              "    }\n",
              "    (() => {\n",
              "      let quickchartButtonEl =\n",
              "        document.querySelector('#df-3fb5904b-38cf-4d83-b9e1-95515382cf22 button');\n",
              "      quickchartButtonEl.style.display =\n",
              "        google.colab.kernel.accessAllowed ? 'block' : 'none';\n",
              "    })();\n",
              "  </script>\n",
              "</div>\n",
              "\n",
              "    </div>\n",
              "  </div>\n"
            ],
            "application/vnd.google.colaboratory.intrinsic+json": {
              "type": "dataframe",
              "variable_name": "df",
              "summary": "{\n  \"name\": \"df\",\n  \"rows\": 10045,\n  \"fields\": [\n    {\n      \"column\": \"Latitude\",\n      \"properties\": {\n        \"dtype\": \"number\",\n        \"std\": 0.004065697761605554,\n        \"min\": 46.060623,\n        \"max\": 46.079815,\n        \"num_unique_values\": 7105,\n        \"samples\": [\n          46.066102,\n          46.073055,\n          46.065997\n        ],\n        \"semantic_type\": \"\",\n        \"description\": \"\"\n      }\n    },\n    {\n      \"column\": \"Longitude\",\n      \"properties\": {\n        \"dtype\": \"number\",\n        \"std\": 0.003656930101637869,\n        \"min\": 14.821452,\n        \"max\": 14.83745,\n        \"num_unique_values\": 6205,\n        \"samples\": [\n          14.830276,\n          14.829518,\n          14.83184\n        ],\n        \"semantic_type\": \"\",\n        \"description\": \"\"\n      }\n    },\n    {\n      \"column\": \"Elevation\",\n      \"properties\": {\n        \"dtype\": \"number\",\n        \"std\": 67.29169164526022,\n        \"min\": 241.2,\n        \"max\": 531.2,\n        \"num_unique_values\": 1356,\n        \"samples\": [\n          255.6,\n          362.2,\n          526.6\n        ],\n        \"semantic_type\": \"\",\n        \"description\": \"\"\n      }\n    },\n    {\n      \"column\": \"Time\",\n      \"properties\": {\n        \"dtype\": \"number\",\n        \"std\": 3069,\n        \"min\": 0,\n        \"max\": 10477,\n        \"num_unique_values\": 10045,\n        \"samples\": [\n          3314,\n          5412,\n          6430\n        ],\n        \"semantic_type\": \"\",\n        \"description\": \"\"\n      }\n    },\n    {\n      \"column\": \"Distance\",\n      \"properties\": {\n        \"dtype\": \"number\",\n        \"std\": 10813.006433248172,\n        \"min\": 0.0,\n        \"max\": 39185.43149257404,\n        \"num_unique_values\": 10041,\n        \"samples\": [\n          23330.12406557316,\n          23471.72914714386,\n          9299.448575365677\n        ],\n        \"semantic_type\": \"\",\n        \"description\": \"\"\n      }\n    },\n    {\n      \"column\": \"Latitude_prev\",\n      \"properties\": {\n        \"dtype\": \"number\",\n        \"std\": 0.004065541116024409,\n        \"min\": 46.060623,\n        \"max\": 46.079815,\n        \"num_unique_values\": 7104,\n        \"samples\": [\n          46.071422,\n          46.062647,\n          46.065971\n        ],\n        \"semantic_type\": \"\",\n        \"description\": \"\"\n      }\n    },\n    {\n      \"column\": \"Longitude_prev\",\n      \"properties\": {\n        \"dtype\": \"number\",\n        \"std\": 0.0036569409308199337,\n        \"min\": 14.821452,\n        \"max\": 14.83745,\n        \"num_unique_values\": 6205,\n        \"samples\": [\n          14.830276,\n          14.829518,\n          14.83184\n        ],\n        \"semantic_type\": \"\",\n        \"description\": \"\"\n      }\n    },\n    {\n      \"column\": \"Elevation_prev\",\n      \"properties\": {\n        \"dtype\": \"number\",\n        \"std\": 67.29305391224182,\n        \"min\": 241.2,\n        \"max\": 531.2,\n        \"num_unique_values\": 1356,\n        \"samples\": [\n          255.6,\n          362.2,\n          526.6\n        ],\n        \"semantic_type\": \"\",\n        \"description\": \"\"\n      }\n    },\n    {\n      \"column\": \"Latitude_next\",\n      \"properties\": {\n        \"dtype\": \"number\",\n        \"std\": 0.0040658434231167564,\n        \"min\": 46.060623,\n        \"max\": 46.079815,\n        \"num_unique_values\": 7105,\n        \"samples\": [\n          46.066118,\n          46.073098,\n          46.066036\n        ],\n        \"semantic_type\": \"\",\n        \"description\": \"\"\n      }\n    },\n    {\n      \"column\": \"Longitude_next\",\n      \"properties\": {\n        \"dtype\": \"number\",\n        \"std\": 0.0036569199927213394,\n        \"min\": 14.821452,\n        \"max\": 14.83745,\n        \"num_unique_values\": 6206,\n        \"samples\": [\n          14.830276,\n          14.82948,\n          14.831794\n        ],\n        \"semantic_type\": \"\",\n        \"description\": \"\"\n      }\n    },\n    {\n      \"column\": \"Elevation_next\",\n      \"properties\": {\n        \"dtype\": \"number\",\n        \"std\": 67.29032933019056,\n        \"min\": 241.2,\n        \"max\": 531.2,\n        \"num_unique_values\": 1356,\n        \"samples\": [\n          255.6,\n          362.2,\n          526.6\n        ],\n        \"semantic_type\": \"\",\n        \"description\": \"\"\n      }\n    },\n    {\n      \"column\": \"Speed\",\n      \"properties\": {\n        \"dtype\": \"number\",\n        \"std\": 2.4146757997330885,\n        \"min\": 0.02245552362257668,\n        \"max\": 16.26778300461956,\n        \"num_unique_values\": 10044,\n        \"samples\": [\n          2.1264973876495787,\n          12.472106421904755,\n          6.578075847153741\n        ],\n        \"semantic_type\": \"\",\n        \"description\": \"\"\n      }\n    },\n    {\n      \"column\": \"total_elev_gain\",\n      \"properties\": {\n        \"dtype\": \"number\",\n        \"std\": 67.28898807006819,\n        \"min\": 0.0,\n        \"max\": 288.20000000000005,\n        \"num_unique_values\": 1347,\n        \"samples\": [\n          126.19999999999999,\n          239.60000000000002,\n          80.19999999999999\n        ],\n        \"semantic_type\": \"\",\n        \"description\": \"\"\n      }\n    },\n    {\n      \"column\": \"Speed_pred\",\n      \"properties\": {\n        \"dtype\": \"float32\",\n        \"num_unique_values\": 10041,\n        \"samples\": [\n          10702.392578125,\n          10519.5087890625,\n          3326.433837890625\n        ],\n        \"semantic_type\": \"\",\n        \"description\": \"\"\n      }\n    }\n  ]\n}"
            }
          },
          "metadata": {},
          "execution_count": 74
        }
      ]
    },
    {
      "cell_type": "code",
      "source": [
        "print(X_train_scaled[0])\n",
        "print(X_new_scaled[0])\n"
      ],
      "metadata": {
        "id": "1z8Jbas5xafu",
        "outputId": "a5f2837a-e0f2-438b-92b1-c037d53b06c5",
        "colab": {
          "base_uri": "https://localhost:8080/"
        }
      },
      "execution_count": 55,
      "outputs": [
        {
          "output_type": "stream",
          "name": "stdout",
          "text": [
            "[-0.10022477  0.4059342   0.01058208 -0.0998529   0.40590383  0.01059362\n",
            " -0.10059642  0.4059664   0.00890817 -0.86383038 -0.66657351]\n",
            "[ 4.60782740e+01  1.48260820e+01  2.68200000e+02  4.60782430e+01\n",
            "  1.48260530e+01  2.68200000e+02  4.60783120e+01  1.48261190e+01\n",
            "  2.68200000e+02  4.11161244e+00 -1.53084463e-17]\n"
          ]
        }
      ]
    },
    {
      "cell_type": "markdown",
      "source": [
        "### Evaluate track length in seconds\n",
        "Example code"
      ],
      "metadata": {
        "id": "_MtweafKlcKP"
      }
    },
    {
      "cell_type": "code",
      "source": [
        "import pandas as pd\n",
        "import numpy as np\n",
        "\n",
        "# Data\n",
        "data = {\n",
        "    'Speed': [np.nan, 4.606892, 5.372097, 6.147122, 6.584172],\n",
        "    'Distance': [0.0, 4.111612, 9.213784, 14.855806, 21.508028]\n",
        "}\n",
        "df = pd.DataFrame(data)\n",
        "\n",
        "# Initialize Time column\n",
        "df['Time'] = 0.0\n",
        "\n",
        "# Compute Time intelligently\n",
        "for i in range(1, len(df)):\n",
        "    if pd.notna(df.loc[i, 'Speed']):\n",
        "        df.loc[i, 'Time'] = df.loc[i - 1, 'Time'] + (df.loc[i, 'Distance'] - df.loc[i - 1, 'Distance']) / df.loc[i, 'Speed']\n",
        "\n",
        "print(df)"
      ],
      "metadata": {
        "id": "sIIZ08DBhzh_",
        "outputId": "fc3d1239-e74b-4f40-e61f-e2fa72dd1f55",
        "colab": {
          "base_uri": "https://localhost:8080/"
        }
      },
      "execution_count": 31,
      "outputs": [
        {
          "output_type": "stream",
          "name": "stdout",
          "text": [
            "      Speed   Distance      Time\n",
            "0       NaN   0.000000  0.000000\n",
            "1  4.606892   4.111612  0.892492\n",
            "2  5.372097   9.213784  1.842246\n",
            "3  6.147122  14.855806  2.760077\n",
            "4  6.584172  21.508028  3.770413\n"
          ]
        }
      ]
    }
  ],
  "metadata": {
    "language_info": {
      "name": "python"
    },
    "colab": {
      "provenance": [],
      "gpuType": "V28"
    },
    "kernelspec": {
      "name": "python3",
      "display_name": "Python 3"
    },
    "accelerator": "TPU"
  },
  "nbformat": 4,
  "nbformat_minor": 0
}