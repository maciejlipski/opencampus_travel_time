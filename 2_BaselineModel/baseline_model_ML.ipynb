{
  "cells": [
    {
      "cell_type": "markdown",
      "metadata": {
        "id": "sc-lKxYs0pfx"
      },
      "source": [
        "# Baseline Model\n",
        "\n",
        "## Table of Contents\n",
        "1. [Model Choice](#model-choice)\n",
        "2. [Feature Selection](#feature-selection)\n",
        "3. [Implementation](#implementation)\n",
        "4. [Evaluation](#evaluation)\n"
      ]
    },
    {
      "cell_type": "code",
      "source": [
        "!pip install openpyxl"
      ],
      "metadata": {
        "id": "ibI_fHbUQjF_",
        "outputId": "a94af577-fd03-4dd9-9681-3f61445c7228",
        "colab": {
          "base_uri": "https://localhost:8080/"
        }
      },
      "execution_count": 10,
      "outputs": [
        {
          "output_type": "stream",
          "name": "stdout",
          "text": [
            "Collecting openpyxl\n",
            "  Downloading openpyxl-3.1.5-py2.py3-none-any.whl.metadata (2.5 kB)\n",
            "Collecting et-xmlfile (from openpyxl)\n",
            "  Downloading et_xmlfile-2.0.0-py3-none-any.whl.metadata (2.7 kB)\n",
            "Downloading openpyxl-3.1.5-py2.py3-none-any.whl (250 kB)\n",
            "\u001b[?25l   \u001b[90m━━━━━━━━━━━━━━━━━━━━━━━━━━━━━━━━━━━━━━━━\u001b[0m \u001b[32m0.0/250.9 kB\u001b[0m \u001b[31m?\u001b[0m eta \u001b[36m-:--:--\u001b[0m\r\u001b[2K   \u001b[91m━━━━━━━━━━━━━━━━━━━━━━\u001b[0m\u001b[91m╸\u001b[0m\u001b[90m━━━━━━━━━━━━━━━━━\u001b[0m \u001b[32m143.4/250.9 kB\u001b[0m \u001b[31m4.0 MB/s\u001b[0m eta \u001b[36m0:00:01\u001b[0m\r\u001b[2K   \u001b[91m━━━━━━━━━━━━━━━━━━━━━━━━━━━━━━━━━━━━━━━\u001b[0m\u001b[90m╺\u001b[0m \u001b[32m245.8/250.9 kB\u001b[0m \u001b[31m5.3 MB/s\u001b[0m eta \u001b[36m0:00:01\u001b[0m\r\u001b[2K   \u001b[90m━━━━━━━━━━━━━━━━━━━━━━━━━━━━━━━━━━━━━━━━\u001b[0m \u001b[32m250.9/250.9 kB\u001b[0m \u001b[31m3.4 MB/s\u001b[0m eta \u001b[36m0:00:00\u001b[0m\n",
            "\u001b[?25hDownloading et_xmlfile-2.0.0-py3-none-any.whl (18 kB)\n",
            "Installing collected packages: et-xmlfile, openpyxl\n",
            "Successfully installed et-xmlfile-2.0.0 openpyxl-3.1.5\n"
          ]
        }
      ]
    },
    {
      "cell_type": "code",
      "execution_count": 24,
      "metadata": {
        "id": "oto5BB4t0pf2"
      },
      "outputs": [],
      "source": [
        "# Import necessary libraries\n",
        "import pandas as pd\n",
        "import numpy as np\n",
        "import shutil\n",
        "import random\n",
        "import os\n",
        "from sklearn.model_selection import train_test_split\n",
        "from sklearn.metrics import accuracy_score, mean_squared_error\n",
        "# Import your chosen baseline model\n",
        "# Example: from sklearn.linear_model import LogisticRegression\n"
      ]
    },
    {
      "cell_type": "markdown",
      "source": [
        "## Load dataset\n",
        "Load preprocessed dataset and print basic details."
      ],
      "metadata": {
        "id": "c8G5_jmE0tPX"
      }
    },
    {
      "cell_type": "markdown",
      "source": [
        "### Directory preparation"
      ],
      "metadata": {
        "id": "HtNm_r8A3Btz"
      }
    },
    {
      "cell_type": "code",
      "source": [
        "from google.colab import drive\n",
        "drive.mount('/content/drive')"
      ],
      "metadata": {
        "id": "3MWauQ3N06KT",
        "outputId": "eb739258-1811-45bf-f9b1-0cd191fb81d2",
        "colab": {
          "base_uri": "https://localhost:8080/"
        }
      },
      "execution_count": 25,
      "outputs": [
        {
          "output_type": "stream",
          "name": "stdout",
          "text": [
            "Drive already mounted at /content/drive; to attempt to forcibly remount, call drive.mount(\"/content/drive\", force_remount=True).\n"
          ]
        }
      ]
    },
    {
      "cell_type": "code",
      "source": [
        "import zipfile\n",
        "\n",
        "# Replace 'path/to/your/zipped_folder.zip' with the actual path to your zipped folder in Google Drive.\n",
        "zip_path = '/content/drive/MyDrive/opencampus_all_files/Rider1_preprocessed.zip'\n",
        "\n",
        "# Extract the contents of the zip file to a specified directory.\n",
        "with zipfile.ZipFile(zip_path, 'r') as zip_ref:\n",
        "    zip_ref.extractall('/content/Rider1_preprocessed')\n",
        "print(f\"Successfully unzipped {zip_path} to /content/unzipped_folder\")\n"
      ],
      "metadata": {
        "id": "2QrIoYu01hR2",
        "outputId": "714f56e6-1bef-415b-b6e3-db5a97fa96fc",
        "colab": {
          "base_uri": "https://localhost:8080/"
        }
      },
      "execution_count": 26,
      "outputs": [
        {
          "output_type": "stream",
          "name": "stdout",
          "text": [
            "Successfully unzipped /content/drive/MyDrive/opencampus_all_files/Rider1_preprocessed.zip to /content/unzipped_folder\n"
          ]
        }
      ]
    },
    {
      "cell_type": "code",
      "source": [
        "source_dir = '/content/Rider1_preprocessed/content/content/Sport_xlsx/Rider1_preprocessed'\n",
        "destination_dir = '/content/Rider1_preprocessed'\n",
        "\n",
        "# Iterate through all files in the source directory\n",
        "for filename in os.listdir(source_dir):\n",
        "    source_path = os.path.join(source_dir, filename)\n",
        "    destination_path = os.path.join(destination_dir, filename)\n",
        "\n",
        "    # Check if it's a file (not a subdirectory)\n",
        "    if os.path.isfile(source_path):\n",
        "        # Move the file\n",
        "        shutil.move(source_path, destination_path)"
      ],
      "metadata": {
        "id": "P-k6juQO13gC"
      },
      "execution_count": 27,
      "outputs": []
    },
    {
      "cell_type": "code",
      "source": [
        "# Define the directory to clean\n",
        "directory_to_clean = '/content/Rider1_preprocessed'\n",
        "\n",
        "# Check if the directory exists\n",
        "if os.path.exists(directory_to_clean):\n",
        "    for filename in os.listdir(directory_to_clean):\n",
        "        filepath = os.path.join(directory_to_clean, filename)\n",
        "        try:\n",
        "            if os.path.isdir(filepath):\n",
        "                shutil.rmtree(filepath)  # Remove folders recursively\n",
        "                print(f\"Removed directory: {filepath}\")\n",
        "        except OSError as e:\n",
        "            print(f\"Error removing {filepath}: {e}\")\n",
        "else:\n",
        "    print(f\"Directory '{directory_to_clean}' not found.\")"
      ],
      "metadata": {
        "id": "5wEFkk-121KE",
        "outputId": "4eac36c4-76a8-4e14-f582-efc16f876e2f",
        "colab": {
          "base_uri": "https://localhost:8080/"
        }
      },
      "execution_count": 28,
      "outputs": [
        {
          "output_type": "stream",
          "name": "stdout",
          "text": [
            "Removed directory: /content/Rider1_preprocessed/content\n"
          ]
        }
      ]
    },
    {
      "cell_type": "markdown",
      "source": [
        "### Explore dataset"
      ],
      "metadata": {
        "id": "VoGFv7p03exP"
      }
    },
    {
      "cell_type": "code",
      "source": [
        "# Load example file\n",
        "df = pd.read_excel('/content/Rider1_preprocessed/f1.xlsx')\n",
        "\n",
        "# Show features\n",
        "df.head()"
      ],
      "metadata": {
        "id": "IdsQcEvP3l7n",
        "outputId": "4d2469fb-05ad-457d-eb09-34905d619c22",
        "colab": {
          "base_uri": "https://localhost:8080/",
          "height": 206
        }
      },
      "execution_count": 29,
      "outputs": [
        {
          "output_type": "execute_result",
          "data": {
            "text/plain": [
              "    Latitude  Longitude  Elevation  Time   Distance\n",
              "0  46.363649  14.112036      511.5     0   0.000000\n",
              "1  46.363691  14.112026      511.0     1   4.731651\n",
              "2  46.363778  14.112031      510.1     3  14.410085\n",
              "3  46.363835  14.112023      509.7     5  20.775954\n",
              "4  46.363888  14.112007      509.4     7  26.794638"
            ],
            "text/html": [
              "\n",
              "  <div id=\"df-e25b5fa8-3433-4a57-af3f-23aa22a2376a\" class=\"colab-df-container\">\n",
              "    <div>\n",
              "<style scoped>\n",
              "    .dataframe tbody tr th:only-of-type {\n",
              "        vertical-align: middle;\n",
              "    }\n",
              "\n",
              "    .dataframe tbody tr th {\n",
              "        vertical-align: top;\n",
              "    }\n",
              "\n",
              "    .dataframe thead th {\n",
              "        text-align: right;\n",
              "    }\n",
              "</style>\n",
              "<table border=\"1\" class=\"dataframe\">\n",
              "  <thead>\n",
              "    <tr style=\"text-align: right;\">\n",
              "      <th></th>\n",
              "      <th>Latitude</th>\n",
              "      <th>Longitude</th>\n",
              "      <th>Elevation</th>\n",
              "      <th>Time</th>\n",
              "      <th>Distance</th>\n",
              "    </tr>\n",
              "  </thead>\n",
              "  <tbody>\n",
              "    <tr>\n",
              "      <th>0</th>\n",
              "      <td>46.363649</td>\n",
              "      <td>14.112036</td>\n",
              "      <td>511.5</td>\n",
              "      <td>0</td>\n",
              "      <td>0.000000</td>\n",
              "    </tr>\n",
              "    <tr>\n",
              "      <th>1</th>\n",
              "      <td>46.363691</td>\n",
              "      <td>14.112026</td>\n",
              "      <td>511.0</td>\n",
              "      <td>1</td>\n",
              "      <td>4.731651</td>\n",
              "    </tr>\n",
              "    <tr>\n",
              "      <th>2</th>\n",
              "      <td>46.363778</td>\n",
              "      <td>14.112031</td>\n",
              "      <td>510.1</td>\n",
              "      <td>3</td>\n",
              "      <td>14.410085</td>\n",
              "    </tr>\n",
              "    <tr>\n",
              "      <th>3</th>\n",
              "      <td>46.363835</td>\n",
              "      <td>14.112023</td>\n",
              "      <td>509.7</td>\n",
              "      <td>5</td>\n",
              "      <td>20.775954</td>\n",
              "    </tr>\n",
              "    <tr>\n",
              "      <th>4</th>\n",
              "      <td>46.363888</td>\n",
              "      <td>14.112007</td>\n",
              "      <td>509.4</td>\n",
              "      <td>7</td>\n",
              "      <td>26.794638</td>\n",
              "    </tr>\n",
              "  </tbody>\n",
              "</table>\n",
              "</div>\n",
              "    <div class=\"colab-df-buttons\">\n",
              "\n",
              "  <div class=\"colab-df-container\">\n",
              "    <button class=\"colab-df-convert\" onclick=\"convertToInteractive('df-e25b5fa8-3433-4a57-af3f-23aa22a2376a')\"\n",
              "            title=\"Convert this dataframe to an interactive table.\"\n",
              "            style=\"display:none;\">\n",
              "\n",
              "  <svg xmlns=\"http://www.w3.org/2000/svg\" height=\"24px\" viewBox=\"0 -960 960 960\">\n",
              "    <path d=\"M120-120v-720h720v720H120Zm60-500h600v-160H180v160Zm220 220h160v-160H400v160Zm0 220h160v-160H400v160ZM180-400h160v-160H180v160Zm440 0h160v-160H620v160ZM180-180h160v-160H180v160Zm440 0h160v-160H620v160Z\"/>\n",
              "  </svg>\n",
              "    </button>\n",
              "\n",
              "  <style>\n",
              "    .colab-df-container {\n",
              "      display:flex;\n",
              "      gap: 12px;\n",
              "    }\n",
              "\n",
              "    .colab-df-convert {\n",
              "      background-color: #E8F0FE;\n",
              "      border: none;\n",
              "      border-radius: 50%;\n",
              "      cursor: pointer;\n",
              "      display: none;\n",
              "      fill: #1967D2;\n",
              "      height: 32px;\n",
              "      padding: 0 0 0 0;\n",
              "      width: 32px;\n",
              "    }\n",
              "\n",
              "    .colab-df-convert:hover {\n",
              "      background-color: #E2EBFA;\n",
              "      box-shadow: 0px 1px 2px rgba(60, 64, 67, 0.3), 0px 1px 3px 1px rgba(60, 64, 67, 0.15);\n",
              "      fill: #174EA6;\n",
              "    }\n",
              "\n",
              "    .colab-df-buttons div {\n",
              "      margin-bottom: 4px;\n",
              "    }\n",
              "\n",
              "    [theme=dark] .colab-df-convert {\n",
              "      background-color: #3B4455;\n",
              "      fill: #D2E3FC;\n",
              "    }\n",
              "\n",
              "    [theme=dark] .colab-df-convert:hover {\n",
              "      background-color: #434B5C;\n",
              "      box-shadow: 0px 1px 3px 1px rgba(0, 0, 0, 0.15);\n",
              "      filter: drop-shadow(0px 1px 2px rgba(0, 0, 0, 0.3));\n",
              "      fill: #FFFFFF;\n",
              "    }\n",
              "  </style>\n",
              "\n",
              "    <script>\n",
              "      const buttonEl =\n",
              "        document.querySelector('#df-e25b5fa8-3433-4a57-af3f-23aa22a2376a button.colab-df-convert');\n",
              "      buttonEl.style.display =\n",
              "        google.colab.kernel.accessAllowed ? 'block' : 'none';\n",
              "\n",
              "      async function convertToInteractive(key) {\n",
              "        const element = document.querySelector('#df-e25b5fa8-3433-4a57-af3f-23aa22a2376a');\n",
              "        const dataTable =\n",
              "          await google.colab.kernel.invokeFunction('convertToInteractive',\n",
              "                                                    [key], {});\n",
              "        if (!dataTable) return;\n",
              "\n",
              "        const docLinkHtml = 'Like what you see? Visit the ' +\n",
              "          '<a target=\"_blank\" href=https://colab.research.google.com/notebooks/data_table.ipynb>data table notebook</a>'\n",
              "          + ' to learn more about interactive tables.';\n",
              "        element.innerHTML = '';\n",
              "        dataTable['output_type'] = 'display_data';\n",
              "        await google.colab.output.renderOutput(dataTable, element);\n",
              "        const docLink = document.createElement('div');\n",
              "        docLink.innerHTML = docLinkHtml;\n",
              "        element.appendChild(docLink);\n",
              "      }\n",
              "    </script>\n",
              "  </div>\n",
              "\n",
              "\n",
              "<div id=\"df-a7f96f70-a97b-4b40-900d-ef9faf26608e\">\n",
              "  <button class=\"colab-df-quickchart\" onclick=\"quickchart('df-a7f96f70-a97b-4b40-900d-ef9faf26608e')\"\n",
              "            title=\"Suggest charts\"\n",
              "            style=\"display:none;\">\n",
              "\n",
              "<svg xmlns=\"http://www.w3.org/2000/svg\" height=\"24px\"viewBox=\"0 0 24 24\"\n",
              "     width=\"24px\">\n",
              "    <g>\n",
              "        <path d=\"M19 3H5c-1.1 0-2 .9-2 2v14c0 1.1.9 2 2 2h14c1.1 0 2-.9 2-2V5c0-1.1-.9-2-2-2zM9 17H7v-7h2v7zm4 0h-2V7h2v10zm4 0h-2v-4h2v4z\"/>\n",
              "    </g>\n",
              "</svg>\n",
              "  </button>\n",
              "\n",
              "<style>\n",
              "  .colab-df-quickchart {\n",
              "      --bg-color: #E8F0FE;\n",
              "      --fill-color: #1967D2;\n",
              "      --hover-bg-color: #E2EBFA;\n",
              "      --hover-fill-color: #174EA6;\n",
              "      --disabled-fill-color: #AAA;\n",
              "      --disabled-bg-color: #DDD;\n",
              "  }\n",
              "\n",
              "  [theme=dark] .colab-df-quickchart {\n",
              "      --bg-color: #3B4455;\n",
              "      --fill-color: #D2E3FC;\n",
              "      --hover-bg-color: #434B5C;\n",
              "      --hover-fill-color: #FFFFFF;\n",
              "      --disabled-bg-color: #3B4455;\n",
              "      --disabled-fill-color: #666;\n",
              "  }\n",
              "\n",
              "  .colab-df-quickchart {\n",
              "    background-color: var(--bg-color);\n",
              "    border: none;\n",
              "    border-radius: 50%;\n",
              "    cursor: pointer;\n",
              "    display: none;\n",
              "    fill: var(--fill-color);\n",
              "    height: 32px;\n",
              "    padding: 0;\n",
              "    width: 32px;\n",
              "  }\n",
              "\n",
              "  .colab-df-quickchart:hover {\n",
              "    background-color: var(--hover-bg-color);\n",
              "    box-shadow: 0 1px 2px rgba(60, 64, 67, 0.3), 0 1px 3px 1px rgba(60, 64, 67, 0.15);\n",
              "    fill: var(--button-hover-fill-color);\n",
              "  }\n",
              "\n",
              "  .colab-df-quickchart-complete:disabled,\n",
              "  .colab-df-quickchart-complete:disabled:hover {\n",
              "    background-color: var(--disabled-bg-color);\n",
              "    fill: var(--disabled-fill-color);\n",
              "    box-shadow: none;\n",
              "  }\n",
              "\n",
              "  .colab-df-spinner {\n",
              "    border: 2px solid var(--fill-color);\n",
              "    border-color: transparent;\n",
              "    border-bottom-color: var(--fill-color);\n",
              "    animation:\n",
              "      spin 1s steps(1) infinite;\n",
              "  }\n",
              "\n",
              "  @keyframes spin {\n",
              "    0% {\n",
              "      border-color: transparent;\n",
              "      border-bottom-color: var(--fill-color);\n",
              "      border-left-color: var(--fill-color);\n",
              "    }\n",
              "    20% {\n",
              "      border-color: transparent;\n",
              "      border-left-color: var(--fill-color);\n",
              "      border-top-color: var(--fill-color);\n",
              "    }\n",
              "    30% {\n",
              "      border-color: transparent;\n",
              "      border-left-color: var(--fill-color);\n",
              "      border-top-color: var(--fill-color);\n",
              "      border-right-color: var(--fill-color);\n",
              "    }\n",
              "    40% {\n",
              "      border-color: transparent;\n",
              "      border-right-color: var(--fill-color);\n",
              "      border-top-color: var(--fill-color);\n",
              "    }\n",
              "    60% {\n",
              "      border-color: transparent;\n",
              "      border-right-color: var(--fill-color);\n",
              "    }\n",
              "    80% {\n",
              "      border-color: transparent;\n",
              "      border-right-color: var(--fill-color);\n",
              "      border-bottom-color: var(--fill-color);\n",
              "    }\n",
              "    90% {\n",
              "      border-color: transparent;\n",
              "      border-bottom-color: var(--fill-color);\n",
              "    }\n",
              "  }\n",
              "</style>\n",
              "\n",
              "  <script>\n",
              "    async function quickchart(key) {\n",
              "      const quickchartButtonEl =\n",
              "        document.querySelector('#' + key + ' button');\n",
              "      quickchartButtonEl.disabled = true;  // To prevent multiple clicks.\n",
              "      quickchartButtonEl.classList.add('colab-df-spinner');\n",
              "      try {\n",
              "        const charts = await google.colab.kernel.invokeFunction(\n",
              "            'suggestCharts', [key], {});\n",
              "      } catch (error) {\n",
              "        console.error('Error during call to suggestCharts:', error);\n",
              "      }\n",
              "      quickchartButtonEl.classList.remove('colab-df-spinner');\n",
              "      quickchartButtonEl.classList.add('colab-df-quickchart-complete');\n",
              "    }\n",
              "    (() => {\n",
              "      let quickchartButtonEl =\n",
              "        document.querySelector('#df-a7f96f70-a97b-4b40-900d-ef9faf26608e button');\n",
              "      quickchartButtonEl.style.display =\n",
              "        google.colab.kernel.accessAllowed ? 'block' : 'none';\n",
              "    })();\n",
              "  </script>\n",
              "</div>\n",
              "\n",
              "    </div>\n",
              "  </div>\n"
            ],
            "application/vnd.google.colaboratory.intrinsic+json": {
              "type": "dataframe",
              "variable_name": "df",
              "summary": "{\n  \"name\": \"df\",\n  \"rows\": 5994,\n  \"fields\": [\n    {\n      \"column\": \"Latitude\",\n      \"properties\": {\n        \"dtype\": \"number\",\n        \"std\": 0.023265692807514442,\n        \"min\": 46.338096,\n        \"max\": 46.422636,\n        \"num_unique_values\": 5567,\n        \"samples\": [\n          46.42116,\n          46.389449,\n          46.380202\n        ],\n        \"semantic_type\": \"\",\n        \"description\": \"\"\n      }\n    },\n    {\n      \"column\": \"Longitude\",\n      \"properties\": {\n        \"dtype\": \"number\",\n        \"std\": 0.04733494896036873,\n        \"min\": 13.919303,\n        \"max\": 14.112036,\n        \"num_unique_values\": 5772,\n        \"samples\": [\n          14.072998,\n          13.953307,\n          13.927254\n        ],\n        \"semantic_type\": \"\",\n        \"description\": \"\"\n      }\n    },\n    {\n      \"column\": \"Elevation\",\n      \"properties\": {\n        \"dtype\": \"number\",\n        \"std\": 341.7977959646472,\n        \"min\": 480.8,\n        \"max\": 1659.9,\n        \"num_unique_values\": 4042,\n        \"samples\": [\n          1067.5,\n          528.7,\n          1549.3\n        ],\n        \"semantic_type\": \"\",\n        \"description\": \"\"\n      }\n    },\n    {\n      \"column\": \"Time\",\n      \"properties\": {\n        \"dtype\": \"number\",\n        \"std\": 6088,\n        \"min\": 0,\n        \"max\": 20896,\n        \"num_unique_values\": 5993,\n        \"samples\": [\n          6144,\n          4792,\n          6439\n        ],\n        \"semantic_type\": \"\",\n        \"description\": \"\"\n      }\n    },\n    {\n      \"column\": \"Distance\",\n      \"properties\": {\n        \"dtype\": \"number\",\n        \"std\": 16529.01757905709,\n        \"min\": 0.0,\n        \"max\": 61367.54987900978,\n        \"num_unique_values\": 5992,\n        \"samples\": [\n          22222.47972365531,\n          18987.2861456905,\n          22699.90666299664\n        ],\n        \"semantic_type\": \"\",\n        \"description\": \"\"\n      }\n    }\n  ]\n}"
            }
          },
          "metadata": {},
          "execution_count": 29
        }
      ]
    },
    {
      "cell_type": "code",
      "source": [
        "# Print the range of all columns in the DataFrame\n",
        "for col in df.columns:\n",
        "    print(f\"Column '{col}': Min = {df[col].min()}, Max = {df[col].max()}\")"
      ],
      "metadata": {
        "id": "CvGhQlRu399s",
        "outputId": "97b498a6-ef9e-45a8-e52e-b34f629ff56e",
        "colab": {
          "base_uri": "https://localhost:8080/"
        }
      },
      "execution_count": 30,
      "outputs": [
        {
          "output_type": "stream",
          "name": "stdout",
          "text": [
            "Column 'Latitude': Min = 46.338096, Max = 46.422636\n",
            "Column 'Longitude': Min = 13.919303, Max = 14.112036\n",
            "Column 'Elevation': Min = 480.8, Max = 1659.9\n",
            "Column 'Time': Min = 0, Max = 20896\n",
            "Column 'Distance': Min = 0.0, Max = 61367.54987900978\n"
          ]
        }
      ]
    },
    {
      "cell_type": "markdown",
      "metadata": {
        "id": "QScGxf8-0pf4"
      },
      "source": [
        "## Model Choice\n",
        "\n",
        "In following notebook two models were implemented:\n",
        "- Linear Regression\n",
        "- Neural Network\n"
      ]
    },
    {
      "cell_type": "markdown",
      "source": [
        "## Feature engineering"
      ],
      "metadata": {
        "id": "PERUb1na5Azr"
      }
    },
    {
      "cell_type": "markdown",
      "source": [
        "#### Prepare pipeline"
      ],
      "metadata": {
        "id": "Dw3RFpOgVUaT"
      }
    },
    {
      "cell_type": "code",
      "source": [
        "import pandas as pd\n",
        "import math\n",
        "\n",
        "# Define the function to calculate the angle\n",
        "def calculate_angle(lat, lon, lat_prev, lon_prev, lat_next, lon_next):\n",
        "    # Convert degrees to radians\n",
        "    lat = math.radians(lat)\n",
        "    lon = math.radians(lon)\n",
        "    lat_prev = math.radians(lat_prev)\n",
        "    lon_prev = math.radians(lon_prev)\n",
        "    lat_next = math.radians(lat_next)\n",
        "    lon_next = math.radians(lon_next)\n",
        "\n",
        "    # Compute vectors in 3D Cartesian coordinates\n",
        "    def to_cartesian(lat, lon):\n",
        "        x = math.cos(lat) * math.cos(lon)\n",
        "        y = math.cos(lat) * math.sin(lon)\n",
        "        z = math.sin(lat)\n",
        "        return (x, y, z)\n",
        "\n",
        "    p1 = to_cartesian(lat_prev, lon_prev)\n",
        "    p2 = to_cartesian(lat, lon)\n",
        "    p3 = to_cartesian(lat_next, lon_next)\n",
        "\n",
        "    # Calculate vectors\n",
        "    v1 = (p1[0] - p2[0], p1[1] - p2[1], p1[2] - p2[2])\n",
        "    v2 = (p3[0] - p2[0], p3[1] - p2[1], p3[2] - p2[2])\n",
        "\n",
        "    # Compute magnitudes of vectors\n",
        "    mag_v1 = math.sqrt(sum(v1[i]**2 for i in range(3)))\n",
        "    mag_v2 = math.sqrt(sum(v2[i]**2 for i in range(3)))\n",
        "\n",
        "    # Handle zero magnitude vectors\n",
        "    if mag_v1 == 0 or mag_v2 == 0:\n",
        "        return float('nan')  # Return NaN for undefined angle\n",
        "\n",
        "    # Compute dot product\n",
        "    dot_product = sum(v1[i] * v2[i] for i in range(3))\n",
        "\n",
        "    # Calculate the angle using the dot product formula\n",
        "    cos_theta = dot_product / (mag_v1 * mag_v2)\n",
        "    angle = math.acos(max(-1, min(1, cos_theta)))  # Clamp to avoid numerical issues\n",
        "\n",
        "    # Convert radians to degrees\n",
        "    angle_degrees = math.degrees(angle)\n",
        "    return angle_degrees"
      ],
      "metadata": {
        "id": "WM-8KQJx90sZ"
      },
      "execution_count": 31,
      "outputs": []
    },
    {
      "cell_type": "code",
      "source": [
        "# Assuming 'df' is your DataFrame as defined in the previous code.\n",
        "df['Latitude_prev'] = df['Latitude'].shift(1)\n",
        "df['Longitude_prev'] = df['Longitude'].shift(1)\n",
        "df['Elevation_prev'] = df['Elevation'].shift(1)\n",
        "df['Latitude_next'] = df['Latitude'].shift(-1)\n",
        "df['Longitude_next'] = df['Longitude'].shift(-1)\n",
        "df['Elevation_next'] = df['Elevation'].shift(-1)\n",
        "\n",
        "# Calculate speed based on distance and time differences\n",
        "df['Time_prev'] = df['Time'].shift(1)\n",
        "df['Time_next'] = df['Time'].shift(-1)\n",
        "df['Distance_prev'] = df['Distance'].shift(1)\n",
        "df['Distance_next'] = df['Distance'].shift(-1)\n",
        "\n",
        "# Calculate time difference\n",
        "df['Time_diff_prev'] = df['Time'] - df['Time_prev']\n",
        "df['Time_diff_next'] = df['Time_next'] - df['Time']\n",
        "\n",
        "# Calculate distance difference\n",
        "df['Distance_diff_prev'] = df['Distance'] - df['Distance_prev']\n",
        "df['Distance_diff_next'] = df['Distance_next'] - df['Distance']\n",
        "\n",
        "# Calculate speed (m/s)\n",
        "df['Speed'] = (df['Distance_diff_next'] + df['Distance_diff_prev']) / (df['Time_diff_next'] + df['Time_diff_prev'])\n",
        "\n",
        "# Calculate slope\n",
        "df['Slope_prev'] = (df['Elevation'] - df['Elevation_prev']) / (df['Distance'] - df['Distance_prev'])\n",
        "df['Slope_next'] = (df['Elevation_next'] - df['Elevation']) / (df['Distance_next'] - df['Distance'])\n",
        "\n",
        "# Handle potential divisions by zero\n",
        "df['Slope_prev'] = df['Slope_prev'].fillna(0).replace([float('inf'), -float('inf')], 0)\n",
        "df['Slope_next'] = df['Slope_next'].fillna(0).replace([float('inf'), -float('inf')], 0)\n",
        "\n",
        "# Calculate angle between next and previous points\n",
        "df['Angle'] = df.apply(\n",
        "    lambda row: calculate_angle(\n",
        "        row['Latitude'], row['Longitude'],\n",
        "        row['Latitude_prev'], row['Longitude_prev'],\n",
        "        row['Latitude_next'], row['Longitude_next']\n",
        "    ), axis=1\n",
        ")\n",
        "\n",
        "# Calculate the sum of the slopes driven so far\n",
        "df['Cumulative_Slope'] = df['Slope_prev'].cumsum()\n",
        "\n",
        "# Rearrange columns\n",
        "df = df[['Elevation', 'Slope_prev', 'Slope_next',  'Angle', 'Distance', 'Cumulative_Slope', 'Speed', 'Time']]\n",
        "\n",
        "print(df.head())"
      ],
      "metadata": {
        "id": "SC2706GM58Lv",
        "outputId": "20cdddcb-f01e-4bfc-b73e-5df6fe1121bd",
        "colab": {
          "base_uri": "https://localhost:8080/"
        }
      },
      "execution_count": 32,
      "outputs": [
        {
          "output_type": "stream",
          "name": "stdout",
          "text": [
            "   Elevation  Slope_prev  Slope_next       Angle   Distance  Cumulative_Slope  \\\n",
            "0      511.5    0.000000   -0.105671    0.000000   0.000000          0.000000   \n",
            "1      511.0   -0.105671   -0.092990  168.398275   4.731651         -0.105671   \n",
            "2      510.1   -0.092990   -0.062835  172.196854  14.410085         -0.198662   \n",
            "3      509.7   -0.062835   -0.049845  173.764191  20.775954         -0.261497   \n",
            "4      509.4   -0.049845   -0.064568  177.496029  26.794638         -0.311341   \n",
            "\n",
            "      Speed  Time  \n",
            "0       NaN     0  \n",
            "1  4.803362     1  \n",
            "2  4.011076     3  \n",
            "3  3.096138     5  \n",
            "4  3.053427     7  \n"
          ]
        }
      ]
    },
    {
      "cell_type": "markdown",
      "source": [
        "#### Apply features"
      ],
      "metadata": {
        "id": "d08N9IlOWqRU"
      }
    },
    {
      "cell_type": "code",
      "source": [
        "def move_random_files(source_dir, destination_dir, num_files, seed=None):\n",
        "    # Set the random seed for reproducibility\n",
        "    if seed is not None:\n",
        "        random.seed(seed)\n",
        "\n",
        "    # Get a list of all files in the source directory\n",
        "    files = [f for f in os.listdir(source_dir) if os.path.isfile(os.path.join(source_dir, f))]\n",
        "\n",
        "    # Check if there are enough files to move\n",
        "    if len(files) < num_files:\n",
        "        print(f\"Not enough files in {source_dir}. Moving {len(files)} files.\")\n",
        "        num_files = len(files)\n",
        "\n",
        "    # Randomly select files\n",
        "    selected_files = random.sample(files, num_files)\n",
        "\n",
        "    # Move the selected files to the destination directory\n",
        "    for file in selected_files:\n",
        "        source_path = os.path.join(source_dir, file)\n",
        "        destination_path = os.path.join(destination_dir, file)\n",
        "        try:\n",
        "            shutil.move(source_path, destination_path)\n",
        "            print(f\"Moved {file} to {destination_dir}\")\n",
        "        except Exception as e:\n",
        "            print(f\"Error moving {file}: {e}\")\n",
        "\n",
        "# Example usage\n",
        "source_directory = '/content/Rider1_preprocessed'\n",
        "destination_directory = '/content/Rider1_test'\n",
        "number_of_files = 10\n",
        "seed = 123\n",
        "\n",
        "# Create destination directory if it does not exist\n",
        "if not os.path.exists(destination_directory):\n",
        "    os.makedirs(destination_directory)\n",
        "\n",
        "move_random_files(source_directory, destination_directory, number_of_files, seed)"
      ],
      "metadata": {
        "id": "jdMbUjrS-kd7",
        "outputId": "2dd12869-a8d7-4f92-ed5a-1d11a8789391",
        "colab": {
          "base_uri": "https://localhost:8080/"
        }
      },
      "execution_count": 34,
      "outputs": [
        {
          "output_type": "stream",
          "name": "stdout",
          "text": [
            "Moved f241.xlsx to /content/Rider1_test\n",
            "Moved f493.xlsx to /content/Rider1_test\n",
            "Moved f479.xlsx to /content/Rider1_test\n",
            "Moved f578.xlsx to /content/Rider1_test\n",
            "Moved f665.xlsx to /content/Rider1_test\n",
            "Moved f746.xlsx to /content/Rider1_test\n",
            "Moved f234.xlsx to /content/Rider1_test\n",
            "Moved f9.xlsx to /content/Rider1_test\n",
            "Moved f349.xlsx to /content/Rider1_test\n",
            "Moved f42.xlsx to /content/Rider1_test\n"
          ]
        }
      ]
    },
    {
      "cell_type": "code",
      "source": [
        "# Directory containing the Excel files\n",
        "directory = '/content/Rider1_preprocessed'\n",
        "\n",
        "# Initialize an empty list to store DataFrames\n",
        "dataframes = []\n",
        "\n",
        "# Iterate over all files in the directory\n",
        "for filename in os.listdir(directory):\n",
        "    if filename.endswith('.xlsx'):  # Process only .xlsx files\n",
        "        filepath = os.path.join(directory, filename)\n",
        "\n",
        "        # Read the Excel file into a DataFrame\n",
        "        df = pd.read_excel(filepath)\n",
        "\n",
        "        # Apply preprocessing\n",
        "        df['Latitude_prev'] = df['Latitude'].shift(1)\n",
        "        df['Longitude_prev'] = df['Longitude'].shift(1)\n",
        "        df['Elevation_prev'] = df['Elevation'].shift(1)\n",
        "        df['Latitude_next'] = df['Latitude'].shift(-1)\n",
        "        df['Longitude_next'] = df['Longitude'].shift(-1)\n",
        "        df['Elevation_next'] = df['Elevation'].shift(-1)\n",
        "\n",
        "        # Calculate speed based on distance and time differences\n",
        "        df['Time_prev'] = df['Time'].shift(1)\n",
        "        df['Time_next'] = df['Time'].shift(-1)\n",
        "        df['Distance_prev'] = df['Distance'].shift(1)\n",
        "        df['Distance_next'] = df['Distance'].shift(-1)\n",
        "\n",
        "        # Calculate time difference\n",
        "        df['Time_diff_prev'] = df['Time'] - df['Time_prev']\n",
        "        df['Time_diff_next'] = df['Time_next'] - df['Time']\n",
        "\n",
        "        # Calculate distance difference\n",
        "        df['Distance_diff_prev'] = df['Distance'] - df['Distance_prev']\n",
        "        df['Distance_diff_next'] = df['Distance_next'] - df['Distance']\n",
        "\n",
        "        # Calculate speed (m/s)\n",
        "        df['Speed'] = (df['Distance_diff_next'] + df['Distance_diff_prev']) / (df['Time_diff_next'] + df['Time_diff_prev'])\n",
        "\n",
        "        # Calculate slope\n",
        "        df['Slope_prev'] = (df['Elevation'] - df['Elevation_prev']) / (df['Distance'] - df['Distance_prev'])\n",
        "        df['Slope_next'] = (df['Elevation_next'] - df['Elevation']) / (df['Distance_next'] - df['Distance'])\n",
        "\n",
        "        # Handle potential divisions by zero\n",
        "        df['Slope_prev'] = df['Slope_prev'].fillna(0).replace([float('inf'), -float('inf')], 0)\n",
        "        df['Slope_next'] = df['Slope_next'].fillna(0).replace([float('inf'), -float('inf')], 0)\n",
        "\n",
        "        # Calculate angle between next and previous points\n",
        "        df['Angle'] = df.apply(\n",
        "            lambda row: calculate_angle(\n",
        "                row['Latitude'], row['Longitude'],\n",
        "                row['Latitude_prev'], row['Longitude_prev'],\n",
        "                row['Latitude_next'], row['Longitude_next']\n",
        "            ), axis=1\n",
        "        )\n",
        "\n",
        "        # Calculate the sum of the slopes driven so far\n",
        "        df['Cumulative_Slope'] = df['Slope_prev'].cumsum()\n",
        "\n",
        "        # Rearrange columns\n",
        "        df = df[['Elevation', 'Slope_prev', 'Slope_next',  'Angle', 'Distance', 'Cumulative_Slope', 'Speed', 'Time']]\n",
        "\n",
        "        # Drop NaN values\n",
        "        df = df.dropna()\n",
        "\n",
        "        # Append the processed DataFrame to the list\n",
        "        dataframes.append(df)\n",
        "\n",
        "# Combine all DataFrames into a single DataFrame\n",
        "combined_df = pd.concat(dataframes, ignore_index=True)\n",
        "\n",
        "# Display the first few rows of the combined DataFrame\n",
        "print(combined_df.head())\n"
      ],
      "metadata": {
        "id": "DB24bJOb7Xju",
        "outputId": "0270ef5f-f333-4708-9a71-5af67a9e339a",
        "colab": {
          "base_uri": "https://localhost:8080/"
        }
      },
      "execution_count": 35,
      "outputs": [
        {
          "output_type": "stream",
          "name": "stdout",
          "text": [
            "   Elevation  Slope_prev  Slope_next       Angle   Distance  Cumulative_Slope  \\\n",
            "0      339.3   -0.387829   -0.374170  167.666328   4.125526         -0.387829   \n",
            "1      337.9   -0.374170   -0.050340  101.579280   7.867136         -0.762000   \n",
            "2      337.7   -0.050340    0.062166  166.173799  11.840128         -0.812340   \n",
            "3      337.9    0.062166   -0.268842  129.777120  15.057326         -0.750174   \n",
            "4      336.7   -0.268842    0.385453   61.469629  19.520916         -1.019016   \n",
            "\n",
            "      Speed  Time  \n",
            "0  1.966784     3  \n",
            "1  1.928650     4  \n",
            "2  1.438038     7  \n",
            "3  1.536158     9  \n",
            "4  1.894202    12  \n"
          ]
        }
      ]
    },
    {
      "cell_type": "code",
      "source": [
        "# prompt: Print boxplots of all variables in df\n",
        "\n",
        "import matplotlib.pyplot as plt\n",
        "\n",
        "# Create boxplots for all numerical columns\n",
        "for column in combined_df.select_dtypes(include=np.number):\n",
        "    plt.figure()  # Create a new figure for each boxplot\n",
        "    df.boxplot(column=[column])\n",
        "    plt.title(f'Boxplot of {column}')\n",
        "    plt.ylabel(column)\n",
        "    plt.show()"
      ],
      "metadata": {
        "id": "Ll_Hxi62YPx9",
        "outputId": "db1daa61-eb77-4d65-ca25-88c4ea2657c5",
        "colab": {
          "base_uri": "https://localhost:8080/",
          "height": 1000
        }
      },
      "execution_count": 40,
      "outputs": [
        {
          "output_type": "display_data",
          "data": {
            "text/plain": [
              "<Figure size 640x480 with 1 Axes>"
            ],
            "image/png": "[encoded data removed]"
          },
          "metadata": {}
        },
        {
          "output_type": "display_data",
          "data": {
            "text/plain": [
              "<Figure size 640x480 with 1 Axes>"
            ],
            "image/png": "[encoded data removed]"
          },
          "metadata": {}
        },
        {
          "output_type": "display_data",
          "data": {
            "text/plain": [
              "<Figure size 640x480 with 1 Axes>"
            ],
            "image/png": "[encoded data removed]"
          },
          "metadata": {}
        },
        {
          "output_type": "display_data",
          "data": {
            "text/plain": [
              "<Figure size 640x480 with 1 Axes>"
            ],
            "image/png": "[encoded data removed]"
          },
          "metadata": {}
        },
        {
          "output_type": "display_data",
          "data": {
            "text/plain": [
              "<Figure size 640x480 with 1 Axes>"
            ],
            "image/png": "[encoded data removed]"
          },
          "metadata": {}
        },
        {
          "output_type": "display_data",
          "data": {
            "text/plain": [
              "<Figure size 640x480 with 1 Axes>"
            ],
            "image/png": "[encoded data removed]"
          },
          "metadata": {}
        },
        {
          "output_type": "display_data",
          "data": {
            "text/plain": [
              "<Figure size 640x480 with 1 Axes>"
            ],
            "image/png": "[encoded data removed]"
          },
          "metadata": {}
        },
        {
          "output_type": "display_data",
          "data": {
            "text/plain": [
              "<Figure size 640x480 with 1 Axes>"
            ],
            "image/png": "[encoded data removed]"
          },
          "metadata": {}
        }
      ]
    },
    {
      "cell_type": "code",
      "source": [
        "# prompt: Clean combined_df: Remove rows with negative elevation, remove slope higher than abs(1.0), remove speed > 75, write a summary how many rows were deleted and how many are left\n",
        "\n",
        "# Original row count\n",
        "original_row_count = len(combined_df)\n",
        "\n",
        "# Remove rows with negative elevation\n",
        "combined_df = combined_df[combined_df['Elevation'] >= 0]\n",
        "\n",
        "# Remove rows with slope higher than abs(1.0)\n",
        "combined_df = combined_df[combined_df['Slope_prev'].abs() <= 1.0]\n",
        "combined_df = combined_df[combined_df['Slope_next'].abs() <= 1.0]\n",
        "\n",
        "# Remove rows with speed > 75\n",
        "combined_df = combined_df[combined_df['Speed'] <= 75]\n",
        "\n",
        "# Calculate the number of deleted rows\n",
        "deleted_rows = original_row_count - len(combined_df)\n",
        "\n",
        "# Print summary\n",
        "print(f\"Original number of rows: {original_row_count}\")\n",
        "print(f\"Number of deleted rows: {deleted_rows}\")\n",
        "print(f\"Remaining number of rows: {len(combined_df)}\")"
      ],
      "metadata": {
        "id": "Tm_7HQepWqqY",
        "outputId": "15a888b6-73a1-41c3-f6d8-53f3aa709ce1",
        "colab": {
          "base_uri": "https://localhost:8080/"
        }
      },
      "execution_count": 39,
      "outputs": [
        {
          "output_type": "stream",
          "name": "stdout",
          "text": [
            "Original number of rows: 4405857\n",
            "Number of deleted rows: 65935\n",
            "Remaining number of rows: 4339922\n"
          ]
        }
      ]
    },
    {
      "cell_type": "code",
      "source": [
        "# Save the combined DataFrame to a file (optional)\n",
        "combined_df.to_csv('/content/combined_data_r1.csv', index=False)"
      ],
      "metadata": {
        "id": "f3dhHgfQYRS_"
      },
      "execution_count": 41,
      "outputs": []
    },
    {
      "cell_type": "markdown",
      "metadata": {
        "id": "bfZQKrVg0pf5"
      },
      "source": [
        "## Feature Selection\n",
        "\n",
        "Selected features describes terrain characteristics and cumulative statistics of current track."
      ]
    },
    {
      "cell_type": "code",
      "source": [
        "# Load the dataset\n",
        "# Replace 'your_dataset.csv' with the path to your actual dataset\n",
        "df = pd.read_csv('/content/combined_data_r1.csv')"
      ],
      "metadata": {
        "id": "ed71t52-HExO"
      },
      "execution_count": 42,
      "outputs": []
    },
    {
      "cell_type": "code",
      "source": [
        "# Print the range of all columns in the DataFrame\n",
        "for col in df.columns:\n",
        "    print(f\"Column '{col}': Min = {df[col].min()}, Max = {df[col].max()}\")"
      ],
      "metadata": {
        "id": "HDyCcRuwHJJ7",
        "outputId": "fc37142f-202e-4f9a-db99-f9d7faf95aaa",
        "colab": {
          "base_uri": "https://localhost:8080/"
        }
      },
      "execution_count": 43,
      "outputs": [
        {
          "output_type": "stream",
          "name": "stdout",
          "text": [
            "Column 'Elevation': Min = 0.0, Max = 2039.3\n",
            "Column 'Slope_prev': Min = -0.999711394712658, Max = 0.9997661148846212\n",
            "Column 'Slope_next': Min = -0.999711394712658, Max = 0.9992483118919666\n",
            "Column 'Angle': Min = 0.0, Max = 180.0\n",
            "Column 'Distance': Min = 0.076682802713683, Max = 212508.5813685636\n",
            "Column 'Cumulative_Slope': Min = -506.9014171839586, Max = 1767.6021509480772\n",
            "Column 'Speed': Min = 5.108334138289554e-05, Max = 74.82260024165225\n",
            "Column 'Time': Min = 1, Max = 32085\n"
          ]
        }
      ]
    },
    {
      "cell_type": "code",
      "execution_count": 44,
      "metadata": {
        "id": "xOIJ9xv80pf6"
      },
      "outputs": [],
      "source": [
        "# Feature selection\n",
        "# Example: Selecting only two features for a simple baseline model\n",
        "X = df[['Elevation', 'Slope_prev', 'Slope_next', 'Angle', 'Distance', 'Cumulative_Slope']] # Decide slope or elev\n",
        "y = df['Speed']\n",
        "\n",
        "# Splitting the dataset\n",
        "X_train, X_test, y_train, y_test = train_test_split(X, y, test_size=0.2, random_state=42)\n"
      ]
    },
    {
      "cell_type": "code",
      "source": [
        "# Size of datasets\n",
        "print(\"X_train shape:\", X_train.shape)\n",
        "print(\"X_test shape:\", X_test.shape)\n",
        "print(\"y_train shape:\", y_train.shape)\n",
        "print(\"y_test shape:\", y_test.shape)\n"
      ],
      "metadata": {
        "id": "6PrRXSWADx06",
        "outputId": "b105369a-3a16-4c68-e840-5cfa09904922",
        "colab": {
          "base_uri": "https://localhost:8080/"
        }
      },
      "execution_count": 45,
      "outputs": [
        {
          "output_type": "stream",
          "name": "stdout",
          "text": [
            "X_train shape: (3471937, 6)\n",
            "X_test shape: (867985, 6)\n",
            "y_train shape: (3471937,)\n",
            "y_test shape: (867985,)\n"
          ]
        }
      ]
    },
    {
      "cell_type": "markdown",
      "metadata": {
        "id": "PjECCs2Y0pf7"
      },
      "source": [
        "## Implementation\n",
        "\n",
        "\n",
        "\n"
      ]
    },
    {
      "cell_type": "markdown",
      "source": [
        "#### Baseline model 1 - Linear Regression"
      ],
      "metadata": {
        "id": "7UMUl9g2mGQt"
      }
    },
    {
      "cell_type": "code",
      "execution_count": 46,
      "metadata": {
        "id": "Yn9eWOn10pf8",
        "outputId": "5494bb5f-0ec3-4254-d370-af6dde219e88",
        "colab": {
          "base_uri": "https://localhost:8080/"
        }
      },
      "outputs": [
        {
          "output_type": "stream",
          "name": "stdout",
          "text": [
            "Mean Absolute Error: 2.5920189463430114\n"
          ]
        }
      ],
      "source": [
        "import numpy as np\n",
        "from sklearn.linear_model import LinearRegression\n",
        "from sklearn.metrics import mean_absolute_error\n",
        "\n",
        "# Initialize and train the model\n",
        "lr_model = LinearRegression()\n",
        "lr_model.fit(X_train, y_train)\n",
        "\n",
        "# Make predictions\n",
        "y_pred = lr_model.predict(X_test)\n",
        "\n",
        "# Evaluate the model\n",
        "mae = mean_absolute_error(y_test, y_pred)\n",
        "print(f\"Mean Absolute Error: {mae}\")"
      ]
    },
    {
      "cell_type": "markdown",
      "source": [
        "#### Baseline model 2 - Simple Neural Network"
      ],
      "metadata": {
        "id": "-1N6WpAUmJdS"
      }
    },
    {
      "cell_type": "code",
      "source": [
        "import tensorflow as tf\n",
        "from tensorflow.keras.models import Sequential\n",
        "from tensorflow.keras.layers import Dense\n",
        "from tensorflow.keras.optimizers import Adam\n",
        "from sklearn.preprocessing import StandardScaler\n",
        "from sklearn.model_selection import train_test_split\n",
        "import pandas as pd\n",
        "\n",
        "# Normalize the features using StandardScaler\n",
        "scaler = StandardScaler()\n",
        "X_train_scaled = scaler.fit_transform(X_train)\n",
        "X_test_scaled = scaler.transform(X_test)\n",
        "\n",
        "# Build the neural network model\n",
        "model = Sequential([\n",
        "    Dense(64, input_dim=X_train.shape[1], activation='relu'),  # First hidden layer\n",
        "    Dense(32, activation='relu'),  # Second hidden layer\n",
        "    Dense(1)  # Output layer (no activation since we're doing regression)\n",
        "])\n",
        "\n",
        "# Compile the model\n",
        "model.compile(optimizer=Adam(), loss='mean_squared_error', metrics=['mae'])\n",
        "\n",
        "# Train the model\n",
        "history = model.fit(X_train_scaled, y_train, epochs=10, batch_size=32, validation_data=(X_test_scaled, y_test))\n",
        "\n",
        "# Evaluate the model\n",
        "loss, mae = model.evaluate(X_test_scaled, y_test)\n",
        "print(f\"Test Loss: {loss}, Test MAE: {mae}\")\n",
        "\n",
        "# Optionally, plot the training history (e.g., loss or MAE over epochs)\n",
        "import matplotlib.pyplot as plt\n",
        "plt.plot(history.history['loss'], label='Training Loss')\n",
        "plt.plot(history.history['val_loss'], label='Validation Loss')\n",
        "plt.xlabel('Epochs')\n",
        "plt.ylabel('Loss')\n",
        "plt.legend()\n",
        "plt.show()"
      ],
      "metadata": {
        "id": "Sl_RvnG1mMs3",
        "outputId": "8b196062-a369-4b40-db29-b650a80fc6d8",
        "colab": {
          "base_uri": "https://localhost:8080/",
          "height": 850
        }
      },
      "execution_count": 47,
      "outputs": [
        {
          "output_type": "stream",
          "name": "stdout",
          "text": [
            "Epoch 1/10\n",
            "108499/108499 [==============================] - 192s 2ms/step - loss: 6.0789 - mae: 1.7442 - val_loss: 5.7458 - val_mae: 1.6942\n",
            "Epoch 2/10\n",
            "108499/108499 [==============================] - 194s 2ms/step - loss: 5.6218 - mae: 1.6576 - val_loss: 5.5403 - val_mae: 1.6437\n",
            "Epoch 3/10\n",
            "108499/108499 [==============================] - 186s 2ms/step - loss: 5.5015 - mae: 1.6314 - val_loss: 5.5230 - val_mae: 1.6315\n",
            "Epoch 4/10\n",
            "108499/108499 [==============================] - 190s 2ms/step - loss: 5.4364 - mae: 1.6188 - val_loss: 5.3874 - val_mae: 1.6145\n",
            "Epoch 5/10\n",
            "108499/108499 [==============================] - 192s 2ms/step - loss: 5.3874 - mae: 1.6085 - val_loss: 5.3517 - val_mae: 1.6034\n",
            "Epoch 6/10\n",
            "108499/108499 [==============================] - 190s 2ms/step - loss: 5.3439 - mae: 1.5992 - val_loss: 5.3037 - val_mae: 1.5924\n",
            "Epoch 7/10\n",
            "108499/108499 [==============================] - 194s 2ms/step - loss: 5.3140 - mae: 1.5931 - val_loss: 5.3316 - val_mae: 1.5979\n",
            "Epoch 8/10\n",
            "108499/108499 [==============================] - 195s 2ms/step - loss: 5.2889 - mae: 1.5890 - val_loss: 5.2648 - val_mae: 1.5920\n",
            "Epoch 9/10\n",
            "108499/108499 [==============================] - 195s 2ms/step - loss: 5.2679 - mae: 1.5850 - val_loss: 5.2459 - val_mae: 1.5808\n",
            "Epoch 10/10\n",
            "108499/108499 [==============================] - 192s 2ms/step - loss: 5.2513 - mae: 1.5820 - val_loss: 5.2655 - val_mae: 1.5895\n",
            "27125/27125 [==============================] - 34s 1ms/step - loss: 5.2655 - mae: 1.5895\n",
            "Test Loss: 5.265514850616455, Test MAE: 1.589452862739563\n"
          ]
        },
        {
          "output_type": "display_data",
          "data": {
            "text/plain": [
              "<Figure size 640x480 with 1 Axes>"
            ],
            "image/png": "[encoded data removed]"
          },
          "metadata": {}
        }
      ]
    },
    {
      "cell_type": "markdown",
      "metadata": {
        "id": "tbKtVyLp0pf9"
      },
      "source": [
        "## Evaluation\n",
        "\n",
        "Evaluation based on loss and MAE.\n"
      ]
    },
    {
      "cell_type": "markdown",
      "source": [
        "#### Preprocess test file"
      ],
      "metadata": {
        "id": "j53HtqoPiaGy"
      }
    },
    {
      "cell_type": "code",
      "execution_count": 67,
      "metadata": {
        "id": "TPKEFrht0pf-",
        "outputId": "9987c183-7901-40ab-ab92-99865b41a3ea",
        "colab": {
          "base_uri": "https://localhost:8080/"
        }
      },
      "outputs": [
        {
          "output_type": "stream",
          "name": "stdout",
          "text": [
            "   Elevation  Slope_prev  Slope_next       Angle   Distance  Cumulative_Slope  \\\n",
            "0      468.4   -0.212480   -0.095519  178.010424   0.470633         -0.212480   \n",
            "1      468.3   -0.095519   -0.105583  162.415455   1.517546         -0.307999   \n",
            "2      468.2   -0.105583   -0.029522   27.899756   2.464669         -0.413582   \n",
            "3      468.1   -0.029522   -0.076752  159.951057   5.851968         -0.443104   \n",
            "4      467.7   -0.076752    0.111864  114.903001  11.063557         -0.519856   \n",
            "\n",
            "      Speed  Time  \n",
            "0  0.758773     1  \n",
            "1  0.664679     2  \n",
            "2  0.722404     4  \n",
            "3  1.228413     8  \n",
            "4  1.762544    11  \n"
          ]
        }
      ],
      "source": [
        "# Prepare test file\n",
        "df = pd.read_excel('/content/Rider1_test/f234.xlsx')\n",
        "\n",
        "# Assuming 'df' is your DataFrame as defined in the previous code.\n",
        "df['Latitude_prev'] = df['Latitude'].shift(1)\n",
        "df['Longitude_prev'] = df['Longitude'].shift(1)\n",
        "df['Elevation_prev'] = df['Elevation'].shift(1)\n",
        "df['Latitude_next'] = df['Latitude'].shift(-1)\n",
        "df['Longitude_next'] = df['Longitude'].shift(-1)\n",
        "df['Elevation_next'] = df['Elevation'].shift(-1)\n",
        "\n",
        "# Calculate speed based on distance and time differences\n",
        "df['Time_prev'] = df['Time'].shift(1)\n",
        "df['Time_next'] = df['Time'].shift(-1)\n",
        "df['Distance_prev'] = df['Distance'].shift(1)\n",
        "df['Distance_next'] = df['Distance'].shift(-1)\n",
        "\n",
        "# Calculate time difference\n",
        "df['Time_diff_prev'] = df['Time'] - df['Time_prev']\n",
        "df['Time_diff_next'] = df['Time_next'] - df['Time']\n",
        "\n",
        "# Calculate distance difference\n",
        "df['Distance_diff_prev'] = df['Distance'] - df['Distance_prev']\n",
        "df['Distance_diff_next'] = df['Distance_next'] - df['Distance']\n",
        "\n",
        "# Calculate speed (m/s)\n",
        "df['Speed'] = (df['Distance_diff_next'] + df['Distance_diff_prev']) / (df['Time_diff_next'] + df['Time_diff_prev'])\n",
        "\n",
        "# Calculate slope\n",
        "df['Slope_prev'] = (df['Elevation'] - df['Elevation_prev']) / (df['Distance'] - df['Distance_prev'])\n",
        "df['Slope_next'] = (df['Elevation_next'] - df['Elevation']) / (df['Distance_next'] - df['Distance'])\n",
        "\n",
        "# Handle potential divisions by zero\n",
        "df['Slope_prev'] = df['Slope_prev'].fillna(0).replace([float('inf'), -float('inf')], 0)\n",
        "df['Slope_next'] = df['Slope_next'].fillna(0).replace([float('inf'), -float('inf')], 0)\n",
        "\n",
        "# Calculate angle between next and previous points\n",
        "df['Angle'] = df.apply(\n",
        "    lambda row: calculate_angle(\n",
        "        row['Latitude'], row['Longitude'],\n",
        "        row['Latitude_prev'], row['Longitude_prev'],\n",
        "        row['Latitude_next'], row['Longitude_next']\n",
        "    ), axis=1\n",
        ")\n",
        "\n",
        "# Calculate the sum of the slopes driven so far\n",
        "df['Cumulative_Slope'] = df['Slope_prev'].cumsum()\n",
        "\n",
        "# Drop NaN values\n",
        "df = df.dropna()\n",
        "df = df.reset_index(drop=True)\n",
        "\n",
        "# Rearrange columns\n",
        "df = df[['Elevation', 'Slope_prev', 'Slope_next',  'Angle', 'Distance', 'Cumulative_Slope', 'Speed', 'Time']]\n",
        "\n",
        "print(df.head())"
      ]
    },
    {
      "cell_type": "code",
      "source": [
        "# Feature selection\n",
        "# Example: Selecting only two features for a simple baseline model\n",
        "real_time = df['Time']\n",
        "X = df[['Elevation', 'Slope_prev', 'Slope_next',  'Angle', 'Distance', 'Cumulative_Slope']] # Cumulative slope\n",
        "y = df['Speed']\n"
      ],
      "metadata": {
        "id": "MclLZ8I6j9RK"
      },
      "execution_count": 68,
      "outputs": []
    },
    {
      "cell_type": "markdown",
      "source": [
        "#### Evaluation 1 - Linear Regression"
      ],
      "metadata": {
        "id": "F79HFxv1c7HE"
      }
    },
    {
      "cell_type": "code",
      "source": [
        "# Make predictions on the new data\n",
        "y_pred = lr_model.predict(X)\n",
        "\n",
        "# Add the predicted values as a new column 'Speed_pred' in the original DataFrame\n",
        "df['Speed_pred'] = y_pred\n",
        "\n",
        "# Optionally, check the first few rows to verify the new column is added correctly\n",
        "print(df.head())\n"
      ],
      "metadata": {
        "id": "-g1OnD9wkXP7",
        "outputId": "d593c74e-adb2-4015-daac-4836f8bcb3e7",
        "colab": {
          "base_uri": "https://localhost:8080/"
        }
      },
      "execution_count": 62,
      "outputs": [
        {
          "output_type": "stream",
          "name": "stdout",
          "text": [
            "   Elevation  Slope_prev  Slope_next       Angle   Distance  Cumulative_Slope  \\\n",
            "0      468.4   -0.212480   -0.095519  178.010424   0.470633         -0.212480   \n",
            "1      468.3   -0.095519   -0.105583  162.415455   1.517546         -0.307999   \n",
            "2      468.2   -0.105583   -0.029522   27.899756   2.464669         -0.413582   \n",
            "3      468.1   -0.029522   -0.076752  159.951057   5.851968         -0.443104   \n",
            "4      467.7   -0.076752    0.111864  114.903001  11.063557         -0.519856   \n",
            "\n",
            "      Speed  Time  Speed_pred  \n",
            "0  0.758773     1    8.749079  \n",
            "1  0.664679     2    7.334696  \n",
            "2  0.722404     4   -0.662097  \n",
            "3  1.228413     8    6.726298  \n",
            "4  1.762544    11    3.451213  \n"
          ]
        }
      ]
    },
    {
      "cell_type": "code",
      "source": [
        "# prompt: Calculate MAE between df['Speed_pred'] and df['Speed']\n",
        "\n",
        "mae = mean_absolute_error(df['Speed'], df['Speed_pred'])\n",
        "print(f\"Mean Absolute Error: {mae}\")\n"
      ],
      "metadata": {
        "id": "eGnbQDG2WO-_",
        "outputId": "3771151c-685b-4dae-9ed0-4c4a44f7fe8a",
        "colab": {
          "base_uri": "https://localhost:8080/"
        }
      },
      "execution_count": 63,
      "outputs": [
        {
          "output_type": "stream",
          "name": "stdout",
          "text": [
            "Mean Absolute Error: 3.009770589288637\n"
          ]
        }
      ]
    },
    {
      "cell_type": "markdown",
      "source": [
        "#### Evaluation 2 - Neural Network"
      ],
      "metadata": {
        "id": "EvfWLhhPdC6a"
      }
    },
    {
      "cell_type": "code",
      "source": [
        "# Normalize the new data using the same scaler fitted on the training data\n",
        "X_new_scaled = scaler.transform(X)\n",
        "\n",
        "# Make predictions on the new data\n",
        "y_pred = model.predict(X_new_scaled)\n",
        "\n",
        "# Add the predicted values as a new column 'Speed_pred' in the original DataFrame\n",
        "df['Speed_pred'] = y_pred\n",
        "\n",
        "# Optionally, check the first few rows to verify the new column is added correctly\n",
        "print(df.head())\n"
      ],
      "metadata": {
        "id": "Z-1-feh5c-Vb",
        "outputId": "2b7bccde-641c-4032-96a4-b143cde95b49",
        "colab": {
          "base_uri": "https://localhost:8080/"
        }
      },
      "execution_count": 69,
      "outputs": [
        {
          "output_type": "stream",
          "name": "stdout",
          "text": [
            "196/196 [==============================] - 0s 1ms/step\n",
            "   Elevation  Slope_prev  Slope_next       Angle   Distance  Cumulative_Slope  \\\n",
            "0      468.4   -0.212480   -0.095519  178.010424   0.470633         -0.212480   \n",
            "1      468.3   -0.095519   -0.105583  162.415455   1.517546         -0.307999   \n",
            "2      468.2   -0.105583   -0.029522   27.899756   2.464669         -0.413582   \n",
            "3      468.1   -0.029522   -0.076752  159.951057   5.851968         -0.443104   \n",
            "4      467.7   -0.076752    0.111864  114.903001  11.063557         -0.519856   \n",
            "\n",
            "      Speed  Time  Speed_pred  \n",
            "0  0.758773     1    4.360478  \n",
            "1  0.664679     2    4.786289  \n",
            "2  0.722404     4   11.243628  \n",
            "3  1.228413     8    6.860114  \n",
            "4  1.762544    11    2.149767  \n"
          ]
        }
      ]
    },
    {
      "cell_type": "code",
      "source": [
        "# prompt: Calculate MAE between df['Speed_pred'] and df['Speed']\n",
        "\n",
        "mae = mean_absolute_error(df['Speed'], df['Speed_pred'])\n",
        "print(f\"Mean Absolute Error: {mae}\")\n"
      ],
      "metadata": {
        "id": "BO8T_aTjXKlK",
        "outputId": "c9b7685e-d8c2-4d01-d167-481df064efc0",
        "colab": {
          "base_uri": "https://localhost:8080/"
        }
      },
      "execution_count": 70,
      "outputs": [
        {
          "output_type": "stream",
          "name": "stdout",
          "text": [
            "Mean Absolute Error: 2.6399381797313697\n"
          ]
        }
      ]
    },
    {
      "cell_type": "code",
      "source": [
        "df.head()"
      ],
      "metadata": {
        "id": "SJKt_lDbk62_",
        "outputId": "91dab820-bb91-4d42-c378-09f22c2d3bef",
        "colab": {
          "base_uri": "https://localhost:8080/",
          "height": 206
        }
      },
      "execution_count": 71,
      "outputs": [
        {
          "output_type": "execute_result",
          "data": {
            "text/plain": [
              "   Elevation  Slope_prev  Slope_next       Angle   Distance  Cumulative_Slope  \\\n",
              "0      468.4   -0.212480   -0.095519  178.010424   0.470633         -0.212480   \n",
              "1      468.3   -0.095519   -0.105583  162.415455   1.517546         -0.307999   \n",
              "2      468.2   -0.105583   -0.029522   27.899756   2.464669         -0.413582   \n",
              "3      468.1   -0.029522   -0.076752  159.951057   5.851968         -0.443104   \n",
              "4      467.7   -0.076752    0.111864  114.903001  11.063557         -0.519856   \n",
              "\n",
              "      Speed  Time  Speed_pred  \n",
              "0  0.758773     1    4.360478  \n",
              "1  0.664679     2    4.786289  \n",
              "2  0.722404     4   11.243628  \n",
              "3  1.228413     8    6.860114  \n",
              "4  1.762544    11    2.149767  "
            ],
            "text/html": [
              "\n",
              "  <div id=\"df-d00768d6-c21c-46b9-afc9-d24735280c43\" class=\"colab-df-container\">\n",
              "    <div>\n",
              "<style scoped>\n",
              "    .dataframe tbody tr th:only-of-type {\n",
              "        vertical-align: middle;\n",
              "    }\n",
              "\n",
              "    .dataframe tbody tr th {\n",
              "        vertical-align: top;\n",
              "    }\n",
              "\n",
              "    .dataframe thead th {\n",
              "        text-align: right;\n",
              "    }\n",
              "</style>\n",
              "<table border=\"1\" class=\"dataframe\">\n",
              "  <thead>\n",
              "    <tr style=\"text-align: right;\">\n",
              "      <th></th>\n",
              "      <th>Elevation</th>\n",
              "      <th>Slope_prev</th>\n",
              "      <th>Slope_next</th>\n",
              "      <th>Angle</th>\n",
              "      <th>Distance</th>\n",
              "      <th>Cumulative_Slope</th>\n",
              "      <th>Speed</th>\n",
              "      <th>Time</th>\n",
              "      <th>Speed_pred</th>\n",
              "    </tr>\n",
              "  </thead>\n",
              "  <tbody>\n",
              "    <tr>\n",
              "      <th>0</th>\n",
              "      <td>468.4</td>\n",
              "      <td>-0.212480</td>\n",
              "      <td>-0.095519</td>\n",
              "      <td>178.010424</td>\n",
              "      <td>0.470633</td>\n",
              "      <td>-0.212480</td>\n",
              "      <td>0.758773</td>\n",
              "      <td>1</td>\n",
              "      <td>4.360478</td>\n",
              "    </tr>\n",
              "    <tr>\n",
              "      <th>1</th>\n",
              "      <td>468.3</td>\n",
              "      <td>-0.095519</td>\n",
              "      <td>-0.105583</td>\n",
              "      <td>162.415455</td>\n",
              "      <td>1.517546</td>\n",
              "      <td>-0.307999</td>\n",
              "      <td>0.664679</td>\n",
              "      <td>2</td>\n",
              "      <td>4.786289</td>\n",
              "    </tr>\n",
              "    <tr>\n",
              "      <th>2</th>\n",
              "      <td>468.2</td>\n",
              "      <td>-0.105583</td>\n",
              "      <td>-0.029522</td>\n",
              "      <td>27.899756</td>\n",
              "      <td>2.464669</td>\n",
              "      <td>-0.413582</td>\n",
              "      <td>0.722404</td>\n",
              "      <td>4</td>\n",
              "      <td>11.243628</td>\n",
              "    </tr>\n",
              "    <tr>\n",
              "      <th>3</th>\n",
              "      <td>468.1</td>\n",
              "      <td>-0.029522</td>\n",
              "      <td>-0.076752</td>\n",
              "      <td>159.951057</td>\n",
              "      <td>5.851968</td>\n",
              "      <td>-0.443104</td>\n",
              "      <td>1.228413</td>\n",
              "      <td>8</td>\n",
              "      <td>6.860114</td>\n",
              "    </tr>\n",
              "    <tr>\n",
              "      <th>4</th>\n",
              "      <td>467.7</td>\n",
              "      <td>-0.076752</td>\n",
              "      <td>0.111864</td>\n",
              "      <td>114.903001</td>\n",
              "      <td>11.063557</td>\n",
              "      <td>-0.519856</td>\n",
              "      <td>1.762544</td>\n",
              "      <td>11</td>\n",
              "      <td>2.149767</td>\n",
              "    </tr>\n",
              "  </tbody>\n",
              "</table>\n",
              "</div>\n",
              "    <div class=\"colab-df-buttons\">\n",
              "\n",
              "  <div class=\"colab-df-container\">\n",
              "    <button class=\"colab-df-convert\" onclick=\"convertToInteractive('df-d00768d6-c21c-46b9-afc9-d24735280c43')\"\n",
              "            title=\"Convert this dataframe to an interactive table.\"\n",
              "            style=\"display:none;\">\n",
              "\n",
              "  <svg xmlns=\"http://www.w3.org/2000/svg\" height=\"24px\" viewBox=\"0 -960 960 960\">\n",
              "    <path d=\"M120-120v-720h720v720H120Zm60-500h600v-160H180v160Zm220 220h160v-160H400v160Zm0 220h160v-160H400v160ZM180-400h160v-160H180v160Zm440 0h160v-160H620v160ZM180-180h160v-160H180v160Zm440 0h160v-160H620v160Z\"/>\n",
              "  </svg>\n",
              "    </button>\n",
              "\n",
              "  <style>\n",
              "    .colab-df-container {\n",
              "      display:flex;\n",
              "      gap: 12px;\n",
              "    }\n",
              "\n",
              "    .colab-df-convert {\n",
              "      background-color: #E8F0FE;\n",
              "      border: none;\n",
              "      border-radius: 50%;\n",
              "      cursor: pointer;\n",
              "      display: none;\n",
              "      fill: #1967D2;\n",
              "      height: 32px;\n",
              "      padding: 0 0 0 0;\n",
              "      width: 32px;\n",
              "    }\n",
              "\n",
              "    .colab-df-convert:hover {\n",
              "      background-color: #E2EBFA;\n",
              "      box-shadow: 0px 1px 2px rgba(60, 64, 67, 0.3), 0px 1px 3px 1px rgba(60, 64, 67, 0.15);\n",
              "      fill: #174EA6;\n",
              "    }\n",
              "\n",
              "    .colab-df-buttons div {\n",
              "      margin-bottom: 4px;\n",
              "    }\n",
              "\n",
              "    [theme=dark] .colab-df-convert {\n",
              "      background-color: #3B4455;\n",
              "      fill: #D2E3FC;\n",
              "    }\n",
              "\n",
              "    [theme=dark] .colab-df-convert:hover {\n",
              "      background-color: #434B5C;\n",
              "      box-shadow: 0px 1px 3px 1px rgba(0, 0, 0, 0.15);\n",
              "      filter: drop-shadow(0px 1px 2px rgba(0, 0, 0, 0.3));\n",
              "      fill: #FFFFFF;\n",
              "    }\n",
              "  </style>\n",
              "\n",
              "    <script>\n",
              "      const buttonEl =\n",
              "        document.querySelector('#df-d00768d6-c21c-46b9-afc9-d24735280c43 button.colab-df-convert');\n",
              "      buttonEl.style.display =\n",
              "        google.colab.kernel.accessAllowed ? 'block' : 'none';\n",
              "\n",
              "      async function convertToInteractive(key) {\n",
              "        const element = document.querySelector('#df-d00768d6-c21c-46b9-afc9-d24735280c43');\n",
              "        const dataTable =\n",
              "          await google.colab.kernel.invokeFunction('convertToInteractive',\n",
              "                                                    [key], {});\n",
              "        if (!dataTable) return;\n",
              "\n",
              "        const docLinkHtml = 'Like what you see? Visit the ' +\n",
              "          '<a target=\"_blank\" href=https://colab.research.google.com/notebooks/data_table.ipynb>data table notebook</a>'\n",
              "          + ' to learn more about interactive tables.';\n",
              "        element.innerHTML = '';\n",
              "        dataTable['output_type'] = 'display_data';\n",
              "        await google.colab.output.renderOutput(dataTable, element);\n",
              "        const docLink = document.createElement('div');\n",
              "        docLink.innerHTML = docLinkHtml;\n",
              "        element.appendChild(docLink);\n",
              "      }\n",
              "    </script>\n",
              "  </div>\n",
              "\n",
              "\n",
              "<div id=\"df-f1e234bb-c22e-4e48-900d-5fedb8f7a3b4\">\n",
              "  <button class=\"colab-df-quickchart\" onclick=\"quickchart('df-f1e234bb-c22e-4e48-900d-5fedb8f7a3b4')\"\n",
              "            title=\"Suggest charts\"\n",
              "            style=\"display:none;\">\n",
              "\n",
              "<svg xmlns=\"http://www.w3.org/2000/svg\" height=\"24px\"viewBox=\"0 0 24 24\"\n",
              "     width=\"24px\">\n",
              "    <g>\n",
              "        <path d=\"M19 3H5c-1.1 0-2 .9-2 2v14c0 1.1.9 2 2 2h14c1.1 0 2-.9 2-2V5c0-1.1-.9-2-2-2zM9 17H7v-7h2v7zm4 0h-2V7h2v10zm4 0h-2v-4h2v4z\"/>\n",
              "    </g>\n",
              "</svg>\n",
              "  </button>\n",
              "\n",
              "<style>\n",
              "  .colab-df-quickchart {\n",
              "      --bg-color: #E8F0FE;\n",
              "      --fill-color: #1967D2;\n",
              "      --hover-bg-color: #E2EBFA;\n",
              "      --hover-fill-color: #174EA6;\n",
              "      --disabled-fill-color: #AAA;\n",
              "      --disabled-bg-color: #DDD;\n",
              "  }\n",
              "\n",
              "  [theme=dark] .colab-df-quickchart {\n",
              "      --bg-color: #3B4455;\n",
              "      --fill-color: #D2E3FC;\n",
              "      --hover-bg-color: #434B5C;\n",
              "      --hover-fill-color: #FFFFFF;\n",
              "      --disabled-bg-color: #3B4455;\n",
              "      --disabled-fill-color: #666;\n",
              "  }\n",
              "\n",
              "  .colab-df-quickchart {\n",
              "    background-color: var(--bg-color);\n",
              "    border: none;\n",
              "    border-radius: 50%;\n",
              "    cursor: pointer;\n",
              "    display: none;\n",
              "    fill: var(--fill-color);\n",
              "    height: 32px;\n",
              "    padding: 0;\n",
              "    width: 32px;\n",
              "  }\n",
              "\n",
              "  .colab-df-quickchart:hover {\n",
              "    background-color: var(--hover-bg-color);\n",
              "    box-shadow: 0 1px 2px rgba(60, 64, 67, 0.3), 0 1px 3px 1px rgba(60, 64, 67, 0.15);\n",
              "    fill: var(--button-hover-fill-color);\n",
              "  }\n",
              "\n",
              "  .colab-df-quickchart-complete:disabled,\n",
              "  .colab-df-quickchart-complete:disabled:hover {\n",
              "    background-color: var(--disabled-bg-color);\n",
              "    fill: var(--disabled-fill-color);\n",
              "    box-shadow: none;\n",
              "  }\n",
              "\n",
              "  .colab-df-spinner {\n",
              "    border: 2px solid var(--fill-color);\n",
              "    border-color: transparent;\n",
              "    border-bottom-color: var(--fill-color);\n",
              "    animation:\n",
              "      spin 1s steps(1) infinite;\n",
              "  }\n",
              "\n",
              "  @keyframes spin {\n",
              "    0% {\n",
              "      border-color: transparent;\n",
              "      border-bottom-color: var(--fill-color);\n",
              "      border-left-color: var(--fill-color);\n",
              "    }\n",
              "    20% {\n",
              "      border-color: transparent;\n",
              "      border-left-color: var(--fill-color);\n",
              "      border-top-color: var(--fill-color);\n",
              "    }\n",
              "    30% {\n",
              "      border-color: transparent;\n",
              "      border-left-color: var(--fill-color);\n",
              "      border-top-color: var(--fill-color);\n",
              "      border-right-color: var(--fill-color);\n",
              "    }\n",
              "    40% {\n",
              "      border-color: transparent;\n",
              "      border-right-color: var(--fill-color);\n",
              "      border-top-color: var(--fill-color);\n",
              "    }\n",
              "    60% {\n",
              "      border-color: transparent;\n",
              "      border-right-color: var(--fill-color);\n",
              "    }\n",
              "    80% {\n",
              "      border-color: transparent;\n",
              "      border-right-color: var(--fill-color);\n",
              "      border-bottom-color: var(--fill-color);\n",
              "    }\n",
              "    90% {\n",
              "      border-color: transparent;\n",
              "      border-bottom-color: var(--fill-color);\n",
              "    }\n",
              "  }\n",
              "</style>\n",
              "\n",
              "  <script>\n",
              "    async function quickchart(key) {\n",
              "      const quickchartButtonEl =\n",
              "        document.querySelector('#' + key + ' button');\n",
              "      quickchartButtonEl.disabled = true;  // To prevent multiple clicks.\n",
              "      quickchartButtonEl.classList.add('colab-df-spinner');\n",
              "      try {\n",
              "        const charts = await google.colab.kernel.invokeFunction(\n",
              "            'suggestCharts', [key], {});\n",
              "      } catch (error) {\n",
              "        console.error('Error during call to suggestCharts:', error);\n",
              "      }\n",
              "      quickchartButtonEl.classList.remove('colab-df-spinner');\n",
              "      quickchartButtonEl.classList.add('colab-df-quickchart-complete');\n",
              "    }\n",
              "    (() => {\n",
              "      let quickchartButtonEl =\n",
              "        document.querySelector('#df-f1e234bb-c22e-4e48-900d-5fedb8f7a3b4 button');\n",
              "      quickchartButtonEl.style.display =\n",
              "        google.colab.kernel.accessAllowed ? 'block' : 'none';\n",
              "    })();\n",
              "  </script>\n",
              "</div>\n",
              "\n",
              "    </div>\n",
              "  </div>\n"
            ],
            "application/vnd.google.colaboratory.intrinsic+json": {
              "type": "dataframe",
              "variable_name": "df",
              "summary": "{\n  \"name\": \"df\",\n  \"rows\": 6260,\n  \"fields\": [\n    {\n      \"column\": \"Elevation\",\n      \"properties\": {\n        \"dtype\": \"number\",\n        \"std\": 306.2859000404486,\n        \"min\": 467.7,\n        \"max\": 1626.4,\n        \"num_unique_values\": 4346,\n        \"samples\": [\n          1474.7,\n          1212.8,\n          963.2\n        ],\n        \"semantic_type\": \"\",\n        \"description\": \"\"\n      }\n    },\n    {\n      \"column\": \"Slope_prev\",\n      \"properties\": {\n        \"dtype\": \"number\",\n        \"std\": 0.15407596796912607,\n        \"min\": -0.5607282798344525,\n        \"max\": 0.5263308597669416,\n        \"num_unique_values\": 5926,\n        \"samples\": [\n          0.14107734143778355,\n          0.16215665270715846,\n          0.07475642705154618\n        ],\n        \"semantic_type\": \"\",\n        \"description\": \"\"\n      }\n    },\n    {\n      \"column\": \"Slope_next\",\n      \"properties\": {\n        \"dtype\": \"number\",\n        \"std\": 0.15404988782991325,\n        \"min\": -0.5607282798344525,\n        \"max\": 0.5263308597669416,\n        \"num_unique_values\": 5926,\n        \"samples\": [\n          0.1532376788064434,\n          0.10040269701081961,\n          0.07400061209725159\n        ],\n        \"semantic_type\": \"\",\n        \"description\": \"\"\n      }\n    },\n    {\n      \"column\": \"Angle\",\n      \"properties\": {\n        \"dtype\": \"number\",\n        \"std\": 18.20933023988372,\n        \"min\": 1.9090959104164224e-06,\n        \"max\": 179.99999829245272,\n        \"num_unique_values\": 6260,\n        \"samples\": [\n          177.10911681528248,\n          179.35260785116242,\n          172.66469315091624\n        ],\n        \"semantic_type\": \"\",\n        \"description\": \"\"\n      }\n    },\n    {\n      \"column\": \"Distance\",\n      \"properties\": {\n        \"dtype\": \"number\",\n        \"std\": 14020.282918912832,\n        \"min\": 0.470632842829368,\n        \"max\": 51324.16314927476,\n        \"num_unique_values\": 6260,\n        \"samples\": [\n          15354.00901583125,\n          24776.55228364081,\n          44854.48419751582\n        ],\n        \"semantic_type\": \"\",\n        \"description\": \"\"\n      }\n    },\n    {\n      \"column\": \"Cumulative_Slope\",\n      \"properties\": {\n        \"dtype\": \"number\",\n        \"std\": 59.46691103876547,\n        \"min\": -0.5198556826548961,\n        \"max\": 231.1872650480627,\n        \"num_unique_values\": 5925,\n        \"samples\": [\n          181.5483495678437,\n          93.11386539312592,\n          225.17513228987937\n        ],\n        \"semantic_type\": \"\",\n        \"description\": \"\"\n      }\n    },\n    {\n      \"column\": \"Speed\",\n      \"properties\": {\n        \"dtype\": \"number\",\n        \"std\": 2.8959130075765946,\n        \"min\": 0.011032399761400427,\n        \"max\": 16.79075169447363,\n        \"num_unique_values\": 6260,\n        \"samples\": [\n          1.4995330148697879,\n          2.3537433620216084,\n          1.8539595026874547\n        ],\n        \"semantic_type\": \"\",\n        \"description\": \"\"\n      }\n    },\n    {\n      \"column\": \"Time\",\n      \"properties\": {\n        \"dtype\": \"number\",\n        \"std\": 5994,\n        \"min\": 1,\n        \"max\": 19531,\n        \"num_unique_values\": 6260,\n        \"samples\": [\n          6423,\n          10497,\n          18720\n        ],\n        \"semantic_type\": \"\",\n        \"description\": \"\"\n      }\n    },\n    {\n      \"column\": \"Speed_pred\",\n      \"properties\": {\n        \"dtype\": \"float32\",\n        \"num_unique_values\": 6259,\n        \"samples\": [\n          3.323112726211548,\n          8.418240547180176,\n          8.042916297912598\n        ],\n        \"semantic_type\": \"\",\n        \"description\": \"\"\n      }\n    }\n  ]\n}"
            }
          },
          "metadata": {},
          "execution_count": 71
        }
      ]
    },
    {
      "cell_type": "markdown",
      "source": [
        "## Evaluate track length in seconds"
      ],
      "metadata": {
        "id": "_MtweafKlcKP"
      }
    },
    {
      "cell_type": "markdown",
      "source": [
        "### Example code"
      ],
      "metadata": {
        "id": "y0Z1XK4Yiyjf"
      }
    },
    {
      "cell_type": "code",
      "source": [
        "import pandas as pd\n",
        "import numpy as np\n",
        "\n",
        "# Data\n",
        "data = {\n",
        "    'Speed': [np.nan, 4.606892, 5.372097, 6.147122, 6.584172],\n",
        "    'Distance': [0.0, 4.111612, 9.213784, 14.855806, 21.508028]\n",
        "}\n",
        "df = pd.DataFrame(data)\n",
        "\n",
        "# Initialize Time column\n",
        "df['Time'] = 0.0\n",
        "\n",
        "# Compute Time intelligently\n",
        "for i in range(1, len(df)):\n",
        "    if pd.notna(df.loc[i, 'Speed']):\n",
        "        df.loc[i, 'Time'] = df.loc[i - 1, 'Time'] + (df.loc[i, 'Distance'] - df.loc[i - 1, 'Distance']) / df.loc[i, 'Speed']\n",
        "\n",
        "print(df)"
      ],
      "metadata": {
        "id": "sIIZ08DBhzh_",
        "outputId": "fc3d1239-e74b-4f40-e61f-e2fa72dd1f55",
        "colab": {
          "base_uri": "https://localhost:8080/"
        }
      },
      "execution_count": null,
      "outputs": [
        {
          "output_type": "stream",
          "name": "stdout",
          "text": [
            "      Speed   Distance      Time\n",
            "0       NaN   0.000000  0.000000\n",
            "1  4.606892   4.111612  0.892492\n",
            "2  5.372097   9.213784  1.842246\n",
            "3  6.147122  14.855806  2.760077\n",
            "4  6.584172  21.508028  3.770413\n"
          ]
        }
      ]
    },
    {
      "cell_type": "markdown",
      "source": [
        "### Implementation on test route"
      ],
      "metadata": {
        "id": "El0QlK4Miswb"
      }
    },
    {
      "cell_type": "code",
      "source": [
        "# Initialize Time column\n",
        "df['pred_time'] = 0.0\n",
        "\n",
        "# Compute predicted time\n",
        "for i in range(2, len(df)):\n",
        "  if pd.notna(df.loc[i, 'Speed_pred']):\n",
        "    if df.loc[i, 'Speed_pred'] != 0:\n",
        "      df.loc[i, 'pred_time'] = df.loc[i - 1, 'pred_time'] + (df.loc[i, 'Distance'] - df.loc[i - 1, 'Distance']) / df.loc[i, 'Speed_pred']\n",
        "    else:\n",
        "      df.loc[i, 'pred_time'] = df.loc[i - 1, 'pred_time']\n",
        "\n",
        "print(df)"
      ],
      "metadata": {
        "id": "RtCMC4XYi6QO",
        "outputId": "08548bb4-6cc1-4514-d34e-f91b7c5ad148",
        "colab": {
          "base_uri": "https://localhost:8080/"
        }
      },
      "execution_count": 72,
      "outputs": [
        {
          "output_type": "stream",
          "name": "stdout",
          "text": [
            "      Elevation  Slope_prev  Slope_next       Angle      Distance  \\\n",
            "0         468.4   -0.212480   -0.095519  178.010424      0.470633   \n",
            "1         468.3   -0.095519   -0.105583  162.415455      1.517546   \n",
            "2         468.2   -0.105583   -0.029522   27.899756      2.464669   \n",
            "3         468.1   -0.029522   -0.076752  159.951057      5.851968   \n",
            "4         467.7   -0.076752    0.111864  114.903001     11.063557   \n",
            "...         ...         ...         ...         ...           ...   \n",
            "6255      476.7   -0.171718   -0.082984  179.143224  51250.040526   \n",
            "6256      475.2   -0.082984   -0.021847  179.209099  51268.116334   \n",
            "6257      474.8   -0.021847   -0.064105  178.353241  51286.425116   \n",
            "6258      473.6   -0.064105   -0.084127  178.576724  51305.144334   \n",
            "6259      472.0   -0.084127   -0.021320  179.481785  51324.163149   \n",
            "\n",
            "      Cumulative_Slope     Speed   Time  Speed_pred    pred_time  \n",
            "0            -0.212480  0.758773      1    4.360478     0.000000  \n",
            "1            -0.307999  0.664679      2    4.786289     0.000000  \n",
            "2            -0.413582  0.722404      4   11.243628     0.084237  \n",
            "3            -0.443104  1.228413      8    6.860114     0.578004  \n",
            "4            -0.519856  1.762544     11    2.149767     3.002261  \n",
            "...                ...       ...    ...         ...          ...  \n",
            "6255        143.390937  9.032163  19523    9.756586  9927.395049  \n",
            "6256        143.307953  9.096147  19525   11.485308  9928.968869  \n",
            "6257        143.286106  9.257000  19527   11.745477  9930.527663  \n",
            "6258        143.222000  9.434508  19529   11.751875  9932.120534  \n",
            "6259        143.137873  7.099924  19531   11.555243  9933.766438  \n",
            "\n",
            "[6260 rows x 10 columns]\n"
          ]
        }
      ]
    },
    {
      "cell_type": "code",
      "source": [
        "df[['Speed', 'Speed_pred', 'Time', 'pred_time']]"
      ],
      "metadata": {
        "id": "hb-101z9p6EV",
        "outputId": "939fa0b3-3166-428f-8a5d-c7349b814a9c",
        "colab": {
          "base_uri": "https://localhost:8080/",
          "height": 423
        }
      },
      "execution_count": 73,
      "outputs": [
        {
          "output_type": "execute_result",
          "data": {
            "text/plain": [
              "         Speed  Speed_pred   Time    pred_time\n",
              "0     0.758773    4.360478      1     0.000000\n",
              "1     0.664679    4.786289      2     0.000000\n",
              "2     0.722404   11.243628      4     0.084237\n",
              "3     1.228413    6.860114      8     0.578004\n",
              "4     1.762544    2.149767     11     3.002261\n",
              "...        ...         ...    ...          ...\n",
              "6255  9.032163    9.756586  19523  9927.395049\n",
              "6256  9.096147   11.485308  19525  9928.968869\n",
              "6257  9.257000   11.745477  19527  9930.527663\n",
              "6258  9.434508   11.751875  19529  9932.120534\n",
              "6259  7.099924   11.555243  19531  9933.766438\n",
              "\n",
              "[6260 rows x 4 columns]"
            ],
            "text/html": [
              "\n",
              "  <div id=\"df-3900e780-97c0-4184-b947-327779f59080\" class=\"colab-df-container\">\n",
              "    <div>\n",
              "<style scoped>\n",
              "    .dataframe tbody tr th:only-of-type {\n",
              "        vertical-align: middle;\n",
              "    }\n",
              "\n",
              "    .dataframe tbody tr th {\n",
              "        vertical-align: top;\n",
              "    }\n",
              "\n",
              "    .dataframe thead th {\n",
              "        text-align: right;\n",
              "    }\n",
              "</style>\n",
              "<table border=\"1\" class=\"dataframe\">\n",
              "  <thead>\n",
              "    <tr style=\"text-align: right;\">\n",
              "      <th></th>\n",
              "      <th>Speed</th>\n",
              "      <th>Speed_pred</th>\n",
              "      <th>Time</th>\n",
              "      <th>pred_time</th>\n",
              "    </tr>\n",
              "  </thead>\n",
              "  <tbody>\n",
              "    <tr>\n",
              "      <th>0</th>\n",
              "      <td>0.758773</td>\n",
              "      <td>4.360478</td>\n",
              "      <td>1</td>\n",
              "      <td>0.000000</td>\n",
              "    </tr>\n",
              "    <tr>\n",
              "      <th>1</th>\n",
              "      <td>0.664679</td>\n",
              "      <td>4.786289</td>\n",
              "      <td>2</td>\n",
              "      <td>0.000000</td>\n",
              "    </tr>\n",
              "    <tr>\n",
              "      <th>2</th>\n",
              "      <td>0.722404</td>\n",
              "      <td>11.243628</td>\n",
              "      <td>4</td>\n",
              "      <td>0.084237</td>\n",
              "    </tr>\n",
              "    <tr>\n",
              "      <th>3</th>\n",
              "      <td>1.228413</td>\n",
              "      <td>6.860114</td>\n",
              "      <td>8</td>\n",
              "      <td>0.578004</td>\n",
              "    </tr>\n",
              "    <tr>\n",
              "      <th>4</th>\n",
              "      <td>1.762544</td>\n",
              "      <td>2.149767</td>\n",
              "      <td>11</td>\n",
              "      <td>3.002261</td>\n",
              "    </tr>\n",
              "    <tr>\n",
              "      <th>...</th>\n",
              "      <td>...</td>\n",
              "      <td>...</td>\n",
              "      <td>...</td>\n",
              "      <td>...</td>\n",
              "    </tr>\n",
              "    <tr>\n",
              "      <th>6255</th>\n",
              "      <td>9.032163</td>\n",
              "      <td>9.756586</td>\n",
              "      <td>19523</td>\n",
              "      <td>9927.395049</td>\n",
              "    </tr>\n",
              "    <tr>\n",
              "      <th>6256</th>\n",
              "      <td>9.096147</td>\n",
              "      <td>11.485308</td>\n",
              "      <td>19525</td>\n",
              "      <td>9928.968869</td>\n",
              "    </tr>\n",
              "    <tr>\n",
              "      <th>6257</th>\n",
              "      <td>9.257000</td>\n",
              "      <td>11.745477</td>\n",
              "      <td>19527</td>\n",
              "      <td>9930.527663</td>\n",
              "    </tr>\n",
              "    <tr>\n",
              "      <th>6258</th>\n",
              "      <td>9.434508</td>\n",
              "      <td>11.751875</td>\n",
              "      <td>19529</td>\n",
              "      <td>9932.120534</td>\n",
              "    </tr>\n",
              "    <tr>\n",
              "      <th>6259</th>\n",
              "      <td>7.099924</td>\n",
              "      <td>11.555243</td>\n",
              "      <td>19531</td>\n",
              "      <td>9933.766438</td>\n",
              "    </tr>\n",
              "  </tbody>\n",
              "</table>\n",
              "<p>6260 rows × 4 columns</p>\n",
              "</div>\n",
              "    <div class=\"colab-df-buttons\">\n",
              "\n",
              "  <div class=\"colab-df-container\">\n",
              "    <button class=\"colab-df-convert\" onclick=\"convertToInteractive('df-3900e780-97c0-4184-b947-327779f59080')\"\n",
              "            title=\"Convert this dataframe to an interactive table.\"\n",
              "            style=\"display:none;\">\n",
              "\n",
              "  <svg xmlns=\"http://www.w3.org/2000/svg\" height=\"24px\" viewBox=\"0 -960 960 960\">\n",
              "    <path d=\"M120-120v-720h720v720H120Zm60-500h600v-160H180v160Zm220 220h160v-160H400v160Zm0 220h160v-160H400v160ZM180-400h160v-160H180v160Zm440 0h160v-160H620v160ZM180-180h160v-160H180v160Zm440 0h160v-160H620v160Z\"/>\n",
              "  </svg>\n",
              "    </button>\n",
              "\n",
              "  <style>\n",
              "    .colab-df-container {\n",
              "      display:flex;\n",
              "      gap: 12px;\n",
              "    }\n",
              "\n",
              "    .colab-df-convert {\n",
              "      background-color: #E8F0FE;\n",
              "      border: none;\n",
              "      border-radius: 50%;\n",
              "      cursor: pointer;\n",
              "      display: none;\n",
              "      fill: #1967D2;\n",
              "      height: 32px;\n",
              "      padding: 0 0 0 0;\n",
              "      width: 32px;\n",
              "    }\n",
              "\n",
              "    .colab-df-convert:hover {\n",
              "      background-color: #E2EBFA;\n",
              "      box-shadow: 0px 1px 2px rgba(60, 64, 67, 0.3), 0px 1px 3px 1px rgba(60, 64, 67, 0.15);\n",
              "      fill: #174EA6;\n",
              "    }\n",
              "\n",
              "    .colab-df-buttons div {\n",
              "      margin-bottom: 4px;\n",
              "    }\n",
              "\n",
              "    [theme=dark] .colab-df-convert {\n",
              "      background-color: #3B4455;\n",
              "      fill: #D2E3FC;\n",
              "    }\n",
              "\n",
              "    [theme=dark] .colab-df-convert:hover {\n",
              "      background-color: #434B5C;\n",
              "      box-shadow: 0px 1px 3px 1px rgba(0, 0, 0, 0.15);\n",
              "      filter: drop-shadow(0px 1px 2px rgba(0, 0, 0, 0.3));\n",
              "      fill: #FFFFFF;\n",
              "    }\n",
              "  </style>\n",
              "\n",
              "    <script>\n",
              "      const buttonEl =\n",
              "        document.querySelector('#df-3900e780-97c0-4184-b947-327779f59080 button.colab-df-convert');\n",
              "      buttonEl.style.display =\n",
              "        google.colab.kernel.accessAllowed ? 'block' : 'none';\n",
              "\n",
              "      async function convertToInteractive(key) {\n",
              "        const element = document.querySelector('#df-3900e780-97c0-4184-b947-327779f59080');\n",
              "        const dataTable =\n",
              "          await google.colab.kernel.invokeFunction('convertToInteractive',\n",
              "                                                    [key], {});\n",
              "        if (!dataTable) return;\n",
              "\n",
              "        const docLinkHtml = 'Like what you see? Visit the ' +\n",
              "          '<a target=\"_blank\" href=https://colab.research.google.com/notebooks/data_table.ipynb>data table notebook</a>'\n",
              "          + ' to learn more about interactive tables.';\n",
              "        element.innerHTML = '';\n",
              "        dataTable['output_type'] = 'display_data';\n",
              "        await google.colab.output.renderOutput(dataTable, element);\n",
              "        const docLink = document.createElement('div');\n",
              "        docLink.innerHTML = docLinkHtml;\n",
              "        element.appendChild(docLink);\n",
              "      }\n",
              "    </script>\n",
              "  </div>\n",
              "\n",
              "\n",
              "<div id=\"df-6628e585-0431-4921-a05b-a5c97d1ab9d7\">\n",
              "  <button class=\"colab-df-quickchart\" onclick=\"quickchart('df-6628e585-0431-4921-a05b-a5c97d1ab9d7')\"\n",
              "            title=\"Suggest charts\"\n",
              "            style=\"display:none;\">\n",
              "\n",
              "<svg xmlns=\"http://www.w3.org/2000/svg\" height=\"24px\"viewBox=\"0 0 24 24\"\n",
              "     width=\"24px\">\n",
              "    <g>\n",
              "        <path d=\"M19 3H5c-1.1 0-2 .9-2 2v14c0 1.1.9 2 2 2h14c1.1 0 2-.9 2-2V5c0-1.1-.9-2-2-2zM9 17H7v-7h2v7zm4 0h-2V7h2v10zm4 0h-2v-4h2v4z\"/>\n",
              "    </g>\n",
              "</svg>\n",
              "  </button>\n",
              "\n",
              "<style>\n",
              "  .colab-df-quickchart {\n",
              "      --bg-color: #E8F0FE;\n",
              "      --fill-color: #1967D2;\n",
              "      --hover-bg-color: #E2EBFA;\n",
              "      --hover-fill-color: #174EA6;\n",
              "      --disabled-fill-color: #AAA;\n",
              "      --disabled-bg-color: #DDD;\n",
              "  }\n",
              "\n",
              "  [theme=dark] .colab-df-quickchart {\n",
              "      --bg-color: #3B4455;\n",
              "      --fill-color: #D2E3FC;\n",
              "      --hover-bg-color: #434B5C;\n",
              "      --hover-fill-color: #FFFFFF;\n",
              "      --disabled-bg-color: #3B4455;\n",
              "      --disabled-fill-color: #666;\n",
              "  }\n",
              "\n",
              "  .colab-df-quickchart {\n",
              "    background-color: var(--bg-color);\n",
              "    border: none;\n",
              "    border-radius: 50%;\n",
              "    cursor: pointer;\n",
              "    display: none;\n",
              "    fill: var(--fill-color);\n",
              "    height: 32px;\n",
              "    padding: 0;\n",
              "    width: 32px;\n",
              "  }\n",
              "\n",
              "  .colab-df-quickchart:hover {\n",
              "    background-color: var(--hover-bg-color);\n",
              "    box-shadow: 0 1px 2px rgba(60, 64, 67, 0.3), 0 1px 3px 1px rgba(60, 64, 67, 0.15);\n",
              "    fill: var(--button-hover-fill-color);\n",
              "  }\n",
              "\n",
              "  .colab-df-quickchart-complete:disabled,\n",
              "  .colab-df-quickchart-complete:disabled:hover {\n",
              "    background-color: var(--disabled-bg-color);\n",
              "    fill: var(--disabled-fill-color);\n",
              "    box-shadow: none;\n",
              "  }\n",
              "\n",
              "  .colab-df-spinner {\n",
              "    border: 2px solid var(--fill-color);\n",
              "    border-color: transparent;\n",
              "    border-bottom-color: var(--fill-color);\n",
              "    animation:\n",
              "      spin 1s steps(1) infinite;\n",
              "  }\n",
              "\n",
              "  @keyframes spin {\n",
              "    0% {\n",
              "      border-color: transparent;\n",
              "      border-bottom-color: var(--fill-color);\n",
              "      border-left-color: var(--fill-color);\n",
              "    }\n",
              "    20% {\n",
              "      border-color: transparent;\n",
              "      border-left-color: var(--fill-color);\n",
              "      border-top-color: var(--fill-color);\n",
              "    }\n",
              "    30% {\n",
              "      border-color: transparent;\n",
              "      border-left-color: var(--fill-color);\n",
              "      border-top-color: var(--fill-color);\n",
              "      border-right-color: var(--fill-color);\n",
              "    }\n",
              "    40% {\n",
              "      border-color: transparent;\n",
              "      border-right-color: var(--fill-color);\n",
              "      border-top-color: var(--fill-color);\n",
              "    }\n",
              "    60% {\n",
              "      border-color: transparent;\n",
              "      border-right-color: var(--fill-color);\n",
              "    }\n",
              "    80% {\n",
              "      border-color: transparent;\n",
              "      border-right-color: var(--fill-color);\n",
              "      border-bottom-color: var(--fill-color);\n",
              "    }\n",
              "    90% {\n",
              "      border-color: transparent;\n",
              "      border-bottom-color: var(--fill-color);\n",
              "    }\n",
              "  }\n",
              "</style>\n",
              "\n",
              "  <script>\n",
              "    async function quickchart(key) {\n",
              "      const quickchartButtonEl =\n",
              "        document.querySelector('#' + key + ' button');\n",
              "      quickchartButtonEl.disabled = true;  // To prevent multiple clicks.\n",
              "      quickchartButtonEl.classList.add('colab-df-spinner');\n",
              "      try {\n",
              "        const charts = await google.colab.kernel.invokeFunction(\n",
              "            'suggestCharts', [key], {});\n",
              "      } catch (error) {\n",
              "        console.error('Error during call to suggestCharts:', error);\n",
              "      }\n",
              "      quickchartButtonEl.classList.remove('colab-df-spinner');\n",
              "      quickchartButtonEl.classList.add('colab-df-quickchart-complete');\n",
              "    }\n",
              "    (() => {\n",
              "      let quickchartButtonEl =\n",
              "        document.querySelector('#df-6628e585-0431-4921-a05b-a5c97d1ab9d7 button');\n",
              "      quickchartButtonEl.style.display =\n",
              "        google.colab.kernel.accessAllowed ? 'block' : 'none';\n",
              "    })();\n",
              "  </script>\n",
              "</div>\n",
              "\n",
              "    </div>\n",
              "  </div>\n"
            ],
            "application/vnd.google.colaboratory.intrinsic+json": {
              "type": "dataframe",
              "summary": "{\n  \"name\": \"df[['Speed', 'Speed_pred', 'Time', 'pred_time']]\",\n  \"rows\": 6260,\n  \"fields\": [\n    {\n      \"column\": \"Speed\",\n      \"properties\": {\n        \"dtype\": \"number\",\n        \"std\": 2.8959130075765946,\n        \"min\": 0.011032399761400427,\n        \"max\": 16.79075169447363,\n        \"num_unique_values\": 6260,\n        \"samples\": [\n          1.4995330148697879,\n          2.3537433620216084,\n          1.8539595026874547\n        ],\n        \"semantic_type\": \"\",\n        \"description\": \"\"\n      }\n    },\n    {\n      \"column\": \"Speed_pred\",\n      \"properties\": {\n        \"dtype\": \"float32\",\n        \"num_unique_values\": 6259,\n        \"samples\": [\n          3.323112726211548,\n          8.418240547180176,\n          8.042916297912598\n        ],\n        \"semantic_type\": \"\",\n        \"description\": \"\"\n      }\n    },\n    {\n      \"column\": \"Time\",\n      \"properties\": {\n        \"dtype\": \"number\",\n        \"std\": 5994,\n        \"min\": 1,\n        \"max\": 19531,\n        \"num_unique_values\": 6260,\n        \"samples\": [\n          6423,\n          10497,\n          18720\n        ],\n        \"semantic_type\": \"\",\n        \"description\": \"\"\n      }\n    },\n    {\n      \"column\": \"pred_time\",\n      \"properties\": {\n        \"dtype\": \"number\",\n        \"std\": 2821.006077773984,\n        \"min\": 0.0,\n        \"max\": 9933.766437792088,\n        \"num_unique_values\": 6259,\n        \"samples\": [\n          3461.391214104214,\n          5432.374698745433,\n          9079.262848392867\n        ],\n        \"semantic_type\": \"\",\n        \"description\": \"\"\n      }\n    }\n  ]\n}"
            }
          },
          "metadata": {},
          "execution_count": 73
        }
      ]
    }
  ],
  "metadata": {
    "language_info": {
      "name": "python"
    },
    "colab": {
      "provenance": [],
      "gpuType": "V28",
      "machine_shape": "hm"
    },
    "kernelspec": {
      "name": "python3",
      "display_name": "Python 3"
    },
    "accelerator": "TPU"
  },
  "nbformat": 4,
  "nbformat_minor": 0
}