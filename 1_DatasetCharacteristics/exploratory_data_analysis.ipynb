{
  "cells": [
    {
      "cell_type": "markdown",
      "metadata": {
        "id": "GLH2jBYfHy2o"
      },
      "source": [
        "# Exploratory Data Analysis (EDA)\n",
        "\n",
        "## Table of Contents\n",
        "1. [Libraries](#libraries)\n",
        "2. [Load data](#load-data)\n",
        "3. [Dataset overview](#dataset-overview)\n",
        "4. [Data format conversion](#data-format-conversion)\n",
        "5. [Dataset overview (single rider)](#possible-biases)\n",
        "6. [Preprocessing](#preprocessing)\n"
      ]
    },
    {
      "cell_type": "markdown",
      "metadata": {
        "id": "U4yKkspkHy2p"
      },
      "source": [
        "## 1. Libraries\n",
        "Install and load necessary libraries."
      ]
    },
    {
      "cell_type": "code",
      "source": [
        "#Install necessary files\n",
        "!pip install gpxpy\n",
        "!pip install tcxreader"
      ],
      "metadata": {
        "id": "uFtVLW6cFbyO"
      },
      "execution_count": null,
      "outputs": []
    },
    {
      "cell_type": "code",
      "execution_count": 2,
      "metadata": {
        "id": "WSmQCXP5Hy2q"
      },
      "outputs": [],
      "source": [
        "# Import necessary libraries\n",
        "import pandas as pd\n",
        "import numpy as np\n",
        "import matplotlib.pyplot as plt\n",
        "import seaborn as sns\n",
        "import gpxpy\n",
        "import gpxpy.gpx\n",
        "import tcxreader\n",
        "import tcxreader.tcxreader\n",
        "import openpyxl\n",
        "import os\n",
        "import shutil\n"
      ]
    },
    {
      "cell_type": "markdown",
      "source": [
        "## 2. Load data\n",
        "Load whole dataset containing all tracks of 9 riders."
      ],
      "metadata": {
        "id": "VeXX-cHjOXVK"
      }
    },
    {
      "cell_type": "code",
      "source": [
        "# Load data from google drive\n",
        "from google.colab import drive\n",
        "drive.mount('/content/drive')"
      ],
      "metadata": {
        "id": "enc5tCy9E-RG",
        "outputId": "f2b50a56-357e-4fce-f114-98bf10b60cbd",
        "colab": {
          "base_uri": "https://localhost:8080/"
        }
      },
      "execution_count": 3,
      "outputs": [
        {
          "output_type": "stream",
          "name": "stdout",
          "text": [
            "Mounted at /content/drive\n"
          ]
        }
      ]
    },
    {
      "cell_type": "code",
      "source": [
        "# Or upload local dataset\n",
        "from google.colab import files\n",
        "uploaded = files.upload()"
      ],
      "metadata": {
        "id": "VgUujNxzI1m2"
      },
      "execution_count": null,
      "outputs": []
    },
    {
      "cell_type": "code",
      "source": [
        "!unzip /content/drive/MyDrive/opencampus_all_files/Sport1.zip -d /content"
      ],
      "metadata": {
        "id": "NoC_h4MU0WMw"
      },
      "execution_count": null,
      "outputs": []
    },
    {
      "cell_type": "markdown",
      "metadata": {
        "id": "cPhol6zGHy2r"
      },
      "source": [
        "## 3. Dataset Overview\n",
        "Basic exploration of the entire dataset."
      ]
    },
    {
      "cell_type": "code",
      "execution_count": 5,
      "metadata": {
        "id": "rvmAsNqmHy2r",
        "outputId": "85944d56-6262-4001-ba1f-a009feb20666",
        "colab": {
          "base_uri": "https://localhost:8080/"
        }
      },
      "outputs": [
        {
          "output_type": "stream",
          "name": "stdout",
          "text": [
            "Number of samples: 5994\n",
            "Number of features: 4\n",
            "Example data:\n",
            "                       time   latitude  longitude  elevation\n",
            "0 2013-07-13 06:41:38+00:00  46.363649  14.112036      511.5\n",
            "1 2013-07-13 06:41:39+00:00  46.363691  14.112026      511.0\n",
            "2 2013-07-13 06:41:41+00:00  46.363778  14.112031      510.1\n",
            "3 2013-07-13 06:41:43+00:00  46.363835  14.112023      509.7\n",
            "4 2013-07-13 06:41:45+00:00  46.363888  14.112007      509.4\n"
          ]
        }
      ],
      "source": [
        "# Load gpx.\n",
        "gpx_path = '/content/Sport/Rider1/f1.gpx'\n",
        "with open(gpx_path) as f:\n",
        "    gpx = gpxpy.parse(f)\n",
        "\n",
        "# Convert to a dataframe one point at a time.\n",
        "points = []\n",
        "for segment in gpx.tracks[0].segments:\n",
        "    for p in segment.points:\n",
        "        points.append({\n",
        "            'time': p.time,\n",
        "            'latitude': p.latitude,\n",
        "            'longitude': p.longitude,\n",
        "            'elevation': p.elevation,\n",
        "        })\n",
        "df = pd.DataFrame.from_records(points)\n",
        "\n",
        "# Number of samples\n",
        "num_samples = df.shape[0]\n",
        "\n",
        "# Number of features\n",
        "num_features = df.shape[1]\n",
        "\n",
        "# Display these dataset characteristics\n",
        "print(f\"Number of samples: {num_samples}\")\n",
        "print(f\"Number of features: {num_features}\")\n",
        "\n",
        "# Display the first few rows of the dataframe to show the structure\n",
        "print(\"Example data:\")\n",
        "print(df.head())\n",
        "\n"
      ]
    },
    {
      "cell_type": "code",
      "source": [
        "# Path to the main folder containing Rider folders\n",
        "main_path = '/content/Sport'\n",
        "\n",
        "# Iterate through each Rider folder and count the number of .gpx files\n",
        "for rider_folder in sorted(os.listdir(main_path)):\n",
        "    folder_path = os.path.join(main_path, rider_folder)\n",
        "    if os.path.isdir(folder_path):\n",
        "        gpx_files = [f for f in os.listdir(folder_path) if f.endswith('.gpx')]\n",
        "        tcx_files = [f for f in os.listdir(folder_path) if f.endswith('.tcx')]\n",
        "        print(f\"Folder '{rider_folder}' contains {len(gpx_files)} .gpx files and {len(tcx_files)} .tcx files.\")\n"
      ],
      "metadata": {
        "id": "t813gaFl5gHG",
        "outputId": "be6c7b1e-ec60-4011-8d80-7e7e29fc2887",
        "colab": {
          "base_uri": "https://localhost:8080/"
        }
      },
      "execution_count": 6,
      "outputs": [
        {
          "output_type": "stream",
          "name": "stdout",
          "text": [
            "Folder 'Rider1' contains 751 .gpx files and 0 .tcx files.\n",
            "Folder 'Rider2' contains 389 .gpx files and 0 .tcx files.\n",
            "Folder 'Rider3' contains 661 .gpx files and 0 .tcx files.\n",
            "Folder 'Rider4' contains 810 .gpx files and 0 .tcx files.\n",
            "Folder 'Rider5' contains 636 .gpx files and 0 .tcx files.\n",
            "Folder 'Rider6' contains 63 .gpx files and 0 .tcx files.\n",
            "Folder 'Rider7' contains 328 .gpx files and 0 .tcx files.\n",
            "Folder 'Rider8' contains 0 .gpx files and 170 .tcx files.\n",
            "Folder 'Rider9' contains 0 .gpx files and 585 .tcx files.\n"
          ]
        }
      ]
    },
    {
      "cell_type": "markdown",
      "source": [
        "## 4. Data format conversion\n",
        "Convert GPX and TCX to XLS format. In order to correctly analyse all the data its format should be firstly unified."
      ],
      "metadata": {
        "id": "2bOhLPztOTOE"
      }
    },
    {
      "cell_type": "code",
      "source": [
        "def convert_gpx_to_excel(gpx_file_path, output_file_path):\n",
        "  # Initialize a DataFrame to store data\n",
        "  all_data = []\n",
        "\n",
        "  # Parse the GPX file\n",
        "  with open(gpx_file_path, 'r') as gpx_file:\n",
        "      gpx = gpxpy.parse(gpx_file)\n",
        "\n",
        "  # Extract data (latitude, longitude, elevation, time, etc.)\n",
        "  for track in gpx.tracks:\n",
        "      for segment in track.segments:\n",
        "          for point in segment.points:\n",
        "              # Convert timezone-aware datetime to timezone-naive\n",
        "              naive_time = point.time.replace(tzinfo=None) if point.time else None\n",
        "\n",
        "              all_data.append({\n",
        "                  'Latitude': point.latitude,\n",
        "                  'Longitude': point.longitude,\n",
        "                  'Elevation': point.elevation,\n",
        "                  'Time': naive_time\n",
        "              })\n",
        "\n",
        "  # Convert the data into a DataFrame\n",
        "  df = pd.DataFrame(all_data)\n",
        "\n",
        "  # Write the DataFrame to an Excel file\n",
        "  df.to_excel(output_file_path, index=False)\n"
      ],
      "metadata": {
        "id": "kMaGWKktMxgI"
      },
      "execution_count": 7,
      "outputs": []
    },
    {
      "cell_type": "code",
      "source": [
        "# TCX to XLSX\n",
        "def convert_tcx_to_excel(tcx_file_path, output_file_path):\n",
        "    \"\"\"\n",
        "    Converts a TCX file to an Excel file with trackpoint data.\n",
        "\n",
        "    Parameters:\n",
        "    - tcx_file_path: str, path to the input TCX file\n",
        "    - output_file_path: str, path to save the output Excel file\n",
        "    \"\"\"\n",
        "    # Initialize the TCX reader\n",
        "    tcx_reader = TCXReader()\n",
        "\n",
        "    # Read the TCX file\n",
        "    data: TCXExercise = tcx_reader.read(tcx_file_path)\n",
        "\n",
        "    # List to store the trackpoint data\n",
        "    trackpoint_data = []\n",
        "\n",
        "    # Loop through all trackpoints and extract relevant information\n",
        "    for trackpoint in data.trackpoints:\n",
        "        trackpoint_data.append({\n",
        "            'Time': trackpoint.time,\n",
        "            'Latitude': trackpoint.latitude,\n",
        "            'Longitude': trackpoint.longitude,\n",
        "            'Elevation': trackpoint.elevation,\n",
        "            'Distance': trackpoint.distance,\n",
        "            'Heartrate': trackpoint.hr_value,\n",
        "            'Cadence': trackpoint.cadence,\n",
        "            'Speed': trackpoint.tpx_ext['Speed']\n",
        "        })\n",
        "\n",
        "    # Convert the list of dictionaries to a pandas DataFrame\n",
        "    df = pd.DataFrame(trackpoint_data)\n",
        "\n",
        "    # Save the DataFrame to an Excel file\n",
        "    df.to_excel(output_file_path, index=False, engine='openpyxl')\n"
      ],
      "metadata": {
        "id": "RgEU9KOlQm6A"
      },
      "execution_count": 8,
      "outputs": []
    },
    {
      "cell_type": "code",
      "source": [
        "# Define the directories\n",
        "sport_dir = \"/content/Sport\"\n",
        "sport_xlsx_dir = \"/content/Sport_xlsx\"\n",
        "\n",
        "# Create Sport_xlsx directory if it doesn't exist\n",
        "if not os.path.exists(sport_xlsx_dir):\n",
        "    os.makedirs(sport_xlsx_dir)\n",
        "\n",
        "# Function to convert files in a folder\n",
        "def convert_files_in_folder(rider_folder):\n",
        "    rider_xlsx_folder = os.path.join(sport_xlsx_dir, rider_folder)\n",
        "\n",
        "    # Create the rider folder in Sport_xlsx directory if it doesn't exist\n",
        "    if not os.path.exists(rider_xlsx_folder):\n",
        "        os.makedirs(rider_xlsx_folder)\n",
        "\n",
        "    rider_folder_path = os.path.join(sport_dir, rider_folder)\n",
        "\n",
        "    # Process .gpx files\n",
        "    gpx_files = [f for f in os.listdir(rider_folder_path) if f.endswith('.gpx')]\n",
        "    for gpx_file in gpx_files:\n",
        "        convert_gpx_to_excel(os.path.join(rider_folder_path, gpx_file),\n",
        "                           os.path.join(rider_xlsx_folder, gpx_file.replace('.gpx', '.xlsx')))\n",
        "\n",
        "    # Process .tcx files\n",
        "    tcx_files = [f for f in os.listdir(rider_folder_path) if f.endswith('.tcx')]\n",
        "    for tcx_file in tcx_files:\n",
        "        convert_tcx_to_excel(os.path.join(rider_folder_path, tcx_file),\n",
        "                           os.path.join(rider_xlsx_folder, tcx_file.replace('.tcx', '.xlsx')))\n"
      ],
      "metadata": {
        "id": "0IOfK69AV-J9"
      },
      "execution_count": 9,
      "outputs": []
    },
    {
      "cell_type": "code",
      "source": [
        "#Riders = ['Rider1', 'Rider2', 'Rider3', 'Rider4', 'Rider5', 'Rider6', 'Rider7', 'Rider8', 'Rider9']\n",
        "Riders = ['Rider4']\n",
        "for rider in Riders:\n",
        "  convert_files_in_folder(rider)"
      ],
      "metadata": {
        "id": "WTCMFC3jfFD4"
      },
      "execution_count": null,
      "outputs": []
    },
    {
      "cell_type": "code",
      "source": [
        "!zip -r /content/Sport_xlsx/Rider4.zip /content/Sport_xlsx/Rider4"
      ],
      "metadata": {
        "id": "maWIkJuUH48E"
      },
      "execution_count": null,
      "outputs": []
    },
    {
      "cell_type": "markdown",
      "source": [
        "# 5. Dataset overview (Single rider)\n",
        "Load and exploration of a single rider files after succesful conversion to xlsx format."
      ],
      "metadata": {
        "id": "l-6YHPY8nYE8"
      }
    },
    {
      "cell_type": "code",
      "source": [
        "!unzip /content/drive/MyDrive/opencampus_all_files/Rider1.zip -d /content"
      ],
      "metadata": {
        "id": "CYHrWKGInlJx"
      },
      "execution_count": null,
      "outputs": []
    },
    {
      "cell_type": "code",
      "source": [
        "directory = '/content/content/Sport_xlsx/Rider1/'\n",
        "\n",
        "# Initialize lists and dictionaries to store results\n",
        "row_counts = []\n",
        "missing_values = 0\n",
        "\n",
        "# Loop through all files in the directory\n",
        "for file in os.listdir(directory):\n",
        "    if file.endswith(\".xlsx\"):\n",
        "        file_path = os.path.join(directory, file)\n",
        "\n",
        "        # Read the Excel file\n",
        "        df = pd.read_excel(file_path)\n",
        "\n",
        "        # Count rows and add to list\n",
        "        row_counts.append(df.shape[0])\n",
        "\n",
        "        # Count missing values\n",
        "        missing_values += df.isnull().sum()"
      ],
      "metadata": {
        "id": "UH64q_vDoXJw"
      },
      "execution_count": 12,
      "outputs": []
    },
    {
      "cell_type": "code",
      "source": [
        "# Print the missing values summary\n",
        "print(missing_values)"
      ],
      "metadata": {
        "id": "5ZGhlbG2xtN0",
        "outputId": "e761e824-abff-4fa8-917e-2de7eba789a3",
        "colab": {
          "base_uri": "https://localhost:8080/"
        }
      },
      "execution_count": 13,
      "outputs": [
        {
          "output_type": "stream",
          "name": "stdout",
          "text": [
            "Latitude     0\n",
            "Longitude    0\n",
            "Elevation    0\n",
            "Time         0\n",
            "dtype: int64\n"
          ]
        }
      ]
    },
    {
      "cell_type": "code",
      "source": [
        "# Plot the histogram of row counts\n",
        "plt.figure(figsize=(10, 6))\n",
        "plt.hist(row_counts, bins=30, color='blue', alpha=0.7)\n",
        "plt.title(\"Histogram of Row Counts\")\n",
        "plt.xlabel(\"Number of Rows\")\n",
        "plt.ylabel(\"Frequency\")\n",
        "plt.grid(True)\n",
        "plt.show()"
      ],
      "metadata": {
        "id": "jZ9lPedwxr5x",
        "outputId": "6d76a775-19d5-4a40-8e39-509b9eee8521",
        "colab": {
          "base_uri": "https://localhost:8080/",
          "height": 564
        }
      },
      "execution_count": 14,
      "outputs": [
        {
          "output_type": "display_data",
          "data": {
            "text/plain": [
              "<Figure size 1000x600 with 1 Axes>"
            ],
            "image/png": "[encoded data removed]"
          },
          "metadata": {}
        }
      ]
    },
    {
      "cell_type": "code",
      "source": [
        "# Plot the boxplot of row counts\n",
        "plt.figure(figsize=(10, 6))\n",
        "plt.boxplot(row_counts)\n",
        "plt.title(\"Boxplot of Row Counts\")\n",
        "plt.grid(True)\n",
        "plt.show()"
      ],
      "metadata": {
        "id": "1MQHr0lQxvRp",
        "outputId": "5da62ea2-c998-462e-83d7-7ee972a04d9b",
        "colab": {
          "base_uri": "https://localhost:8080/",
          "height": 545
        }
      },
      "execution_count": 15,
      "outputs": [
        {
          "output_type": "display_data",
          "data": {
            "text/plain": [
              "<Figure size 1000x600 with 1 Axes>"
            ],
            "image/png": "[encoded data removed]"
          },
          "metadata": {}
        }
      ]
    },
    {
      "cell_type": "code",
      "source": [
        "print(sorted(row_counts))"
      ],
      "metadata": {
        "id": "ZVhmkg78x0b7",
        "outputId": "8fb56f6c-0846-4b20-9a20-1e34bc16c8ff",
        "colab": {
          "base_uri": "https://localhost:8080/"
        }
      },
      "execution_count": 32,
      "outputs": [
        {
          "output_type": "stream",
          "name": "stdout",
          "text": [
            "[26, 27, 34, 38, 70, 79, 101, 106, 199, 206, 210, 212, 266, 274, 285, 286, 327, 334, 349, 357, 371, 374, 387, 402, 406, 429, 438, 455, 469, 473, 474, 513, 526, 550, 555, 560, 601, 603, 611, 612, 644, 650, 660, 664, 698, 749, 750, 758, 765, 767, 772, 804, 807, 808, 817, 821, 841, 843, 878, 894, 898, 910, 913, 919, 933, 942, 949, 952, 990, 995, 1004, 1026, 1046, 1057, 1058, 1064, 1066, 1072, 1101, 1138, 1169, 1175, 1180, 1187, 1198, 1201, 1209, 1232, 1274, 1276, 1286, 1302, 1302, 1318, 1321, 1331, 1338, 1339, 1360, 1363, 1380, 1381, 1391, 1394, 1404, 1423, 1424, 1424, 1428, 1431, 1431, 1437, 1476, 1483, 1498, 1502, 1512, 1519, 1524, 1542, 1549, 1549, 1586, 1619, 1623, 1644, 1660, 1665, 1673, 1682, 1685, 1689, 1694, 1726, 1729, 1733, 1747, 1772, 1775, 1797, 1800, 1813, 1824, 1833, 1836, 1846, 1852, 1877, 1894, 1917, 1927, 1944, 1961, 1979, 2013, 2026, 2037, 2038, 2047, 2052, 2057, 2064, 2099, 2099, 2104, 2187, 2189, 2200, 2201, 2202, 2226, 2240, 2253, 2265, 2268, 2272, 2275, 2300, 2300, 2301, 2307, 2337, 2338, 2398, 2426, 2461, 2482, 2507, 2512, 2514, 2543, 2556, 2595, 2598, 2634, 2646, 2657, 2673, 2676, 2687, 2697, 2716, 2748, 2753, 2759, 2761, 2761, 2775, 2784, 2803, 2808, 2816, 2823, 2830, 2834, 2849, 2871, 2891, 2891, 2892, 2899, 2904, 2953, 2963, 2973, 2990, 3036, 3049, 3071, 3103, 3127, 3129, 3135, 3152, 3170, 3204, 3205, 3220, 3224, 3266, 3274, 3276, 3281, 3307, 3319, 3350, 3361, 3382, 3399, 3409, 3411, 3521, 3533, 3576, 3580, 3608, 3628, 3638, 3671, 3672, 3721, 3727, 3727, 3734, 3741, 3753, 3762, 3777, 3779, 3795, 3804, 3808, 3861, 3875, 3885, 3913, 3945, 3964, 3980, 4022, 4024, 4045, 4062, 4099, 4131, 4132, 4137, 4149, 4151, 4164, 4167, 4167, 4184, 4192, 4206, 4225, 4234, 4245, 4249, 4266, 4284, 4293, 4296, 4306, 4355, 4391, 4399, 4410, 4453, 4468, 4469, 4472, 4505, 4518, 4522, 4527, 4540, 4568, 4572, 4598, 4632, 4644, 4648, 4652, 4673, 4691, 4702, 4705, 4720, 4723, 4737, 4739, 4753, 4773, 4819, 4876, 4882, 4896, 4916, 4928, 4938, 4943, 4976, 4990, 5045, 5047, 5054, 5064, 5070, 5077, 5082, 5111, 5113, 5148, 5183, 5192, 5205, 5212, 5244, 5249, 5308, 5325, 5327, 5346, 5358, 5367, 5368, 5381, 5391, 5406, 5413, 5429, 5429, 5470, 5471, 5473, 5485, 5497, 5522, 5563, 5576, 5624, 5627, 5633, 5650, 5660, 5681, 5705, 5719, 5720, 5749, 5776, 5806, 5830, 5842, 5853, 5856, 5904, 5926, 5944, 5958, 5966, 5994, 6012, 6048, 6057, 6094, 6105, 6143, 6154, 6174, 6184, 6188, 6208, 6221, 6258, 6266, 6272, 6274, 6275, 6319, 6325, 6326, 6330, 6343, 6376, 6401, 6429, 6448, 6449, 6450, 6468, 6472, 6477, 6478, 6504, 6525, 6527, 6541, 6542, 6554, 6565, 6570, 6605, 6609, 6611, 6614, 6614, 6619, 6627, 6634, 6651, 6661, 6663, 6667, 6689, 6692, 6697, 6722, 6762, 6763, 6779, 6849, 6883, 6892, 6914, 6946, 6958, 6967, 6997, 7001, 7010, 7013, 7025, 7027, 7039, 7061, 7069, 7101, 7102, 7150, 7171, 7184, 7231, 7239, 7240, 7241, 7248, 7252, 7277, 7278, 7283, 7287, 7292, 7296, 7302, 7304, 7312, 7330, 7333, 7334, 7336, 7346, 7362, 7413, 7441, 7445, 7462, 7491, 7491, 7494, 7501, 7512, 7527, 7546, 7638, 7745, 7789, 7796, 7804, 7821, 7828, 7844, 7846, 7848, 7882, 7889, 7928, 7938, 7948, 7950, 8066, 8070, 8117, 8172, 8208, 8213, 8218, 8221, 8239, 8249, 8275, 8302, 8308, 8319, 8330, 8385, 8404, 8468, 8473, 8479, 8528, 8537, 8548, 8606, 8623, 8645, 8664, 8693, 8696, 8707, 8766, 8771, 8787, 8792, 8871, 8880, 8893, 8895, 8912, 8947, 8962, 8965, 8967, 8974, 8985, 9034, 9038, 9073, 9092, 9095, 9116, 9118, 9126, 9145, 9201, 9215, 9233, 9291, 9306, 9369, 9410, 9510, 9539, 9562, 9615, 9690, 9691, 9706, 9732, 9792, 9937, 10057, 10057, 10120, 10152, 10184, 10273, 10286, 10303, 10354, 10372, 10427, 10453, 10468, 10579, 10591, 10645, 10657, 10661, 10671, 10785, 10803, 10807, 10808, 10808, 10812, 10835, 10836, 10870, 10892, 10972, 11002, 11118, 11133, 11168, 11197, 11248, 11261, 11311, 11358, 11372, 11412, 11457, 11470, 11527, 11589, 11664, 11669, 11827, 11945, 11990, 11991, 12046, 12149, 12191, 12193, 12224, 12255, 12276, 12295, 12310, 12337, 12343, 12595, 12621, 12747, 12809, 12819, 12906, 12992, 13066, 13074, 13083, 13092, 13110, 13132, 13135, 13198, 13204, 13212, 13216, 13225, 13256, 13317, 13391, 13565, 13568, 13624, 13720, 13730, 13734, 13816, 13874, 13886, 13911, 14008, 14110, 14121, 14163, 14174, 14192, 14238, 14320, 14326, 14334, 14409, 14442, 14443, 14516, 14575, 14681, 14771, 14864, 14887, 14892, 15047, 15077, 15186, 15245, 15457, 15594, 15658, 15674, 15705, 15745, 15888, 16153, 16166, 16317, 16731, 17025, 17293, 17437, 17679, 17698, 18232, 18582, 18663, 18679, 19127, 19994, 20357, 20366, 20438, 21046, 21458, 21487, 22048, 23846, 26429]\n"
          ]
        }
      ]
    },
    {
      "cell_type": "code",
      "source": [
        "print(sum(row_counts))"
      ],
      "metadata": {
        "id": "ntK1LH8abkyH",
        "outputId": "21380bfc-c9ee-43e2-e4a5-d2d03aa22b47",
        "colab": {
          "base_uri": "https://localhost:8080/"
        }
      },
      "execution_count": 38,
      "outputs": [
        {
          "output_type": "stream",
          "name": "stdout",
          "text": [
            "4699887\n"
          ]
        }
      ]
    },
    {
      "cell_type": "code",
      "source": [
        "directory = '/content/content/Sport_xlsx/Rider1/'\n",
        "\n",
        "# Initialize lists to store results\n",
        "total_seconds = []\n",
        "file_names = []\n",
        "\n",
        "# Loop through all files in the directory\n",
        "for file in os.listdir(directory):\n",
        "    if file.endswith(\".xlsx\"):\n",
        "        file_path = os.path.join(directory, file)\n",
        "\n",
        "        # Read the Excel file\n",
        "        df = pd.read_excel(file_path)\n",
        "\n",
        "        # Convert timestamps to absolute value\n",
        "        df['Time'] = pd.to_datetime(df['Time'])\n",
        "        df['Time'] = (df['Time'] - df['Time'][0]).dt.total_seconds()\n",
        "\n",
        "        # Count length of each file\n",
        "        total_seconds.append(df['Time'].iloc[-1])\n",
        "        file_names.append(file)  # Store the filename\n",
        "\n",
        "# Create a DataFrame for analysis\n",
        "results_df = pd.DataFrame({'File': file_names, 'TrackLength': total_seconds})"
      ],
      "metadata": {
        "id": "zLZuf7O4ys0K"
      },
      "execution_count": 17,
      "outputs": []
    },
    {
      "cell_type": "code",
      "source": [
        "# Plot the histogram of file lengths\n",
        "plt.figure(figsize=(10, 6))\n",
        "plt.hist(total_seconds, bins=30, color='blue', alpha=0.7)\n",
        "plt.title(\"Histogram of Track Lenght\")\n",
        "plt.xlabel(\"Number of Rows\")\n",
        "plt.ylabel(\"Frequency\")\n",
        "plt.grid(True)\n",
        "plt.show()"
      ],
      "metadata": {
        "id": "E5De0FIRz4rM",
        "outputId": "08189eb8-dedd-4dfc-ee36-360d795f9c2d",
        "colab": {
          "base_uri": "https://localhost:8080/",
          "height": 564
        }
      },
      "execution_count": 18,
      "outputs": [
        {
          "output_type": "display_data",
          "data": {
            "text/plain": [
              "<Figure size 1000x600 with 1 Axes>"
            ],
            "image/png": "[encoded data removed]"
          },
          "metadata": {}
        }
      ]
    },
    {
      "cell_type": "code",
      "source": [
        "# Plot the boxplot of file lenghts\n",
        "plt.figure(figsize=(10, 6))\n",
        "plt.boxplot(total_seconds)\n",
        "plt.title(\"Boxplot of Track Lenght\")\n",
        "plt.grid(True)\n",
        "plt.show()"
      ],
      "metadata": {
        "id": "VHq7tXKBz9B5",
        "outputId": "ea23981e-cd74-4a7d-d967-228370dd3424",
        "colab": {
          "base_uri": "https://localhost:8080/",
          "height": 545
        }
      },
      "execution_count": 19,
      "outputs": [
        {
          "output_type": "display_data",
          "data": {
            "text/plain": [
              "<Figure size 1000x600 with 1 Axes>"
            ],
            "image/png": "[encoded data removed]"
          },
          "metadata": {}
        }
      ]
    },
    {
      "cell_type": "code",
      "source": [
        "print(sorted(total_seconds))"
      ],
      "metadata": {
        "id": "J9glzOLHzgAn",
        "outputId": "958c8dd8-b763-4d19-8be6-6b7b6ad66968",
        "colab": {
          "base_uri": "https://localhost:8080/"
        }
      },
      "execution_count": 33,
      "outputs": [
        {
          "output_type": "stream",
          "name": "stdout",
          "text": [
            "[27.0, 42.0, 108.0, 135.0, 195.0, 213.0, 282.0, 382.0, 408.0, 445.0, 458.0, 475.0, 518.0, 576.0, 586.0, 623.0, 661.0, 674.0, 697.0, 716.0, 766.0, 820.0, 857.0, 881.0, 927.0, 954.0, 1020.0, 1034.0, 1072.0, 1088.0, 1101.0, 1160.0, 1188.0, 1199.0, 1210.0, 1230.0, 1231.0, 1257.0, 1274.0, 1284.0, 1327.0, 1365.0, 1367.0, 1393.0, 1400.0, 1417.0, 1432.0, 1435.0, 1441.0, 1447.0, 1451.0, 1451.0, 1457.0, 1481.0, 1508.0, 1511.0, 1514.0, 1519.0, 1523.0, 1525.0, 1527.0, 1559.0, 1559.0, 1620.0, 1628.0, 1649.0, 1652.0, 1665.0, 1701.0, 1768.0, 1773.0, 1806.0, 1807.0, 1833.0, 1837.0, 1919.0, 1939.0, 1947.0, 1953.0, 1980.0, 1983.0, 2020.0, 2020.0, 2038.0, 2054.0, 2057.0, 2063.0, 2120.0, 2127.0, 2142.0, 2182.0, 2193.0, 2205.0, 2246.0, 2280.0, 2302.0, 2304.0, 2320.0, 2335.0, 2378.0, 2384.0, 2391.0, 2534.0, 2546.0, 2559.0, 2567.0, 2569.0, 2599.0, 2612.0, 2621.0, 2653.0, 2662.0, 2675.0, 2701.0, 2705.0, 2726.0, 2734.0, 2760.0, 2763.0, 2820.0, 2821.0, 2840.0, 2844.0, 2847.0, 2851.0, 2874.0, 2887.0, 2895.0, 2922.0, 2976.0, 2978.0, 2992.0, 2996.0, 3029.0, 3038.0, 3074.0, 3079.0, 3082.0, 3101.0, 3103.0, 3121.0, 3130.0, 3146.0, 3168.0, 3168.0, 3174.0, 3190.0, 3247.0, 3249.0, 3284.0, 3311.0, 3373.0, 3398.0, 3417.0, 3425.0, 3437.0, 3469.0, 3473.0, 3523.0, 3561.0, 3577.0, 3608.0, 3627.0, 3678.0, 3683.0, 3691.0, 3693.0, 3695.0, 3706.0, 3721.0, 3738.0, 3745.0, 3787.0, 3790.0, 3796.0, 3858.0, 3863.0, 3912.0, 3913.0, 3919.0, 3926.0, 3938.0, 3972.0, 3986.0, 3992.0, 4004.0, 4022.0, 4042.0, 4046.0, 4047.0, 4053.0, 4078.0, 4122.0, 4130.0, 4161.0, 4161.0, 4166.0, 4170.0, 4249.0, 4260.0, 4263.0, 4266.0, 4283.0, 4284.0, 4289.0, 4308.0, 4311.0, 4315.0, 4345.0, 4345.0, 4366.0, 4390.0, 4409.0, 4413.0, 4456.0, 4463.0, 4464.0, 4482.0, 4518.0, 4527.0, 4528.0, 4545.0, 4570.0, 4570.0, 4579.0, 4602.0, 4657.0, 4658.0, 4658.0, 4677.0, 4689.0, 4689.0, 4693.0, 4694.0, 4717.0, 4736.0, 4750.0, 4811.0, 4840.0, 4843.0, 4854.0, 4859.0, 4896.0, 4905.0, 4919.0, 4929.0, 4948.0, 4954.0, 4985.0, 5008.0, 5053.0, 5083.0, 5086.0, 5097.0, 5101.0, 5123.0, 5138.0, 5180.0, 5188.0, 5210.0, 5273.0, 5280.0, 5370.0, 5375.0, 5402.0, 5434.0, 5434.0, 5448.0, 5476.0, 5483.0, 5499.0, 5505.0, 5537.0, 5546.0, 5600.0, 5606.0, 5607.0, 5627.0, 5629.0, 5631.0, 5633.0, 5657.0, 5661.0, 5673.0, 5678.0, 5690.0, 5693.0, 5710.0, 5762.0, 5769.0, 5775.0, 5788.0, 5807.0, 5814.0, 5819.0, 5827.0, 5837.0, 5838.0, 5840.0, 5885.0, 5917.0, 5921.0, 5957.0, 5972.0, 5996.0, 6029.0, 6036.0, 6059.0, 6071.0, 6087.0, 6114.0, 6150.0, 6181.0, 6196.0, 6202.0, 6212.0, 6220.0, 6323.0, 6330.0, 6348.0, 6366.0, 6396.0, 6409.0, 6418.0, 6431.0, 6441.0, 6468.0, 6468.0, 6473.0, 6487.0, 6494.0, 6503.0, 6512.0, 6524.0, 6529.0, 6539.0, 6551.0, 6578.0, 6583.0, 6634.0, 6637.0, 6654.0, 6660.0, 6662.0, 6669.0, 6693.0, 6698.0, 6748.0, 6832.0, 6880.0, 6982.0, 6988.0, 7002.0, 7028.0, 7051.0, 7060.0, 7116.0, 7149.0, 7157.0, 7157.0, 7158.0, 7189.0, 7189.0, 7196.0, 7200.0, 7212.0, 7223.0, 7223.0, 7238.0, 7252.0, 7277.0, 7281.0, 7282.0, 7288.0, 7325.0, 7340.0, 7345.0, 7374.0, 7385.0, 7413.0, 7437.0, 7445.0, 7476.0, 7497.0, 7513.0, 7514.0, 7547.0, 7553.0, 7554.0, 7555.0, 7559.0, 7567.0, 7575.0, 7597.0, 7645.0, 7656.0, 7661.0, 7664.0, 7678.0, 7713.0, 7738.0, 7751.0, 7762.0, 7765.0, 7790.0, 7792.0, 7792.0, 7794.0, 7803.0, 7823.0, 7851.0, 7868.0, 7872.0, 7878.0, 7939.0, 7940.0, 7955.0, 7956.0, 7956.0, 7964.0, 7966.0, 7968.0, 8002.0, 8008.0, 8035.0, 8053.0, 8068.0, 8079.0, 8098.0, 8103.0, 8131.0, 8131.0, 8134.0, 8173.0, 8192.0, 8209.0, 8223.0, 8233.0, 8260.0, 8277.0, 8288.0, 8318.0, 8324.0, 8340.0, 8405.0, 8405.0, 8462.0, 8479.0, 8503.0, 8528.0, 8578.0, 8600.0, 8606.0, 8652.0, 8697.0, 8715.0, 8759.0, 8759.0, 8775.0, 8775.0, 8784.0, 8862.0, 8918.0, 8958.0, 8975.0, 8994.0, 9005.0, 9072.0, 9096.0, 9119.0, 9144.0, 9167.0, 9168.0, 9171.0, 9190.0, 9214.0, 9253.0, 9267.0, 9302.0, 9325.0, 9334.0, 9354.0, 9354.0, 9355.0, 9360.0, 9364.0, 9403.0, 9404.0, 9404.0, 9460.0, 9464.0, 9488.0, 9500.0, 9575.0, 9632.0, 9698.0, 9706.0, 9752.0, 9756.0, 9760.0, 9781.0, 9843.0, 9887.0, 9960.0, 9983.0, 9984.0, 10118.0, 10135.0, 10149.0, 10210.0, 10250.0, 10314.0, 10317.0, 10357.0, 10377.0, 10397.0, 10399.0, 10431.0, 10452.0, 10464.0, 10478.0, 10478.0, 10561.0, 10575.0, 10613.0, 10656.0, 10702.0, 10725.0, 10739.0, 10818.0, 10869.0, 10921.0, 10951.0, 10954.0, 10986.0, 11031.0, 11066.0, 11092.0, 11118.0, 11128.0, 11135.0, 11144.0, 11191.0, 11213.0, 11221.0, 11226.0, 11313.0, 11337.0, 11346.0, 11380.0, 11390.0, 11421.0, 11475.0, 11490.0, 11529.0, 11529.0, 11582.0, 11584.0, 11617.0, 11621.0, 11710.0, 11757.0, 11823.0, 11824.0, 11842.0, 11856.0, 11867.0, 11883.0, 11914.0, 11945.0, 11965.0, 11973.0, 11991.0, 11999.0, 12054.0, 12067.0, 12141.0, 12168.0, 12272.0, 12282.0, 12291.0, 12328.0, 12338.0, 12361.0, 12411.0, 12431.0, 12489.0, 12538.0, 12538.0, 12547.0, 12570.0, 12579.0, 12618.0, 12649.0, 12711.0, 12724.0, 12725.0, 12734.0, 12740.0, 12791.0, 12826.0, 12840.0, 12842.0, 12878.0, 12893.0, 12915.0, 12926.0, 12948.0, 13010.0, 13039.0, 13047.0, 13066.0, 13081.0, 13100.0, 13116.0, 13153.0, 13169.0, 13172.0, 13205.0, 13209.0, 13281.0, 13309.0, 13340.0, 13352.0, 13377.0, 13394.0, 13461.0, 13561.0, 13588.0, 13602.0, 13636.0, 13662.0, 13694.0, 13712.0, 13747.0, 13752.0, 13773.0, 13799.0, 13813.0, 13830.0, 13856.0, 13871.0, 13900.0, 13943.0, 13969.0, 14025.0, 14059.0, 14068.0, 14078.0, 14103.0, 14290.0, 14304.0, 14315.0, 14345.0, 14372.0, 14408.0, 14464.0, 14479.0, 14487.0, 14688.0, 14710.0, 14816.0, 14851.0, 14872.0, 14951.0, 15076.0, 15079.0, 15215.0, 15233.0, 15258.0, 15287.0, 15340.0, 15421.0, 15430.0, 15454.0, 15473.0, 15537.0, 15599.0, 15604.0, 15646.0, 15664.0, 15751.0, 15909.0, 15926.0, 15975.0, 16057.0, 16106.0, 16106.0, 16219.0, 16282.0, 16319.0, 16463.0, 16467.0, 16476.0, 16543.0, 16666.0, 16731.0, 16742.0, 16747.0, 16840.0, 16878.0, 17039.0, 17169.0, 17326.0, 17335.0, 17635.0, 17792.0, 17849.0, 17978.0, 17989.0, 18233.0, 18233.0, 18353.0, 18714.0, 18790.0, 18795.0, 18804.0, 18819.0, 18949.0, 18975.0, 19091.0, 19533.0, 19802.0, 19907.0, 20268.0, 20418.0, 20542.0, 20896.0, 21211.0, 21537.0, 21673.0, 22266.0, 22408.0, 23171.0, 23295.0, 23789.0, 24289.0, 24996.0, 25300.0, 26243.0, 26390.0, 26533.0, 27179.0, 27423.0, 27877.0, 27893.0, 30278.0, 30447.0, 31438.0, 32086.0, 156069.0]\n"
          ]
        }
      ]
    },
    {
      "cell_type": "code",
      "source": [
        "# Find the file with the outlier\n",
        "outlier_value = results_df['TrackLength'].max()  # Assuming the outlier is the maximum value\n",
        "outlier_file = results_df[results_df['TrackLength'] == outlier_value]\n",
        "print(\"Outlier file(s):\")\n",
        "print(outlier_file)"
      ],
      "metadata": {
        "id": "e9CV4Dg6JaAt",
        "outputId": "55dbd47d-2a7f-44f4-ccf2-c9f01d7f447b",
        "colab": {
          "base_uri": "https://localhost:8080/"
        }
      },
      "execution_count": 21,
      "outputs": [
        {
          "output_type": "stream",
          "name": "stdout",
          "text": [
            "Outlier file(s):\n",
            "         File  TrackLength\n",
            "455  f97.xlsx     156069.0\n"
          ]
        }
      ]
    },
    {
      "cell_type": "code",
      "source": [
        "# Define the folder path\n",
        "folder_path = '/content/Sport/Rider1/'\n",
        "\n",
        "# Collect all GPX files in the folder\n",
        "gpx_files = [file for file in os.listdir(folder_path) if file.endswith('.gpx')]\n",
        "\n",
        "# Prepare a list for storing all tracks\n",
        "all_tracks = []\n",
        "\n",
        "# Parse each GPX file and extract track data\n",
        "for gpx_file in gpx_files:\n",
        "    file_path = os.path.join(folder_path, gpx_file)\n",
        "    with open(file_path, 'r') as f:\n",
        "        gpx = gpxpy.parse(f)\n",
        "        for track in gpx.tracks:\n",
        "            for segment in track.segments:\n",
        "                latitudes = [point.latitude for point in segment.points]\n",
        "                longitudes = [point.longitude for point in segment.points]\n",
        "                all_tracks.append((latitudes, longitudes))\n",
        "\n",
        "# Plot the tracks\n",
        "plt.figure(figsize=(10, 8))\n",
        "for latitudes, longitudes in all_tracks:\n",
        "    plt.plot(longitudes, latitudes, color='black', linewidth=0.5)\n",
        "\n",
        "plt.title(\"Tracks from GPX Files\")\n",
        "plt.xlabel(\"Longitude\")\n",
        "plt.ylabel(\"Latitude\")\n",
        "plt.grid(True)\n",
        "plt.show()"
      ],
      "metadata": {
        "id": "guK2EM8rGoWq",
        "outputId": "542d4646-2c99-47d2-9d78-931d59fc3341",
        "colab": {
          "base_uri": "https://localhost:8080/",
          "height": 718
        }
      },
      "execution_count": 22,
      "outputs": [
        {
          "output_type": "display_data",
          "data": {
            "text/plain": [
              "<Figure size 1000x800 with 1 Axes>"
            ],
            "image/png": "[encoded data removed]"
          },
          "metadata": {}
        }
      ]
    },
    {
      "cell_type": "code",
      "source": [
        "def find_tracks_with_low_coords(folder_path, max_longitude=10, max_latitude=40):\n",
        "    \"\"\"\n",
        "    Identifies GPX files with tracks extending below the specified longitude or latitude.\n",
        "\n",
        "    Parameters:\n",
        "        folder_path (str): Path to the folder containing GPX files.\n",
        "        max_longitude (float): Longitude threshold to check (files with points below this are flagged).\n",
        "        max_latitude (float): Latitude threshold to check (files with points below this are flagged).\n",
        "\n",
        "    Returns:\n",
        "        List of filenames matching the criteria.\n",
        "    \"\"\"\n",
        "    flagged_files = []\n",
        "\n",
        "    # Loop through all GPX files in the folder\n",
        "    for gpx_file in os.listdir(folder_path):\n",
        "        if gpx_file.endswith('.gpx'):\n",
        "            file_path = os.path.join(folder_path, gpx_file)\n",
        "            with open(file_path, 'r') as f:\n",
        "                try:\n",
        "                    gpx = gpxpy.parse(f)\n",
        "\n",
        "                    # Check all track points\n",
        "                    for track in gpx.tracks:\n",
        "                        for segment in track.segments:\n",
        "                            for point in segment.points:\n",
        "                                if point.longitude < max_longitude or point.latitude < max_latitude:\n",
        "                                    flagged_files.append(gpx_file)\n",
        "                                    raise StopIteration  # Exit nested loops early\n",
        "                except StopIteration:\n",
        "                    continue  # Move to the next file\n",
        "                except Exception as e:\n",
        "                    print(f\"Error processing {gpx_file}: {e}\")\n",
        "\n",
        "    return flagged_files\n",
        "\n",
        "# Example usage\n",
        "folder_path = '/content/Sport/Rider1/'\n",
        "files_with_low_coords = find_tracks_with_low_coords(folder_path)\n",
        "\n",
        "print(\"Files with tracks extending below 10 Longitude or 40 Latitude:\")\n",
        "for file in files_with_low_coords:\n",
        "    print(file)"
      ],
      "metadata": {
        "id": "7EkNXiF9Njcw",
        "outputId": "fd02527e-65d3-4518-945b-6a19a8fdeda1",
        "colab": {
          "base_uri": "https://localhost:8080/"
        }
      },
      "execution_count": 23,
      "outputs": [
        {
          "output_type": "stream",
          "name": "stdout",
          "text": [
            "Files with tracks extending below 10 Longitude or 40 Latitude:\n",
            "f377.gpx\n",
            "f371.gpx\n",
            "f321.gpx\n",
            "f433.gpx\n",
            "f344.gpx\n",
            "f458.gpx\n",
            "f661.gpx\n",
            "f176.gpx\n",
            "f125.gpx\n",
            "f460.gpx\n",
            "f138.gpx\n",
            "f392.gpx\n",
            "f480.gpx\n",
            "f118.gpx\n",
            "f611.gpx\n",
            "f626.gpx\n",
            "f296.gpx\n",
            "f561.gpx\n",
            "f245.gpx\n"
          ]
        }
      ]
    },
    {
      "cell_type": "code",
      "source": [
        "# Parse the GPX file\n",
        "file_path = '/content/Sport/Rider1/f1.gpx'\n",
        "df = pd.read_excel(file_path)\n",
        "df.head()"
      ],
      "metadata": {
        "id": "PjnWh1XfRWHE",
        "outputId": "42f1f41c-9e6b-49a2-ccb2-a8f30e7eaa18",
        "colab": {
          "base_uri": "https://localhost:8080/",
          "height": 206
        }
      },
      "execution_count": 36,
      "outputs": [
        {
          "output_type": "execute_result",
          "data": {
            "text/plain": [
              "   Latitude  Longitude  Elevation                Time\n",
              "0 -3.621962 -38.741665       18.2 2014-02-13 10:19:10\n",
              "1 -3.621783 -38.742049       18.2 2014-02-13 10:19:20\n",
              "2 -3.621696 -38.742256       18.2 2014-02-13 10:19:25\n",
              "3 -3.621589 -38.742557       18.2 2014-02-13 10:19:32\n",
              "4 -3.621468 -38.742913       18.2 2014-02-13 10:19:40"
            ],
            "text/html": [
              "\n",
              "  <div id=\"df-def770c6-6f74-46b6-a4a5-be4809b3d4a8\" class=\"colab-df-container\">\n",
              "    <div>\n",
              "<style scoped>\n",
              "    .dataframe tbody tr th:only-of-type {\n",
              "        vertical-align: middle;\n",
              "    }\n",
              "\n",
              "    .dataframe tbody tr th {\n",
              "        vertical-align: top;\n",
              "    }\n",
              "\n",
              "    .dataframe thead th {\n",
              "        text-align: right;\n",
              "    }\n",
              "</style>\n",
              "<table border=\"1\" class=\"dataframe\">\n",
              "  <thead>\n",
              "    <tr style=\"text-align: right;\">\n",
              "      <th></th>\n",
              "      <th>Latitude</th>\n",
              "      <th>Longitude</th>\n",
              "      <th>Elevation</th>\n",
              "      <th>Time</th>\n",
              "    </tr>\n",
              "  </thead>\n",
              "  <tbody>\n",
              "    <tr>\n",
              "      <th>0</th>\n",
              "      <td>-3.621962</td>\n",
              "      <td>-38.741665</td>\n",
              "      <td>18.2</td>\n",
              "      <td>2014-02-13 10:19:10</td>\n",
              "    </tr>\n",
              "    <tr>\n",
              "      <th>1</th>\n",
              "      <td>-3.621783</td>\n",
              "      <td>-38.742049</td>\n",
              "      <td>18.2</td>\n",
              "      <td>2014-02-13 10:19:20</td>\n",
              "    </tr>\n",
              "    <tr>\n",
              "      <th>2</th>\n",
              "      <td>-3.621696</td>\n",
              "      <td>-38.742256</td>\n",
              "      <td>18.2</td>\n",
              "      <td>2014-02-13 10:19:25</td>\n",
              "    </tr>\n",
              "    <tr>\n",
              "      <th>3</th>\n",
              "      <td>-3.621589</td>\n",
              "      <td>-38.742557</td>\n",
              "      <td>18.2</td>\n",
              "      <td>2014-02-13 10:19:32</td>\n",
              "    </tr>\n",
              "    <tr>\n",
              "      <th>4</th>\n",
              "      <td>-3.621468</td>\n",
              "      <td>-38.742913</td>\n",
              "      <td>18.2</td>\n",
              "      <td>2014-02-13 10:19:40</td>\n",
              "    </tr>\n",
              "  </tbody>\n",
              "</table>\n",
              "</div>\n",
              "    <div class=\"colab-df-buttons\">\n",
              "\n",
              "  <div class=\"colab-df-container\">\n",
              "    <button class=\"colab-df-convert\" onclick=\"convertToInteractive('df-def770c6-6f74-46b6-a4a5-be4809b3d4a8')\"\n",
              "            title=\"Convert this dataframe to an interactive table.\"\n",
              "            style=\"display:none;\">\n",
              "\n",
              "  <svg xmlns=\"http://www.w3.org/2000/svg\" height=\"24px\" viewBox=\"0 -960 960 960\">\n",
              "    <path d=\"M120-120v-720h720v720H120Zm60-500h600v-160H180v160Zm220 220h160v-160H400v160Zm0 220h160v-160H400v160ZM180-400h160v-160H180v160Zm440 0h160v-160H620v160ZM180-180h160v-160H180v160Zm440 0h160v-160H620v160Z\"/>\n",
              "  </svg>\n",
              "    </button>\n",
              "\n",
              "  <style>\n",
              "    .colab-df-container {\n",
              "      display:flex;\n",
              "      gap: 12px;\n",
              "    }\n",
              "\n",
              "    .colab-df-convert {\n",
              "      background-color: #E8F0FE;\n",
              "      border: none;\n",
              "      border-radius: 50%;\n",
              "      cursor: pointer;\n",
              "      display: none;\n",
              "      fill: #1967D2;\n",
              "      height: 32px;\n",
              "      padding: 0 0 0 0;\n",
              "      width: 32px;\n",
              "    }\n",
              "\n",
              "    .colab-df-convert:hover {\n",
              "      background-color: #E2EBFA;\n",
              "      box-shadow: 0px 1px 2px rgba(60, 64, 67, 0.3), 0px 1px 3px 1px rgba(60, 64, 67, 0.15);\n",
              "      fill: #174EA6;\n",
              "    }\n",
              "\n",
              "    .colab-df-buttons div {\n",
              "      margin-bottom: 4px;\n",
              "    }\n",
              "\n",
              "    [theme=dark] .colab-df-convert {\n",
              "      background-color: #3B4455;\n",
              "      fill: #D2E3FC;\n",
              "    }\n",
              "\n",
              "    [theme=dark] .colab-df-convert:hover {\n",
              "      background-color: #434B5C;\n",
              "      box-shadow: 0px 1px 3px 1px rgba(0, 0, 0, 0.15);\n",
              "      filter: drop-shadow(0px 1px 2px rgba(0, 0, 0, 0.3));\n",
              "      fill: #FFFFFF;\n",
              "    }\n",
              "  </style>\n",
              "\n",
              "    <script>\n",
              "      const buttonEl =\n",
              "        document.querySelector('#df-def770c6-6f74-46b6-a4a5-be4809b3d4a8 button.colab-df-convert');\n",
              "      buttonEl.style.display =\n",
              "        google.colab.kernel.accessAllowed ? 'block' : 'none';\n",
              "\n",
              "      async function convertToInteractive(key) {\n",
              "        const element = document.querySelector('#df-def770c6-6f74-46b6-a4a5-be4809b3d4a8');\n",
              "        const dataTable =\n",
              "          await google.colab.kernel.invokeFunction('convertToInteractive',\n",
              "                                                    [key], {});\n",
              "        if (!dataTable) return;\n",
              "\n",
              "        const docLinkHtml = 'Like what you see? Visit the ' +\n",
              "          '<a target=\"_blank\" href=https://colab.research.google.com/notebooks/data_table.ipynb>data table notebook</a>'\n",
              "          + ' to learn more about interactive tables.';\n",
              "        element.innerHTML = '';\n",
              "        dataTable['output_type'] = 'display_data';\n",
              "        await google.colab.output.renderOutput(dataTable, element);\n",
              "        const docLink = document.createElement('div');\n",
              "        docLink.innerHTML = docLinkHtml;\n",
              "        element.appendChild(docLink);\n",
              "      }\n",
              "    </script>\n",
              "  </div>\n",
              "\n",
              "\n",
              "<div id=\"df-fdcce296-2470-4dce-9ab9-06cef2dd8f46\">\n",
              "  <button class=\"colab-df-quickchart\" onclick=\"quickchart('df-fdcce296-2470-4dce-9ab9-06cef2dd8f46')\"\n",
              "            title=\"Suggest charts\"\n",
              "            style=\"display:none;\">\n",
              "\n",
              "<svg xmlns=\"http://www.w3.org/2000/svg\" height=\"24px\"viewBox=\"0 0 24 24\"\n",
              "     width=\"24px\">\n",
              "    <g>\n",
              "        <path d=\"M19 3H5c-1.1 0-2 .9-2 2v14c0 1.1.9 2 2 2h14c1.1 0 2-.9 2-2V5c0-1.1-.9-2-2-2zM9 17H7v-7h2v7zm4 0h-2V7h2v10zm4 0h-2v-4h2v4z\"/>\n",
              "    </g>\n",
              "</svg>\n",
              "  </button>\n",
              "\n",
              "<style>\n",
              "  .colab-df-quickchart {\n",
              "      --bg-color: #E8F0FE;\n",
              "      --fill-color: #1967D2;\n",
              "      --hover-bg-color: #E2EBFA;\n",
              "      --hover-fill-color: #174EA6;\n",
              "      --disabled-fill-color: #AAA;\n",
              "      --disabled-bg-color: #DDD;\n",
              "  }\n",
              "\n",
              "  [theme=dark] .colab-df-quickchart {\n",
              "      --bg-color: #3B4455;\n",
              "      --fill-color: #D2E3FC;\n",
              "      --hover-bg-color: #434B5C;\n",
              "      --hover-fill-color: #FFFFFF;\n",
              "      --disabled-bg-color: #3B4455;\n",
              "      --disabled-fill-color: #666;\n",
              "  }\n",
              "\n",
              "  .colab-df-quickchart {\n",
              "    background-color: var(--bg-color);\n",
              "    border: none;\n",
              "    border-radius: 50%;\n",
              "    cursor: pointer;\n",
              "    display: none;\n",
              "    fill: var(--fill-color);\n",
              "    height: 32px;\n",
              "    padding: 0;\n",
              "    width: 32px;\n",
              "  }\n",
              "\n",
              "  .colab-df-quickchart:hover {\n",
              "    background-color: var(--hover-bg-color);\n",
              "    box-shadow: 0 1px 2px rgba(60, 64, 67, 0.3), 0 1px 3px 1px rgba(60, 64, 67, 0.15);\n",
              "    fill: var(--button-hover-fill-color);\n",
              "  }\n",
              "\n",
              "  .colab-df-quickchart-complete:disabled,\n",
              "  .colab-df-quickchart-complete:disabled:hover {\n",
              "    background-color: var(--disabled-bg-color);\n",
              "    fill: var(--disabled-fill-color);\n",
              "    box-shadow: none;\n",
              "  }\n",
              "\n",
              "  .colab-df-spinner {\n",
              "    border: 2px solid var(--fill-color);\n",
              "    border-color: transparent;\n",
              "    border-bottom-color: var(--fill-color);\n",
              "    animation:\n",
              "      spin 1s steps(1) infinite;\n",
              "  }\n",
              "\n",
              "  @keyframes spin {\n",
              "    0% {\n",
              "      border-color: transparent;\n",
              "      border-bottom-color: var(--fill-color);\n",
              "      border-left-color: var(--fill-color);\n",
              "    }\n",
              "    20% {\n",
              "      border-color: transparent;\n",
              "      border-left-color: var(--fill-color);\n",
              "      border-top-color: var(--fill-color);\n",
              "    }\n",
              "    30% {\n",
              "      border-color: transparent;\n",
              "      border-left-color: var(--fill-color);\n",
              "      border-top-color: var(--fill-color);\n",
              "      border-right-color: var(--fill-color);\n",
              "    }\n",
              "    40% {\n",
              "      border-color: transparent;\n",
              "      border-right-color: var(--fill-color);\n",
              "      border-top-color: var(--fill-color);\n",
              "    }\n",
              "    60% {\n",
              "      border-color: transparent;\n",
              "      border-right-color: var(--fill-color);\n",
              "    }\n",
              "    80% {\n",
              "      border-color: transparent;\n",
              "      border-right-color: var(--fill-color);\n",
              "      border-bottom-color: var(--fill-color);\n",
              "    }\n",
              "    90% {\n",
              "      border-color: transparent;\n",
              "      border-bottom-color: var(--fill-color);\n",
              "    }\n",
              "  }\n",
              "</style>\n",
              "\n",
              "  <script>\n",
              "    async function quickchart(key) {\n",
              "      const quickchartButtonEl =\n",
              "        document.querySelector('#' + key + ' button');\n",
              "      quickchartButtonEl.disabled = true;  // To prevent multiple clicks.\n",
              "      quickchartButtonEl.classList.add('colab-df-spinner');\n",
              "      try {\n",
              "        const charts = await google.colab.kernel.invokeFunction(\n",
              "            'suggestCharts', [key], {});\n",
              "      } catch (error) {\n",
              "        console.error('Error during call to suggestCharts:', error);\n",
              "      }\n",
              "      quickchartButtonEl.classList.remove('colab-df-spinner');\n",
              "      quickchartButtonEl.classList.add('colab-df-quickchart-complete');\n",
              "    }\n",
              "    (() => {\n",
              "      let quickchartButtonEl =\n",
              "        document.querySelector('#df-fdcce296-2470-4dce-9ab9-06cef2dd8f46 button');\n",
              "      quickchartButtonEl.style.display =\n",
              "        google.colab.kernel.accessAllowed ? 'block' : 'none';\n",
              "    })();\n",
              "  </script>\n",
              "</div>\n",
              "\n",
              "    </div>\n",
              "  </div>\n"
            ],
            "application/vnd.google.colaboratory.intrinsic+json": {
              "type": "dataframe",
              "variable_name": "df",
              "summary": "{\n  \"name\": \"df\",\n  \"rows\": 4702,\n  \"fields\": [\n    {\n      \"column\": \"Latitude\",\n      \"properties\": {\n        \"dtype\": \"number\",\n        \"std\": 0.03546865835578086,\n        \"min\": -3.664296,\n        \"max\": -3.527365,\n        \"num_unique_values\": 4538,\n        \"samples\": [\n          -3.606623,\n          -3.536864,\n          -3.659575\n        ],\n        \"semantic_type\": \"\",\n        \"description\": \"\"\n      }\n    },\n    {\n      \"column\": \"Longitude\",\n      \"properties\": {\n        \"dtype\": \"number\",\n        \"std\": 0.09380552475475357,\n        \"min\": -39.073839,\n        \"max\": -38.741665,\n        \"num_unique_values\": 4652,\n        \"samples\": [\n          -38.802785,\n          -38.891471,\n          -38.743546\n        ],\n        \"semantic_type\": \"\",\n        \"description\": \"\"\n      }\n    },\n    {\n      \"column\": \"Elevation\",\n      \"properties\": {\n        \"dtype\": \"number\",\n        \"std\": 8.518643549385734,\n        \"min\": 17.0,\n        \"max\": 66.0,\n        \"num_unique_values\": 222,\n        \"samples\": [\n          23.6,\n          17.8,\n          25.0\n        ],\n        \"semantic_type\": \"\",\n        \"description\": \"\"\n      }\n    },\n    {\n      \"column\": \"Time\",\n      \"properties\": {\n        \"dtype\": \"date\",\n        \"min\": \"2014-02-13 10:19:10\",\n        \"max\": \"2014-02-13 14:53:37\",\n        \"num_unique_values\": 4702,\n        \"samples\": [\n          \"2014-02-13 14:18:38\",\n          \"2014-02-13 12:48:44\",\n          \"2014-02-13 12:38:38\"\n        ],\n        \"semantic_type\": \"\",\n        \"description\": \"\"\n      }\n    }\n  ]\n}"
            }
          },
          "metadata": {},
          "execution_count": 36
        }
      ]
    },
    {
      "cell_type": "markdown",
      "source": [
        "### 6. Preprocessing\n",
        "Necessary steps before training model on the data:\n",
        "- Delete files recorded outside Slovenia\n",
        "- Repair corrupted file (f97)\n",
        "- Convert timestamp to seconds\n",
        "\n",
        "Optional feature engineering:\n",
        "- Calculate distance since beginning\n"
      ],
      "metadata": {
        "id": "0tno94D_MusU"
      }
    },
    {
      "cell_type": "code",
      "source": [
        "# Preprocessing pipeline\n",
        "import pandas as pd\n",
        "import os\n",
        "from geopy.distance import geodesic\n",
        "from pyproj import Transformer\n",
        "\n",
        "def preprocess_rider_data(input_dir, output_dir):\n",
        "    for filename in os.listdir(input_dir):\n",
        "        if filename.endswith(\".xlsx\"):\n",
        "            filepath = os.path.join(input_dir, filename)\n",
        "            try:\n",
        "                df = pd.read_excel(filepath)\n",
        "\n",
        "                # Step 1: If file is f97.xlsx, delete the first 11 rows\n",
        "                if filename == \"f97.xlsx\":\n",
        "                    df = df.iloc[11:].reset_index(drop=True)\n",
        "\n",
        "                # Step 2: Delete the file if max_longitude < 10 or max_latitude < 40\n",
        "                if df['Longitude'].max() < 10 or df['Latitude'].max() < 40:\n",
        "                    print(f\"File {filename} deleted due to coordinates.\")\n",
        "                    os.remove(filepath)\n",
        "                    continue  # Skip the rest of the loop for this file\n",
        "\n",
        "                # Step 3: Convert timestamp to seconds\n",
        "                df['Time'] = pd.to_datetime(df['Time'])\n",
        "                df['Time'] = (df['Time'] - df['Time'].iloc[0]).dt.total_seconds()\n",
        "\n",
        "                # Step 4: Calculate distance since the beginning\n",
        "                distances = []\n",
        "                cumulative_distance = 0\n",
        "                for i in range(len(df)):\n",
        "                    if i > 0:\n",
        "                        previous_coords = (df['Latitude'].iloc[i-1], df['Longitude'].iloc[i-1])\n",
        "                        current_coords = (df['Latitude'].iloc[i], df['Longitude'].iloc[i])\n",
        "                        distance = geodesic(previous_coords, current_coords).meters\n",
        "                        cumulative_distance += distance\n",
        "                    else:\n",
        "                        distance = 0\n",
        "                    distances.append(cumulative_distance)\n",
        "                df['Distance'] = distances\n",
        "\n",
        "                # Step 5: Save the preprocessed file\n",
        "                output_filepath = os.path.join(output_dir, filename)\n",
        "                df.to_excel(output_filepath, index=False)\n",
        "                print(f\"Processed and saved: {filename}\")\n",
        "            except Exception as e:\n",
        "                print(f\"Error processing {filename}: {e}\")\n",
        "\n",
        "\n",
        "# Example usage (replace with your actual paths):\n",
        "input_directory = '/content/content/Sport_xlsx/Rider1/'\n",
        "output_directory = '/content/content/Sport_xlsx/Rider1_preprocessed/'\n",
        "\n",
        "# Create the output directory if it doesn't exist\n",
        "os.makedirs(output_directory, exist_ok=True)\n",
        "\n",
        "preprocess_rider_data(input_directory, output_directory)"
      ],
      "metadata": {
        "id": "tX0kBXgPMxwg"
      },
      "execution_count": null,
      "outputs": []
    },
    {
      "cell_type": "code",
      "source": [
        "!zip -r /content/content/Sport_xlsx/Rider1_preprocessed.zip /content/content/Sport_xlsx/Rider1_preprocessed"
      ],
      "metadata": {
        "id": "HOoW6PhtlCVQ"
      },
      "execution_count": null,
      "outputs": []
    }
  ],
  "metadata": {
    "kernelspec": {
      "display_name": "Python 3",
      "language": "python",
      "name": "python3"
    },
    "language_info": {
      "name": "python",
      "version": "3.8.0"
    },
    "colab": {
      "provenance": []
    }
  },
  "nbformat": 4,
  "nbformat_minor": 0
}