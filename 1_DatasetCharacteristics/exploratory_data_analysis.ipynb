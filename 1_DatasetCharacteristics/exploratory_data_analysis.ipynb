{
  "cells": [
    {
      "cell_type": "markdown",
      "metadata": {
        "id": "GLH2jBYfHy2o"
      },
      "source": [
        "# Exploratory Data Analysis (EDA)\n",
        "\n",
        "## Table of Contents\n",
        "1. [Libraries](#libraries)\n",
        "2. [Load data](#load-data)\n",
        "3. [Dataset overview](#dataset-overview)\n",
        "4. [Data format conversion](#data-format-conversion)\n",
        "5. [Dataset overview (single rider)](#possible-biases)\n",
        "6. [Preprocessing](#preprocessing)\n"
      ]
    },
    {
      "cell_type": "markdown",
      "metadata": {
        "id": "U4yKkspkHy2p"
      },
      "source": [
        "## 1. Libraries\n",
        "Install and load necessary libraries."
      ]
    },
    {
      "cell_type": "code",
      "source": [
        "#Install necessary files\n",
        "!pip install gpxpy\n",
        "!pip install tcxreader"
      ],
      "metadata": {
        "id": "uFtVLW6cFbyO"
      },
      "execution_count": null,
      "outputs": []
    },
    {
      "cell_type": "code",
      "execution_count": 2,
      "metadata": {
        "id": "WSmQCXP5Hy2q"
      },
      "outputs": [],
      "source": [
        "# Import necessary libraries\n",
        "import pandas as pd\n",
        "import numpy as np\n",
        "import matplotlib.pyplot as plt\n",
        "import seaborn as sns\n",
        "import gpxpy\n",
        "import gpxpy.gpx\n",
        "import tcxreader\n",
        "import tcxreader.tcxreader\n",
        "import openpyxl\n",
        "import os\n",
        "import shutil\n"
      ]
    },
    {
      "cell_type": "markdown",
      "source": [
        "## 2. Load data\n",
        "Load whole dataset containing all tracks of 9 riders."
      ],
      "metadata": {
        "id": "VeXX-cHjOXVK"
      }
    },
    {
      "cell_type": "code",
      "source": [
        "# Load data from google drive\n",
        "from google.colab import drive\n",
        "drive.mount('/content/drive')"
      ],
      "metadata": {
        "id": "enc5tCy9E-RG"
      },
      "execution_count": null,
      "outputs": []
    },
    {
      "cell_type": "code",
      "source": [
        "# Or upload local dataset\n",
        "from google.colab import files\n",
        "uploaded = files.upload()"
      ],
      "metadata": {
        "id": "VgUujNxzI1m2"
      },
      "execution_count": null,
      "outputs": []
    },
    {
      "cell_type": "code",
      "source": [
        "!unzip /content/drive/MyDrive/Sport1.zip -d /content"
      ],
      "metadata": {
        "id": "NoC_h4MU0WMw"
      },
      "execution_count": null,
      "outputs": []
    },
    {
      "cell_type": "markdown",
      "metadata": {
        "id": "cPhol6zGHy2r"
      },
      "source": [
        "## 3. Dataset Overview\n",
        "Basic exploration of the entire dataset."
      ]
    },
    {
      "cell_type": "code",
      "execution_count": 6,
      "metadata": {
        "id": "rvmAsNqmHy2r",
        "outputId": "f9c1a48d-d224-411c-f973-dc7b54661a6b",
        "colab": {
          "base_uri": "https://localhost:8080/"
        }
      },
      "outputs": [
        {
          "output_type": "stream",
          "name": "stdout",
          "text": [
            "Number of samples: 5994\n",
            "Number of features: 4\n",
            "Example data:\n",
            "                       time   latitude  longitude  elevation\n",
            "0 2013-07-13 06:41:38+00:00  46.363649  14.112036      511.5\n",
            "1 2013-07-13 06:41:39+00:00  46.363691  14.112026      511.0\n",
            "2 2013-07-13 06:41:41+00:00  46.363778  14.112031      510.1\n",
            "3 2013-07-13 06:41:43+00:00  46.363835  14.112023      509.7\n",
            "4 2013-07-13 06:41:45+00:00  46.363888  14.112007      509.4\n"
          ]
        }
      ],
      "source": [
        "# Load gpx.\n",
        "gpx_path = '/content/Sport/Rider1/f1.gpx'\n",
        "with open(gpx_path) as f:\n",
        "    gpx = gpxpy.parse(f)\n",
        "\n",
        "# Convert to a dataframe one point at a time.\n",
        "points = []\n",
        "for segment in gpx.tracks[0].segments:\n",
        "    for p in segment.points:\n",
        "        points.append({\n",
        "            'time': p.time,\n",
        "            'latitude': p.latitude,\n",
        "            'longitude': p.longitude,\n",
        "            'elevation': p.elevation,\n",
        "        })\n",
        "df = pd.DataFrame.from_records(points)\n",
        "\n",
        "# Number of samples\n",
        "num_samples = df.shape[0]\n",
        "\n",
        "# Number of features\n",
        "num_features = df.shape[1]\n",
        "\n",
        "# Display these dataset characteristics\n",
        "print(f\"Number of samples: {num_samples}\")\n",
        "print(f\"Number of features: {num_features}\")\n",
        "\n",
        "# Display the first few rows of the dataframe to show the structure\n",
        "print(\"Example data:\")\n",
        "print(df.head())\n",
        "\n"
      ]
    },
    {
      "cell_type": "code",
      "source": [
        "# Path to the main folder containing Rider folders\n",
        "main_path = '/content/Sport'\n",
        "\n",
        "# Iterate through each Rider folder and count the number of .gpx files\n",
        "for rider_folder in sorted(os.listdir(main_path)):\n",
        "    folder_path = os.path.join(main_path, rider_folder)\n",
        "    if os.path.isdir(folder_path):\n",
        "        gpx_files = [f for f in os.listdir(folder_path) if f.endswith('.gpx')]\n",
        "        tcx_files = [f for f in os.listdir(folder_path) if f.endswith('.tcx')]\n",
        "        print(f\"Folder '{rider_folder}' contains {len(gpx_files)} .gpx files and {len(tcx_files)} .tcx files.\")\n"
      ],
      "metadata": {
        "id": "t813gaFl5gHG",
        "outputId": "30d3477f-9123-49d3-ce23-0425b407d002",
        "colab": {
          "base_uri": "https://localhost:8080/"
        }
      },
      "execution_count": 7,
      "outputs": [
        {
          "output_type": "stream",
          "name": "stdout",
          "text": [
            "Folder 'Rider1' contains 751 .gpx files and 0 .tcx files.\n",
            "Folder 'Rider2' contains 389 .gpx files and 0 .tcx files.\n",
            "Folder 'Rider3' contains 661 .gpx files and 0 .tcx files.\n",
            "Folder 'Rider4' contains 810 .gpx files and 0 .tcx files.\n",
            "Folder 'Rider5' contains 636 .gpx files and 0 .tcx files.\n",
            "Folder 'Rider6' contains 63 .gpx files and 0 .tcx files.\n",
            "Folder 'Rider7' contains 328 .gpx files and 0 .tcx files.\n",
            "Folder 'Rider8' contains 0 .gpx files and 170 .tcx files.\n",
            "Folder 'Rider9' contains 0 .gpx files and 585 .tcx files.\n"
          ]
        }
      ]
    },
    {
      "cell_type": "markdown",
      "source": [
        "## 4. Data format conversion\n",
        "Convert GPX and TCX to XLS format. In order to correctly analyse all the data its format should be firstly unified."
      ],
      "metadata": {
        "id": "2bOhLPztOTOE"
      }
    },
    {
      "cell_type": "code",
      "source": [
        "def convert_gpx_to_excel(gpx_file_path, output_file_path):\n",
        "  # Initialize a DataFrame to store data\n",
        "  all_data = []\n",
        "\n",
        "  # Parse the GPX file\n",
        "  with open(gpx_file_path, 'r') as gpx_file:\n",
        "      gpx = gpxpy.parse(gpx_file)\n",
        "\n",
        "  # Extract data (latitude, longitude, elevation, time, etc.)\n",
        "  for track in gpx.tracks:\n",
        "      for segment in track.segments:\n",
        "          for point in segment.points:\n",
        "              # Convert timezone-aware datetime to timezone-naive\n",
        "              naive_time = point.time.replace(tzinfo=None) if point.time else None\n",
        "\n",
        "              all_data.append({\n",
        "                  'Latitude': point.latitude,\n",
        "                  'Longitude': point.longitude,\n",
        "                  'Elevation': point.elevation,\n",
        "                  'Time': naive_time\n",
        "              })\n",
        "\n",
        "  # Convert the data into a DataFrame\n",
        "  df = pd.DataFrame(all_data)\n",
        "\n",
        "  # Write the DataFrame to an Excel file\n",
        "  df.to_excel(output_file_path, index=False)\n"
      ],
      "metadata": {
        "id": "kMaGWKktMxgI"
      },
      "execution_count": 8,
      "outputs": []
    },
    {
      "cell_type": "code",
      "source": [
        "# TCX to XLSX\n",
        "def convert_tcx_to_excel(tcx_file_path, output_file_path):\n",
        "    \"\"\"\n",
        "    Converts a TCX file to an Excel file with trackpoint data.\n",
        "\n",
        "    Parameters:\n",
        "    - tcx_file_path: str, path to the input TCX file\n",
        "    - output_file_path: str, path to save the output Excel file\n",
        "    \"\"\"\n",
        "    # Initialize the TCX reader\n",
        "    tcx_reader = TCXReader()\n",
        "\n",
        "    # Read the TCX file\n",
        "    data: TCXExercise = tcx_reader.read(tcx_file_path)\n",
        "\n",
        "    # List to store the trackpoint data\n",
        "    trackpoint_data = []\n",
        "\n",
        "    # Loop through all trackpoints and extract relevant information\n",
        "    for trackpoint in data.trackpoints:\n",
        "        trackpoint_data.append({\n",
        "            'Time': trackpoint.time,\n",
        "            'Latitude': trackpoint.latitude,\n",
        "            'Longitude': trackpoint.longitude,\n",
        "            'Elevation': trackpoint.elevation,\n",
        "            'Distance': trackpoint.distance,\n",
        "            'Heartrate': trackpoint.hr_value,\n",
        "            'Cadence': trackpoint.cadence,\n",
        "            'Speed': trackpoint.tpx_ext['Speed']\n",
        "        })\n",
        "\n",
        "    # Convert the list of dictionaries to a pandas DataFrame\n",
        "    df = pd.DataFrame(trackpoint_data)\n",
        "\n",
        "    # Save the DataFrame to an Excel file\n",
        "    df.to_excel(output_file_path, index=False, engine='openpyxl')\n"
      ],
      "metadata": {
        "id": "RgEU9KOlQm6A"
      },
      "execution_count": 9,
      "outputs": []
    },
    {
      "cell_type": "code",
      "source": [
        "# Define the directories\n",
        "sport_dir = \"/content/Sport\"\n",
        "sport_xlsx_dir = \"/content/Sport_xlsx\"\n",
        "\n",
        "# Create Sport_xlsx directory if it doesn't exist\n",
        "if not os.path.exists(sport_xlsx_dir):\n",
        "    os.makedirs(sport_xlsx_dir)\n",
        "\n",
        "# Function to convert files in a folder\n",
        "def convert_files_in_folder(rider_folder):\n",
        "    rider_xlsx_folder = os.path.join(sport_xlsx_dir, rider_folder)\n",
        "\n",
        "    # Create the rider folder in Sport_xlsx directory if it doesn't exist\n",
        "    if not os.path.exists(rider_xlsx_folder):\n",
        "        os.makedirs(rider_xlsx_folder)\n",
        "\n",
        "    rider_folder_path = os.path.join(sport_dir, rider_folder)\n",
        "\n",
        "    # Process .gpx files\n",
        "    gpx_files = [f for f in os.listdir(rider_folder_path) if f.endswith('.gpx')]\n",
        "    for gpx_file in gpx_files:\n",
        "        convert_gpx_to_excel(os.path.join(rider_folder_path, gpx_file),\n",
        "                           os.path.join(rider_xlsx_folder, gpx_file.replace('.gpx', '.xlsx')))\n",
        "\n",
        "    # Process .tcx files\n",
        "    tcx_files = [f for f in os.listdir(rider_folder_path) if f.endswith('.tcx')]\n",
        "    for tcx_file in tcx_files:\n",
        "        convert_tcx_to_excel(os.path.join(rider_folder_path, tcx_file),\n",
        "                           os.path.join(rider_xlsx_folder, tcx_file.replace('.tcx', '.xlsx')))\n"
      ],
      "metadata": {
        "id": "0IOfK69AV-J9"
      },
      "execution_count": 10,
      "outputs": []
    },
    {
      "cell_type": "code",
      "source": [
        "#Riders = ['Rider1', 'Rider2', 'Rider3', 'Rider4', 'Rider5', 'Rider6', 'Rider7', 'Rider8', 'Rider9']\n",
        "Riders = ['Rider3']\n",
        "for rider in Riders:\n",
        "  convert_files_in_folder(rider)"
      ],
      "metadata": {
        "id": "WTCMFC3jfFD4"
      },
      "execution_count": 11,
      "outputs": []
    },
    {
      "cell_type": "code",
      "source": [
        "!zip -r /content/Sport_xlsx/Rider3.zip /content/Sport_xlsx/Rider3"
      ],
      "metadata": {
        "id": "maWIkJuUH48E"
      },
      "execution_count": null,
      "outputs": []
    },
    {
      "cell_type": "markdown",
      "source": [
        "# 5. Dataset overview (Single rider)\n",
        "Load and exploration of a single rider files after succesful conversion to xlsx format."
      ],
      "metadata": {
        "id": "l-6YHPY8nYE8"
      }
    },
    {
      "cell_type": "code",
      "source": [
        "!unzip /content/drive/MyDrive/Rider1.zip -d /content"
      ],
      "metadata": {
        "id": "CYHrWKGInlJx"
      },
      "execution_count": null,
      "outputs": []
    },
    {
      "cell_type": "code",
      "source": [
        "directory = '/content/content/Sport_xlsx/Rider1/'\n",
        "\n",
        "# Initialize lists and dictionaries to store results\n",
        "row_counts = []\n",
        "missing_values = 0\n",
        "\n",
        "# Loop through all files in the directory\n",
        "for file in os.listdir(directory):\n",
        "    if file.endswith(\".xlsx\"):\n",
        "        file_path = os.path.join(directory, file)\n",
        "\n",
        "        # Read the Excel file\n",
        "        df = pd.read_excel(file_path)\n",
        "\n",
        "        # Count rows and add to list\n",
        "        row_counts.append(df.shape[0])\n",
        "\n",
        "        # Count missing values\n",
        "        missing_values += df.isnull().sum()"
      ],
      "metadata": {
        "id": "UH64q_vDoXJw"
      },
      "execution_count": 16,
      "outputs": []
    },
    {
      "cell_type": "code",
      "source": [
        "# Print the missing values summary\n",
        "print(missing_values)"
      ],
      "metadata": {
        "id": "5ZGhlbG2xtN0",
        "outputId": "a7ed1615-649b-4a0f-e1a8-021d9710dc46",
        "colab": {
          "base_uri": "https://localhost:8080/"
        }
      },
      "execution_count": 17,
      "outputs": [
        {
          "output_type": "stream",
          "name": "stdout",
          "text": [
            "Latitude     0\n",
            "Longitude    0\n",
            "Elevation    0\n",
            "Time         0\n",
            "dtype: int64\n"
          ]
        }
      ]
    },
    {
      "cell_type": "code",
      "source": [
        "# Plot the histogram of row counts\n",
        "plt.figure(figsize=(10, 6))\n",
        "plt.hist(row_counts, bins=30, color='blue', alpha=0.7)\n",
        "plt.title(\"Histogram of Row Counts\")\n",
        "plt.xlabel(\"Number of Rows\")\n",
        "plt.ylabel(\"Frequency\")\n",
        "plt.grid(True)\n",
        "plt.show()"
      ],
      "metadata": {
        "id": "jZ9lPedwxr5x",
        "outputId": "238871e0-edea-4187-d176-68e67ab1aeb8",
        "colab": {
          "base_uri": "https://localhost:8080/",
          "height": 564
        }
      },
      "execution_count": 18,
      "outputs": [
        {
          "output_type": "display_data",
          "data": {
            "text/plain": [
              "<Figure size 1000x600 with 1 Axes>"
            ],
            "image/png": "[encoded data removed]"
          },
          "metadata": {}
        }
      ]
    },
    {
      "cell_type": "code",
      "source": [
        "# Plot the boxplot of row counts\n",
        "plt.figure(figsize=(10, 6))\n",
        "plt.boxplot(row_counts)\n",
        "plt.title(\"Boxplot of Row Counts\")\n",
        "plt.grid(True)\n",
        "plt.show()"
      ],
      "metadata": {
        "id": "1MQHr0lQxvRp",
        "outputId": "2f875044-9ffa-4c99-ba36-ec3fca0983f0",
        "colab": {
          "base_uri": "https://localhost:8080/",
          "height": 545
        }
      },
      "execution_count": 19,
      "outputs": [
        {
          "output_type": "display_data",
          "data": {
            "text/plain": [
              "<Figure size 1000x600 with 1 Axes>"
            ],
            "image/png": "[encoded data removed]"
          },
          "metadata": {}
        }
      ]
    },
    {
      "cell_type": "code",
      "source": [
        "print(sorted(row_counts))"
      ],
      "metadata": {
        "id": "ZVhmkg78x0b7",
        "outputId": "906f2861-0cf0-4a40-ebe1-fa5697e64a36",
        "colab": {
          "base_uri": "https://localhost:8080/"
        }
      },
      "execution_count": 20,
      "outputs": [
        {
          "output_type": "stream",
          "name": "stdout",
          "text": [
            "[26, 27, 34, 38, 70, 79, 101, 106, 199, 206, 210, 212, 266, 274, 285, 286, 327, 334, 349, 357, 371, 374, 387, 402, 406, 429, 438, 455, 469, 473, 474, 513, 526, 550, 555, 560, 601, 603, 611, 612, 644, 650, 660, 664, 698, 749, 750, 758, 765, 767, 772, 804, 807, 808, 817, 821, 841, 843, 878, 894, 898, 910, 913, 919, 933, 942, 949, 952, 990, 995, 1004, 1026, 1046, 1057, 1058, 1064, 1066, 1072, 1101, 1138, 1169, 1175, 1180, 1187, 1198, 1201, 1209, 1232, 1274, 1276, 1286, 1302, 1302, 1318, 1321, 1331, 1338, 1339, 1360, 1363, 1380, 1381, 1391, 1394, 1404, 1423, 1424, 1424, 1428, 1431, 1431, 1437, 1476, 1483, 1498, 1502, 1512, 1519, 1524, 1542, 1549, 1549, 1586, 1619, 1623, 1644, 1660, 1665, 1673, 1682, 1685, 1689, 1694, 1726, 1729, 1733, 1747, 1772, 1775, 1797, 1800, 1813, 1824, 1833, 1836, 1846, 1852, 1877, 1894, 1917, 1927, 1944, 1961, 1979, 2013, 2026, 2037, 2038, 2047, 2052, 2057, 2064, 2099, 2099, 2104, 2187, 2189, 2200, 2201, 2202, 2226, 2240, 2253, 2265, 2268, 2272, 2275, 2300, 2300, 2301, 2307, 2337, 2338, 2398, 2426, 2461, 2482, 2507, 2512, 2514, 2543, 2556, 2595, 2598, 2634, 2646, 2657, 2673, 2676, 2687, 2697, 2716, 2748, 2753, 2759, 2761, 2761, 2775, 2784, 2803, 2808, 2816, 2823, 2830, 2834, 2849, 2871, 2891, 2891, 2892, 2899, 2904, 2953, 2963, 2973, 2990, 3036, 3049, 3071, 3103, 3127, 3129, 3135, 3152, 3170, 3204, 3205, 3220, 3224, 3266, 3274, 3276, 3281, 3307, 3319, 3350, 3361, 3382, 3399, 3409, 3411, 3521, 3533, 3576, 3580, 3608, 3628, 3638, 3671, 3672, 3721, 3727, 3727, 3734, 3741, 3753, 3762, 3777, 3779, 3795, 3804, 3808, 3861, 3875, 3885, 3913, 3945, 3964, 3980, 4022, 4024, 4045, 4062, 4099, 4131, 4132, 4137, 4149, 4151, 4164, 4167, 4167, 4184, 4192, 4206, 4225, 4234, 4245, 4249, 4266, 4284, 4293, 4296, 4306, 4355, 4391, 4399, 4410, 4453, 4468, 4469, 4472, 4505, 4518, 4522, 4527, 4540, 4568, 4572, 4598, 4632, 4644, 4648, 4652, 4673, 4691, 4702, 4705, 4720, 4723, 4737, 4739, 4753, 4773, 4819, 4876, 4882, 4896, 4916, 4928, 4938, 4943, 4976, 4990, 5045, 5047, 5054, 5064, 5070, 5077, 5082, 5111, 5113, 5148, 5183, 5192, 5205, 5212, 5244, 5249, 5308, 5325, 5327, 5346, 5358, 5367, 5368, 5381, 5391, 5406, 5413, 5429, 5429, 5470, 5471, 5473, 5485, 5497, 5522, 5563, 5576, 5624, 5627, 5633, 5650, 5660, 5681, 5705, 5719, 5720, 5749, 5776, 5806, 5830, 5842, 5853, 5856, 5904, 5926, 5944, 5958, 5966, 5994, 6012, 6048, 6057, 6094, 6105, 6143, 6154, 6174, 6184, 6188, 6208, 6221, 6258, 6266, 6272, 6274, 6275, 6319, 6325, 6326, 6330, 6343, 6376, 6401, 6429, 6448, 6449, 6450, 6468, 6472, 6477, 6478, 6504, 6525, 6527, 6541, 6542, 6554, 6565, 6570, 6605, 6609, 6611, 6614, 6614, 6619, 6627, 6634, 6651, 6661, 6663, 6667, 6689, 6692, 6697, 6722, 6762, 6763, 6779, 6849, 6883, 6892, 6914, 6946, 6958, 6967, 6997, 7001, 7010, 7013, 7025, 7027, 7039, 7061, 7069, 7101, 7102, 7150, 7171, 7184, 7231, 7239, 7240, 7241, 7248, 7252, 7277, 7278, 7283, 7287, 7292, 7296, 7302, 7304, 7312, 7330, 7333, 7334, 7336, 7346, 7362, 7413, 7441, 7445, 7462, 7491, 7491, 7494, 7501, 7512, 7527, 7546, 7638, 7745, 7789, 7796, 7804, 7821, 7828, 7844, 7846, 7848, 7882, 7889, 7928, 7938, 7948, 7950, 8066, 8070, 8117, 8172, 8208, 8213, 8218, 8221, 8239, 8249, 8275, 8302, 8308, 8319, 8330, 8385, 8404, 8468, 8473, 8479, 8528, 8537, 8548, 8606, 8623, 8645, 8664, 8693, 8696, 8707, 8766, 8771, 8787, 8792, 8871, 8880, 8893, 8895, 8912, 8947, 8962, 8965, 8967, 8974, 8985, 9034, 9038, 9073, 9092, 9095, 9116, 9118, 9126, 9145, 9201, 9215, 9233, 9291, 9306, 9369, 9410, 9510, 9539, 9562, 9615, 9690, 9691, 9706, 9732, 9792, 9937, 10057, 10057, 10120, 10152, 10184, 10273, 10286, 10303, 10354, 10372, 10427, 10453, 10468, 10579, 10591, 10645, 10657, 10661, 10671, 10785, 10803, 10807, 10808, 10808, 10812, 10835, 10836, 10870, 10892, 10972, 11002, 11118, 11133, 11168, 11197, 11248, 11261, 11311, 11358, 11372, 11412, 11457, 11470, 11527, 11589, 11664, 11669, 11827, 11945, 11990, 11991, 12046, 12149, 12191, 12193, 12224, 12255, 12276, 12295, 12310, 12337, 12343, 12595, 12621, 12747, 12809, 12819, 12906, 12992, 13066, 13074, 13083, 13092, 13110, 13132, 13135, 13198, 13204, 13212, 13216, 13225, 13256, 13317, 13391, 13565, 13568, 13624, 13720, 13730, 13734, 13816, 13874, 13886, 13911, 14008, 14110, 14121, 14163, 14174, 14192, 14238, 14320, 14326, 14334, 14409, 14442, 14443, 14516, 14575, 14681, 14771, 14864, 14887, 14892, 15047, 15077, 15186, 15245, 15457, 15594, 15658, 15674, 15705, 15745, 15888, 16153, 16166, 16317, 16731, 17025, 17293, 17437, 17679, 17698, 18232, 18582, 18663, 18679, 19127, 19994, 20357, 20366, 20438, 21046, 21458, 21487, 22048, 23846, 26429]\n"
          ]
        }
      ]
    },
    {
      "cell_type": "code",
      "source": [
        "directory = '/content/content/Sport_xlsx/Rider1/'\n",
        "\n",
        "# Initialize lists to store results\n",
        "total_seconds = []\n",
        "file_names = []\n",
        "\n",
        "# Loop through all files in the directory\n",
        "for file in os.listdir(directory):\n",
        "    if file.endswith(\".xlsx\"):\n",
        "        file_path = os.path.join(directory, file)\n",
        "\n",
        "        # Read the Excel file\n",
        "        df = pd.read_excel(file_path)\n",
        "\n",
        "        # Convert timestamps to absolute value\n",
        "        df['Time'] = pd.to_datetime(df['Time'])\n",
        "        df['Time'] = (df['Time'] - df['Time'][0]).dt.total_seconds()\n",
        "\n",
        "        # Count length of each file\n",
        "        total_seconds.append(df['Time'].iloc[-1])\n",
        "        file_names.append(file)  # Store the filename\n",
        "\n",
        "# Create a DataFrame for analysis\n",
        "results_df = pd.DataFrame({'File': file_names, 'TrackLength': total_seconds})"
      ],
      "metadata": {
        "id": "zLZuf7O4ys0K"
      },
      "execution_count": 27,
      "outputs": []
    },
    {
      "cell_type": "code",
      "source": [
        "# Plot the histogram of file lengths\n",
        "plt.figure(figsize=(10, 6))\n",
        "plt.hist(total_seconds, bins=30, color='blue', alpha=0.7)\n",
        "plt.title(\"Histogram of Track Lenght\")\n",
        "plt.xlabel(\"Number of Rows\")\n",
        "plt.ylabel(\"Frequency\")\n",
        "plt.grid(True)\n",
        "plt.show()"
      ],
      "metadata": {
        "id": "E5De0FIRz4rM",
        "outputId": "8a1ba91a-64e7-4fde-dd88-3a2a91604899",
        "colab": {
          "base_uri": "https://localhost:8080/",
          "height": 564
        }
      },
      "execution_count": 22,
      "outputs": [
        {
          "output_type": "display_data",
          "data": {
            "text/plain": [
              "<Figure size 1000x600 with 1 Axes>"
            ],
            "image/png": "[encoded data removed]"
          },
          "metadata": {}
        }
      ]
    },
    {
      "cell_type": "code",
      "source": [
        "# Plot the boxplot of file lenghts\n",
        "plt.figure(figsize=(10, 6))\n",
        "plt.boxplot(total_seconds)\n",
        "plt.title(\"Boxplot of Track Lenght\")\n",
        "plt.grid(True)\n",
        "plt.show()"
      ],
      "metadata": {
        "id": "VHq7tXKBz9B5",
        "outputId": "57dc06df-9aec-4dbd-f1dc-0ac68471b1fa",
        "colab": {
          "base_uri": "https://localhost:8080/",
          "height": 545
        }
      },
      "execution_count": 23,
      "outputs": [
        {
          "output_type": "display_data",
          "data": {
            "text/plain": [
              "<Figure size 1000x600 with 1 Axes>"
            ],
            "image/png": "[encoded data removed]"
          },
          "metadata": {}
        }
      ]
    },
    {
      "cell_type": "code",
      "source": [
        "print(total_seconds)"
      ],
      "metadata": {
        "id": "J9glzOLHzgAn",
        "outputId": "24f75580-7dd4-4a7d-cb89-263cad34c2b7",
        "colab": {
          "base_uri": "https://localhost:8080/"
        }
      },
      "execution_count": 26,
      "outputs": [
        {
          "output_type": "stream",
          "name": "stdout",
          "text": [
            "[1947.0, 4602.0, 12282.0, 1457.0, 7281.0, 15604.0, 3103.0, 11390.0, 7559.0, 2874.0, 2821.0, 2820.0, 9756.0, 1400.0, 7553.0, 7713.0, 1101.0, 7968.0, 12361.0, 18353.0, 17849.0, 6662.0, 7374.0, 11617.0, 8600.0, 12141.0, 12570.0, 15664.0, 21211.0, 9984.0, 9267.0, 3121.0, 4896.0, 11824.0, 19907.0, 4366.0, 10986.0, 4345.0, 7413.0, 1230.0, 15454.0, 3168.0, 15926.0, 9302.0, 475.0, 576.0, 19091.0, 6196.0, 5814.0, 7868.0, 13081.0, 16731.0, 2302.0, 7476.0, 5885.0, 458.0, 1514.0, 10921.0, 6220.0, 16106.0, 5434.0, 16840.0, 17989.0, 9404.0, 8652.0, 13377.0, 5693.0, 14851.0, 25300.0, 1833.0, 8958.0, 5537.0, 5101.0, 8260.0, 12067.0, 2038.0, 7794.0, 4161.0, 13712.0, 23295.0, 1417.0, 7189.0, 13830.0, 1519.0, 16747.0, 7157.0, 13588.0, 5402.0, 5086.0, 12724.0, 518.0, 7940.0, 7790.0, 3678.0, 11973.0, 27179.0, 6698.0, 13205.0, 4528.0, 11490.0, 8405.0, 8002.0, 9843.0, 8606.0, 15340.0, 7555.0, 13969.0, 9096.0, 2335.0, 6181.0, 8405.0, 4736.0, 13116.0, 5483.0, 1284.0, 12538.0, 11584.0, 21537.0, 7645.0, 7792.0, 195.0, 7956.0, 3473.0, 7340.0, 13943.0, 4693.0, 4811.0, 3721.0, 6202.0, 16106.0, 13010.0, 2142.0, 4308.0, 5838.0, 6366.0, 11066.0, 135.0, 6578.0, 5769.0, 17335.0, 4677.0, 6418.0, 16219.0, 11710.0, 8192.0, 1939.0, 12734.0, 15421.0, 2612.0, 8318.0, 5083.0, 1701.0, 16463.0, 14872.0, 9706.0, 1508.0, 6494.0, 7345.0, 2675.0, 7212.0, 2887.0, 4954.0, 4345.0, 13752.0, 3938.0, 382.0, 5600.0, 9960.0, 14315.0, 16467.0, 24289.0, 4545.0, 3787.0, 15975.0, 8578.0, 3469.0, 15430.0, 2760.0, 7149.0, 10250.0, 14304.0, 2120.0, 9632.0, 10869.0, 5546.0, 2976.0, 12579.0, 6114.0, 2895.0, 4948.0, 8035.0, 3919.0, 6529.0, 2205.0, 10725.0, 7288.0, 4053.0, 3706.0, 661.0, 2567.0, 6539.0, 6524.0, 8277.0, 5627.0, 11999.0, 12915.0, 12926.0, 4750.0, 7200.0, 8233.0, 7738.0, 12489.0, 27423.0, 2847.0, 3912.0, 8918.0, 3437.0, 7116.0, 4570.0, 5710.0, 10464.0, 9698.0, 7445.0, 4859.0, 2599.0, 3038.0, 1231.0, 6473.0, 8479.0, 10613.0, 1072.0, 14372.0, 7664.0, 9168.0, 14479.0, 10149.0, 7252.0, 8975.0, 3683.0, 13602.0, 10210.0, 18975.0, 14688.0, 1365.0, 11313.0, 10656.0, 1199.0, 10118.0, 9464.0, 7956.0, 1768.0, 4284.0, 8131.0, 8079.0, 4463.0, 4311.0, 6323.0, 4166.0, 7157.0, 9488.0, 6487.0, 5690.0, 2621.0, 5775.0, 9072.0, 3745.0, 2304.0, 11914.0, 2996.0, 1210.0, 12842.0, 5661.0, 6693.0, 4689.0, 13694.0, 3082.0, 12711.0, 10575.0, 4905.0, 22408.0, 6468.0, 7955.0, 14059.0, 4657.0, 11529.0, 8994.0, 2391.0, 9334.0, 5629.0, 4390.0, 3311.0, 12338.0, 1919.0, 10452.0, 14408.0, 8784.0, 3247.0, 8340.0, 10135.0, 14068.0, 5917.0, 1034.0, 4078.0, 9983.0, 1188.0, 5180.0, 7437.0, 13066.0, 16476.0, 5957.0, 2546.0, 7196.0, 13169.0, 6396.0, 13799.0, 6029.0, 1451.0, 2193.0, 6087.0, 16543.0, 11965.0, 5370.0, 10702.0, 6583.0, 6634.0, 7966.0, 14345.0, 13636.0, 7325.0, 8528.0, 7514.0, 857.0, 13856.0, 7762.0, 3425.0, 2020.0, 8862.0, 13309.0, 2063.0, 6441.0, 9500.0, 9460.0, 11529.0, 3174.0, 7656.0, 12948.0, 1088.0, 4658.0, 14487.0, 2922.0, 5210.0, 716.0, 7678.0, 4929.0, 3417.0, 3284.0, 7158.0, 26533.0, 5921.0, 3029.0, 16319.0, 10314.0, 881.0, 6348.0, 3691.0, 1257.0, 13172.0, 8131.0, 11856.0, 7964.0, 15258.0, 1525.0, 13394.0, 18714.0, 9354.0, 4289.0, 9005.0, 26390.0, 6330.0, 8503.0, 7872.0, 12328.0, 623.0, 14464.0, 5476.0, 2662.0, 10818.0, 7878.0, 1628.0, 1393.0, 4283.0, 1160.0, 6468.0, 10431.0, 1807.0, 6660.0, 4260.0, 2534.0, 1327.0, 1953.0, 4482.0, 11144.0, 14290.0, 10397.0, 12840.0, 11842.0, 13352.0, 2844.0, 5188.0, 7223.0, 1652.0, 8697.0, 3249.0, 8008.0, 12538.0, 13813.0, 15287.0, 3190.0, 7189.0, 8759.0, 4854.0, 4413.0, 2763.0, 5807.0, 7513.0, 6637.0, 674.0, 4266.0, 9190.0, 15599.0, 16057.0, 2701.0, 3926.0, 3561.0, 30278.0, 10951.0, 5280.0, 108.0, 11213.0, 1511.0, 4170.0, 408.0, 5097.0, 4130.0, 15233.0, 3079.0, 12272.0, 2569.0, 13039.0, 1773.0, 3992.0, 9167.0, 3986.0, 5819.0, 1274.0, 4570.0, 20268.0, 9575.0, 10954.0, 18949.0, 3146.0, 14951.0, 7385.0, 5657.0, 3373.0, 4122.0, 15473.0, 11757.0, 12826.0, 1451.0, 8288.0, 9253.0, 5673.0, 2992.0, 8759.0, 2320.0, 32086.0, 7765.0, 9781.0, 17169.0, 1523.0, 2851.0, 2182.0, 5840.0, 10478.0, 3738.0, 13340.0, 16666.0, 1620.0, 1665.0, 12893.0, 18233.0, 5972.0, 10317.0, 14816.0, 14025.0, 4579.0, 1983.0, 8775.0, 9119.0, 26243.0, 213.0, 7051.0, 7803.0, 2840.0, 156069.0, 20542.0, 1527.0, 11991.0, 5996.0, 11421.0, 11118.0, 2280.0, 3577.0, 7554.0, 15751.0, 4022.0, 12291.0, 7547.0, 11337.0, 11092.0, 12740.0, 17635.0, 2127.0, 11128.0, 6551.0, 9360.0, 1837.0, 17792.0, 11475.0, 7567.0, 23789.0, 13100.0, 15079.0, 10399.0, 2020.0, 5633.0, 10739.0, 6512.0, 17326.0, 7823.0, 20896.0, 12618.0, 2559.0, 9354.0, 42.0, 5434.0, 13461.0, 18819.0, 1481.0, 11346.0, 8053.0, 4409.0, 8098.0, 12878.0, 1649.0, 24996.0, 15076.0, 8324.0, 3608.0, 13153.0, 766.0, 586.0, 12431.0, 18804.0, 8775.0, 1806.0, 27.0, 1559.0, 19802.0, 7597.0, 6654.0, 5053.0, 13281.0, 3695.0, 4840.0, 13561.0, 31438.0, 6071.0, 5008.0, 2246.0, 11823.0, 9171.0, 13047.0, 8068.0, 13900.0, 6880.0, 2978.0, 5606.0, 3523.0, 9404.0, 30447.0, 11226.0, 2384.0, 5273.0, 27893.0, 19533.0, 2705.0, 5762.0, 4046.0, 20418.0, 10561.0, 6503.0, 5631.0, 21673.0, 4518.0, 23171.0, 2726.0, 5138.0, 3398.0, 12791.0, 11582.0, 3168.0, 445.0, 282.0, 3790.0, 4689.0, 10377.0, 12054.0, 8134.0, 11867.0, 15646.0, 27877.0, 11380.0, 13209.0, 6409.0, 1367.0, 4161.0, 13773.0, 4919.0, 15215.0, 6059.0, 4249.0, 8462.0, 7751.0, 15909.0, 18795.0, 954.0, 17978.0, 3972.0, 820.0, 14078.0, 18233.0, 6988.0, 22266.0, 13747.0, 16742.0, 14710.0, 4263.0, 6431.0, 8715.0, 4527.0, 11945.0, 9355.0, 12168.0, 1980.0, 11191.0, 3074.0, 7661.0, 8173.0, 4658.0, 8223.0, 5678.0, 9325.0, 5448.0, 2653.0, 9403.0, 9760.0, 11221.0, 3796.0, 3858.0, 9364.0, 9144.0, 5788.0, 16282.0, 13871.0, 7223.0, 10478.0, 5375.0, 1447.0, 1432.0, 18790.0, 4456.0, 12547.0, 4985.0, 7792.0, 4042.0, 1435.0, 2057.0, 7575.0, 3863.0, 5499.0, 7282.0, 5505.0, 13662.0, 3627.0, 6150.0, 11031.0, 6982.0, 4843.0, 5607.0, 4004.0, 4047.0, 9752.0, 4464.0, 6036.0, 927.0, 12411.0, 1020.0, 4694.0, 2378.0, 7497.0, 2734.0, 7939.0, 8209.0, 697.0, 12725.0, 11135.0, 9887.0, 5837.0, 12649.0, 8103.0, 7238.0, 3130.0, 5123.0, 17039.0, 6212.0, 9214.0, 5827.0, 2054.0, 7060.0, 6669.0, 16878.0, 6832.0, 15537.0, 14103.0, 7277.0, 10357.0, 1559.0, 7851.0, 3693.0, 11621.0, 1441.0, 11883.0, 7002.0, 4315.0, 3913.0, 7028.0, 4717.0, 6748.0, 3101.0]\n"
          ]
        }
      ]
    },
    {
      "cell_type": "code",
      "source": [
        "# Find the file with the outlier\n",
        "outlier_value = results_df['TrackLength'].max()  # Assuming the outlier is the maximum value\n",
        "outlier_file = results_df[results_df['TrackLength'] == outlier_value]\n",
        "print(\"Outlier file(s):\")\n",
        "print(outlier_file)"
      ],
      "metadata": {
        "id": "e9CV4Dg6JaAt",
        "outputId": "408e14a1-9f5d-4cee-f777-e7412d4dc17c",
        "colab": {
          "base_uri": "https://localhost:8080/"
        }
      },
      "execution_count": 28,
      "outputs": [
        {
          "output_type": "stream",
          "name": "stdout",
          "text": [
            "Outlier file(s):\n",
            "         File  TrackLength\n",
            "505  f97.xlsx     156069.0\n"
          ]
        }
      ]
    },
    {
      "cell_type": "markdown",
      "source": [
        "### 6. Preprocessing\n",
        "Necessary steps before training model on the data:\n",
        "- Convert timestamp to seconds\n",
        "\n",
        "Optional feature engineering:\n",
        "- Transform data to metric reference system\n",
        "- Calculate distance since beginning\n",
        "- Compare measured elevation to DEM (not implemented)"
      ],
      "metadata": {
        "id": "0tno94D_MusU"
      }
    },
    {
      "cell_type": "code",
      "source": [
        "# Preprocessing pipeline\n",
        "import pandas as pd\n",
        "import os\n",
        "from geopy.distance import geodesic\n",
        "from pyproj import Transformer\n",
        "\n",
        "def preprocess_rider_data(input_dir, output_dir):\n",
        "    transformer = Transformer.from_crs(\"EPSG:4326\", \"EPSG:32633\", always_xy=True)  # UTM zone for slovenia\n",
        "\n",
        "    for filename in os.listdir(input_dir):\n",
        "        if filename.endswith(\".xlsx\"):\n",
        "            filepath = os.path.join(input_dir, filename)\n",
        "            try:\n",
        "                df = pd.read_excel(filepath)\n",
        "\n",
        "                # 2. Convert timestamp to seconds\n",
        "                df['Time'] = pd.to_datetime(df['Time'])\n",
        "                df['Time'] = (df['Time'] - df['Time'].iloc[0]).dt.total_seconds()\n",
        "\n",
        "                # 3. Reproject coordinates to metric system\n",
        "                df['Longitude_proj'], df['Latitude_proj'] = transformer.transform(df['Longitude'].values, df['Latitude'].values)\n",
        "\n",
        "                # 4. Calculate distance since beginning\n",
        "                distances = []\n",
        "                cumulative_distance = 0\n",
        "                for i in range(len(df)):\n",
        "                    if i > 0:\n",
        "                        previous_coords = (df['Latitude'].iloc[i-1], df['Longitude'].iloc[i-1])\n",
        "                        current_coords = (df['Latitude'].iloc[i], df['Longitude'].iloc[i])\n",
        "                        distance = geodesic(previous_coords, current_coords).meters\n",
        "                        cumulative_distance += distance\n",
        "                    else:\n",
        "                        distance = 0\n",
        "                    distances.append(cumulative_distance)\n",
        "                df['Distance'] = distances\n",
        "\n",
        "                # 5. Save the preprocessed file\n",
        "                output_filepath = os.path.join(output_dir, filename)\n",
        "                df.to_excel(output_filepath, index=False)\n",
        "                print(f\"Processed and saved: {filename}\")\n",
        "            except Exception as e:\n",
        "                print(f\"Error processing {filename}: {e}\")\n",
        "\n",
        "\n",
        "# Example usage (replace with your actual paths):\n",
        "input_directory = '/content/content/Sport_xlsx/Rider1/'\n",
        "output_directory = '/content/content/Sport_xlsx/Rider1_preprocessed/'\n",
        "\n",
        "# Create the output directory if it doesn't exist\n",
        "os.makedirs(output_directory, exist_ok=True)\n",
        "\n",
        "preprocess_rider_data(input_directory, output_directory)"
      ],
      "metadata": {
        "id": "tX0kBXgPMxwg"
      },
      "execution_count": null,
      "outputs": []
    },
    {
      "cell_type": "code",
      "source": [
        "!zip -r /content/content/Sport_xlsx/Rider1_preprocessed.zip /content/content/Sport_xlsx/Rider1_preprocessed"
      ],
      "metadata": {
        "id": "HOoW6PhtlCVQ"
      },
      "execution_count": null,
      "outputs": []
    }
  ],
  "metadata": {
    "kernelspec": {
      "display_name": "Python 3",
      "language": "python",
      "name": "python3"
    },
    "language_info": {
      "name": "python",
      "version": "3.8.0"
    },
    "colab": {
      "provenance": []
    }
  },
  "nbformat": 4,
  "nbformat_minor": 0
}